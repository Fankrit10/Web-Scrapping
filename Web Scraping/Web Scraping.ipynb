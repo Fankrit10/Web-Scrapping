{
 "cells": [
  {
   "cell_type": "markdown",
   "id": "8cad60c2",
   "metadata": {},
   "source": [
    "Elaborado por Fabian niño"
   ]
  },
  {
   "cell_type": "code",
   "execution_count": 2,
   "id": "4709ba8e",
   "metadata": {},
   "outputs": [],
   "source": [
    "#importamos librerias para webscrping\n",
    "from bs4 import BeautifulSoup\n",
    "import requests"
   ]
  },
  {
   "cell_type": "code",
   "execution_count": 3,
   "id": "b1d81a6a",
   "metadata": {},
   "outputs": [],
   "source": [
    "html=\"<!DOCTYPE html><html><head><title>Page Title</title></head><body><h3><b id='boldest'>Lebron James</b></h3><p> Salary: $ 92,000,000 </p><h3> Stephen Curry</h3><p> Salary: $85,000, 000 </p><h3> Kevin Durant </h3><p> Salary: $73,200, 000</p></body></html>\""
   ]
  },
  {
   "cell_type": "code",
   "execution_count": 6,
   "id": "86fef897",
   "metadata": {},
   "outputs": [
    {
     "name": "stdout",
     "output_type": "stream",
     "text": [
      "Collecting github-dl\n",
      "  Downloading github_dl-0.1a9-py2.py3-none-any.whl (6.2 kB)\n",
      "Collecting pygithub\n",
      "  Downloading PyGithub-1.55-py3-none-any.whl (291 kB)\n",
      "Requirement already satisfied: requests in c:\\users\\fankrit\\anaconda3\\lib\\site-packages (from github-dl) (2.26.0)\n",
      "Requirement already satisfied: click in c:\\users\\fankrit\\anaconda3\\lib\\site-packages (from github-dl) (8.0.3)\n",
      "Collecting gitpython\n",
      "  Downloading GitPython-3.1.27-py3-none-any.whl (181 kB)\n",
      "Requirement already satisfied: colorama in c:\\users\\fankrit\\anaconda3\\lib\\site-packages (from click->github-dl) (0.4.4)\n",
      "Collecting gitdb<5,>=4.0.1\n",
      "  Downloading gitdb-4.0.9-py3-none-any.whl (63 kB)\n",
      "Collecting smmap<6,>=3.0.1\n",
      "  Downloading smmap-5.0.0-py3-none-any.whl (24 kB)\n",
      "Collecting deprecated\n",
      "  Downloading Deprecated-1.2.13-py2.py3-none-any.whl (9.6 kB)\n",
      "Requirement already satisfied: pyjwt>=2.0 in c:\\users\\fankrit\\anaconda3\\lib\\site-packages (from pygithub->github-dl) (2.1.0)\n",
      "Requirement already satisfied: pynacl>=1.4.0 in c:\\users\\fankrit\\anaconda3\\lib\\site-packages (from pygithub->github-dl) (1.4.0)\n",
      "Requirement already satisfied: cffi>=1.4.1 in c:\\users\\fankrit\\anaconda3\\lib\\site-packages (from pynacl>=1.4.0->pygithub->github-dl) (1.14.6)\n",
      "Requirement already satisfied: six in c:\\users\\fankrit\\anaconda3\\lib\\site-packages (from pynacl>=1.4.0->pygithub->github-dl) (1.16.0)\n",
      "Requirement already satisfied: pycparser in c:\\users\\fankrit\\anaconda3\\lib\\site-packages (from cffi>=1.4.1->pynacl>=1.4.0->pygithub->github-dl) (2.20)\n",
      "Requirement already satisfied: idna<4,>=2.5 in c:\\users\\fankrit\\anaconda3\\lib\\site-packages (from requests->github-dl) (3.2)\n",
      "Requirement already satisfied: certifi>=2017.4.17 in c:\\users\\fankrit\\anaconda3\\lib\\site-packages (from requests->github-dl) (2021.10.8)\n",
      "Requirement already satisfied: urllib3<1.27,>=1.21.1 in c:\\users\\fankrit\\anaconda3\\lib\\site-packages (from requests->github-dl) (1.26.7)\n",
      "Requirement already satisfied: charset-normalizer~=2.0.0 in c:\\users\\fankrit\\anaconda3\\lib\\site-packages (from requests->github-dl) (2.0.4)\n",
      "Requirement already satisfied: wrapt<2,>=1.10 in c:\\users\\fankrit\\anaconda3\\lib\\site-packages (from deprecated->pygithub->github-dl) (1.12.1)\n",
      "Installing collected packages: smmap, gitdb, deprecated, pygithub, gitpython, github-dl\n",
      "Successfully installed deprecated-1.2.13 gitdb-4.0.9 github-dl-0.1a9 gitpython-3.1.27 pygithub-1.55 smmap-5.0.0\n"
     ]
    },
    {
     "name": "stderr",
     "output_type": "stream",
     "text": [
      "\n",
      "Usage:   \n",
      "  pip install [options] <requirement specifier> [package-index-options] ...\n",
      "  pip install [options] -r <requirements file> [package-index-options] ...\n",
      "  pip install [options] [-e] <vcs project url> ...\n",
      "  pip install [options] [-e] <local project path> ...\n",
      "  pip install [options] <archive url/path> ...\n",
      "\n",
      "-e option requires 1 argument\n"
     ]
    }
   ],
   "source": [
    "!pip install github-dl\n",
    "!pip install -e"
   ]
  },
  {
   "cell_type": "code",
   "execution_count": 8,
   "id": "44767d6b",
   "metadata": {},
   "outputs": [
    {
     "name": "stdout",
     "output_type": "stream",
     "text": [
      "Requirement already satisfied: html5lib in c:\\users\\fankrit\\anaconda3\\lib\\site-packages (1.1)\n",
      "Requirement already satisfied: six>=1.9 in c:\\users\\fankrit\\anaconda3\\lib\\site-packages (from html5lib) (1.16.0)\n",
      "Requirement already satisfied: webencodings in c:\\users\\fankrit\\anaconda3\\lib\\site-packages (from html5lib) (0.5.1)\n",
      "Note: you may need to restart the kernel to use updated packages.\n"
     ]
    }
   ],
   "source": [
    "pip install html5lib"
   ]
  },
  {
   "cell_type": "code",
   "execution_count": 10,
   "id": "b2bfa7d3",
   "metadata": {},
   "outputs": [],
   "source": [
    "soup=BeautifulSoup(html,\"html.parser\")"
   ]
  },
  {
   "cell_type": "code",
   "execution_count": 11,
   "id": "794a58ee",
   "metadata": {},
   "outputs": [
    {
     "name": "stdout",
     "output_type": "stream",
     "text": [
      "<!DOCTYPE html>\n",
      "<html>\n",
      " <head>\n",
      "  <title>\n",
      "   Page Title\n",
      "  </title>\n",
      " </head>\n",
      " <body>\n",
      "  <h3>\n",
      "   <b id=\"boldest\">\n",
      "    Lebron James\n",
      "   </b>\n",
      "  </h3>\n",
      "  <p>\n",
      "   Salary: $ 92,000,000\n",
      "  </p>\n",
      "  <h3>\n",
      "   Stephen Curry\n",
      "  </h3>\n",
      "  <p>\n",
      "   Salary: $85,000, 000\n",
      "  </p>\n",
      "  <h3>\n",
      "   Kevin Durant\n",
      "  </h3>\n",
      "  <p>\n",
      "   Salary: $73,200, 000\n",
      "  </p>\n",
      " </body>\n",
      "</html>\n"
     ]
    }
   ],
   "source": [
    "print(soup.prettify())"
   ]
  },
  {
   "cell_type": "code",
   "execution_count": 12,
   "id": "fab1bec5",
   "metadata": {},
   "outputs": [
    {
     "name": "stdout",
     "output_type": "stream",
     "text": [
      "El tag del objeto es: <class 'bs4.element.Tag'>\n"
     ]
    }
   ],
   "source": [
    "tag_object=soup.title\n",
    "print(\"El tag del objeto es:\",type(tag_object))"
   ]
  },
  {
   "cell_type": "code",
   "execution_count": 13,
   "id": "4f411e9c",
   "metadata": {},
   "outputs": [
    {
     "data": {
      "text/plain": [
       "<h3><b id=\"boldest\">Lebron James</b></h3>"
      ]
     },
     "execution_count": 13,
     "metadata": {},
     "output_type": "execute_result"
    }
   ],
   "source": [
    "tag_object=soup.h3\n",
    "tag_object"
   ]
  },
  {
   "cell_type": "code",
   "execution_count": 14,
   "id": "d01e5bc3",
   "metadata": {},
   "outputs": [
    {
     "data": {
      "text/plain": [
       "<b id=\"boldest\">Lebron James</b>"
      ]
     },
     "execution_count": 14,
     "metadata": {},
     "output_type": "execute_result"
    }
   ],
   "source": [
    "tag_child=tag_object.b\n",
    "tag_child"
   ]
  },
  {
   "cell_type": "code",
   "execution_count": 15,
   "id": "642b906b",
   "metadata": {},
   "outputs": [
    {
     "data": {
      "text/plain": [
       "<h3><b id=\"boldest\">Lebron James</b></h3>"
      ]
     },
     "execution_count": 15,
     "metadata": {},
     "output_type": "execute_result"
    }
   ],
   "source": [
    "parent_tag=tag_child.parent\n",
    "parent_tag"
   ]
  },
  {
   "cell_type": "code",
   "execution_count": 16,
   "id": "26c8c955",
   "metadata": {},
   "outputs": [
    {
     "data": {
      "text/plain": [
       "<body><h3><b id=\"boldest\">Lebron James</b></h3><p> Salary: $ 92,000,000 </p><h3> Stephen Curry</h3><p> Salary: $85,000, 000 </p><h3> Kevin Durant </h3><p> Salary: $73,200, 000</p></body>"
      ]
     },
     "execution_count": 16,
     "metadata": {},
     "output_type": "execute_result"
    }
   ],
   "source": [
    "tag_object.parent"
   ]
  },
  {
   "cell_type": "code",
   "execution_count": 17,
   "id": "d69af19e",
   "metadata": {},
   "outputs": [
    {
     "data": {
      "text/plain": [
       "<p> Salary: $ 92,000,000 </p>"
      ]
     },
     "execution_count": 17,
     "metadata": {},
     "output_type": "execute_result"
    }
   ],
   "source": [
    "sibling_1=tag_object.next_sibling\n",
    "sibling_1"
   ]
  },
  {
   "cell_type": "code",
   "execution_count": 20,
   "id": "94643263",
   "metadata": {},
   "outputs": [
    {
     "data": {
      "text/plain": [
       "<h3> Stephen Curry</h3>"
      ]
     },
     "execution_count": 20,
     "metadata": {},
     "output_type": "execute_result"
    }
   ],
   "source": [
    "sibling_2=sibling_1.next_sibling\n",
    "sibling_2"
   ]
  },
  {
   "cell_type": "code",
   "execution_count": 22,
   "id": "a0f91789",
   "metadata": {},
   "outputs": [
    {
     "data": {
      "text/plain": [
       "<p> Salary: $85,000, 000 </p>"
      ]
     },
     "execution_count": 22,
     "metadata": {},
     "output_type": "execute_result"
    }
   ],
   "source": [
    "sibling_3=sibling_2.next_sibling\n",
    "sibling_3"
   ]
  },
  {
   "cell_type": "code",
   "execution_count": 23,
   "id": "84112c4c",
   "metadata": {},
   "outputs": [
    {
     "data": {
      "text/plain": [
       "'boldest'"
      ]
     },
     "execution_count": 23,
     "metadata": {},
     "output_type": "execute_result"
    }
   ],
   "source": [
    "tag_child[\"id\"]"
   ]
  },
  {
   "cell_type": "code",
   "execution_count": 24,
   "id": "0661c0d3",
   "metadata": {},
   "outputs": [
    {
     "data": {
      "text/plain": [
       "{'id': 'boldest'}"
      ]
     },
     "execution_count": 24,
     "metadata": {},
     "output_type": "execute_result"
    }
   ],
   "source": [
    "tag_child.attrs"
   ]
  },
  {
   "cell_type": "code",
   "execution_count": 26,
   "id": "daf7bae2",
   "metadata": {},
   "outputs": [
    {
     "data": {
      "text/plain": [
       "'boldest'"
      ]
     },
     "execution_count": 26,
     "metadata": {},
     "output_type": "execute_result"
    }
   ],
   "source": [
    "tag_child.get(\"id\")"
   ]
  },
  {
   "cell_type": "code",
   "execution_count": 28,
   "id": "39f0e39a",
   "metadata": {},
   "outputs": [
    {
     "data": {
      "text/plain": [
       "'Lebron James'"
      ]
     },
     "execution_count": 28,
     "metadata": {},
     "output_type": "execute_result"
    }
   ],
   "source": [
    "tag_string=tag_child.string\n",
    "tag_string"
   ]
  },
  {
   "cell_type": "code",
   "execution_count": 29,
   "id": "4e45d91a",
   "metadata": {},
   "outputs": [
    {
     "data": {
      "text/plain": [
       "bs4.element.NavigableString"
      ]
     },
     "execution_count": 29,
     "metadata": {},
     "output_type": "execute_result"
    }
   ],
   "source": [
    "type(tag_string)"
   ]
  },
  {
   "cell_type": "code",
   "execution_count": 30,
   "id": "818402ad",
   "metadata": {},
   "outputs": [
    {
     "data": {
      "text/plain": [
       "'Lebron James'"
      ]
     },
     "execution_count": 30,
     "metadata": {},
     "output_type": "execute_result"
    }
   ],
   "source": [
    "unicode_string =str(tag_string)\n",
    "unicode_string"
   ]
  },
  {
   "cell_type": "code",
   "execution_count": 31,
   "id": "4d5f8c7f",
   "metadata": {},
   "outputs": [
    {
     "data": {
      "text/html": [
       "<table>\n",
       "  <tr>\n",
       "    <td id='flight' >Flight No</td>\n",
       "    <td>Launch site</td> \n",
       "    <td>Payload mass</td>\n",
       "   </tr>\n",
       "  <tr> \n",
       "    <td>1</td>\n",
       "    <td><a href='https://en.wikipedia.org/wiki/Florida'>Florida</a></td>\n",
       "    <td>300 kg</td>\n",
       "  </tr>\n",
       "  <tr>\n",
       "    <td>2</td>\n",
       "    <td><a href='https://en.wikipedia.org/wiki/Texas'>Texas</a></td>\n",
       "    <td>94 kg</td>\n",
       "  </tr>\n",
       "  <tr>\n",
       "    <td>3</td>\n",
       "    <td><a href='https://en.wikipedia.org/wiki/Florida'>Florida<a> </td>\n",
       "    <td>80 kg</td>\n",
       "  </tr>\n",
       "</table>\n"
      ],
      "text/plain": [
       "<IPython.core.display.HTML object>"
      ]
     },
     "metadata": {},
     "output_type": "display_data"
    }
   ],
   "source": [
    "%%html\n",
    "<table>\n",
    "  <tr>\n",
    "    <td id='flight' >Flight No</td>\n",
    "    <td>Launch site</td> \n",
    "    <td>Payload mass</td>\n",
    "   </tr>\n",
    "  <tr> \n",
    "    <td>1</td>\n",
    "    <td><a href='https://en.wikipedia.org/wiki/Florida'>Florida</a></td>\n",
    "    <td>300 kg</td>\n",
    "  </tr>\n",
    "  <tr>\n",
    "    <td>2</td>\n",
    "    <td><a href='https://en.wikipedia.org/wiki/Texas'>Texas</a></td>\n",
    "    <td>94 kg</td>\n",
    "  </tr>\n",
    "  <tr>\n",
    "    <td>3</td>\n",
    "    <td><a href='https://en.wikipedia.org/wiki/Florida'>Florida<a> </td>\n",
    "    <td>80 kg</td>\n",
    "  </tr>\n",
    "</table>"
   ]
  },
  {
   "cell_type": "code",
   "execution_count": 32,
   "id": "b6341e1c",
   "metadata": {},
   "outputs": [],
   "source": [
    "table=\"<table><tr><td id='flight'>Flight No</td><td>Launch site</td> <td>Payload mass</td></tr><tr> <td>1</td><td><a href='https://en.wikipedia.org/wiki/Florida'>Florida<a></td><td>300 kg</td></tr><tr><td>2</td><td><a href='https://en.wikipedia.org/wiki/Texas'>Texas</a></td><td>94 kg</td></tr><tr><td>3</td><td><a href='https://en.wikipedia.org/wiki/Florida'>Florida<a> </td><td>80 kg</td></tr></table>\""
   ]
  },
  {
   "cell_type": "code",
   "execution_count": 34,
   "id": "aa59250d",
   "metadata": {},
   "outputs": [],
   "source": [
    "table_bs=BeautifulSoup(table,\"html.parser\")"
   ]
  },
  {
   "cell_type": "code",
   "execution_count": 35,
   "id": "bdb98272",
   "metadata": {},
   "outputs": [
    {
     "data": {
      "text/plain": [
       "<table><tr><td id=\"flight\">Flight No</td><td>Launch site</td> <td>Payload mass</td></tr><tr> <td>1</td><td><a href=\"https://en.wikipedia.org/wiki/Florida\">Florida<a></a></a></td><td>300 kg</td></tr><tr><td>2</td><td><a href=\"https://en.wikipedia.org/wiki/Texas\">Texas</a></td><td>94 kg</td></tr><tr><td>3</td><td><a href=\"https://en.wikipedia.org/wiki/Florida\">Florida<a> </a></a></td><td>80 kg</td></tr></table>"
      ]
     },
     "execution_count": 35,
     "metadata": {},
     "output_type": "execute_result"
    }
   ],
   "source": [
    "table_bs"
   ]
  },
  {
   "cell_type": "code",
   "execution_count": 37,
   "id": "6ff23cd7",
   "metadata": {},
   "outputs": [
    {
     "data": {
      "text/plain": [
       "[<tr><td id=\"flight\">Flight No</td><td>Launch site</td> <td>Payload mass</td></tr>,\n",
       " <tr> <td>1</td><td><a href=\"https://en.wikipedia.org/wiki/Florida\">Florida<a></a></a></td><td>300 kg</td></tr>,\n",
       " <tr><td>2</td><td><a href=\"https://en.wikipedia.org/wiki/Texas\">Texas</a></td><td>94 kg</td></tr>,\n",
       " <tr><td>3</td><td><a href=\"https://en.wikipedia.org/wiki/Florida\">Florida<a> </a></a></td><td>80 kg</td></tr>]"
      ]
     },
     "execution_count": 37,
     "metadata": {},
     "output_type": "execute_result"
    }
   ],
   "source": [
    "table_rows=table_bs.find_all(\"tr\")\n",
    "table_rows"
   ]
  },
  {
   "cell_type": "code",
   "execution_count": 40,
   "id": "f18459dd",
   "metadata": {},
   "outputs": [
    {
     "data": {
      "text/plain": [
       "<tr><td>2</td><td><a href=\"https://en.wikipedia.org/wiki/Texas\">Texas</a></td><td>94 kg</td></tr>"
      ]
     },
     "execution_count": 40,
     "metadata": {},
     "output_type": "execute_result"
    }
   ],
   "source": [
    "first_row=table_rows[2]\n",
    "first_row"
   ]
  },
  {
   "cell_type": "code",
   "execution_count": 41,
   "id": "f9964463",
   "metadata": {},
   "outputs": [
    {
     "data": {
      "text/plain": [
       "bs4.element.Tag"
      ]
     },
     "execution_count": 41,
     "metadata": {},
     "output_type": "execute_result"
    }
   ],
   "source": [
    "type(first_row)"
   ]
  },
  {
   "cell_type": "code",
   "execution_count": 42,
   "id": "aa473ce2",
   "metadata": {},
   "outputs": [
    {
     "data": {
      "text/plain": [
       "<td>2</td>"
      ]
     },
     "execution_count": 42,
     "metadata": {},
     "output_type": "execute_result"
    }
   ],
   "source": [
    "first_row.td"
   ]
  },
  {
   "cell_type": "code",
   "execution_count": 43,
   "id": "7866323c",
   "metadata": {},
   "outputs": [
    {
     "name": "stdout",
     "output_type": "stream",
     "text": [
      "row 0 is <tr><td id=\"flight\">Flight No</td><td>Launch site</td> <td>Payload mass</td></tr>\n",
      "row 1 is <tr> <td>1</td><td><a href=\"https://en.wikipedia.org/wiki/Florida\">Florida<a></a></a></td><td>300 kg</td></tr>\n",
      "row 2 is <tr><td>2</td><td><a href=\"https://en.wikipedia.org/wiki/Texas\">Texas</a></td><td>94 kg</td></tr>\n",
      "row 3 is <tr><td>3</td><td><a href=\"https://en.wikipedia.org/wiki/Florida\">Florida<a> </a></a></td><td>80 kg</td></tr>\n"
     ]
    }
   ],
   "source": [
    "for i,row in enumerate (table_rows):\n",
    "    print(\"row\",i,\"is\",row)"
   ]
  },
  {
   "cell_type": "code",
   "execution_count": 46,
   "id": "b4904c95",
   "metadata": {},
   "outputs": [
    {
     "name": "stdout",
     "output_type": "stream",
     "text": [
      "fila 0\n",
      "columna 0 cell <td id=\"flight\">Flight No</td>\n",
      "columna 1 cell <td>Launch site</td>\n",
      "columna 2 cell <td>Payload mass</td>\n",
      "fila 1\n",
      "columna 0 cell <td>1</td>\n",
      "columna 1 cell <td><a href=\"https://en.wikipedia.org/wiki/Florida\">Florida<a></a></a></td>\n",
      "columna 2 cell <td>300 kg</td>\n",
      "fila 2\n",
      "columna 0 cell <td>2</td>\n",
      "columna 1 cell <td><a href=\"https://en.wikipedia.org/wiki/Texas\">Texas</a></td>\n",
      "columna 2 cell <td>94 kg</td>\n",
      "fila 3\n",
      "columna 0 cell <td>3</td>\n",
      "columna 1 cell <td><a href=\"https://en.wikipedia.org/wiki/Florida\">Florida<a> </a></a></td>\n",
      "columna 2 cell <td>80 kg</td>\n"
     ]
    }
   ],
   "source": [
    "for i,row in enumerate(table_rows):\n",
    "    print(\"fila\",i)\n",
    "    cells=row.find_all(\"td\")\n",
    "    for j,cell in enumerate(cells):\n",
    "        print(\"columna\",j,\"cell\",cell)"
   ]
  },
  {
   "cell_type": "code",
   "execution_count": 47,
   "id": "ba41f925",
   "metadata": {},
   "outputs": [
    {
     "data": {
      "text/plain": [
       "[<tr><td id=\"flight\">Flight No</td><td>Launch site</td> <td>Payload mass</td></tr>,\n",
       " <td id=\"flight\">Flight No</td>,\n",
       " <td>Launch site</td>,\n",
       " <td>Payload mass</td>,\n",
       " <tr> <td>1</td><td><a href=\"https://en.wikipedia.org/wiki/Florida\">Florida<a></a></a></td><td>300 kg</td></tr>,\n",
       " <td>1</td>,\n",
       " <td><a href=\"https://en.wikipedia.org/wiki/Florida\">Florida<a></a></a></td>,\n",
       " <td>300 kg</td>,\n",
       " <tr><td>2</td><td><a href=\"https://en.wikipedia.org/wiki/Texas\">Texas</a></td><td>94 kg</td></tr>,\n",
       " <td>2</td>,\n",
       " <td><a href=\"https://en.wikipedia.org/wiki/Texas\">Texas</a></td>,\n",
       " <td>94 kg</td>,\n",
       " <tr><td>3</td><td><a href=\"https://en.wikipedia.org/wiki/Florida\">Florida<a> </a></a></td><td>80 kg</td></tr>,\n",
       " <td>3</td>,\n",
       " <td><a href=\"https://en.wikipedia.org/wiki/Florida\">Florida<a> </a></a></td>,\n",
       " <td>80 kg</td>]"
      ]
     },
     "execution_count": 47,
     "metadata": {},
     "output_type": "execute_result"
    }
   ],
   "source": [
    "list_input=table_bs.find_all(name=[\"tr\",\"td\"])\n",
    "list_input"
   ]
  },
  {
   "cell_type": "code",
   "execution_count": 48,
   "id": "47efc6e0",
   "metadata": {},
   "outputs": [
    {
     "data": {
      "text/plain": [
       "[<td id=\"flight\">Flight No</td>]"
      ]
     },
     "execution_count": 48,
     "metadata": {},
     "output_type": "execute_result"
    }
   ],
   "source": [
    "table_bs.find_all(id=\"flight\")"
   ]
  },
  {
   "cell_type": "code",
   "execution_count": 49,
   "id": "3549e07f",
   "metadata": {},
   "outputs": [
    {
     "data": {
      "text/plain": [
       "[<a href=\"https://en.wikipedia.org/wiki/Florida\">Florida<a></a></a>,\n",
       " <a href=\"https://en.wikipedia.org/wiki/Florida\">Florida<a> </a></a>]"
      ]
     },
     "execution_count": 49,
     "metadata": {},
     "output_type": "execute_result"
    }
   ],
   "source": [
    "list_input=table_bs.find_all(href=\"https://en.wikipedia.org/wiki/Florida\")\n",
    "list_input"
   ]
  },
  {
   "cell_type": "code",
   "execution_count": 50,
   "id": "cdcbcad4",
   "metadata": {},
   "outputs": [
    {
     "data": {
      "text/plain": [
       "[<a href=\"https://en.wikipedia.org/wiki/Florida\">Florida<a></a></a>,\n",
       " <a href=\"https://en.wikipedia.org/wiki/Texas\">Texas</a>,\n",
       " <a href=\"https://en.wikipedia.org/wiki/Florida\">Florida<a> </a></a>]"
      ]
     },
     "execution_count": 50,
     "metadata": {},
     "output_type": "execute_result"
    }
   ],
   "source": [
    "table_bs.find_all(href=True)"
   ]
  },
  {
   "cell_type": "code",
   "execution_count": 51,
   "id": "c45ad81d",
   "metadata": {},
   "outputs": [
    {
     "data": {
      "text/plain": [
       "[<table><tr><td id=\"flight\">Flight No</td><td>Launch site</td> <td>Payload mass</td></tr><tr> <td>1</td><td><a href=\"https://en.wikipedia.org/wiki/Florida\">Florida<a></a></a></td><td>300 kg</td></tr><tr><td>2</td><td><a href=\"https://en.wikipedia.org/wiki/Texas\">Texas</a></td><td>94 kg</td></tr><tr><td>3</td><td><a href=\"https://en.wikipedia.org/wiki/Florida\">Florida<a> </a></a></td><td>80 kg</td></tr></table>,\n",
       " <tr><td id=\"flight\">Flight No</td><td>Launch site</td> <td>Payload mass</td></tr>,\n",
       " <td id=\"flight\">Flight No</td>,\n",
       " <td>Launch site</td>,\n",
       " <td>Payload mass</td>,\n",
       " <tr> <td>1</td><td><a href=\"https://en.wikipedia.org/wiki/Florida\">Florida<a></a></a></td><td>300 kg</td></tr>,\n",
       " <td>1</td>,\n",
       " <td><a href=\"https://en.wikipedia.org/wiki/Florida\">Florida<a></a></a></td>,\n",
       " <a></a>,\n",
       " <td>300 kg</td>,\n",
       " <tr><td>2</td><td><a href=\"https://en.wikipedia.org/wiki/Texas\">Texas</a></td><td>94 kg</td></tr>,\n",
       " <td>2</td>,\n",
       " <td><a href=\"https://en.wikipedia.org/wiki/Texas\">Texas</a></td>,\n",
       " <td>94 kg</td>,\n",
       " <tr><td>3</td><td><a href=\"https://en.wikipedia.org/wiki/Florida\">Florida<a> </a></a></td><td>80 kg</td></tr>,\n",
       " <td>3</td>,\n",
       " <td><a href=\"https://en.wikipedia.org/wiki/Florida\">Florida<a> </a></a></td>,\n",
       " <a> </a>,\n",
       " <td>80 kg</td>]"
      ]
     },
     "execution_count": 51,
     "metadata": {},
     "output_type": "execute_result"
    }
   ],
   "source": [
    "table_bs.find_all(href=False)"
   ]
  },
  {
   "cell_type": "code",
   "execution_count": 52,
   "id": "0147afc8",
   "metadata": {},
   "outputs": [
    {
     "data": {
      "text/plain": [
       "['Florida', 'Florida']"
      ]
     },
     "execution_count": 52,
     "metadata": {},
     "output_type": "execute_result"
    }
   ],
   "source": [
    "table_bs.find_all(string=\"Florida\")"
   ]
  },
  {
   "cell_type": "code",
   "execution_count": 53,
   "id": "31e07fbc",
   "metadata": {},
   "outputs": [
    {
     "data": {
      "text/html": [
       "<h3>Rocket Launch </h3>\n",
       "\n",
       "<p>\n",
       "<table class='rocket'>\n",
       "  <tr>\n",
       "    <td>Flight No</td>\n",
       "    <td>Launch site</td> \n",
       "    <td>Payload mass</td>\n",
       "  </tr>\n",
       "  <tr>\n",
       "    <td>1</td>\n",
       "    <td>Florida</td>\n",
       "    <td>300 kg</td>\n",
       "  </tr>\n",
       "  <tr>\n",
       "    <td>2</td>\n",
       "    <td>Texas</td>\n",
       "    <td>94 kg</td>\n",
       "  </tr>\n",
       "  <tr>\n",
       "    <td>3</td>\n",
       "    <td>Florida </td>\n",
       "    <td>80 kg</td>\n",
       "  </tr>\n",
       "</table>\n",
       "</p>\n",
       "<p>\n",
       "\n",
       "<h3>Pizza Party  </h3>\n",
       "  \n",
       "    \n",
       "<table class='pizza'>\n",
       "  <tr>\n",
       "    <td>Pizza Place</td>\n",
       "    <td>Orders</td> \n",
       "    <td>Slices </td>\n",
       "   </tr>\n",
       "  <tr>\n",
       "    <td>Domino's Pizza</td>\n",
       "    <td>10</td>\n",
       "    <td>100</td>\n",
       "  </tr>\n",
       "  <tr>\n",
       "    <td>Little Caesars</td>\n",
       "    <td>12</td>\n",
       "    <td >144 </td>\n",
       "  </tr>\n",
       "  <tr>\n",
       "    <td>Papa John's </td>\n",
       "    <td>15 </td>\n",
       "    <td>165</td>\n",
       "  </tr>\n"
      ],
      "text/plain": [
       "<IPython.core.display.HTML object>"
      ]
     },
     "metadata": {},
     "output_type": "display_data"
    }
   ],
   "source": [
    "%%html\n",
    "<h3>Rocket Launch </h3>\n",
    "\n",
    "<p>\n",
    "<table class='rocket'>\n",
    "  <tr>\n",
    "    <td>Flight No</td>\n",
    "    <td>Launch site</td> \n",
    "    <td>Payload mass</td>\n",
    "  </tr>\n",
    "  <tr>\n",
    "    <td>1</td>\n",
    "    <td>Florida</td>\n",
    "    <td>300 kg</td>\n",
    "  </tr>\n",
    "  <tr>\n",
    "    <td>2</td>\n",
    "    <td>Texas</td>\n",
    "    <td>94 kg</td>\n",
    "  </tr>\n",
    "  <tr>\n",
    "    <td>3</td>\n",
    "    <td>Florida </td>\n",
    "    <td>80 kg</td>\n",
    "  </tr>\n",
    "</table>\n",
    "</p>\n",
    "<p>\n",
    "\n",
    "<h3>Pizza Party  </h3>\n",
    "  \n",
    "    \n",
    "<table class='pizza'>\n",
    "  <tr>\n",
    "    <td>Pizza Place</td>\n",
    "    <td>Orders</td> \n",
    "    <td>Slices </td>\n",
    "   </tr>\n",
    "  <tr>\n",
    "    <td>Domino's Pizza</td>\n",
    "    <td>10</td>\n",
    "    <td>100</td>\n",
    "  </tr>\n",
    "  <tr>\n",
    "    <td>Little Caesars</td>\n",
    "    <td>12</td>\n",
    "    <td >144 </td>\n",
    "  </tr>\n",
    "  <tr>\n",
    "    <td>Papa John's </td>\n",
    "    <td>15 </td>\n",
    "    <td>165</td>\n",
    "  </tr>\n"
   ]
  },
  {
   "cell_type": "code",
   "execution_count": 54,
   "id": "32779749",
   "metadata": {},
   "outputs": [],
   "source": [
    "two_tables=\"<h3>Rocket Launch </h3><p><table class='rocket'><tr><td>Flight No</td><td>Launch site</td> <td>Payload mass</td></tr><tr><td>1</td><td>Florida</td><td>300 kg</td></tr><tr><td>2</td><td>Texas</td><td>94 kg</td></tr><tr><td>3</td><td>Florida </td><td>80 kg</td></tr></table></p><p><h3>Pizza Party  </h3><table class='pizza'><tr><td>Pizza Place</td><td>Orders</td> <td>Slices </td></tr><tr><td>Domino's Pizza</td><td>10</td><td>100</td></tr><tr><td>Little Caesars</td><td>12</td><td >144 </td></tr><tr><td>Papa John's </td><td>15 </td><td>165</td></tr>\""
   ]
  },
  {
   "cell_type": "code",
   "execution_count": 57,
   "id": "aed65bad",
   "metadata": {},
   "outputs": [
    {
     "data": {
      "text/plain": [
       "<h3>Rocket Launch </h3><p><table class=\"rocket\"><tr><td>Flight No</td><td>Launch site</td> <td>Payload mass</td></tr><tr><td>1</td><td>Florida</td><td>300 kg</td></tr><tr><td>2</td><td>Texas</td><td>94 kg</td></tr><tr><td>3</td><td>Florida </td><td>80 kg</td></tr></table></p><p><h3>Pizza Party  </h3><table class=\"pizza\"><tr><td>Pizza Place</td><td>Orders</td> <td>Slices </td></tr><tr><td>Domino's Pizza</td><td>10</td><td>100</td></tr><tr><td>Little Caesars</td><td>12</td><td>144 </td></tr><tr><td>Papa John's </td><td>15 </td><td>165</td></tr></table></p>"
      ]
     },
     "execution_count": 57,
     "metadata": {},
     "output_type": "execute_result"
    }
   ],
   "source": [
    "two_tables_bs=BeautifulSoup(two_tables,\"html.parser\")\n",
    "two_tables_bs"
   ]
  },
  {
   "cell_type": "code",
   "execution_count": 58,
   "id": "62b0beee",
   "metadata": {},
   "outputs": [
    {
     "data": {
      "text/plain": [
       "<table class=\"rocket\"><tr><td>Flight No</td><td>Launch site</td> <td>Payload mass</td></tr><tr><td>1</td><td>Florida</td><td>300 kg</td></tr><tr><td>2</td><td>Texas</td><td>94 kg</td></tr><tr><td>3</td><td>Florida </td><td>80 kg</td></tr></table>"
      ]
     },
     "execution_count": 58,
     "metadata": {},
     "output_type": "execute_result"
    }
   ],
   "source": [
    "two_tables_bs.find(\"table\")"
   ]
  },
  {
   "cell_type": "code",
   "execution_count": 64,
   "id": "e268c360",
   "metadata": {},
   "outputs": [
    {
     "data": {
      "text/plain": [
       "<table class=\"pizza\"><tr><td>Pizza Place</td><td>Orders</td> <td>Slices </td></tr><tr><td>Domino's Pizza</td><td>10</td><td>100</td></tr><tr><td>Little Caesars</td><td>12</td><td>144 </td></tr><tr><td>Papa John's </td><td>15 </td><td>165</td></tr></table>"
      ]
     },
     "execution_count": 64,
     "metadata": {},
     "output_type": "execute_result"
    }
   ],
   "source": [
    "two_tables_bs.find(\"table\",class_=\"pizza\")"
   ]
  },
  {
   "cell_type": "code",
   "execution_count": 65,
   "id": "6cc4ffed",
   "metadata": {},
   "outputs": [
    {
     "data": {
      "text/plain": [
       "'<!DOCTYPE html>\\n<html lang=\"es-co\" dir=\"ltr\">\\n  <head>\\n    <meta charset=\"utf-8\" />\\n<script>digitalData = {\\n    \"page\": {\\n        \"category\": [],\\n        \"pageInfo\": {\\n            \"language\": \"es-CO\",\\n            \"country\": \"CO\",\\n            \"publisher\": \"IBM Corporation\",\\n            \"version\": \"v19\",\\n            \"ibm\": {\\n                \"contentDelivery\": \"Drupal 9\",\\n                \"contentProducer\": \"2598578 - Page Builder\",\\n                \"owner\": \"Peter Barros/White Plains/IBM\",\\n                \"siteID\": \"DRUPAL\",\\n                \"contactModuleConfiguration\": {\\n                    \"contactInformationBundleKey\": {\\n                        \"focusArea\": \"Cross IBM - About IBM\",\\n                        \"languageCode\": \"es\",\\n                        \"regionCode\": \"CO\"\\n                    },\\n                    \"contactModuleTranslationKey\": {\\n                        \"languageCode\": \"es\",\\n                        \"regionCode\": \"CO\"\\n                    }\\n                },\\n                \"config\": {\\n                    \"masthead\": {\\n                        \"type\": \"default\"\\n                    },\\n                    \"footer\": {\\n                        \"type\": \"default\"\\n                    }\\n                }\\n            },\\n            \"publishDate\": \"2022-07-19\",\\n            \"effectiveDate\": \"2021-03-08\",\\n            \"expiryDate\": \"2026-07-19\"\\n        }\\n    }\\n}</script>\\n<meta name=\"geo.country\" content=\"CO\" />\\n<link rel=\"canonical\" href=\"https://www.ibm.com/co-es\" />\\n<meta name=\"robots\" content=\"index, follow\" />\\n<meta name=\"referrer\" content=\"no-referrer-when-downgrade\" />\\n<meta name=\"rights\" content=\"© Copyright IBM Corporation 2022\" />\\n<meta name=\"description\" content=\"Durante más de un siglo, IBM se ha dedicado al éxito de cada cliente y a la creación de innovaciones que importan para el mundo\" />\\n<meta property=\"og:type\" content=\"website\" />\\n<meta property=\"og:url\" content=\"https://www.ibm.com/co-es\" />\\n<meta property=\"og:title\" content=\"IBM\" />\\n<meta property=\"og:description\" content=\"Durante más de un siglo, IBM se ha dedicado al éxito de cada cliente y a la creación de innovaciones que importan para el mundo\" />\\n<meta property=\"og:image\" content=\"https://1.cms.s81c.com/sites/default/files/2021-02-17/20210215-ls-red-hat-cloud-2304x983.jpg\" />\\n<meta property=\"og:locale\" content=\"es-co\" />\\n<meta name=\"twitter:card\" content=\"summary\" />\\n<script>cpp = {\"path\":\"\\\\/cloud\\\\/ajax\\\\/product\\\\/{product}\"}</script>\\n<meta name=\"viewport\" content=\"width=device-width, initial-scale=1.0\" />\\n<script data-title=\"Components design metadata\">/*\\nLeadspace: v19 - module_4e - Leadspace (5E)\\n\\nBands/Sections:\\n1. v19 - Carousel Module 1B - Features (1B)\\n2. v19 - Module 12A - flash_after_launch\\n3. v19 - Carousel Module 1B - Trials (1B)\\n4. v19 - Carousel Module 2B - Products (2B)\\n5. v19 - Module 5F - Research section\\n6. v19 - Module 11A (Double) - Content Spotlight (11A)\\n\\n*/</script>\\n<link rel=\"alternate\" hreflang=\"en-af\" href=\"https://www.ibm.com/af-en\" />\\n<link rel=\"alternate\" hreflang=\"fr-dz\" href=\"https://www.ibm.com/dz-fr\" />\\n<link rel=\"alternate\" hreflang=\"pt-ao\" href=\"https://www.ibm.com/ao-pt\" />\\n<link rel=\"alternate\" hreflang=\"en-ai\" href=\"https://www.ibm.com/ai-en\" />\\n<link rel=\"alternate\" hreflang=\"en-ag\" href=\"https://www.ibm.com/ag-en\" />\\n<link rel=\"alternate\" hreflang=\"es-ar\" href=\"https://www.ibm.com/ar-es\" />\\n<link rel=\"alternate\" hreflang=\"en-aw\" href=\"https://www.ibm.com/aw-en\" />\\n<link rel=\"alternate\" hreflang=\"en-au\" href=\"https://www.ibm.com/au-en\" />\\n<link rel=\"alternate\" hreflang=\"de-at\" href=\"https://www.ibm.com/at-de\" />\\n<link rel=\"alternate\" hreflang=\"en-bs\" href=\"https://www.ibm.com/bs-en\" />\\n<link rel=\"alternate\" hreflang=\"en-bh\" href=\"https://www.ibm.com/bh-en\" />\\n<link rel=\"alternate\" hreflang=\"en-bd\" href=\"https://www.ibm.com/bd-en\" />\\n<link rel=\"alternate\" hreflang=\"en-bb\" href=\"https://www.ibm.com/bb-en\" />\\n<link rel=\"alternate\" hreflang=\"en-be\" href=\"https://www.ibm.com/be-en\" />\\n<link rel=\"alternate\" hreflang=\"en-bm\" href=\"https://www.ibm.com/bm-en\" />\\n<link rel=\"alternate\" hreflang=\"es-bo\" href=\"https://www.ibm.com/bo-es\" />\\n<link rel=\"alternate\" hreflang=\"en-bw\" href=\"https://www.ibm.com/bw-en\" />\\n<link rel=\"alternate\" hreflang=\"pt-br\" href=\"https://www.ibm.com/br-pt\" />\\n<link rel=\"alternate\" hreflang=\"en-vg\" href=\"https://www.ibm.com/vg-en\" />\\n<link rel=\"alternate\" hreflang=\"en-bn\" href=\"https://www.ibm.com/bn-en\" />\\n<link rel=\"alternate\" hreflang=\"en-bg\" href=\"https://www.ibm.com/bg-en\" />\\n<link rel=\"alternate\" hreflang=\"fr-bf\" href=\"https://www.ibm.com/bf-fr\" />\\n<link rel=\"alternate\" hreflang=\"en-kh\" href=\"https://www.ibm.com/kh-en\" />\\n<link rel=\"alternate\" hreflang=\"fr-cm\" href=\"https://www.ibm.com/cm-fr\" />\\n<link rel=\"alternate\" hreflang=\"en-ca\" href=\"https://www.ibm.com/ca-en\" />\\n<link rel=\"alternate\" hreflang=\"fr-ca\" href=\"https://www.ibm.com/ca-fr\" />\\n<link rel=\"alternate\" hreflang=\"en-ky\" href=\"https://www.ibm.com/ky-en\" />\\n<link rel=\"alternate\" hreflang=\"fr-td\" href=\"https://www.ibm.com/td-fr\" />\\n<link rel=\"alternate\" hreflang=\"es-cl\" href=\"https://www.ibm.com/cl-es\" />\\n<link rel=\"alternate\" hreflang=\"zh-cn\" href=\"https://www.ibm.com/cn-zh\" />\\n<link rel=\"alternate\" hreflang=\"es-co\" href=\"https://www.ibm.com/co-es\" />\\n<link rel=\"alternate\" hreflang=\"fr-cd\" href=\"https://www.ibm.com/cd-fr\" />\\n<link rel=\"alternate\" hreflang=\"fr-cg\" href=\"https://www.ibm.com/cg-fr\" />\\n<link rel=\"alternate\" hreflang=\"es-cr\" href=\"https://www.ibm.com/cr-es\" />\\n<link rel=\"alternate\" hreflang=\"en-hr\" href=\"https://www.ibm.com/hr-en\" />\\n<link rel=\"alternate\" hreflang=\"en-cw\" href=\"https://www.ibm.com/cw-en\" />\\n<link rel=\"alternate\" hreflang=\"en-cy\" href=\"https://www.ibm.com/cy-en\" />\\n<link rel=\"alternate\" hreflang=\"en-cz\" href=\"https://www.ibm.com/cz-en\" />\\n<link rel=\"alternate\" hreflang=\"en-dm\" href=\"https://www.ibm.com/dm-en\" />\\n<link rel=\"alternate\" hreflang=\"en-dk\" href=\"https://www.ibm.com/dk-en\" />\\n<link rel=\"alternate\" hreflang=\"es-ec\" href=\"https://www.ibm.com/ec-es\" />\\n<link rel=\"alternate\" hreflang=\"en-eg\" href=\"https://www.ibm.com/eg-en\" />\\n<link rel=\"alternate\" hreflang=\"en-ee\" href=\"https://www.ibm.com/ee-en\" />\\n<link rel=\"alternate\" hreflang=\"en-et\" href=\"https://www.ibm.com/et-en\" />\\n<link rel=\"alternate\" hreflang=\"en-fi\" href=\"https://www.ibm.com/fi-en\" />\\n<link rel=\"alternate\" hreflang=\"fr-fr\" href=\"https://www.ibm.com/fr-fr\" />\\n<link rel=\"alternate\" hreflang=\"fr-ga\" href=\"https://www.ibm.com/ga-fr\" />\\n<link rel=\"alternate\" hreflang=\"de-de\" href=\"https://www.ibm.com/de-de\" />\\n<link rel=\"alternate\" hreflang=\"en-gh\" href=\"https://www.ibm.com/gh-en\" />\\n<link rel=\"alternate\" hreflang=\"en-gr\" href=\"https://www.ibm.com/gr-en\" />\\n<link rel=\"alternate\" hreflang=\"en-gd\" href=\"https://www.ibm.com/gd-en\" />\\n<link rel=\"alternate\" hreflang=\"en-gy\" href=\"https://www.ibm.com/gy-en\" />\\n<link rel=\"alternate\" hreflang=\"en-hk\" href=\"https://www.ibm.com/hk-en\" />\\n<link rel=\"alternate\" hreflang=\"en-hu\" href=\"https://www.ibm.com/hu-en\" />\\n<link rel=\"alternate\" hreflang=\"en-in\" href=\"https://www.ibm.com/in-en\" />\\n<link rel=\"alternate\" hreflang=\"en-id\" href=\"https://www.ibm.com/id-en\" />\\n<link rel=\"alternate\" hreflang=\"en-iq\" href=\"https://www.ibm.com/iq-en\" />\\n<link rel=\"alternate\" hreflang=\"en-ie\" href=\"https://www.ibm.com/ie-en\" />\\n<link rel=\"alternate\" hreflang=\"en-il\" href=\"https://www.ibm.com/il-en\" />\\n<link rel=\"alternate\" hreflang=\"it-it\" href=\"https://www.ibm.com/it-it\" />\\n<link rel=\"alternate\" hreflang=\"fr-ci\" href=\"https://www.ibm.com/ci-fr\" />\\n<link rel=\"alternate\" hreflang=\"en-jm\" href=\"https://www.ibm.com/jm-en\" />\\n<link rel=\"alternate\" hreflang=\"ja-jp\" href=\"https://www.ibm.com/jp-ja\" />\\n<link rel=\"alternate\" hreflang=\"en-jo\" href=\"https://www.ibm.com/jo-en\" />\\n<link rel=\"alternate\" hreflang=\"en-kz\" href=\"https://www.ibm.com/kz-en\" />\\n<link rel=\"alternate\" hreflang=\"en-ke\" href=\"https://www.ibm.com/ke-en\" />\\n<link rel=\"alternate\" hreflang=\"ko-kr\" href=\"https://www.ibm.com/kr-ko\" />\\n<link rel=\"alternate\" hreflang=\"en-kw\" href=\"https://www.ibm.com/kw-en\" />\\n<link rel=\"alternate\" hreflang=\"en-lv\" href=\"https://www.ibm.com/lv-en\" />\\n<link rel=\"alternate\" hreflang=\"en-lb\" href=\"https://www.ibm.com/lb-en\" />\\n<link rel=\"alternate\" hreflang=\"en-ly\" href=\"https://www.ibm.com/ly-en\" />\\n<link rel=\"alternate\" hreflang=\"en-lt\" href=\"https://www.ibm.com/lt-en\" />\\n<link rel=\"alternate\" hreflang=\"fr-mg\" href=\"https://www.ibm.com/mg-fr\" />\\n<link rel=\"alternate\" hreflang=\"en-mw\" href=\"https://www.ibm.com/mw-en\" />\\n<link rel=\"alternate\" hreflang=\"en-my\" href=\"https://www.ibm.com/my-en\" />\\n<link rel=\"alternate\" hreflang=\"fr-mu\" href=\"https://www.ibm.com/mu-fr\" />\\n<link rel=\"alternate\" hreflang=\"es-mx\" href=\"https://www.ibm.com/mx-es\" />\\n<link rel=\"alternate\" hreflang=\"en-ms\" href=\"https://www.ibm.com/ms-en\" />\\n<link rel=\"alternate\" hreflang=\"fr-ma\" href=\"https://www.ibm.com/ma-fr\" />\\n<link rel=\"alternate\" hreflang=\"pt-mz\" href=\"https://www.ibm.com/mz-pt\" />\\n<link rel=\"alternate\" hreflang=\"en-na\" href=\"https://www.ibm.com/na-en\" />\\n<link rel=\"alternate\" hreflang=\"en-np\" href=\"https://www.ibm.com/np-en\" />\\n<link rel=\"alternate\" hreflang=\"en-nl\" href=\"https://www.ibm.com/nl-en\" />\\n<link rel=\"alternate\" hreflang=\"en-nz\" href=\"https://www.ibm.com/nz-en\" />\\n<link rel=\"alternate\" hreflang=\"fr-ne\" href=\"https://www.ibm.com/ne-fr\" />\\n<link rel=\"alternate\" hreflang=\"en-ng\" href=\"https://www.ibm.com/ng-en\" />\\n<link rel=\"alternate\" hreflang=\"en-no\" href=\"https://www.ibm.com/no-en\" />\\n<link rel=\"alternate\" hreflang=\"en-om\" href=\"https://www.ibm.com/om-en\" />\\n<link rel=\"alternate\" hreflang=\"en-pk\" href=\"https://www.ibm.com/pk-en\" />\\n<link rel=\"alternate\" hreflang=\"es-py\" href=\"https://www.ibm.com/py-es\" />\\n<link rel=\"alternate\" hreflang=\"es-pe\" href=\"https://www.ibm.com/pe-es\" />\\n<link rel=\"alternate\" hreflang=\"en-ph\" href=\"https://www.ibm.com/ph-en\" />\\n<link rel=\"alternate\" hreflang=\"pl-pl\" href=\"https://www.ibm.com/pl-pl\" />\\n<link rel=\"alternate\" hreflang=\"en-pt\" href=\"https://www.ibm.com/pt-en\" />\\n<link rel=\"alternate\" hreflang=\"en-qa\" href=\"https://www.ibm.com/qa-en\" />\\n<link rel=\"alternate\" hreflang=\"en-ro\" href=\"https://www.ibm.com/ro-en\" />\\n<link rel=\"alternate\" hreflang=\"ru-ru\" href=\"https://www.ibm.com/ru-ru\" />\\n<link rel=\"alternate\" hreflang=\"en-kn\" href=\"https://www.ibm.com/kn-en\" />\\n<link rel=\"alternate\" hreflang=\"en-lc\" href=\"https://www.ibm.com/lc-en\" />\\n<link rel=\"alternate\" hreflang=\"en-vc\" href=\"https://www.ibm.com/vc-en\" />\\n<link rel=\"alternate\" hreflang=\"en-sa\" href=\"https://www.ibm.com/sa-en\" />\\n<link rel=\"alternate\" hreflang=\"fr-sn\" href=\"https://www.ibm.com/sn-fr\" />\\n<link rel=\"alternate\" hreflang=\"en-rs\" href=\"https://www.ibm.com/rs-en\" />\\n<link rel=\"alternate\" hreflang=\"fr-sc\" href=\"https://www.ibm.com/sc-fr\" />\\n<link rel=\"alternate\" hreflang=\"en-sl\" href=\"https://www.ibm.com/sl-en\" />\\n<link rel=\"alternate\" hreflang=\"en-sg\" href=\"https://www.ibm.com/sg-en\" />\\n<link rel=\"alternate\" hreflang=\"en-sk\" href=\"https://www.ibm.com/sk-en\" />\\n<link rel=\"alternate\" hreflang=\"en-si\" href=\"https://www.ibm.com/si-en\" />\\n<link rel=\"alternate\" hreflang=\"en-za\" href=\"https://www.ibm.com/za-en\" />\\n<link rel=\"alternate\" hreflang=\"es-es\" href=\"https://www.ibm.com/es-es\" />\\n<link rel=\"alternate\" hreflang=\"en-lk\" href=\"https://www.ibm.com/lk-en\" />\\n<link rel=\"alternate\" hreflang=\"en-sr\" href=\"https://www.ibm.com/sr-en\" />\\n<link rel=\"alternate\" hreflang=\"en-se\" href=\"https://www.ibm.com/se-en\" />\\n<link rel=\"alternate\" hreflang=\"fr-ch\" href=\"https://www.ibm.com/ch-fr\" />\\n<link rel=\"alternate\" hreflang=\"de-ch\" href=\"https://www.ibm.com/ch-de\" />\\n<link rel=\"alternate\" hreflang=\"zh-tw\" href=\"https://www.ibm.com/tw-zh\" />\\n<link rel=\"alternate\" hreflang=\"en-tz\" href=\"https://www.ibm.com/tz-en\" />\\n<link rel=\"alternate\" hreflang=\"en-th\" href=\"https://www.ibm.com/th-en\" />\\n<link rel=\"alternate\" hreflang=\"en-tt\" href=\"https://www.ibm.com/tt-en\" />\\n<link rel=\"alternate\" hreflang=\"fr-tn\" href=\"https://www.ibm.com/tn-fr\" />\\n<link rel=\"alternate\" hreflang=\"tr-tr\" href=\"https://www.ibm.com/tr-tr\" />\\n<link rel=\"alternate\" hreflang=\"en-ye\" href=\"https://www.ibm.com/ye-en\" />\\n<link rel=\"alternate\" hreflang=\"en-tc\" href=\"https://www.ibm.com/tc-en\" />\\n<link rel=\"alternate\" hreflang=\"en-ua\" href=\"https://www.ibm.com/ua-en\" />\\n<link rel=\"alternate\" hreflang=\"en-ug\" href=\"https://www.ibm.com/ug-en\" />\\n<link rel=\"alternate\" hreflang=\"en-ae\" href=\"https://www.ibm.com/ae-en\" />\\n<link rel=\"alternate\" hreflang=\"en-gb\" href=\"https://www.ibm.com/uk-en\" />\\n<link rel=\"alternate\" hreflang=\"es-uy\" href=\"https://www.ibm.com/uy-es\" />\\n<link rel=\"alternate\" hreflang=\"en-uz\" href=\"https://www.ibm.com/uz-en\" />\\n<link rel=\"alternate\" hreflang=\"es-ve\" href=\"https://www.ibm.com/ve-es\" />\\n<link rel=\"alternate\" hreflang=\"en-vn\" href=\"https://www.ibm.com/vn-en\" />\\n<link rel=\"alternate\" hreflang=\"en-zm\" href=\"https://www.ibm.com/zm-en\" />\\n<link rel=\"alternate\" hreflang=\"en-zw\" href=\"https://www.ibm.com/zw-en\" />\\n\\n    <title>IBM - Colombia | IBM</title>\\n    <link rel=\\'dns-prefetch\\' href=\\'//1.www.s81c.com\\' />\\n<link rel=\\'preconnect\\' href=\\'//1.www.s81c.com\\' />\\n    <link href=\"//1.www.s81c.com/common/v18/drupal/css/www.css\" rel=\"preload\" as=\"style\"  />\\n    <link rel=\"stylesheet\" href=\"//1.www.s81c.com/common/v18/drupal/css/www.css\" media=\"all\" />\\n<link href=\"//1.www.s81c.com/common/v18/drupal/css/grid-fluid.css\" rel=\"preload\" as=\"style\"  />\\n<link rel=\"stylesheet\" href=\"//1.www.s81c.com/common/v18/drupal/css/grid-fluid.css\" media=\"all\" />\\n<link href=\"//1.www.s81c.com/common/v18/drupal/css/tables.css\" rel=\"preload\" as=\"style\"  />\\n<link rel=\"stylesheet\" href=\"//1.www.s81c.com/common/v18/drupal/css/tables.css\" media=\"all\" />\\n<link rel=\"preload\" href=\"//1.www.s81c.com/common/fonts/plex/v1/ibmplexsans-regular.woff2\" as=\"font\" type=\"font/woff2\" crossorigin>\\n<link rel=\"preload\" href=\"//1.www.s81c.com/common/fonts/plex/v1/ibmplexsans-regularitalic.woff2\" as=\"font\" type=\"font/woff2\" crossorigin>\\n<link rel=\"preload\" href=\"//1.www.s81c.com/common/fonts/plex/v1/ibmplexsans-semibold.woff2\" as=\"font\" type=\"font/woff2\" crossorigin>\\n<link rel=\"preload\" href=\"//1.www.s81c.com/common/fonts/icons-ibm-v12.woff\" as=\"font\" type=\"font/woff\" crossorigin>\\n<link rel=\"preload\" href=\"//1.www.s81c.com/common/fonts/plex/v1/ibmplexsans-light.woff2\" as=\"font\" type=\"font/woff2\" crossorigin>\\n    <link rel=\"stylesheet\" media=\"all\" href=\"//1.www.s81c.com/common/v19a/css/www.css\" />\\n<link rel=\"stylesheet\" media=\"all\" href=\"//1.cms.s81c.com/sites/default/files/css/css_-F-1ECnFxnvlegJ6SULOo6q-dVpkcCDOPIV4ykXgBlE.css\" />\\n<link rel=\"stylesheet\" media=\"all\" href=\"//1.cms.s81c.com/sites/default/files/css/css_85KPJRKrhmnymPvMs-oSJCI72T4_MxK5_sB_aTl-i90.css\" />\\n\\n    <script src=\"//1.www.s81c.com/common/stats/ibm-common.js\"></script>\\n<script src=\"//1.www.s81c.com/common/v18/drupal/js/www.js\" defer></script>\\n<script src=\"//1.www.s81c.com/common/carbon/plex/load-non-latin-plex.js\" defer></script>\\n<script src=\"//1.www.s81c.com/common/v19a/js/www.js\" defer></script>\\n\\n    <noscript>\\n      <link rel=\"stylesheet\" type=\"text/css\" href=\"//1.cms.s81c.com/modules/contrib/hc_fractal/dist/css/no-js.css\" />\\n    </noscript>\\n  </head>\\n  <body id=\"ibm-com\"  uuid=\"13191044-6a14-4729-9e45-bd694fad7d27\" class=\"path-node page-node-type-page-wrapper ibm-type\">\\n    \\n      <div class=\"dialog-off-canvas-main-canvas\" data-off-canvas-main-canvas>\\n    <div id=\"ibm-top\" class=\"ibm-landing-page\">\\n    <div class=\"region region-masthead\">\\n    \\n\\n    \\n    \\n\\n<div id=\"ibm-masthead\" role=\"banner\" aria-label=\"IBM\" data-mhtype=\"alternate\" class=\"simple  ibm-mhtype-alternate\">\\n  <div id=\"ibm-universal-nav\">\\n    <nav role=\"navigation\" aria-label=\"IBM\">\\n      <div id=\"ibm-home\"><a href=\"https://www.ibm.com/co/es\">IBM®</a></div>\\n                    <!-- Menu -->\\n              \\n              <ul aria-label=\"\" role=\"toolbar\" class=\"ibm-masthead-categories\">\\n\\n              </ul>\\n      \\n      <ul id=\"ibm-menu-links\" role=\"toolbar\" aria-label=\"Site map\">\\n        <li><a href=\"https://www.ibm.com/sitemap/co/es\">Mapa del sitio</a></li>\\n      </ul>\\n    </nav>\\n\\n          <div id=\"ibm-search-module\" role=\"search\" aria-labelledby=\"ibm-masthead\">\\n        <form id=\"ibm-search-form\" action=\"https://www.ibm.com/Search/\" method=\"get\">\\n          <p>\\n            <label for=\"q\">IBM</label>\\n            <input type=\"text\" maxlength=\"100\" value=\"\" placeholder=Buscar name=\"q\" id=\"q\" aria-label=\"Search\"/>\\n            <input type=\"hidden\" value=\"18\" name=\"v\"/>\\n            <input type=\"hidden\" value=\"utf\" name=\"en\"/>\\n            <input type=\"hidden\" value=\"es\" name=\"lang\"/>\\n            <input type=\"hidden\" value=\"co\" name=\"cc\"/>\\n            <input type=\"submit\" id=\"ibm-search\" class=\"ibm-btn-search\" value=\"Submit\"/>\\n          </p>\\n        </form>\\n      </div>\\n    \\n\\n  </div> \\n  </div>\\n\\n  </div>\\n\\n  <div id=\"ibm-content-wrapper\">\\n      <header  aria-label=\"Navigation Header\">\\n        \\n\\n  </header>\\n\\n\\n\\n      <div class=\"region region-help\">\\n    <div data-drupal-messages-fallback class=\"hidden\"></div>\\n\\n  </div>\\n\\n      <div class=\"region region-content\">\\n    <div id=\"block-ibm-duo-content\">\\n  \\n    \\n      \\n\\n\\n\\n\\n\\n\\n            \\n\\n\\n\\n\\n\\n\\n  <section  role=\"article\" about=\"/co-es/node/2598576\" class=\"ibm-duo-leadspace ibm-duo-leadspace-large ibm-background-gray-10\" data-bg-lazy-load>\\n    <div class=\"ibm-grid-container ibm-duo-leadspace-large__container\">\\n      <div class=\"ibm-grid-col-sm-4-4 ibm-grid-col-md-8-4 ibm-grid-col-lg-16-6 ibm-duo-leadspace-large__content\">\\n                  <div class=\"ibm-grid-col-sm-4-3 ibm-grid-col-lg-16-12 ibm-grid-col-seamless ibm-mb-4 ibm-duo-leadspace-large__headline ani-reveal ani-fadeInUp\" data-wow-delay=\".2s\">\\n            <h1 class=\"bx--type-expressive-heading-05 bx--type-light ibm-textcolor-gray-90 ibm-pb-0 ibm-mb-0\">\\n                  <span>Diseñado para la agilidad</span>\\n\\n            </h1>\\n          </div>\\n        \\n        <div class=\"ibm-duo-leadspace-large__subhead\">\\n                      <div class=\"ibm-grid-col-sm-4-3 ibm-grid-col-lg-16-10 ibm-grid-col-xlg-16-12 ibm-grid-col-seamless ani-reveal ani-fadeInUp\" data-wow-delay=\".4s\">\\n              <p class=\"bx--type-expressive-heading-03 ibm-textcolor-gray-70 ibm-mb-0\">\\n                    <span>Nuevos servidores Power10: rendimiento superior para cargas de trabajo críticas en un entorno híbrido</span>\\n\\n              </p>\\n            </div>\\n          \\n            <div class=\"ibm-btn-row ibm-button-link ibm-mt-4 ani-reveal ani-fadeInUp\" data-wow-delay=\".6s\">\\n          \\n\\n        \\n  \\n  \\n  \\n\\n\\n\\n\\n        \\n  <div class=\\'ibm-duo-button-item\\'>\\n    <a  target=\"_blank\" href=\"https://newsroom.ibm.com/2022-07-12-IBM-Expands-Power10-Server-Family-to-Help-Clients-Respond-Faster-to-Rapidly-Changing-Business-Demands\" class=\"ibm-btn-pri ibm-duo-btn-cta ibm-duo-u--link-icon\">\\n      Explore Power10\\n      \\n    \\n        \\n\\n                      <svg focusable=\"false\" class=\"ibm-duo-u--link-icon--arrow-right\" preserveAspectRatio=\"xMidYMid meet\" xmlns=\"http://www.w3.org/2000/svg\" fill=\"currentColor\" aria-hidden=\"true\" aria-label=\"View this link\" width=\"20\" height=\"20\" viewBox=\"0 0 20 20\" slot=\"icon\"><path d=\"M11.8 2.8L10.8 3.8 16.2 9.3 1 9.3 1 10.7 16.2 10.7 10.8 16.2 11.8 17.2 19 10z\"></path></svg>\\n          \\n    \\n    </a>\\n  </div>\\n\\n      </div>\\n  <div class=\"ibm-grid-col-sm-4-4 ani-reveal ani-fadeInUp\" data-wow-delay=\".7s\">\\n      </div>\\n\\n          \\n        </div>\\n      </div>\\n\\n      <div class=\"ibm-grid-col-sm-4-1 ibm-grid-col-md-8-0 ibm-grid-col-lg-16-2\"></div>\\n\\n      <div class=\"ibm-grid-col-sm-4-4 ibm-grid-col-md-8-4 ibm-grid-col-lg-16-8 ibm-duo-u--mt-5 ibm-duo-u--mb-5 ibm-duo-leadspace-large__media-inline\">\\n                  <figure>\\n            \\n\\n<img loading=\"lazy\" src=\"//1.cms.s81c.com/sites/default/files/2022-07/ibm-power10-launch_2.jpg\" alt=\"lanzamiento del nuevo ibm power10\"\\n        class=\"\"\\n  />\\n                      </figure>\\n        \\n        \\n      </div>\\n    </div>\\n  </section>\\n\\n\\n\\n      \\n\\n\\n  \\n\\n<main role=\"main\" aria-labelledby=\"ibm-pagetitle-h1\">\\n  <div id=\"ibm-pcon\">\\n    <div id=\"ibm-content\">\\n      <div id=\"ibm-content-body\" class=\"ibm-padding-top-0\">\\n        <div id=\"ibm-content-main\">\\n          \\n                    \\n          <div class=\"node__content\">\\n                                                \\n\\n\\n\\n\\n\\n\\n  <section  role=\"article\" about=\"/co-es/node/2598600\" id=\"2598600\" class=\"ibm-duo-band ibm-duo-module-1b ibm-duo-u--pt-4 ibm-duo-u--pb-4 ibm-background-white-core\" data-bg-lazy-load>\\n    <div class=\"ibm-grid-container ibm-duo-module-1b__container\">\\n      <div class=\"ibm-grid-col-sm-4-4 ibm-grid-col-md-8-4 ibm-grid-col-lg-16-4\">\\n        \\n\\n  <div class=\"ibm-duo-heading__headline ibm-grid-col-sm-4-4 ibm-grid-col-md-8-6 ibm-grid-col-lg-16-8 ibm-grid-col-seamless ibm-mb-3 ani-reveal ani-fadeInUp\">\\n    <h2 class=\"bx--type-productive-heading-02 ibm-textcolor-gray-90 ibm-pb-0 ibm-mb-0\">\\n          <span > Conozca IBM</span>\\n\\n    </h2>\\n  </div>\\n\\n\\n      </div>\\n\\n      \\n              \\n        \\n        <div class=\"ibm-grid-col-sm-4-4 ibm-grid-col-md-8-8 ibm-grid-col-lg-16-12 ibm-grid-col-seamless\">\\n          <div class=\"ibm-duo-carousel ibm-duo-carousel__1b ani-reveal ani-fadeInUp\" data-widget=\"setsameheight\" data-always=\"true\" data-items=\".ibm-duo-card__heading\">\\n\\n          <button type=\"button\" class=\"slick-arrow slick-prev\" data-ibm-cm-avoid=\"true\">\\n      <svg focusable=\"false\" preserveAspectRatio=\"xMidYMid meet\" xmlns=\"http://www.w3.org/2000/svg\" width=\"32\" height=\"32\" viewBox=\"0 0 32 32\" aria-hidden=\"true\" aria-label=\"Show previous content\"><path d=\"m10 16l10-10l1.4 1.4l-8.6 8.6l8.6 8.6l-1.4 1.4l-10-10z\" /></svg>\\n</button>\\n\\n          \\n                      <div class=\"ibm-duo-carousel__item ibm-duo-carousel-1b__item\">\\n                  \\n\\n\\n\\n\\n\\n\\n\\n\\n\\n<div class=\"ibm-card ibm-duo-card ibm-duo-card--auto-height ibm-card--noborder ibm-mb-0\">\\n\\n  \\n        \\n\\n        \\n  \\n  \\n  \\n\\n\\n\\n    <a  target=\"_self\" href=\"https://www.ibm.com/es-es/about/secure-your-business\" class=\"ibm-blocklink ibm-duo-card__link ibm-duo-u--link-icon--rtl ibm-background-cool-gray-10 ibm-duo-card--hover-light\">\\n    \\n          <div class=\"ibm-card__image ibm-duo-card__image ibm-duo-u--ratio--sixteen-nine\">\\n                  \\n\\n<img loading=\"lazy\" src=\"//1.cms.s81c.com/sites/default/files/2022-02-14/ibm-security_2.jpg\" alt=\"Seguridad predictiva para evitar el costo de una brecha de datos\"\\n        class=\"\"\\n  />\\n        \\n                                                      </div>\\n    \\n    <div class=\"ibm-card__content ibm-duo-card__content\">\\n      <div class=\"ibm-grid-container ibm-pb-3\">\\n                  <div class=\"ibm-grid-col-sm-4-4 ibm-grid-col-md-8-6 ibm-grid-col-lg-16-12 ibm-duo-card__heading\">\\n            <h3 class=\"bx--type-productive-heading-02 ibm-type-semibold ibm-mb-1 ibm-textcolor-gray-90 ibm-pb-0\">\\n                  <span > Nunca confíe, siempre verifique</span>\\n\\n            </h3>\\n          </div>\\n        \\n                  <div class=\"ibm-grid-col-sm-4-4 ibm-grid-col-md-8-6 ibm-grid-col-lg-16-14 ibm-duo-card__desc\">\\n            <div class=\"ibm-card__subheading bx--type-body-short-02 ibm-mb-0 ibm-textcolor-gray-70 ibm-pb-0\">\\n                          <p>Seguridad predictiva para evitar el costo de una brecha de datos.</p>\\n\\n<p>\\xa0</p>\\n\\n<p>\\xa0</p>\\n      \\n            </div>\\n          </div>\\n              </div>\\n    </div>\\n\\n          <div class=\"ibm-card__bottom ibm-duo-card__bottom\">\\n          <div class=\"ibm-grid-container\">\\n            <div class=\"ibm-grid-col-sm-4-4 ibm-grid-col-md-8-8 ibm-grid-col-lg-16-16\">\\n                                          \\n\\n        \\n  \\n  \\n  \\n\\n\\n\\n    <p class=\"ibm-duo-u--link-icon ibm-textcolor-blue-60\">\\n    <span class=\"ibm-textcolor-blue-60\">Aprenda sobre la estrategia “zero trust” de IBM</span>\\n    \\n    \\n        \\n\\n                      <svg focusable=\"false\" class=\"ibm-duo-u--link-icon--arrow-right\" preserveAspectRatio=\"xMidYMid meet\" xmlns=\"http://www.w3.org/2000/svg\" fill=\"currentColor\" aria-hidden=\"true\" aria-label=\"View this link\" width=\"20\" height=\"20\" viewBox=\"0 0 20 20\" slot=\"icon\"><path d=\"M11.8 2.8L10.8 3.8 16.2 9.3 1 9.3 1 10.7 16.2 10.7 10.8 16.2 11.8 17.2 19 10z\"></path></svg>\\n          \\n    \\n  </p>\\n\\n            </div>\\n          </div>\\n      </div>\\n    \\n  \\n  </a>\\n\\n    </div>\\n\\n\\n              </div>\\n                      <div class=\"ibm-duo-carousel__item ibm-duo-carousel-1b__item\">\\n                  \\n\\n\\n\\n\\n\\n\\n\\n\\n\\n<div class=\"ibm-card ibm-duo-card ibm-duo-card--auto-height ibm-card--noborder ibm-mb-0\">\\n\\n  \\n        \\n\\n        \\n  \\n  \\n  \\n\\n\\n\\n    <a  target=\"_self\" href=\"https://www.ibm.com/es-es/cloud/campaign/cloud-simplicity\" class=\"ibm-blocklink ibm-duo-card__link ibm-duo-u--link-icon--rtl ibm-background-cool-gray-10 ibm-duo-card--hover-light\">\\n    \\n          <div class=\"ibm-card__image ibm-duo-card__image ibm-duo-u--ratio--sixteen-nine\">\\n                  \\n\\n<img loading=\"lazy\" src=\"//1.cms.s81c.com/sites/default/files/2022-02-14/ibm-simplify-cloud_2.jpg\" alt=\"Quienes toman decisiones consideran que TI se ha vuelto más complicado\"\\n        class=\"\"\\n  />\\n        \\n                                                      </div>\\n    \\n    <div class=\"ibm-card__content ibm-duo-card__content\">\\n      <div class=\"ibm-grid-container ibm-pb-3\">\\n                  <div class=\"ibm-grid-col-sm-4-4 ibm-grid-col-md-8-6 ibm-grid-col-lg-16-12 ibm-duo-card__heading\">\\n            <h3 class=\"bx--type-productive-heading-02 ibm-type-semibold ibm-mb-1 ibm-textcolor-gray-90 ibm-pb-0\">\\n                  <span > Simplifique su infraestructura</span>\\n\\n            </h3>\\n          </div>\\n        \\n                  <div class=\"ibm-grid-col-sm-4-4 ibm-grid-col-md-8-6 ibm-grid-col-lg-16-14 ibm-duo-card__desc\">\\n            <div class=\"ibm-card__subheading bx--type-body-short-02 ibm-mb-0 ibm-textcolor-gray-70 ibm-pb-0\">\\n                          <p>Quienes toman decisiones consideran que TI se ha vuelto más complicado.</p>\\n\\n<p>\\xa0</p>\\n\\n<p>\\xa0</p>\\n      \\n            </div>\\n          </div>\\n              </div>\\n    </div>\\n\\n          <div class=\"ibm-card__bottom ibm-duo-card__bottom\">\\n          <div class=\"ibm-grid-container\">\\n            <div class=\"ibm-grid-col-sm-4-4 ibm-grid-col-md-8-8 ibm-grid-col-lg-16-16\">\\n                                          \\n\\n        \\n  \\n  \\n  \\n\\n\\n\\n    <p class=\"ibm-duo-u--link-icon ibm-textcolor-blue-60\">\\n    <span class=\"ibm-textcolor-blue-60\">Aprenda cómo romper silos y optimizar la operación</span>\\n    \\n    \\n        \\n\\n                      <svg focusable=\"false\" class=\"ibm-duo-u--link-icon--arrow-right\" preserveAspectRatio=\"xMidYMid meet\" xmlns=\"http://www.w3.org/2000/svg\" fill=\"currentColor\" aria-hidden=\"true\" aria-label=\"View this link\" width=\"20\" height=\"20\" viewBox=\"0 0 20 20\" slot=\"icon\"><path d=\"M11.8 2.8L10.8 3.8 16.2 9.3 1 9.3 1 10.7 16.2 10.7 10.8 16.2 11.8 17.2 19 10z\"></path></svg>\\n          \\n    \\n  </p>\\n\\n            </div>\\n          </div>\\n      </div>\\n    \\n  \\n  </a>\\n\\n    </div>\\n\\n\\n              </div>\\n                      <div class=\"ibm-duo-carousel__item ibm-duo-carousel-1b__item\">\\n                  \\n\\n\\n\\n\\n\\n\\n\\n\\n\\n<div class=\"ibm-card ibm-duo-card ibm-duo-card--auto-height ibm-card--noborder ibm-mb-0\">\\n\\n  \\n        \\n\\n        \\n  \\n  \\n  \\n\\n\\n\\n    <a  target=\"_self\" href=\"https://www.ibm.com/es-es/analytics/data-fabric\" class=\"ibm-blocklink ibm-duo-card__link ibm-duo-u--link-icon--rtl ibm-background-cool-gray-10 ibm-duo-card--hover-light\">\\n    \\n          <div class=\"ibm-card__image ibm-duo-card__image ibm-duo-u--ratio--sixteen-nine\">\\n                  \\n\\n<img loading=\"lazy\" src=\"//1.cms.s81c.com/sites/default/files/2022-02-14/ibm-data-driven_2.jpg\" alt=\"Innove rápidamente con acceso simplificado a datos listos para análisis e IA\"\\n        class=\"\"\\n  />\\n        \\n                                                      </div>\\n    \\n    <div class=\"ibm-card__content ibm-duo-card__content\">\\n      <div class=\"ibm-grid-container ibm-pb-3\">\\n                  <div class=\"ibm-grid-col-sm-4-4 ibm-grid-col-md-8-6 ibm-grid-col-lg-16-12 ibm-duo-card__heading\">\\n            <h3 class=\"bx--type-productive-heading-02 ibm-type-semibold ibm-mb-1 ibm-textcolor-gray-90 ibm-pb-0\">\\n                  <span > Conecte sus datos, donde sea que vivan</span>\\n\\n            </h3>\\n          </div>\\n        \\n                  <div class=\"ibm-grid-col-sm-4-4 ibm-grid-col-md-8-6 ibm-grid-col-lg-16-14 ibm-duo-card__desc\">\\n            <div class=\"ibm-card__subheading bx--type-body-short-02 ibm-mb-0 ibm-textcolor-gray-70 ibm-pb-0\">\\n                          <p>Innove rápidamente con acceso simplificado a datos listos para análisis e IA.</p>\\n      \\n            </div>\\n          </div>\\n              </div>\\n    </div>\\n\\n          <div class=\"ibm-card__bottom ibm-duo-card__bottom\">\\n          <div class=\"ibm-grid-container\">\\n            <div class=\"ibm-grid-col-sm-4-4 ibm-grid-col-md-8-8 ibm-grid-col-lg-16-16\">\\n                                          \\n\\n        \\n  \\n  \\n  \\n\\n\\n\\n    <p class=\"ibm-duo-u--link-icon ibm-textcolor-blue-60\">\\n    <span class=\"ibm-textcolor-blue-60\">Vea cómo data fabric le ayuda a generar valor</span>\\n    \\n    \\n        \\n\\n                      <svg focusable=\"false\" class=\"ibm-duo-u--link-icon--arrow-right\" preserveAspectRatio=\"xMidYMid meet\" xmlns=\"http://www.w3.org/2000/svg\" fill=\"currentColor\" aria-hidden=\"true\" aria-label=\"View this link\" width=\"20\" height=\"20\" viewBox=\"0 0 20 20\" slot=\"icon\"><path d=\"M11.8 2.8L10.8 3.8 16.2 9.3 1 9.3 1 10.7 16.2 10.7 10.8 16.2 11.8 17.2 19 10z\"></path></svg>\\n          \\n    \\n  </p>\\n\\n            </div>\\n          </div>\\n      </div>\\n    \\n  \\n  </a>\\n\\n    </div>\\n\\n\\n              </div>\\n                      <div class=\"ibm-duo-carousel__item ibm-duo-carousel-1b__item\">\\n                  \\n\\n\\n\\n\\n\\n\\n\\n\\n\\n<div class=\"ibm-card ibm-duo-card ibm-duo-card--auto-height ibm-card--noborder ibm-mb-0\">\\n\\n  \\n        \\n\\n        \\n  \\n  \\n  \\n\\n\\n\\n    <a  target=\"_self\" href=\"https://www.ibm.com/es-es/cloud/aiops\" class=\"ibm-blocklink ibm-duo-card__link ibm-duo-u--link-icon--rtl ibm-background-cool-gray-10 ibm-duo-card--hover-light\">\\n    \\n          <div class=\"ibm-card__image ibm-duo-card__image ibm-duo-u--ratio--sixteen-nine\">\\n                  \\n\\n<img loading=\"lazy\" src=\"//1.cms.s81c.com/sites/default/files/2022-02-14/ibm-automate_2.jpg\" alt=\"Las compañías que invierten en AIOps y automatización reducen costos en un 50%\"\\n        class=\"\"\\n  />\\n        \\n                                                      </div>\\n    \\n    <div class=\"ibm-card__content ibm-duo-card__content\">\\n      <div class=\"ibm-grid-container ibm-pb-3\">\\n                  <div class=\"ibm-grid-col-sm-4-4 ibm-grid-col-md-8-6 ibm-grid-col-lg-16-12 ibm-duo-card__heading\">\\n            <h3 class=\"bx--type-productive-heading-02 ibm-type-semibold ibm-mb-1 ibm-textcolor-gray-90 ibm-pb-0\">\\n                  <span > Ponga sus aplicaciones en piloto automático</span>\\n\\n            </h3>\\n          </div>\\n        \\n                  <div class=\"ibm-grid-col-sm-4-4 ibm-grid-col-md-8-6 ibm-grid-col-lg-16-14 ibm-duo-card__desc\">\\n            <div class=\"ibm-card__subheading bx--type-body-short-02 ibm-mb-0 ibm-textcolor-gray-70 ibm-pb-0\">\\n                          <p>Las compañías que invierten en AIOps y automatización reducen costos en un 50%.</p>\\n\\n<p>\\xa0</p>\\n\\n<p>\\xa0</p>\\n      \\n            </div>\\n          </div>\\n              </div>\\n    </div>\\n\\n          <div class=\"ibm-card__bottom ibm-duo-card__bottom\">\\n          <div class=\"ibm-grid-container\">\\n            <div class=\"ibm-grid-col-sm-4-4 ibm-grid-col-md-8-8 ibm-grid-col-lg-16-16\">\\n                                          \\n\\n        \\n  \\n  \\n  \\n\\n\\n\\n    <p class=\"ibm-duo-u--link-icon ibm-textcolor-blue-60\">\\n    <span class=\"ibm-textcolor-blue-60\">Vea cómo acelerar su transformación digital</span>\\n    \\n    \\n        \\n\\n                      <svg focusable=\"false\" class=\"ibm-duo-u--link-icon--arrow-right\" preserveAspectRatio=\"xMidYMid meet\" xmlns=\"http://www.w3.org/2000/svg\" fill=\"currentColor\" aria-hidden=\"true\" aria-label=\"View this link\" width=\"20\" height=\"20\" viewBox=\"0 0 20 20\" slot=\"icon\"><path d=\"M11.8 2.8L10.8 3.8 16.2 9.3 1 9.3 1 10.7 16.2 10.7 10.8 16.2 11.8 17.2 19 10z\"></path></svg>\\n          \\n    \\n  </p>\\n\\n            </div>\\n          </div>\\n      </div>\\n    \\n  \\n  </a>\\n\\n    </div>\\n\\n\\n              </div>\\n                      <div class=\"ibm-duo-carousel__item ibm-duo-carousel-1b__item\">\\n                  \\n\\n\\n\\n\\n\\n\\n\\n\\n\\n<div class=\"ibm-card ibm-duo-card ibm-duo-card--auto-height ibm-card--noborder ibm-mb-0\">\\n\\n  \\n        \\n\\n        \\n  \\n  \\n  \\n\\n\\n\\n    <a  target=\"_self\" href=\"https://www.ibm.com/consulting/es-es/\" class=\"ibm-blocklink ibm-duo-card__link ibm-duo-u--link-icon--rtl ibm-background-cool-gray-10 ibm-duo-card--hover-light\">\\n    \\n          <div class=\"ibm-card__image ibm-duo-card__image ibm-duo-u--ratio--sixteen-nine\">\\n                  \\n\\n<img loading=\"lazy\" src=\"//1.cms.s81c.com/sites/default/files/2022-02-14/ibm-transform-consulting_2.jpg\" alt=\"Trabajemos juntos para transformar ideas en acciones\"\\n        class=\"\"\\n  />\\n        \\n                                                      </div>\\n    \\n    <div class=\"ibm-card__content ibm-duo-card__content\">\\n      <div class=\"ibm-grid-container ibm-pb-3\">\\n                  <div class=\"ibm-grid-col-sm-4-4 ibm-grid-col-md-8-6 ibm-grid-col-lg-16-12 ibm-duo-card__heading\">\\n            <h3 class=\"bx--type-productive-heading-02 ibm-type-semibold ibm-mb-1 ibm-textcolor-gray-90 ibm-pb-0\">\\n                  <span > Avance rápido y lejos con IBM Consulting</span>\\n\\n            </h3>\\n          </div>\\n        \\n                  <div class=\"ibm-grid-col-sm-4-4 ibm-grid-col-md-8-6 ibm-grid-col-lg-16-14 ibm-duo-card__desc\">\\n            <div class=\"ibm-card__subheading bx--type-body-short-02 ibm-mb-0 ibm-textcolor-gray-70 ibm-pb-0\">\\n                          <p>Trabajemos juntos para transformar ideas en acciones.</p>\\n      \\n            </div>\\n          </div>\\n              </div>\\n    </div>\\n\\n          <div class=\"ibm-card__bottom ibm-duo-card__bottom\">\\n          <div class=\"ibm-grid-container\">\\n            <div class=\"ibm-grid-col-sm-4-4 ibm-grid-col-md-8-8 ibm-grid-col-lg-16-16\">\\n                                          \\n\\n        \\n  \\n  \\n  \\n\\n\\n\\n    <p class=\"ibm-duo-u--link-icon ibm-textcolor-blue-60\">\\n    <span class=\"ibm-textcolor-blue-60\">Conozca nuevas reglas de los negocios con un partner confiable</span>\\n    \\n    \\n        \\n\\n                      <svg focusable=\"false\" class=\"ibm-duo-u--link-icon--arrow-right\" preserveAspectRatio=\"xMidYMid meet\" xmlns=\"http://www.w3.org/2000/svg\" fill=\"currentColor\" aria-hidden=\"true\" aria-label=\"View this link\" width=\"20\" height=\"20\" viewBox=\"0 0 20 20\" slot=\"icon\"><path d=\"M11.8 2.8L10.8 3.8 16.2 9.3 1 9.3 1 10.7 16.2 10.7 10.8 16.2 11.8 17.2 19 10z\"></path></svg>\\n          \\n    \\n  </p>\\n\\n            </div>\\n          </div>\\n      </div>\\n    \\n  \\n  </a>\\n\\n    </div>\\n\\n\\n              </div>\\n          \\n            <span class=\"ibm-duo-carousel__counter ibm-duo-carousel__counter--5 bx--type-body-long-01 ibm-mb-1 ibm-textcolor-gray-90\"></span>\\n\\n            <button type=\"button\" class=\"slick-arrow slick-next\" data-ibm-cm-avoid=\"true\">\\n      <svg focusable=\"false\" preserveAspectRatio=\"xMidYMid meet\" xmlns=\"http://www.w3.org/2000/svg\" width=\"32\" height=\"32\" viewBox=\"0 0 32 32\" aria-hidden=\"true\" aria-label=\"Show next content\"><polygon points=\"22,16 12,26 10.6,24.6 19.2,16 10.6,7.4 12,6\"></polygon></svg>\\n</button>\\n          </div>\\n        </div>\\n      \\n    </div>\\n  </section>\\n\\n              \\n\\n  \\n\\n\\n\\n\\n\\n  <section  role=\"article\" about=\"/co-es/node/2992384\" id=\"2992384\" class=\"ibm-duo-band ibm-duo-module-12a ibm-background-cool-gray-10\" data-bg-lazy-load>\\n    \\n                      \\n\\n  \\n\\n\\n\\n\\n\\n<div class=\"ibm-grid-container ibm-duo-u--pt-4 ibm-duo-u--pb-4 \">\\n  <div class=\"ibm-grid-col-sm-4-4 ibm-grid-col-md-8-6 ibm-grid-col-lg-16-8 ibm-duo-module-12a__content\">\\n    \\n          <div class=\"ibm-duo-module-12a__subhead ibm-textcolor-gray-90\">\\n                    <p>Conozca el <strong>almacenamiento flash de próxima generación</strong> con un mejor rendimiento y capacidades únicas de resiliencia cibernética.</p>\\n      \\n      </div>\\n    \\n      </div>\\n\\n  \\n    <div class=\"ibm-grid-col-sm-4-0 ibm-grid-col-md-8-2 ibm-grid-col-lg-16-4\"></div>\\n          <div class=\"ibm-grid-col-sm-4-4 ibm-grid-col-md-8-4 ibm-grid-col-lg-16-4 ibm-duo-module-12a__cta ani-reveal ani-fadeInUp\">\\n                  \\n\\n        \\n  \\n  \\n  \\n\\n\\n\\n\\n        \\n  <div class=\\'ibm-duo-button-item\\'>\\n    <a  target=\"_self\" href=\"https://www.ibm.com/co-es/storage/flash\" class=\"ibm-btn-pri ibm-duo-btn-cta ibm-duo-u--link-icon\">\\n      Explore IBM FlashSystem®\\n      \\n    \\n        \\n\\n                      <svg focusable=\"false\" class=\"ibm-duo-u--link-icon--arrow-right\" preserveAspectRatio=\"xMidYMid meet\" xmlns=\"http://www.w3.org/2000/svg\" fill=\"currentColor\" aria-hidden=\"true\" aria-label=\"View this link\" width=\"20\" height=\"20\" viewBox=\"0 0 20 20\" slot=\"icon\"><path d=\"M11.8 2.8L10.8 3.8 16.2 9.3 1 9.3 1 10.7 16.2 10.7 10.8 16.2 11.8 17.2 19 10z\"></path></svg>\\n          \\n    \\n    </a>\\n  </div>\\n\\n                  \\n\\n        \\n  \\n  \\n  \\n\\n\\n\\n\\n        \\n  <div class=\\'ibm-duo-button-item\\'>\\n    <a  target=\"_self\" href=\"https://www.ibm.com/it-infrastructure/storage/flash/offers/co-es\" class=\"ibm-btn-sec ibm-duo-btn-cta ibm-duo-u--link-icon ibm-btn-sec--blue\">\\n      Ofertas de IBM FlashSystem®\\n      \\n    \\n        \\n\\n                      <svg focusable=\"false\" class=\"ibm-duo-u--link-icon--arrow-right\" preserveAspectRatio=\"xMidYMid meet\" xmlns=\"http://www.w3.org/2000/svg\" fill=\"currentColor\" aria-hidden=\"true\" aria-label=\"View this link\" width=\"20\" height=\"20\" viewBox=\"0 0 20 20\" slot=\"icon\"><path d=\"M11.8 2.8L10.8 3.8 16.2 9.3 1 9.3 1 10.7 16.2 10.7 10.8 16.2 11.8 17.2 19 10z\"></path></svg>\\n          \\n    \\n    </a>\\n  </div>\\n\\n              </div>\\n      </div>\\n\\n\\n              </section>\\n\\n              \\n\\n\\n\\n\\n\\n\\n  <section  role=\"article\" about=\"/co-es/node/2598712\" id=\"2598712\" class=\"ibm-duo-band ibm-duo-module-1b ibm-duo-u--pt-4 ibm-duo-u--pb-4 ibm-background-cool-gray-10\" data-bg-lazy-load>\\n    <div class=\"ibm-grid-container ibm-duo-module-1b__container\">\\n      <div class=\"ibm-grid-col-sm-4-4 ibm-grid-col-md-8-4 ibm-grid-col-lg-16-4\">\\n        \\n\\n  <div class=\"ibm-duo-heading__headline ibm-grid-col-sm-4-4 ibm-grid-col-md-8-6 ibm-grid-col-lg-16-8 ibm-grid-col-seamless ibm-mb-3 ani-reveal ani-fadeInUp\">\\n    <h2 class=\"bx--type-productive-heading-02 ibm-textcolor-gray-90 ibm-pb-0 ibm-mb-0\">\\n          <span > Descubra las pruebas y ofertas del producto</span>\\n\\n    </h2>\\n  </div>\\n\\n\\n  <div class=\"ibm-duo-heading__cta ibm-grid-col-sm-4-4 ibm-grid-col-md-8-8 ibm-grid-col-lg-16-15 ibm-grid-col-seamless ibm-mt-3 ibm-mb-3 ani-reveal ani-fadeInUp\">\\n          \\n\\n        \\n  \\n  \\n  \\n\\n\\n\\n  \\n  \\n  <p class=\\'ibm-mb-0 ibm-duo-u--pr-2 ibm-pb-1\\'>\\n    <a  target=\"_self\" href=\"/co-es/products?lnk=hpv18t5\" class=\"ibm-duo-u--link-icon ibm-textcolor-blue-60 ibm-duo-u--link-icon--rtl\">\\n      <span>Vea ofertas actuales</span>\\n      \\n    \\n        \\n\\n                      <svg focusable=\"false\" class=\"ibm-duo-u--link-icon--arrow-right\" preserveAspectRatio=\"xMidYMid meet\" xmlns=\"http://www.w3.org/2000/svg\" fill=\"currentColor\" aria-hidden=\"true\" aria-label=\"View this link\" width=\"20\" height=\"20\" viewBox=\"0 0 20 20\" slot=\"icon\"><path d=\"M11.8 2.8L10.8 3.8 16.2 9.3 1 9.3 1 10.7 16.2 10.7 10.8 16.2 11.8 17.2 19 10z\"></path></svg>\\n          \\n    \\n    </a>\\n  </p>\\n\\n\\n      </div>\\n      </div>\\n\\n      \\n              \\n        \\n        <div class=\"ibm-grid-col-sm-4-4 ibm-grid-col-md-8-8 ibm-grid-col-lg-16-12 ibm-grid-col-seamless\">\\n          <div class=\"ibm-duo-carousel ibm-duo-carousel__1b ani-reveal ani-fadeInUp\" data-widget=\"setsameheight\" data-always=\"true\" data-items=\".ibm-duo-card__heading\">\\n\\n          <button type=\"button\" class=\"slick-arrow slick-prev\" data-ibm-cm-avoid=\"true\">\\n      <svg focusable=\"false\" preserveAspectRatio=\"xMidYMid meet\" xmlns=\"http://www.w3.org/2000/svg\" width=\"32\" height=\"32\" viewBox=\"0 0 32 32\" aria-hidden=\"true\" aria-label=\"Show previous content\"><path d=\"m10 16l10-10l1.4 1.4l-8.6 8.6l8.6 8.6l-1.4 1.4l-10-10z\" /></svg>\\n</button>\\n\\n          \\n                      <div class=\"ibm-duo-carousel__item ibm-duo-carousel-1b__item\">\\n                  \\n\\n\\n\\n\\n\\n\\n\\n\\n\\n<div class=\"ibm-card ibm-duo-card ibm-duo-card--auto-height ibm-card--noborder ibm-mb-0\">\\n\\n  \\n        \\n\\n        \\n  \\n  \\n  \\n\\n\\n\\n    <a  target=\"_self\" href=\"/co-es/cloud/free?lnk=hpv18t1\" class=\"ibm-blocklink ibm-duo-card__link ibm-duo-u--link-icon--rtl ibm-background-white-core ibm-duo-card--hover-light\">\\n    \\n          <div class=\"ibm-card__image ibm-duo-card__image ibm-duo-u--ratio--sixteen-nine\">\\n                  \\n\\n<img loading=\"lazy\" src=\"//1.cms.s81c.com/sites/default/files/2021-02-17/ibm-cloud-trial.png\" alt=\"captura de pantalla del panel de control de IBM Cloud\"\\n        class=\"\"\\n  />\\n        \\n                                                      </div>\\n    \\n    <div class=\"ibm-card__content ibm-duo-card__content\">\\n      <div class=\"ibm-grid-container ibm-pb-3\">\\n                  <div class=\"ibm-grid-col-sm-4-4 ibm-grid-col-md-8-6 ibm-grid-col-lg-16-12 ibm-duo-card__heading\">\\n            <h3 class=\"bx--type-productive-heading-02 ibm-type-semibold ibm-mb-1 ibm-textcolor-gray-90 ibm-pb-0\">\\n                  <span > IBM Cloud</span>\\n\\n            </h3>\\n          </div>\\n        \\n                  <div class=\"ibm-grid-col-sm-4-4 ibm-grid-col-md-8-6 ibm-grid-col-lg-16-14 ibm-duo-card__desc\">\\n            <div class=\"ibm-card__subheading bx--type-body-short-02 ibm-mb-0 ibm-textcolor-gray-70 ibm-pb-0\">\\n                          <p>Capture el verdadero valor de la nube y la IA para su negocio.</p>\\n\\n<p>\\xa0</p>\\n      \\n            </div>\\n          </div>\\n              </div>\\n    </div>\\n\\n          <div class=\"ibm-card__bottom ibm-duo-card__bottom\">\\n          <div class=\"ibm-grid-container\">\\n            <div class=\"ibm-grid-col-sm-4-4 ibm-grid-col-md-8-8 ibm-grid-col-lg-16-16\">\\n                                          \\n\\n        \\n  \\n  \\n  \\n\\n\\n\\n    <p class=\"ibm-duo-u--link-icon ibm-textcolor-blue-60\">\\n    <span class=\"ibm-textcolor-blue-60\"></span>\\n    \\n    \\n        \\n\\n                      <svg focusable=\"false\" class=\"ibm-duo-u--link-icon--arrow-right\" preserveAspectRatio=\"xMidYMid meet\" xmlns=\"http://www.w3.org/2000/svg\" fill=\"currentColor\" aria-hidden=\"true\" aria-label=\"View this link\" width=\"20\" height=\"20\" viewBox=\"0 0 20 20\" slot=\"icon\"><path d=\"M11.8 2.8L10.8 3.8 16.2 9.3 1 9.3 1 10.7 16.2 10.7 10.8 16.2 11.8 17.2 19 10z\"></path></svg>\\n          \\n    \\n  </p>\\n\\n            </div>\\n          </div>\\n      </div>\\n    \\n  \\n  </a>\\n\\n    </div>\\n\\n\\n              </div>\\n                      <div class=\"ibm-duo-carousel__item ibm-duo-carousel-1b__item\">\\n                  \\n\\n\\n\\n\\n\\n\\n\\n\\n\\n<div class=\"ibm-card ibm-duo-card ibm-duo-card--auto-height ibm-card--noborder ibm-mb-0\">\\n\\n  \\n        \\n\\n        \\n  \\n  \\n  \\n\\n\\n\\n    <a  target=\"_self\" href=\"/co-es/products/cloud-pak-for-data?lnk=hpv18t2\" class=\"ibm-blocklink ibm-duo-card__link ibm-duo-u--link-icon--rtl ibm-background-white-core ibm-duo-card--hover-light\">\\n    \\n          <div class=\"ibm-card__image ibm-duo-card__image ibm-duo-u--ratio--sixteen-nine\">\\n                  \\n\\n<img loading=\"lazy\" src=\"//1.cms.s81c.com/sites/default/files/2021-02-17/cloud-pak-for-data-trial.png\" alt=\"Captura de pantalla de Cloud Pak for Data\"\\n        class=\"\"\\n  />\\n        \\n                                                      </div>\\n    \\n    <div class=\"ibm-card__content ibm-duo-card__content\">\\n      <div class=\"ibm-grid-container ibm-pb-3\">\\n                  <div class=\"ibm-grid-col-sm-4-4 ibm-grid-col-md-8-6 ibm-grid-col-lg-16-12 ibm-duo-card__heading\">\\n            <h3 class=\"bx--type-productive-heading-02 ibm-type-semibold ibm-mb-1 ibm-textcolor-gray-90 ibm-pb-0\">\\n                  <span > IBM Cloud Pak for Data</span>\\n\\n            </h3>\\n          </div>\\n        \\n                  <div class=\"ibm-grid-col-sm-4-4 ibm-grid-col-md-8-6 ibm-grid-col-lg-16-14 ibm-duo-card__desc\">\\n            <div class=\"ibm-card__subheading bx--type-body-short-02 ibm-mb-0 ibm-textcolor-gray-70 ibm-pb-0\">\\n                          <p>Acelere su ruta a la IA con una plataforma de datos nativa de la nube.</p>\\n      \\n            </div>\\n          </div>\\n              </div>\\n    </div>\\n\\n          <div class=\"ibm-card__bottom ibm-duo-card__bottom\">\\n          <div class=\"ibm-grid-container\">\\n            <div class=\"ibm-grid-col-sm-4-4 ibm-grid-col-md-8-8 ibm-grid-col-lg-16-16\">\\n                                          \\n\\n        \\n  \\n  \\n  \\n\\n\\n\\n    <p class=\"ibm-duo-u--link-icon ibm-textcolor-blue-60\">\\n    <span class=\"ibm-textcolor-blue-60\"></span>\\n    \\n    \\n        \\n\\n                      <svg focusable=\"false\" class=\"ibm-duo-u--link-icon--arrow-right\" preserveAspectRatio=\"xMidYMid meet\" xmlns=\"http://www.w3.org/2000/svg\" fill=\"currentColor\" aria-hidden=\"true\" aria-label=\"View this link\" width=\"20\" height=\"20\" viewBox=\"0 0 20 20\" slot=\"icon\"><path d=\"M11.8 2.8L10.8 3.8 16.2 9.3 1 9.3 1 10.7 16.2 10.7 10.8 16.2 11.8 17.2 19 10z\"></path></svg>\\n          \\n    \\n  </p>\\n\\n            </div>\\n          </div>\\n      </div>\\n    \\n  \\n  </a>\\n\\n    </div>\\n\\n\\n              </div>\\n                      <div class=\"ibm-duo-carousel__item ibm-duo-carousel-1b__item\">\\n                  \\n\\n\\n\\n\\n\\n\\n\\n\\n\\n<div class=\"ibm-card ibm-duo-card ibm-duo-card--auto-height ibm-card--noborder ibm-mb-0\">\\n\\n  \\n        \\n\\n        \\n  \\n  \\n  \\n\\n\\n\\n    <a  target=\"_self\" href=\"/co-es/products/spectrum-virtualize-for-public-cloud\" class=\"ibm-blocklink ibm-duo-card__link ibm-duo-u--link-icon--rtl ibm-background-white-core ibm-duo-card--hover-light\">\\n    \\n          <div class=\"ibm-card__image ibm-duo-card__image ibm-duo-u--ratio--sixteen-nine\">\\n                  \\n\\n<img loading=\"lazy\" src=\"//1.cms.s81c.com/sites/default/files/2021-11-10/Storwize-V5000E-22330-700x420_0.png\" alt=\"\"\\n        class=\"\"\\n  />\\n        \\n                                                      </div>\\n    \\n    <div class=\"ibm-card__content ibm-duo-card__content\">\\n      <div class=\"ibm-grid-container ibm-pb-3\">\\n                  <div class=\"ibm-grid-col-sm-4-4 ibm-grid-col-md-8-6 ibm-grid-col-lg-16-12 ibm-duo-card__heading\">\\n            <h3 class=\"bx--type-productive-heading-02 ibm-type-semibold ibm-mb-1 ibm-textcolor-gray-90 ibm-pb-0\">\\n                  <span > IBM Spectrum Virtualize for Public Cloud</span>\\n\\n            </h3>\\n          </div>\\n        \\n                  <div class=\"ibm-grid-col-sm-4-4 ibm-grid-col-md-8-6 ibm-grid-col-lg-16-14 ibm-duo-card__desc\">\\n            <div class=\"ibm-card__subheading bx--type-body-short-02 ibm-mb-0 ibm-textcolor-gray-70 ibm-pb-0\">\\n                          <p>Con movilidad de datos multinube, puede replicar o migrar datos desde más de 500 sistemas de almacenamiento, agregando capacidad de nube híbrida sin inversión adicional</p>\\n      \\n            </div>\\n          </div>\\n              </div>\\n    </div>\\n\\n          <div class=\"ibm-card__bottom ibm-duo-card__bottom\">\\n          <div class=\"ibm-grid-container\">\\n            <div class=\"ibm-grid-col-sm-4-4 ibm-grid-col-md-8-8 ibm-grid-col-lg-16-16\">\\n                                          \\n\\n        \\n  \\n  \\n  \\n\\n\\n\\n    <p class=\"ibm-duo-u--link-icon ibm-textcolor-blue-60\">\\n    <span class=\"ibm-textcolor-blue-60\">Conozca las ofertas</span>\\n    \\n    \\n        \\n\\n                      <svg focusable=\"false\" class=\"ibm-duo-u--link-icon--arrow-right\" preserveAspectRatio=\"xMidYMid meet\" xmlns=\"http://www.w3.org/2000/svg\" fill=\"currentColor\" aria-hidden=\"true\" aria-label=\"View this link\" width=\"20\" height=\"20\" viewBox=\"0 0 20 20\" slot=\"icon\"><path d=\"M11.8 2.8L10.8 3.8 16.2 9.3 1 9.3 1 10.7 16.2 10.7 10.8 16.2 11.8 17.2 19 10z\"></path></svg>\\n          \\n    \\n  </p>\\n\\n            </div>\\n          </div>\\n      </div>\\n    \\n  \\n  </a>\\n\\n    </div>\\n\\n\\n              </div>\\n                      <div class=\"ibm-duo-carousel__item ibm-duo-carousel-1b__item\">\\n                  \\n\\n\\n\\n\\n\\n\\n\\n\\n\\n<div class=\"ibm-card ibm-duo-card ibm-duo-card--auto-height ibm-card--noborder ibm-mb-0\">\\n\\n  \\n        \\n\\n        \\n  \\n  \\n  \\n\\n\\n\\n    <a  target=\"_self\" href=\"/co-es/cloud/watson-assistant?lnk=hpv18t3\" class=\"ibm-blocklink ibm-duo-card__link ibm-duo-u--link-icon--rtl ibm-background-white-core ibm-duo-card--hover-light\">\\n    \\n          <div class=\"ibm-card__image ibm-duo-card__image ibm-duo-u--ratio--sixteen-nine\">\\n                  \\n\\n<img loading=\"lazy\" src=\"//1.cms.s81c.com/sites/default/files/2021-02-17/watson-assistant-trial_0.png\" alt=\"Captura de pantalla del software de Watson Assistant\"\\n        class=\"\"\\n  />\\n        \\n                                                      </div>\\n    \\n    <div class=\"ibm-card__content ibm-duo-card__content\">\\n      <div class=\"ibm-grid-container ibm-pb-3\">\\n                  <div class=\"ibm-grid-col-sm-4-4 ibm-grid-col-md-8-6 ibm-grid-col-lg-16-12 ibm-duo-card__heading\">\\n            <h3 class=\"bx--type-productive-heading-02 ibm-type-semibold ibm-mb-1 ibm-textcolor-gray-90 ibm-pb-0\">\\n                  <span > IBM Watson Assistant</span>\\n\\n            </h3>\\n          </div>\\n        \\n                  <div class=\"ibm-grid-col-sm-4-4 ibm-grid-col-md-8-6 ibm-grid-col-lg-16-14 ibm-duo-card__desc\">\\n            <div class=\"ibm-card__subheading bx--type-body-short-02 ibm-mb-0 ibm-textcolor-gray-70 ibm-pb-0\">\\n                          <p>Ayude a sus clientes en cualquier canal con voz y chat basados en IA.</p>\\n\\n<p>\\xa0</p>\\n      \\n            </div>\\n          </div>\\n              </div>\\n    </div>\\n\\n          <div class=\"ibm-card__bottom ibm-duo-card__bottom\">\\n          <div class=\"ibm-grid-container\">\\n            <div class=\"ibm-grid-col-sm-4-4 ibm-grid-col-md-8-8 ibm-grid-col-lg-16-16\">\\n                                          \\n\\n        \\n  \\n  \\n  \\n\\n\\n\\n    <p class=\"ibm-duo-u--link-icon ibm-textcolor-blue-60\">\\n    <span class=\"ibm-textcolor-blue-60\"></span>\\n    \\n    \\n        \\n\\n                      <svg focusable=\"false\" class=\"ibm-duo-u--link-icon--arrow-right\" preserveAspectRatio=\"xMidYMid meet\" xmlns=\"http://www.w3.org/2000/svg\" fill=\"currentColor\" aria-hidden=\"true\" aria-label=\"View this link\" width=\"20\" height=\"20\" viewBox=\"0 0 20 20\" slot=\"icon\"><path d=\"M11.8 2.8L10.8 3.8 16.2 9.3 1 9.3 1 10.7 16.2 10.7 10.8 16.2 11.8 17.2 19 10z\"></path></svg>\\n          \\n    \\n  </p>\\n\\n            </div>\\n          </div>\\n      </div>\\n    \\n  \\n  </a>\\n\\n    </div>\\n\\n\\n              </div>\\n                      <div class=\"ibm-duo-carousel__item ibm-duo-carousel-1b__item\">\\n                  \\n\\n\\n\\n\\n\\n\\n\\n\\n\\n<div class=\"ibm-card ibm-duo-card ibm-duo-card--auto-height ibm-card--noborder ibm-mb-0\">\\n\\n  \\n        \\n\\n        \\n  \\n  \\n  \\n\\n\\n\\n    <a  target=\"_self\" href=\"/co-es/security/identity-access-management/cloud-identity?lnk=hpv18t4\" class=\"ibm-blocklink ibm-duo-card__link ibm-duo-u--link-icon--rtl ibm-background-white-core ibm-duo-card--hover-light\">\\n    \\n          <div class=\"ibm-card__image ibm-duo-card__image ibm-duo-u--ratio--sixteen-nine\">\\n                  \\n\\n<img loading=\"lazy\" src=\"//1.cms.s81c.com/sites/default/files/2021-02-19/security-verify-trial.png\" alt=\"captura de pantalla de software de seguridad\"\\n        class=\"\"\\n  />\\n        \\n                                                      </div>\\n    \\n    <div class=\"ibm-card__content ibm-duo-card__content\">\\n      <div class=\"ibm-grid-container ibm-pb-3\">\\n                  <div class=\"ibm-grid-col-sm-4-4 ibm-grid-col-md-8-6 ibm-grid-col-lg-16-12 ibm-duo-card__heading\">\\n            <h3 class=\"bx--type-productive-heading-02 ibm-type-semibold ibm-mb-1 ibm-textcolor-gray-90 ibm-pb-0\">\\n                  <span > IBM Security Verify</span>\\n\\n            </h3>\\n          </div>\\n        \\n                  <div class=\"ibm-grid-col-sm-4-4 ibm-grid-col-md-8-6 ibm-grid-col-lg-16-14 ibm-duo-card__desc\">\\n            <div class=\"ibm-card__subheading bx--type-body-short-02 ibm-mb-0 ibm-textcolor-gray-70 ibm-pb-0\">\\n                          <p>Gestione el acceso de aplicaciones híbridas con una solución de IDaaS.</p>\\n\\n<p>\\xa0</p>\\n      \\n            </div>\\n          </div>\\n              </div>\\n    </div>\\n\\n          <div class=\"ibm-card__bottom ibm-duo-card__bottom\">\\n          <div class=\"ibm-grid-container\">\\n            <div class=\"ibm-grid-col-sm-4-4 ibm-grid-col-md-8-8 ibm-grid-col-lg-16-16\">\\n                                          \\n\\n        \\n  \\n  \\n  \\n\\n\\n\\n    <p class=\"ibm-duo-u--link-icon ibm-textcolor-blue-60\">\\n    <span class=\"ibm-textcolor-blue-60\"></span>\\n    \\n    \\n        \\n\\n                      <svg focusable=\"false\" class=\"ibm-duo-u--link-icon--arrow-right\" preserveAspectRatio=\"xMidYMid meet\" xmlns=\"http://www.w3.org/2000/svg\" fill=\"currentColor\" aria-hidden=\"true\" aria-label=\"View this link\" width=\"20\" height=\"20\" viewBox=\"0 0 20 20\" slot=\"icon\"><path d=\"M11.8 2.8L10.8 3.8 16.2 9.3 1 9.3 1 10.7 16.2 10.7 10.8 16.2 11.8 17.2 19 10z\"></path></svg>\\n          \\n    \\n  </p>\\n\\n            </div>\\n          </div>\\n      </div>\\n    \\n  \\n  </a>\\n\\n    </div>\\n\\n\\n              </div>\\n          \\n            <span class=\"ibm-duo-carousel__counter ibm-duo-carousel__counter--5 bx--type-body-long-01 ibm-mb-1 ibm-textcolor-gray-90\"></span>\\n\\n            <button type=\"button\" class=\"slick-arrow slick-next\" data-ibm-cm-avoid=\"true\">\\n      <svg focusable=\"false\" preserveAspectRatio=\"xMidYMid meet\" xmlns=\"http://www.w3.org/2000/svg\" width=\"32\" height=\"32\" viewBox=\"0 0 32 32\" aria-hidden=\"true\" aria-label=\"Show next content\"><polygon points=\"22,16 12,26 10.6,24.6 19.2,16 10.6,7.4 12,6\"></polygon></svg>\\n</button>\\n          </div>\\n        </div>\\n      \\n    </div>\\n  </section>\\n\\n              \\n\\n\\n\\n\\n\\n\\n  <section  role=\"article\" about=\"/co-es/node/2725178\" id=\"2725178\" class=\"ibm-duo-band ibm-duo-module-2b ibm-duo-u--pt-4 ibm-duo-u--pb-4 ibm-background-white-core\" data-bg-lazy-load>\\n    <div class=\"ibm-grid-container ibm-duo-module-2b__container\">\\n\\n      <div class=\"ibm-grid-col-sm-4-4 ibm-grid-col-md-8-4 ibm-grid-col-lg-16-4\">\\n        \\n\\n  <div class=\"ibm-duo-heading__headline ibm-grid-col-sm-4-4 ibm-grid-col-md-8-6 ibm-grid-col-lg-16-8 ibm-grid-col-seamless ibm-mb-3 ani-reveal ani-fadeInUp\">\\n    <h2 class=\"bx--type-productive-heading-02 ibm-textcolor-gray-90 ibm-pb-0 ibm-mb-0\">\\n          <span > Explore las tecnologías más populares</span>\\n\\n    </h2>\\n  </div>\\n\\n\\n      </div>\\n\\n      \\n                      \\n        \\n        <div class=\"ibm-grid-col-sm-4-4 ibm-grid-col-md-8-8 ibm-grid-col-lg-16-12 ibm-grid-col-seamless\">\\n          <div class=\"ibm-duo-carousel ibm-duo-carousel__2b ani-reveal ani-fadeInUp\" data-widget=\"setsameheight\" data-always=\"true\" data-items=\".ibm-duo-card__heading\">\\n\\n                          <button type=\"button\" class=\"slick-arrow slick-prev\" data-ibm-cm-avoid=\"true\">\\n      <svg focusable=\"false\" preserveAspectRatio=\"xMidYMid meet\" xmlns=\"http://www.w3.org/2000/svg\" width=\"32\" height=\"32\" viewBox=\"0 0 32 32\" aria-hidden=\"true\" aria-label=\"Show previous content\"><path d=\"m10 16l10-10l1.4 1.4l-8.6 8.6l8.6 8.6l-1.4 1.4l-10-10z\" /></svg>\\n</button>\\n            \\n            \\n                          <div class=\"ibm-duo-carousel__item ibm-duo-carousel-2b__item\">\\n                    \\n\\n\\n\\n\\n\\n<div class=\"ibm-card ibm-duo-card ibm-card--noborder ibm-mb-0\">\\n\\n  \\n      <div class=\"ibm-blocklink ibm-duo-card__link ibm-background-cool-gray-10\">\\n          <div class=\"ibm-card__content ibm-duo-card__content\">\\n      <div class=\"ibm-grid-container\">\\n        <div class=\"ibm-grid-col-sm-4-4 ibm-grid-col-md-8-7 ibm-grid-col-lg-16-14 ibm-pb-4\">\\n          \\n          \\n          \\n                      <div class=\"bx--type-body-long-02 ibm-textcolor-gray-70 ibm-mb-3 ibm-duo-card__desc\">\\n                          <p><strong>Herramientas para desarrolladores\\xa0</strong><br />\\n\\xa0</p>\\n\\n<ul><li><a href=\"https://developer.ibm.com/depmodels/cloud/?lnk=hpv18ct16\">Nube</a></li>\\n\\t<li><a href=\"https://developer.ibm.com/technologies/artificial-intelligence?lnk=hpv18ct19\">Inteligencia artificial</a></li>\\n\\t<li><a href=\"https://www.ibm.com/demos/?lnk=hpv18ct12\">Demostraciones</a></li>\\n\\t<li><a href=\"https://developer.ibm.com/?lnk=hpv18ct9\">IBM Developer </a></li>\\n\\t<li><a href=\"https://www.ibm.com/docs/en?lnk=hpv18ct14\">Documentación</a></li>\\n\\t<li><a data-entity-substitution=\"\" data-entity-type=\"\" data-entity-uuid=\"\" href=\"https://www.redbooks.ibm.com/?lnk=ushpv18ct10\">Redbooks</a></li>\\n\\t<li><a href=\"https://www.ibm.com/support/home/?lnk=hpv18ct11\">Soporte</a></li>\\n\\t<li><a href=\"https://www.ibm.com/training/?lnk=hpv18ct15\">Capacitación y habilidades</a></li>\\n</ul>\\n      \\n            </div>\\n                  </div>\\n      </div>\\n    </div>\\n\\n      \\n    </div>\\n  </div>\\n\\n\\n                </div>\\n                          <div class=\"ibm-duo-carousel__item ibm-duo-carousel-2b__item\">\\n                    \\n\\n\\n\\n\\n\\n<div class=\"ibm-card ibm-duo-card ibm-card--noborder ibm-mb-0\">\\n\\n  \\n      <div class=\"ibm-blocklink ibm-duo-card__link ibm-background-cool-gray-10\">\\n          <div class=\"ibm-card__content ibm-duo-card__content\">\\n      <div class=\"ibm-grid-container\">\\n        <div class=\"ibm-grid-col-sm-4-4 ibm-grid-col-md-8-7 ibm-grid-col-lg-16-14 ibm-pb-4\">\\n          \\n          \\n          \\n                      <div class=\"bx--type-body-long-02 ibm-textcolor-gray-70 ibm-mb-3 ibm-duo-card__desc\">\\n                          <p>\\xa0<strong>Herramientas para empresas</strong><br />\\n\\xa0</p>\\n\\n<ul><li><a data-entity-substitution=\"canonical\" data-entity-type=\"node\" data-entity-uuid=\"d23b2635-fdf0-447c-9b6d-88f77069a596\" href=\"/co-es/cloud\">Nube pública</a></li>\\n\\t<li><a href=\"/cloud/hybrid?lnk=hpv18pt14\">Nube híbrida</a></li>\\n\\t<li><a href=\"/co-es/watson?lnk=ushpv18pt17\">IBM Watson</a></li>\\n\\t<li><a href=\"/co-es/garage?lnk=hpv18pt13\">IBM Garage</a></li>\\n\\t<li><a href=\"/co-es/blockchain?lnk=hpv18pt4\">Blockchain</a></li>\\n\\t<li><a href=\"https://www.ibm.com/thought-leadership/institute-business-value/?lnk=hpv18pt12\">Institute for Business Value</a></li>\\n\\t<li><a href=\"/co-es/analytics?lnk=hpv18pt1\">Datos y\\xa0analítica</a></li>\\n\\t<li><a href=\"/co-es/security?lnk=hpv18pt9\">Seguridad</a></li>\\n\\t<li><a href=\"/mx-es/financing?lnk=hpv18pt3\">Financiamiento</a></li>\\n\\t<li><a href=\"https://www.ibm.com/quantum-computing?lnk=hpv18pt16\">Computación cuántica</a></li>\\n</ul>\\n      \\n            </div>\\n                  </div>\\n      </div>\\n    </div>\\n\\n      \\n    </div>\\n  </div>\\n\\n\\n                </div>\\n                          <div class=\"ibm-duo-carousel__item ibm-duo-carousel-2b__item\">\\n                    \\n\\n\\n\\n\\n\\n<div class=\"ibm-card ibm-duo-card ibm-card--noborder ibm-mb-0\">\\n\\n  \\n      <div class=\"ibm-blocklink ibm-duo-card__link ibm-background-cool-gray-10\">\\n          <div class=\"ibm-card__content ibm-duo-card__content\">\\n      <div class=\"ibm-grid-container\">\\n        <div class=\"ibm-grid-col-sm-4-4 ibm-grid-col-md-8-7 ibm-grid-col-lg-16-14 ibm-pb-4\">\\n          \\n          \\n          \\n                      <div class=\"bx--type-body-long-02 ibm-textcolor-gray-70 ibm-mb-3 ibm-duo-card__desc\">\\n                          <p><strong>\\xa0Tendencias en tecnología</strong><br />\\n\\xa0</p>\\n\\n<ul><li><a data-entity-substitution=\"canonical\" data-entity-type=\"node\" data-entity-uuid=\"c9276c19-3313-4781-bf51-9a6e3091eee0\" href=\"/co-es/cloud/learn/hybrid-cloud\">Nube híbrida</a></li>\\n\\t<li><a href=\"/cloud/learn/public-cloud?lnk=hpv18ct1\">Nube pública</a></li>\\n\\t<li><a href=\"/co-es/cloud/redhat?lnk=hpv18ct13\">Red Hat</a></li>\\n\\t<li><a href=\"/co-es/watson?lnk=hpv18ct3\">Inteligencia artificial</a></li>\\n\\t<li><a href=\"https://www.ibm.com/quantum-computing?lnk=hpv18ct18\">Computación cuántica</a></li>\\n\\t<li><a href=\"/cloud/learn/kubernetes?lnk=hpv18ct8\">Kubernetes</a></li>\\n\\t<li><a href=\"/co-es/products/spss-statistics?lnk=ushpv18ct7\">SPSS</a></li>\\n\\t<li><a href=\"/co-es/blockchain?lnk=hpv18ct1\">Blockchain</a></li>\\n\\t<li><a href=\"https://www.ibm.com/co-es/employment?lnk=hpv18ct2\">Carreras</a></li>\\n</ul>\\n      \\n            </div>\\n                  </div>\\n      </div>\\n    </div>\\n\\n      \\n    </div>\\n  </div>\\n\\n\\n                </div>\\n                        <span class=\"ibm-duo-carousel__counter ibm-duo-carousel__counter--3 bx--type-body-long-01 ibm-mb-1 ibm-textcolor-gray-90\"></span>\\n\\n                          <button type=\"button\" class=\"slick-arrow slick-next\" data-ibm-cm-avoid=\"true\">\\n      <svg focusable=\"false\" preserveAspectRatio=\"xMidYMid meet\" xmlns=\"http://www.w3.org/2000/svg\" width=\"32\" height=\"32\" viewBox=\"0 0 32 32\" aria-hidden=\"true\" aria-label=\"Show next content\"><polygon points=\"22,16 12,26 10.6,24.6 19.2,16 10.6,7.4 12,6\"></polygon></svg>\\n</button>\\n                      </div>\\n        </div>\\n      \\n    </div>\\n  </section>\\n\\n              \\n\\n\\n\\n\\n  <section  role=\"article\" about=\"/co-es/node/3114870\" id=\"3114870\" class=\"ibm-duo-band ibm-duo-module-5f ibm-duo-module-split ibm-background-gray-10\" data-bg-lazy-load>\\n                      \\n\\n        \\n    \\n\\n\\n\\n<div class=\"promo-split ibm-pt-2 ibm-pb-2 ibm-tabs-content ibm-duo-carousel-split__item\" id=\"tab_3114868\">\\n  <div class=\"ibm-grid-container ibm-background-white-core promo-split__container ani-reveal ani-fadeIn\" data-wow-delay=\"0s\">\\n\\n    <div class=\"ibm-grid-col-sm-4-0 ibm-grid-col-md-8-0 ibm-grid-col-lg-16-1 promo-split__spacer-1\"></div>\\n\\n    <div class=\"ibm-grid-col-sm-4-4 ibm-grid-col-md-8-6 ibm-grid-col-lg-16-5 promo-split__content promo-split__mt promo-split__mb\">\\n\\n              <div class=\"ibm-grid-col-sm-4-3 ibm-grid-col-seamless\">\\n          <h2 class=\"bx--type-productive-heading-04 bx--type-semibold ibm-textcolor-gray-90 ibm-mb-3 ibm-pb-0 promo-split__headline ani-reveal ani-fadeInUp\" data-wow-delay=\".3s\">\\n                <span > IBM Research: Motor del cambio para el mundo</span>\\n\\n          </h2>\\n        </div>\\n      \\n              <div class=\"bx--type-body-long-02 ibm-textcolor-gray-70 ibm-mb-4 ibm-duo-u--body ani-reveal ani-fadeInUp\" data-wow-delay=\".5s\">\\n          \\n\\n  <div class=\"ibm-duo-read-more\">\\n    <div class=\"ibm-duo-read-more__body\">\\n      <div class=\"ibm-duo-read-more__body_inner ibm-duo-u--body\">\\n                    <p>Nuestro deber catalizar el progreso científico al tomar las tecnologías de vanguardia en las que estamos trabajando, escalarlas e implementarlas con socios en todas las industrias y campos de estudio.</p>\\n\\n<p>Actualmente estamos trabajando y desarrollando distintos proyectos:</p>\\n\\n<ul><li>Descubrimiento de los nuevos materiales que se convertirán en la próxima generación de chips informáticos</li>\\n\\t<li>Construcción de una IA libre de sesgos que puede aliviar la carga de las decisiones comerciales</li>\\n\\t<li>Diseño de\\xa0una plataforma de nube híbrida que esencialmente opera como la computadora del mundo</li>\\n</ul>\\n      \\n      </div>\\n    </div>\\n    <div class=\"ibm-duo-read-more__gradient ibm-background-white-core\">\\n      <button class=\"ibm-duo-read-more__button ibm-textcolor-blue-60\" aria-expanded=\"false\" type=\"button\">\\n        Read More      </button>\\n    </div>\\n  </div>\\n        </div>\\n      \\n              <div class=\"ibm-grid-col-sm-4-4 ibm-grid-col-md-8-8 ibm-grid-col-lg-16-16 ibm-grid-col-seamless ibm-mt-4 ibm-pb-4 promo-split__cta ani-reveal ani-fadeInUp\" data-wow-delay=\".7s\">\\n          \\n                      \\n\\n        \\n  \\n  \\n  \\n\\n\\n\\n  \\n  \\n  <p class=\\'ibm-mb-0 ibm-duo-u--pr-2 ibm-pb-1\\'>\\n    <a  target=\"_self\" href=\"https://research.ibm.com/\" class=\"ibm-duo-u--link-icon ibm-textcolor-blue-60 ibm-duo-u--link-icon--rtl\">\\n      <span>Conozca más de IBM Research</span>\\n      \\n    \\n        \\n\\n                      <svg focusable=\"false\" class=\"ibm-duo-u--link-icon--arrow-right\" preserveAspectRatio=\"xMidYMid meet\" xmlns=\"http://www.w3.org/2000/svg\" fill=\"currentColor\" aria-hidden=\"true\" aria-label=\"View this link\" width=\"20\" height=\"20\" viewBox=\"0 0 20 20\" slot=\"icon\"><path d=\"M11.8 2.8L10.8 3.8 16.2 9.3 1 9.3 1 10.7 16.2 10.7 10.8 16.2 11.8 17.2 19 10z\"></path></svg>\\n          \\n    \\n    </a>\\n  </p>\\n\\n\\n                  </div>\\n          </div>\\n\\n    <div class=\"ibm-grid-col-sm-4-0 ibm-grid-col-md-8-0 ibm-grid-col-lg-16-2 promo-split__spacer-2\"></div>\\n\\n          <div class=\"ibm-grid-col-sm-4-4 ibm-grid-col-md-8-8 ibm-grid-col-lg-16-8 ibm-grid-seamless promo-split__media ibm-duo-u--ratio--four-three ibm-duo-u--overflow--hidden\">\\n\\n                  <div style=\"background-image: url(//1.cms.s81c.com/sites/default/files/2022-07-19/ibm-research-1_1.jpg)\" role=\"img\" aria-label=\"ibm research\" class=\"promo-split__image  picturefill-background ani-reveal ani-fadeIn\" data-wow-delay=\".2s\">\\n            <span data-src=\"//1.cms.s81c.com/sites/default/files/2022-07-19/ibm-research-1_1.jpg\"></span>\\n                        <span data-src=\"//1.cms.s81c.com/sites/default/files/2022-07-19/ibm-research-1_1.jpg\" data-media=\"(min-width: 672px)\"></span>\\n          </div>\\n        \\n              </div>\\n      </div>\\n</div>\\n\\n\\n              </section>\\n\\n              \\n\\n\\n\\n\\n\\n  <section  role=\"article\" lang=\"esla\" about=\"/esla/node/2598824\" id=\"2598824\" class=\"ibm-duo-band ibm-duo-module-11a-double ibm-background-gray-100\" data-bg-lazy-load>\\n          <div class=\"ibm-grid-container\" data-widget=\"setsameheight\" data-always=\"true\" data-items=\".ibm-duo-module-11a-double__headline\">\\n                  <div class=\"ibm-grid-col-sm-4-4 ibm-grid-col-md-8-4 ibm-grid-col-lg-16-8 ibm-grid-col-seamless\">\\n                \\n\\n\\n\\n\\n<div class=\"ibm-duo-module-11a-double ibm-duo-module-11a-double__item ibm-background-gray-100\">\\n      <div class=\"ibm-duo-module-11a-double__bg  ani-reveal ani-fadeInUp\" style=\"background-image:url(\\'//1.cms.s81c.com/sites/default/files/2022-07-26/masters-golf-cs2_%281%29_2.jpeg\\')\" role=\"img\" aria-label=\"\"></div>\\n  \\n  <div class=\"ibm-grid-container ibm-duo-module-11a-double__content\">\\n    <div class=\"ibm-grid-col-sm-4-4 ibm-grid-col-md-8-8 ibm-grid-col-lg-16-10\">\\n              <div class=\"ibm-grid-col-sm-4-3 ibm-grid-col-md-8-6 ibm-grid-col-lg-16-16 ibm-grid-col-seamless\">\\n          <h2 class=\"bx--type-expressive-heading-05 ibm-type-light ibm-textcolor-gray-10 ibm-mb-3 ibm-pb-0 ibm-duo-module-11a-double__headline ani-reveal ani-fadeInUp\">\\n                <span > Una nueva experiencia para los fanáticos del golf</span>\\n\\n          </h2>\\n        </div>\\n      \\n              <div class=\"ibm-grid-col-sm-4-3 ibm-grid-col-md-8-6 ibm-grid-col-lg-16-12 ibm-grid-col-seamless\">\\n          <div class=\"bx--type-body-long-02 ibm-textcolor-gray-30 ibm-mb-0 ibm-duo-module-11a-double__subhead ibm-pb-1 ani-reveal ani-fadeInUp\">\\n                        <p>Innovando a través soluciones de nube híbrida e inteligencia artificial, Masters logró mejorar la experiencia de sus aficionados, facilitando su interacción con el torneo</p>\\n      \\n          </div>\\n        </div>\\n          </div>\\n  </div>\\n\\n      <div class=\"ibm-duo-module-11a-double__cta\">\\n      <div class=\"ibm-grid-container\">\\n        <div class=\"ibm-grid-col-sm-4-2 ibm-grid-col-md-8-4 ibm-grid-col-lg-16-8\"></div>\\n        <div class=\"ibm-grid-col-sm-4-2 ibm-grid-col-md-8-4 ibm-grid-col-lg-16-8 ibm-duo-module-11a-double__cta-wrapper\">\\n          \\n\\n        \\n  \\n  \\n  \\n\\n\\n\\n\\n  <a  target=\"_self\" href=\"https://www.ibm.com/case-studies/masters/\" class=\"ibm-duo-cta ani-reveal ani-fadeInUp\">\\n    <p class=\\'ibm-type-e ibm-textcolor-white-core ibm-p ibm-mb-0\\'>Conozca la solución</p>\\n    <div class=\"ibm-duo-u--link-icon\">\\n      \\n    \\n        \\n\\n                      <svg focusable=\"false\" class=\"ibm-duo-u--link-icon--arrow-right\" preserveAspectRatio=\"xMidYMid meet\" xmlns=\"http://www.w3.org/2000/svg\" fill=\"currentColor\" aria-hidden=\"true\" aria-label=\"View this link\" width=\"20\" height=\"20\" viewBox=\"0 0 20 20\" slot=\"icon\"><path d=\"M11.8 2.8L10.8 3.8 16.2 9.3 1 9.3 1 10.7 16.2 10.7 10.8 16.2 11.8 17.2 19 10z\"></path></svg>\\n          \\n    \\n    </div>\\n  </a>\\n\\n\\n        </div>\\n      </div>\\n    </div>\\n  </div>\\n\\n\\n            </div>\\n                  <div class=\"ibm-grid-col-sm-4-4 ibm-grid-col-md-8-4 ibm-grid-col-lg-16-8 ibm-grid-col-seamless\">\\n                \\n\\n\\n\\n\\n<div class=\"ibm-duo-module-11a-double ibm-duo-module-11a-double__item ibm-background-gray-100\">\\n      <div class=\"ibm-duo-module-11a-double__bg  ani-reveal ani-fadeInUp\" style=\"background-image:url(\\'//1.cms.s81c.com/sites/default/files/2021-02-26/cs-hub-logos-1042x1130.png\\')\" role=\"img\" aria-label=\"Logotipos de varios clientes de IBM\"></div>\\n  \\n  <div class=\"ibm-grid-container ibm-duo-module-11a-double__content\">\\n    <div class=\"ibm-grid-col-sm-4-4 ibm-grid-col-md-8-8 ibm-grid-col-lg-16-10\">\\n              <div class=\"ibm-grid-col-sm-4-3 ibm-grid-col-md-8-6 ibm-grid-col-lg-16-16 ibm-grid-col-seamless\">\\n          <h2 class=\"bx--type-expressive-heading-05 ibm-type-light ibm-textcolor-gray-10 ibm-mb-3 ibm-pb-0 ibm-duo-module-11a-double__headline ani-reveal ani-fadeInUp\">\\n                <span > Más casos de éxito de clientes</span>\\n\\n          </h2>\\n        </div>\\n      \\n              <div class=\"ibm-grid-col-sm-4-3 ibm-grid-col-md-8-6 ibm-grid-col-lg-16-12 ibm-grid-col-seamless\">\\n          <div class=\"bx--type-body-long-02 ibm-textcolor-gray-30 ibm-mb-0 ibm-duo-module-11a-double__subhead ibm-pb-1 ani-reveal ani-fadeInUp\">\\n                        <p>En todas las industrias y en todo el mundo, IBM ayuda a las empresas a cumplir con sus objetivos</p>\\n      \\n          </div>\\n        </div>\\n          </div>\\n  </div>\\n\\n      <div class=\"ibm-duo-module-11a-double__cta\">\\n      <div class=\"ibm-grid-container\">\\n        <div class=\"ibm-grid-col-sm-4-2 ibm-grid-col-md-8-4 ibm-grid-col-lg-16-8\"></div>\\n        <div class=\"ibm-grid-col-sm-4-2 ibm-grid-col-md-8-4 ibm-grid-col-lg-16-8 ibm-duo-module-11a-double__cta-wrapper\">\\n          \\n\\n        \\n  \\n  \\n  \\n\\n\\n\\n\\n  <a  target=\"_self\" href=\"/case-studies/search?lnk=hpv18cs2\" class=\"ibm-duo-cta ani-reveal ani-fadeInUp\">\\n    <p class=\\'ibm-type-e ibm-textcolor-white-core ibm-p ibm-mb-0\\'>Descubra cómo la tecnología de IBM está impulsando soluciones del mundo real</p>\\n    <div class=\"ibm-duo-u--link-icon\">\\n      \\n    \\n        \\n\\n                      <svg focusable=\"false\" class=\"ibm-duo-u--link-icon--arrow-right\" preserveAspectRatio=\"xMidYMid meet\" xmlns=\"http://www.w3.org/2000/svg\" fill=\"currentColor\" aria-hidden=\"true\" aria-label=\"View this link\" width=\"20\" height=\"20\" viewBox=\"0 0 20 20\" slot=\"icon\"><path d=\"M11.8 2.8L10.8 3.8 16.2 9.3 1 9.3 1 10.7 16.2 10.7 10.8 16.2 11.8 17.2 19 10z\"></path></svg>\\n          \\n    \\n    </div>\\n  </a>\\n\\n\\n        </div>\\n      </div>\\n    </div>\\n  </div>\\n\\n\\n            </div>\\n              <div>\\n      </section>\\n\\n      \\n          </div>\\n\\n        </div>       </div>     </div>   </div> </main>\\n\\n  </div>\\n\\n  </div>\\n\\n  </div>\\n    <footer role=\"contentinfo\" aria-label=\"IBM\">\\n      <div class=\"region region-footer\">\\n    \\n\\n<div id=\"ibm-footer-module\">\\n    <section role=\"region\" aria-label=\"Resources\">\\n\\n            <div class=\"ibm-columns\">\\n              </div>\\n      \\n        \\n    </section>\\n\\n</div>\\n\\n\\n<div id=\"ibm-footer\">\\n\\n    <div class=\"ibm-columns\">\\n      <div class=\"ibm-col-1-1\">\\n                  <div class=\"ibm-footer-corporate-links\">\\n            <ul>\\n                            <li id=\"ibm-truste-cp\">\\n                <a href=\"#\" onclick=\"truste.eu.clickListener();return false;\">Preferencias de Cookies</a>\\n              </li>\\n            </ul>\\n          </div>\\n        \\n                </div>\\n    </div>\\n\\n</div>\\n\\n  </div>\\n\\n  </footer>\\n  \\n</div>\\n\\n  </div>\\n\\n    \\n    <script type=\"application/json\" data-drupal-selector=\"drupal-settings-json\">{\"path\":{\"baseUrl\":\"\\\\/\",\"scriptPath\":null,\"pathPrefix\":\"co-es\\\\/\",\"currentPath\":\"node\\\\/2598578\",\"currentPathIsAdmin\":false,\"isFront\":false,\"currentLanguage\":\"es-co\"},\"pluralDelimiter\":\"\\\\u0003\",\"suppressDeprecationErrors\":true,\"ajaxPageState\":{\"libraries\":\"hc_fractal\\\\/01-1b,hc_fractal\\\\/02-2b,hc_fractal\\\\/04-4e,hc_fractal\\\\/05-5f,hc_fractal\\\\/11-11a-double,hc_fractal\\\\/12-12a,hc_fractal\\\\/animations,hc_fractal\\\\/card,hc_fractal\\\\/card-image,hc_fractal\\\\/card-split,hc_fractal\\\\/full-width-double,hc_fractal\\\\/full-width-text,hc_fractal\\\\/heading,hc_fractal\\\\/image,hc_fractal\\\\/main_css,hc_fractal\\\\/main_js,hc_fractal\\\\/picturefill_background,hc_fractal\\\\/read_more,hc_fractal\\\\/slick,ibm_ckeditor\\\\/ibm_ckeditor_table_style,ibm_duo\\\\/ibm_duo,ibm_tmgmt_concurrency\\\\/ibm_tmgmt_concurrency_messaging,ibm_tmgmt_concurrency\\\\/ibm_tmgmt_concurrency_publisher,ibm_tmgmt_concurrency\\\\/ibm_tmgmt_concurrency_publisher_finish,metadata\\\\/focus_area,northstar\\\\/font,northstar\\\\/grid-fluid,northstar\\\\/shame,northstar\\\\/stats,northstar\\\\/tables,system\\\\/base,tactic_codes\\\\/tactic_codes\",\"theme\":\"ibm_duo\",\"theme_token\":\"f0WwGpAqaMH0L5zzc4imACMWrB-eVui3fMaJtUPgblU\"},\"ajaxTrustedUrl\":[],\"ibm_tmgmt_concurrency_publisher\":{\"nid\":\"2598578\",\"language\":\"es-co\",\"submit_button\":\"#edit-submit\",\"form\":\"#content-moderation-entity-moderation-form\",\"route\":\"entity.node.canonical\"},\"user\":{\"uid\":0,\"permissionsHash\":\"0c916a5a867aea2de154565fb888afbc951fd70dccc6e1340a5947a9a777e51e\"}}</script>\\n<script src=\"//1.cms.s81c.com/sites/default/files/js/js_wR9a3ehvb476OLSOagZcNLSU5TagYw6SRtyHFLyziJU.js\"></script>\\n<script src=\"//www.ibm.com/common/digitaladvisor/cm-app/latest/cm-app.min.js\" defer></script>\\n<script src=\"//1.www.s81c.com/common/v18/drupal/js/tables.js\" defer></script>\\n<script src=\"//1.cms.s81c.com/modules/contrib/hc_fractal/dist/js/interactions.js?v=1.1.11\" defer></script>\\n<script src=\"//1.cms.s81c.com/modules/contrib/hc_fractal/dist/js/background-image-lazy-load.js?v=1.1.11\" defer></script>\\n<script src=\"//1.cms.s81c.com/modules/contrib/hc_fractal/dist/js/v18-widgets.js?v=1.1.11\" defer></script>\\n<script src=\"//1.www.s81c.com/common/js/tactic.js\" defer></script>\\n<script src=\"//1.www.s81c.com/common/js/tacticbindlinks.js\" defer></script>\\n<script src=\"//1.cms.s81c.com/sites/default/files/js/js_BRA5GjSDQY6Bvtcfnd7MymhklYPqPv2yNfHseaJIdo4.js\"></script>\\n<script src=\"//1.cms.s81c.com/modules/contrib/hc_fractal/dist/js/read-more.js?v=1\" defer></script>\\n<script src=\"//1.cms.s81c.com/modules/contrib/hc_fractal/dist/js/slick-sliders.js?v=1.1.18\" defer></script>\\n<script src=\"//1.cms.s81c.com/modules/contrib/hc_fractal/dist/js/plugins/picturefill-background.js?v=1.1.10\" defer></script>\\n\\n      <script type=\"text/javascript\"  src=\"/W35-6226UHcp5KU7rMtkEwe_/3c5zQrQp1D/PFY6AQ/RHpubk/5eExs\"></script><link rel=\"stylesheet\" type=\"text/css\"  href=\"/_sec/cp_challenge/sec-3-8.css\">\\n          <script  src=\"/_sec/cp_challenge/sec-cpt-3-8.js\" async defer></script>\\n          <div id=\"sec-overlay\" style=\"display:none;\">\\n          <div id=\"sec-container\">\\n          </div>\\n        </div></body>\\n</html>\\n'"
      ]
     },
     "execution_count": 65,
     "metadata": {},
     "output_type": "execute_result"
    }
   ],
   "source": [
    "url=\"https://www.ibm.com\"\n",
    "data=requests.get(url).text\n",
    "data"
   ]
  },
  {
   "cell_type": "code",
   "execution_count": 66,
   "id": "63d8e4c6",
   "metadata": {},
   "outputs": [
    {
     "data": {
      "text/plain": [
       "'<!doctype html>\\n<html lang=\"cb\">\\n\\n  <head>\\n    \\n      <meta charset=\"utf-8\">\\n<meta http-equiv=\"x-ua-compatible\" content=\"ie=edge\">\\n\\n\\n  <title>Muisk Colombia Clothing</title>\\n  <meta name=\"description\" content=\"Tienda creada con PrestaShop\">\\n  <meta name=\"keywords\" content=\"\">\\n    \\n\\n<meta name=\"viewport\" content=\"width=device-width, initial-scale=1\">\\n\\n<link rel=\"icon\" type=\"image/vnd.microsoft.icon\" href=\"https://muiskcolombia.com/img/favicon.ico?1613395755\">\\n<link rel=\"shortcut icon\" type=\"image/x-icon\" href=\"https://muiskcolombia.com/img/favicon.ico?1613395755\">\\n\\n    <link rel=\"stylesheet\" href=\"https://muiskcolombia.com/themes/multi_sport/assets/css/theme.css\" type=\"text/css\" media=\"all\">\\n  <link rel=\"stylesheet\" href=\"https://muiskcolombia.com/modules/blockreassurance/views/dist/front.css\" type=\"text/css\" media=\"all\">\\n  <link rel=\"stylesheet\" href=\"https://muiskcolombia.com/modules/ddproductcomments/views/css/productcomments.css\" type=\"text/css\" media=\"all\">\\n  <link rel=\"stylesheet\" href=\"https://muiskcolombia.com/modules/fancybox/views/css/fancybox.css\" type=\"text/css\" media=\"all\">\\n  <link rel=\"stylesheet\" href=\"https://muiskcolombia.com/modules/productcomments/views/css/productcomments.css\" type=\"text/css\" media=\"all\">\\n  <link rel=\"stylesheet\" href=\"https://muiskcolombia.com/modules/mercadopago/views/css/front.min.css\" type=\"text/css\" media=\"all\">\\n  <link rel=\"stylesheet\" href=\"https://muiskcolombia.com/modules/whatsapp//views/css/whatsapp.css\" type=\"text/css\" media=\"all\">\\n  <link rel=\"stylesheet\" href=\"https://muiskcolombia.com/js/jquery/ui/themes/base/minified/jquery-ui.min.css\" type=\"text/css\" media=\"all\">\\n  <link rel=\"stylesheet\" href=\"https://muiskcolombia.com/js/jquery/ui/themes/base/minified/jquery.ui.theme.min.css\" type=\"text/css\" media=\"all\">\\n  <link rel=\"stylesheet\" href=\"https://muiskcolombia.com/modules/ps_imageslider/css/homeslider.css\" type=\"text/css\" media=\"all\">\\n\\n\\n\\n\\n    <script type=\"text/javascript\" src=\"https://muiskcolombia.com/themes/multi_sport/assets/js/jquery-1.11.0.min.js\" ></script>\\n\\n\\n  <script type=\"text/javascript\">\\n        var disable_comment = \"Criterion is not exists for this product.\";\\n        var fancybox_caption = 1;\\n        var fancybox_cover_div = \".js-qv-product-cover\";\\n        var fancybox_gallery = 1;\\n        var fancybox_thumbhover = 1;\\n        var fancybox_thumbs = \".thumb-container img\";\\n        var moderation_active = 1;\\n        var prestashop = {\"cart\":{\"products\":[],\"totals\":{\"total\":{\"type\":\"total\",\"label\":\"Total\",\"amount\":0,\"value\":\"$\\\\u00a00,00\"},\"total_including_tax\":{\"type\":\"total\",\"label\":\"Total (con IVA)\",\"amount\":0,\"value\":\"$\\\\u00a00,00\"},\"total_excluding_tax\":{\"type\":\"total\",\"label\":\"Total (IVA excl.)\",\"amount\":0,\"value\":\"$\\\\u00a00,00\"}},\"subtotals\":{\"products\":{\"type\":\"products\",\"label\":\"Subtotal\",\"amount\":0,\"value\":\"$\\\\u00a00,00\"},\"discounts\":null,\"shipping\":{\"type\":\"shipping\",\"label\":\"Transporte\",\"amount\":0,\"value\":\"\"},\"tax\":{\"type\":\"tax\",\"label\":\"Impuestos\",\"amount\":0,\"value\":\"$\\\\u00a00,00\"}},\"products_count\":0,\"summary_string\":\"0 art\\\\u00edculos\",\"vouchers\":{\"allowed\":1,\"added\":[]},\"discounts\":[{\"id_cart_rule\":\"28\",\"id_customer\":\"0\",\"date_from\":\"2022-05-11 13:00:00\",\"date_to\":\"2022-12-31 13:00:00\",\"description\":\"2 X 1 Jerseys + Env\\\\u00edo (No acumulable con otras promociones)\",\"quantity\":\"854\",\"quantity_per_user\":\"10\",\"priority\":\"1\",\"partial_use\":\"1\",\"code\":\"\",\"minimum_amount\":\"0.000000\",\"minimum_amount_tax\":\"0\",\"minimum_amount_currency\":\"2\",\"minimum_amount_shipping\":\"0\",\"country_restriction\":\"0\",\"carrier_restriction\":\"0\",\"group_restriction\":\"0\",\"cart_rule_restriction\":\"1\",\"product_restriction\":\"1\",\"shop_restriction\":\"0\",\"free_shipping\":\"0\",\"reduction_percent\":\"87.00\",\"reduction_amount\":\"0.000000\",\"reduction_tax\":\"0\",\"reduction_currency\":\"2\",\"reduction_product\":\"-1\",\"reduction_exclude_special\":\"0\",\"gift_product\":\"0\",\"gift_product_attribute\":\"0\",\"highlight\":\"1\",\"active\":\"1\",\"date_add\":\"2022-05-11 13:31:57\",\"date_upd\":\"2022-08-12 19:08:57\",\"id_lang\":\"2\",\"name\":\"2 X 1 Jerseys + Env\\\\u00edo (No acumulable con otras promociones)\",\"quantity_for_user\":10}],\"minimalPurchase\":0,\"minimalPurchaseRequired\":\"\"},\"currency\":{\"name\":\"Peso colombiano\",\"iso_code\":\"COP\",\"iso_code_num\":\"170\",\"sign\":\"$\"},\"customer\":{\"lastname\":null,\"firstname\":null,\"email\":null,\"birthday\":null,\"newsletter\":null,\"newsletter_date_add\":null,\"optin\":null,\"website\":null,\"company\":null,\"siret\":null,\"ape\":null,\"is_logged\":false,\"gender\":{\"type\":null,\"name\":null},\"addresses\":[]},\"language\":{\"name\":\"Espa\\\\u00f1ol CO ( Spanish)\",\"iso_code\":\"cb\",\"locale\":\"es-CO\",\"language_code\":\"es-co\",\"is_rtl\":\"0\",\"date_format_lite\":\"Y-m-d\",\"date_format_full\":\"Y-m-d H:i:s\",\"id\":2},\"page\":{\"title\":\"\",\"canonical\":null,\"meta\":{\"title\":\"Muisk Colombia Clothing\",\"description\":\"Tienda creada con PrestaShop\",\"keywords\":\"\",\"robots\":\"index\"},\"page_name\":\"index\",\"body_classes\":{\"lang-cb\":true,\"lang-rtl\":false,\"country-CO\":true,\"currency-COP\":true,\"layout-full-width\":true,\"page-index\":true,\"tax-display-enabled\":true},\"admin_notifications\":[]},\"shop\":{\"name\":\"Muisk Colombia Clothing\",\"logo\":\"https:\\\\/\\\\/muiskcolombia.com\\\\/img\\\\/my-shop-logo-1613395755.jpg\",\"stores_icon\":\"https:\\\\/\\\\/muiskcolombia.com\\\\/img\\\\/logo_stores.png\",\"favicon\":\"https:\\\\/\\\\/muiskcolombia.com\\\\/img\\\\/favicon.ico\"},\"urls\":{\"base_url\":\"https:\\\\/\\\\/muiskcolombia.com\\\\/\",\"current_url\":\"https:\\\\/\\\\/muiskcolombia.com\\\\/\",\"shop_domain_url\":\"https:\\\\/\\\\/muiskcolombia.com\",\"img_ps_url\":\"https:\\\\/\\\\/muiskcolombia.com\\\\/img\\\\/\",\"img_cat_url\":\"https:\\\\/\\\\/muiskcolombia.com\\\\/img\\\\/c\\\\/\",\"img_lang_url\":\"https:\\\\/\\\\/muiskcolombia.com\\\\/img\\\\/l\\\\/\",\"img_prod_url\":\"https:\\\\/\\\\/muiskcolombia.com\\\\/img\\\\/p\\\\/\",\"img_manu_url\":\"https:\\\\/\\\\/muiskcolombia.com\\\\/img\\\\/m\\\\/\",\"img_sup_url\":\"https:\\\\/\\\\/muiskcolombia.com\\\\/img\\\\/su\\\\/\",\"img_ship_url\":\"https:\\\\/\\\\/muiskcolombia.com\\\\/img\\\\/s\\\\/\",\"img_store_url\":\"https:\\\\/\\\\/muiskcolombia.com\\\\/img\\\\/st\\\\/\",\"img_col_url\":\"https:\\\\/\\\\/muiskcolombia.com\\\\/img\\\\/co\\\\/\",\"img_url\":\"https:\\\\/\\\\/muiskcolombia.com\\\\/themes\\\\/multi_sport\\\\/assets\\\\/img\\\\/\",\"css_url\":\"https:\\\\/\\\\/muiskcolombia.com\\\\/themes\\\\/multi_sport\\\\/assets\\\\/css\\\\/\",\"js_url\":\"https:\\\\/\\\\/muiskcolombia.com\\\\/themes\\\\/multi_sport\\\\/assets\\\\/js\\\\/\",\"pic_url\":\"https:\\\\/\\\\/muiskcolombia.com\\\\/upload\\\\/\",\"pages\":{\"address\":\"https:\\\\/\\\\/muiskcolombia.com\\\\/direccion\",\"addresses\":\"https:\\\\/\\\\/muiskcolombia.com\\\\/direcciones\",\"authentication\":\"https:\\\\/\\\\/muiskcolombia.com\\\\/iniciar-sesion\",\"cart\":\"https:\\\\/\\\\/muiskcolombia.com\\\\/carrito\",\"category\":\"https:\\\\/\\\\/muiskcolombia.com\\\\/index.php?controller=category\",\"cms\":\"https:\\\\/\\\\/muiskcolombia.com\\\\/index.php?controller=cms\",\"contact\":\"https:\\\\/\\\\/muiskcolombia.com\\\\/contactenos\",\"discount\":\"https:\\\\/\\\\/muiskcolombia.com\\\\/descuento\",\"guest_tracking\":\"https:\\\\/\\\\/muiskcolombia.com\\\\/seguimiento-pedido-invitado\",\"history\":\"https:\\\\/\\\\/muiskcolombia.com\\\\/historial-compra\",\"identity\":\"https:\\\\/\\\\/muiskcolombia.com\\\\/datos-personales\",\"index\":\"https:\\\\/\\\\/muiskcolombia.com\\\\/\",\"my_account\":\"https:\\\\/\\\\/muiskcolombia.com\\\\/mi-cuenta\",\"order_confirmation\":\"https:\\\\/\\\\/muiskcolombia.com\\\\/confirmacion-pedido\",\"order_detail\":\"https:\\\\/\\\\/muiskcolombia.com\\\\/index.php?controller=order-detail\",\"order_follow\":\"https:\\\\/\\\\/muiskcolombia.com\\\\/seguimiento-pedido\",\"order\":\"https:\\\\/\\\\/muiskcolombia.com\\\\/pedido\",\"order_return\":\"https:\\\\/\\\\/muiskcolombia.com\\\\/index.php?controller=order-return\",\"order_slip\":\"https:\\\\/\\\\/muiskcolombia.com\\\\/facturas-abono\",\"pagenotfound\":\"https:\\\\/\\\\/muiskcolombia.com\\\\/pagina-no-encontrada\",\"password\":\"https:\\\\/\\\\/muiskcolombia.com\\\\/recuperar-contrase\\\\u00f1a\",\"pdf_invoice\":\"https:\\\\/\\\\/muiskcolombia.com\\\\/index.php?controller=pdf-invoice\",\"pdf_order_return\":\"https:\\\\/\\\\/muiskcolombia.com\\\\/index.php?controller=pdf-order-return\",\"pdf_order_slip\":\"https:\\\\/\\\\/muiskcolombia.com\\\\/index.php?controller=pdf-order-slip\",\"prices_drop\":\"https:\\\\/\\\\/muiskcolombia.com\\\\/productos-rebajados\",\"product\":\"https:\\\\/\\\\/muiskcolombia.com\\\\/index.php?controller=product\",\"search\":\"https:\\\\/\\\\/muiskcolombia.com\\\\/busqueda\",\"sitemap\":\"https:\\\\/\\\\/muiskcolombia.com\\\\/mapa del sitio\",\"stores\":\"https:\\\\/\\\\/muiskcolombia.com\\\\/tiendas\",\"supplier\":\"https:\\\\/\\\\/muiskcolombia.com\\\\/proveedor\",\"register\":\"https:\\\\/\\\\/muiskcolombia.com\\\\/iniciar-sesion?create_account=1\",\"order_login\":\"https:\\\\/\\\\/muiskcolombia.com\\\\/pedido?login=1\"},\"alternative_langs\":[],\"theme_assets\":\"\\\\/themes\\\\/multi_sport\\\\/assets\\\\/\",\"actions\":{\"logout\":\"https:\\\\/\\\\/muiskcolombia.com\\\\/?mylogout=\"},\"no_picture_image\":{\"bySize\":{\"small_default\":{\"url\":\"https:\\\\/\\\\/muiskcolombia.com\\\\/img\\\\/p\\\\/cb-default-small_default.jpg\",\"width\":98,\"height\":98},\"cart_default\":{\"url\":\"https:\\\\/\\\\/muiskcolombia.com\\\\/img\\\\/p\\\\/cb-default-cart_default.jpg\",\"width\":125,\"height\":125},\"home_default\":{\"url\":\"https:\\\\/\\\\/muiskcolombia.com\\\\/img\\\\/p\\\\/cb-default-home_default.jpg\",\"width\":270,\"height\":350},\"medium_default\":{\"url\":\"https:\\\\/\\\\/muiskcolombia.com\\\\/img\\\\/p\\\\/cb-default-medium_default.jpg\",\"width\":452,\"height\":452},\"large_default\":{\"url\":\"https:\\\\/\\\\/muiskcolombia.com\\\\/img\\\\/p\\\\/cb-default-large_default.jpg\",\"width\":800,\"height\":800}},\"small\":{\"url\":\"https:\\\\/\\\\/muiskcolombia.com\\\\/img\\\\/p\\\\/cb-default-small_default.jpg\",\"width\":98,\"height\":98},\"medium\":{\"url\":\"https:\\\\/\\\\/muiskcolombia.com\\\\/img\\\\/p\\\\/cb-default-home_default.jpg\",\"width\":270,\"height\":350},\"large\":{\"url\":\"https:\\\\/\\\\/muiskcolombia.com\\\\/img\\\\/p\\\\/cb-default-large_default.jpg\",\"width\":800,\"height\":800},\"legend\":\"\"}},\"configuration\":{\"display_taxes_label\":true,\"display_prices_tax_incl\":false,\"is_catalog\":false,\"show_prices\":true,\"opt_in\":{\"partner\":false},\"quantity_discount\":{\"type\":\"price\",\"label\":\"Precio unidad\"},\"voucher_enabled\":1,\"return_enabled\":0},\"field_required\":[],\"breadcrumb\":{\"links\":[{\"title\":\"Inicio\",\"url\":\"https:\\\\/\\\\/muiskcolombia.com\\\\/\"}],\"count\":1},\"link\":{\"protocol_link\":\"https:\\\\/\\\\/\",\"protocol_content\":\"https:\\\\/\\\\/\"},\"time\":1660653544,\"static_token\":\"5dd126e3934713f1dfc114fa1b05c8c5\",\"token\":\"913cf9b893132779bb0cf9d88d2c852a\",\"debug\":false};\\n        var productcomment_added = \"Thanks for your Review. Your comment has been added!\";\\n        var productcomment_added_moderation = \"Thanks for your Review. It will be available once approved by a moderator.\";\\n        var productcomments_controller_url = \"https:\\\\/\\\\/muiskcolombia.com\\\\/module\\\\/ddproductcomments\\\\/default\";\\n        var productcomments_url_rewrite = \"1\";\\n        var psemailsubscription_subscription = \"https:\\\\/\\\\/muiskcolombia.com\\\\/module\\\\/ps_emailsubscription\\\\/subscription\";\\n        var psr_icon_color = \"#F19D76\";\\n        var secure_key = \"71e6a75764e50d9d34dc9f8163a2e92a\";\\n      </script>\\n\\n\\n\\n  <script type=\"text/javascript\">\\n\\tvar zoom_type = \\'inner\\';\\n\\tvar zoom_fade_in = 500;\\n    var zoom_fade_out = 500;\\n\\tvar zoom_cursor_type = \\'zoom-in\\';\\n\\t\\t    var zoom_window_pos = 1;\\n\\t\\tvar zoom_scroll = false;\\n\\tvar zoom_easing = true;\\n\\tvar zoom_tint = false;\\n\\tvar zoom_tint_color = \\'#333\\';\\n\\tvar zoom_tint_opacity = 0.4;\\n    var zoom_lens_shape = \\'round\\';\\n    var zoom_lens_size  = 345;\\n</script>\\n<script type=\"text/javascript\">\\n\\tfunction applyElevateZoom(){\\n\\t\\tvar bigimage = $(\\'.js-qv-product-cover\\').attr(\\'src\\'); \\n\\t\\t$(\\'.js-qv-product-cover\\').elevateZoom({\\n\\t\\t\\tzoomType: zoom_type,\\n\\t\\t\\tcursor: zoom_cursor_type,\\n\\t\\t\\tzoomWindowFadeIn: zoom_fade_in,\\n\\t\\t\\tzoomWindowFadeOut: zoom_fade_out,\\n\\t\\t\\tzoomWindowPosition: zoom_window_pos,\\n\\t\\t\\tscrollZoom: zoom_scroll,\\n\\t\\t\\teasing: zoom_easing,\\n\\t\\t\\ttint: zoom_tint,\\n\\t\\t\\ttintColour: zoom_tint_color,\\n\\t\\t\\ttintOpacity: zoom_tint_opacity,\\n\\t\\t\\tlensShape: zoom_lens_shape,\\n\\t\\t\\tlensSize: zoom_lens_size,\\n\\t\\t\\tzoomImage: bigimage,\\n\\t\\t\\tborderSize:1,borderColour:\\'#ebebeb\\', zoomWindowWidth:500, zoomWindowHeight:500, zoomLevel:1,lensBorderSize:0 \\t   });\\n\\t}\\n\\t$(document).ready(function(e) {\\n\\t\\tif($(\".zoomContainer\").length){\\n\\t\\t$(\".zoomContainer\").remove();\\t\\n\\t\\t}\\n\\t\\tapplyElevateZoom();\\n\\t\\t$(document).on(\\'click\\',\\'.input-color\\',function(e) {\\n            restartElevateZoom();\\n        });\\n\\t\\t$(document).on(\\'click\\',\\'.js-qv-mask img.thumb\\',function(e) {\\n            restartElevateZoom();\\n        });\\n\\t});\\t\\n\\n\\tfunction restartElevateZoom(){\\n\\t\\t$(\".zoomContainer\").remove();\\n\\t\\tapplyElevateZoom();\\n\\t}\\n\\n</script>\\n    \\n        <!-- Facebook Pixel Code --> \\n    <script> \\n        !function(f,b,e,v,n,t,s)\\n            {if(f.fbq)return;n=f.fbq=function(){n.callMethod?\\n            n.callMethod.apply(n,arguments):n.queue.push(arguments)};\\n            if(!f._fbq)f._fbq=n;n.push=n;n.loaded=!0;n.version=\\'2.0\\';\\n            n.queue=[];t=b.createElement(e);t.async=!0;\\n            t.src=v;s=b.getElementsByTagName(e)[0];\\n            s.parentNode.insertBefore(t,s)}(window,document,\\'script\\',\\n            \\'https://connect.facebook.net/en_US/fbevents.js\\');\\n    \\n        fbq(\\'init\\',793848341113645);\\n        fbq(\\'track\\', \\'PageView\\');\\n                \\n        window.addEventListener(\\'load\\', function(){\\n            let initCountFbPx = prestashop.cart.products.length;\\n            prestashop.addListener(\"updateCart\", function(){\\n                if(prestashop.cart.products.length > initCountFbPx){\\n                    let fbpatcp = prestashop.cart.products[initCountFbPx];\\n                    fbq(\\'track\\', \\'AddToCart\\', {\\n                        content_name: fbpatcp.name,\\n                        content_category: fbpatcp.category,\\n                        content_ids: [parseInt(fbpatcp.id)],\\n                        content_type: \\'product\\',\\n                        value: fbpatcp.price_with_reduction,\\n                        currency: prestashop.currency.iso_code\\n                    });\\n                }\\n            });\\n        });\\n        \\n                                </script>\\n        <noscript><img height=\"1\" width=\"1\" style=\"display:none\" src=\"https://www.facebook.com/tr?id=793848341113645&ev=PageView&noscript=1\"/></noscript>\\n        <!-- Facebook Pixel Installer PrestaShop free module : https://github.com/Adel010/Facebook-Pixel-Prestashop-Free-Module -->\\n        <!-- End Facebook Pixel Code -->\\n<!-- emarketing start -->\\n\\n<!-- Global site tag (gtag.js) - Google Ads: 950091796 -->\\n<script async src=\"https://www.googletagmanager.com/gtag/js?id=AW-950091796\"></script>\\n<script>\\n  window.dataLayer = window.dataLayer || [];\\n  function gtag(){dataLayer.push(arguments);}\\n  gtag(\\'js\\', new Date());\\n\\n  gtag(\\'config\\', \\'AW-950091796\\');\\n</script>\\n\\n<!-- emarketing end -->\\n\\n    \\n  </head>\\n\\n  <body id=\"index\" class=\"lang-cb country-co currency-cop layout-full-width page-index tax-display-enabled\">\\n\\n    \\n      \\n    \\n\\n    <main>\\n      \\n              \\n\\n      <header id=\"header\">\\n        \\n          \\n\\n  <div class=\"header-top\">\\n\\t        <div class=\"hidden-sm-down\" id=\"_desktop_logo\">\\n          <a href=\"https://muiskcolombia.com/\">\\n            <img class=\"logo img-responsive\" src=\"https://muiskcolombia.com/img/my-shop-logo-1613395755.jpg\" alt=\"Muisk Colombia Clothing\">\\n          </a>\\n        </div>\\n       <div class=\"ikony-belka\">\\n\\t   <div class=\"tlo_menu\"></div>\\n         <div class=\"tlo_belka\"></div>  \\n\\t\\t <div class=\"belka\">\\n\\t\\t <div class=\"lewabelka col-xs-12\" style=\"padding: 0px;\">\\n\\t\\t \\n\\t\\t <div class=\"menu_and_logo\">\\n\\n        <div class=\"col-md-10 col-sm-12 position-static\">\\n          <div class=\"row\">\\n            \\n<div class=\"menu col-lg-12 js-top-menu position-static hidden-md-down\" id=\"_desktop_top_menu\">\\n\\t\\n          <ul class=\"top-menu\" id=\"top-menu\" data-depth=\"0\">\\n                    <li class=\"category\" id=\"category-180\">\\n                          <a\\n                class=\"dropdown-item\"\\n                href=\"https://muiskcolombia.com/180-catalogo-2022\" data-depth=\"0\"\\n                              >\\n                                CATALOGO 2022\\n              </a>\\n                          </li>\\n                    <li class=\"category\" id=\"category-198\">\\n                          <a\\n                class=\"dropdown-item\"\\n                href=\"https://muiskcolombia.com/198-jerseys-hombre\" data-depth=\"0\"\\n                              >\\n                                JERSEYS HOMBRE\\n              </a>\\n                          </li>\\n                    <li class=\"category\" id=\"category-184\">\\n                          <a\\n                class=\"dropdown-item\"\\n                href=\"https://muiskcolombia.com/184-jerseys-mujer\" data-depth=\"0\"\\n                              >\\n                                JERSEYS MUJER\\n              </a>\\n                          </li>\\n                    <li class=\"category\" id=\"category-181\">\\n                          <a\\n                class=\"dropdown-item\"\\n                href=\"https://muiskcolombia.com/181-badanas\" data-depth=\"0\"\\n                              >\\n                                BADANAS\\n              </a>\\n                          </li>\\n                    <li class=\"category\" id=\"category-188\">\\n                          <a\\n                class=\"dropdown-item\"\\n                href=\"https://muiskcolombia.com/188-manguillas\" data-depth=\"0\"\\n                              >\\n                                MANGUILLAS\\n              </a>\\n                          </li>\\n                    <li class=\"category\" id=\"category-190\">\\n                          <a\\n                class=\"dropdown-item\"\\n                href=\"https://muiskcolombia.com/190-perneras\" data-depth=\"0\"\\n                              >\\n                                PERNERAS\\n              </a>\\n                          </li>\\n                    <li class=\"category\" id=\"category-191\">\\n                          <a\\n                class=\"dropdown-item\"\\n                href=\"https://muiskcolombia.com/191-chalecos\" data-depth=\"0\"\\n                              >\\n                                CHALECOS\\n              </a>\\n                          </li>\\n                    <li class=\"category\" id=\"category-192\">\\n                          <a\\n                class=\"dropdown-item\"\\n                href=\"https://muiskcolombia.com/192-guantes\" data-depth=\"0\"\\n                              >\\n                                GUANTES\\n              </a>\\n                          </li>\\n                    <li class=\"category\" id=\"category-193\">\\n                          <a\\n                class=\"dropdown-item\"\\n                href=\"https://muiskcolombia.com/193-caps\" data-depth=\"0\"\\n                              >\\n                                CAPS\\n              </a>\\n                          </li>\\n                    <li class=\"category\" id=\"category-194\">\\n                          <a\\n                class=\"dropdown-item\"\\n                href=\"https://muiskcolombia.com/194-medias\" data-depth=\"0\"\\n                              >\\n                                MEDIAS\\n              </a>\\n                          </li>\\n                    <li class=\"category\" id=\"category-195\">\\n                          <a\\n                class=\"dropdown-item\"\\n                href=\"https://muiskcolombia.com/195-esqueletos\" data-depth=\"0\"\\n                              >\\n                                ESQUELETOS\\n              </a>\\n                          </li>\\n                    <li class=\"category\" id=\"category-197\">\\n                          <a\\n                class=\"dropdown-item\"\\n                href=\"https://muiskcolombia.com/197-enterizos\" data-depth=\"0\"\\n                              >\\n                                ENTERIZOS\\n              </a>\\n                          </li>\\n                    <li class=\"cms-page\" id=\"cms-page-23\">\\n                          <a\\n                class=\"dropdown-item\"\\n                href=\"https://muiskcolombia.com/content/23-sketch-muisk\" data-depth=\"0\"\\n                              >\\n                                Sketch Muisk\\n              </a>\\n                          </li>\\n                    <li class=\"cms-page\" id=\"cms-page-10\">\\n                          <a\\n                class=\"dropdown-item\"\\n                href=\"https://muiskcolombia.com/content/10-calificanos\" data-depth=\"0\"\\n                              >\\n                                Califícanos\\n              </a>\\n                          </li>\\n              </ul>\\n    \\n</div>\\n\\n            <div class=\"clearfix\"></div>\\n          </div>\\n\\t\\t  </div>\\n        </div>\\n      </div>\\n\\t  \\n\\t   \\n  \\n <nav class=\"header-nav\">\\n            <div class=\"right-nav\">\\n                <!-- Block search module TOP -->\\n<div id=\"_desktop_search_plugin\" class=\"col-lg-4 col-sm-12 search-widget \">\\n\\t<span class=\"search_button\"></span>\\n\\t<div class=\"search_toggle\">\\n\\t<div id=\"search_plugin\" data-search-controller-url=\"//muiskcolombia.com/busqueda\">\\n\\t\\t<form method=\"get\" action=\"//muiskcolombia.com/busqueda\">\\n\\t\\t\\t<input type=\"hidden\" name=\"controller\" value=\"search\">\\n\\t\\t\\t<input type=\"text\" name=\"s\" value=\"\" placeholder=\"Busque en nuestro catálogo\">\\n\\t\\t\\t<button type=\"submit\">\\n\\t\\t\\t</button>\\n\\t\\t</form>\\n\\t</div>\\n</div>\\n</div>\\n<!-- /Block search module TOP -->\\n<div id=\"_desktop_currency_selector\">\\n  <div class=\"currency-selector dropdown js-dropdown\">\\n    <span class=\"currency\">Moneda:</span>\\n    <span class=\"expand-more _gray-darker\" data-toggle=\"dropdown\"></span>\\n    <a data-target=\"#\" data-toggle=\"dropdown\" aria-haspopup=\"true\" aria-expanded=\"false\" class=\"hidden-sm-down\">\\n\\t  <div class=\"currency-icons\"></div>\\n    </a>\\n    <ul class=\"dropdown-menu\" aria-labelledby=\"dLabel\">\\n              <li  class=\"current selected\" >\\n          <a title=\"Peso colombiano\" rel=\"nofollow\" href=\"https://muiskcolombia.com/?SubmitCurrency=1&amp;id_currency=2\" class=\"dropdown-item\">COP $</a>\\n        </li>\\n          </ul>\\n    <select class=\"link hidden-md-up\">\\n              <option value=\"https://muiskcolombia.com/?SubmitCurrency=1&amp;id_currency=2\" selected=\"selected\">COP $</option>\\n          </select>\\n  </div>\\n</div><div id=\"_desktop_cart\">\\n<div class=\"cart_top\">\\n  <div class=\"blockcart cart-preview inactive\" data-refresh-url=\"//muiskcolombia.com/module/ps_shoppingcart/ajax\">\\n    <div class=\"header\">\\n               <div class=\"cart-icons\"></div>\\n        <span class=\"cart-products-count\">0</span>\\n      \\t  \\n\\t  \\t\\t\\t\\t<div id=\"koszykajax\">\\n\\n\\t\\t\\t\\t\\t<ul class=\"cart_products\">\\n\\n\\t\\t\\t\\t\\t\\t\\t\\t\\t\\t\\t<li>No hay más productos en su carrito</li>\\n\\t\\t\\t\\t\\t\\n\\t\\t\\t\\t\\t\\t\\t\\t\\t\\t</ul>\\n\\n\\t\\t\\t\\t\\t<ul class=\"cart-podsumowanie\">\\n\\t\\t\\t\\t\\t\\t<li>\\n\\t\\t\\t\\t\\t\\t\\t<span class=\"text\">Transporte</span>\\n\\t\\t\\t\\t\\t\\t\\t<span class=\"value\"></span>\\n\\t\\t\\t\\t\\t\\t\\t<span class=\"clearfix\"></span>\\n\\t\\t\\t\\t\\t\\t</li>\\n\\n\\t\\t\\t\\t\\t\\t<li>\\n\\t\\t\\t\\t\\t\\t\\t<span class=\"text\">Total</span>\\n\\t\\t\\t\\t\\t\\t\\t<span class=\"value\">$\\xa00,00</span>\\n\\t\\t\\t\\t\\t\\t\\t<span class=\"clearfix\"></span>\\n\\t\\t\\t\\t\\t\\t</li>\\n\\n\\t\\t\\t\\t\\t</ul>\\n\\n\\t\\t\\t\\t\\t<div class=\"cart-przyciski\">\\n\\t\\t\\t\\t\\t<a class=\"btn btn-primary viewcart koszyk\" rel=\"nofollow\" href=\"//muiskcolombia.com/carrito?action=show\">Carrito</a>\\n\\t\\t\\t\\t\\t\\t<a class=\"btn btn-primary viewcart\" href=\"https://muiskcolombia.com/pedido\">Pasar al pago</a>\\n\\t\\t\\t\\t\\t</div>\\n\\n\\t\\t\\t\\t</div>\\n\\t     </div>\\n    </div>\\n  </div>\\n</div>\\n\\n\\n          <div class=\"hidden-md-up text-xs-center mobile\">\\n            <div class=\"pull-xs-left\" id=\"menu-icon\">\\n              <i class=\"material-icons\">&#xE5D2;</i>\\n            </div>\\n            <div class=\"pull-xs-right\" id=\"_mobile_cart\"></div>\\n            <div class=\"pull-xs-right\" id=\"_mobile_user_info\"></div>\\n            <div class=\"top-logo\" id=\"_mobile_logo\"></div>\\n            <div class=\"clearfix\"></div>\\n          </div>          \\n        </div>  \\n\\t\\t</div>  \\n  </nav>\\n </div>    \\n\\t\\n      <div id=\"mobile_top_menu_wrapper\" class=\"row hidden-md-up\" style=\"display:none;\">\\n        <div class=\"js-top-menu mobile\" id=\"_mobile_top_menu\"></div>\\n        <div class=\"js-top-menu-bottom\">\\n          <div id=\"_mobile_currency_selector\"></div>\\n          <div id=\"_mobile_language_selector\"></div>\\n          <div id=\"_mobile_contact_link\"></div>\\n        </div>\\n\\t\\t</div>\\n\\t\\n</div>\\n  <div id=\"carousel\" data-ride=\"carousel\" class=\"carousel slide\" data-interval=\"5000\" data-wrap=\"true\" data-pause=\"hover\">\\n    <ul class=\"carousel-inner\" role=\"listbox\">\\n              <li class=\"carousel-item active\">\\n          <figure>\\n\\t\\t  <a href=\"https://muiskcolombia.com/content/28-promocion-2x1-jersey\"> \\n            <img src=\"https://muiskcolombia.com/modules/ps_imageslider/images/69e96e2535776b16439cc8365990a74ea96f4a5e_PORTADA-PAGINA-WEB.png\" alt=\"\">\\n            \\t\\t\\t</a>\\n          </figure>\\n        </li>\\n              <li class=\"carousel-item \">\\n          <figure>\\n\\t\\t  <a href=\"https://muiskcolombia.com/CYCLING-CATALOGO/257-346-hombre-jersey-manga-corta-natural-muisk-fluor.html#/195-talla-s/223-elige_que_articulos-jersey_manga_corta_natural_muisk_fluor_hombre\"> \\n            <img src=\"https://muiskcolombia.com/modules/ps_imageslider/images/121277b6c71975366ead0db7dc5da10205c8850c_PORTADA-PAGINA-WEB.png\" alt=\"\">\\n                          <figcaption class=\"caption\">\\n                <h2 class=\"display-1 text-uppercase\"></h2>\\n                <div class=\"caption-description\"><h3></h3></div>\\n              </figcaption>\\n            \\t\\t\\t</a>\\n          </figure>\\n        </li>\\n              <li class=\"carousel-item \">\\n          <figure>\\n\\t\\t  <a href=\"http://muiskcolombia.com\"> \\n            <img src=\"https://muiskcolombia.com/modules/ps_imageslider/images/c2ad1c6503317a66d01c464d2f2c6e821558c182_PORTADA-PAGINA-WEB2.png\" alt=\"\">\\n                          <figcaption class=\"caption\">\\n                <h2 class=\"display-1 text-uppercase\"></h2>\\n                <div class=\"caption-description\"><h3></h3></div>\\n              </figcaption>\\n            \\t\\t\\t</a>\\n          </figure>\\n        </li>\\n              <li class=\"carousel-item \">\\n          <figure>\\n\\t\\t  <a href=\"http://muiskcolombia.com\"> \\n            <img src=\"https://muiskcolombia.com/modules/ps_imageslider/images/85be409f5b3390237d448210fc81c538678458ed_1.jpg\" alt=\"\">\\n                          <figcaption class=\"caption\">\\n                <h2 class=\"display-1 text-uppercase\"></h2>\\n                <div class=\"caption-description\"><h3></h3></div>\\n              </figcaption>\\n            \\t\\t\\t</a>\\n          </figure>\\n        </li>\\n          </ul>\\n    <div class=\"direction\">\\n      <a class=\"left carousel-control\" href=\"#carousel\" role=\"button\" data-slide=\"prev\">\\n        <span class=\"icon-prev hidden-xs\" aria-hidden=\"true\">\\n          <i class=\"material-icons\">&#xE5CB;</i>\\n        </span>\\n        <span class=\"sr-only\">Previous</span>\\n      </a>\\n      <a class=\"right carousel-control\" href=\"#carousel\" role=\"button\" data-slide=\"next\">\\n        <span class=\"icon-next\" aria-hidden=\"true\">\\n          <i class=\"material-icons\">&#xE5CC;</i>\\n        </span>\\n        <span class=\"sr-only\">Next</span>\\n      </a>\\n    </div>\\n  </div>\\n\\n        \\n      </header>\\n\\n      \\n        \\n<aside id=\"notifications\">\\n  <div class=\"container\">\\n    \\n    \\n    \\n      </div>\\n</aside>\\n      \\n<div class=\"row\">\\n      <section id=\"wrapper\">\\n        \\n        <div class=\"container\">\\n          \\n            <nav data-depth=\"1\" class=\"breadcrumb hidden-sm-down\">\\n  <ol itemscope itemtype=\"http://schema.org/BreadcrumbList\">\\n          <li itemprop=\"itemListElement\" itemscope itemtype=\"http://schema.org/ListItem\">\\n        <a itemprop=\"item\" href=\"https://muiskcolombia.com/\">\\n          <span itemprop=\"name\">Inicio</span>\\n        </a>\\n        <meta itemprop=\"position\" content=\"1\">\\n      </li>\\n      </ol>\\n</nav>\\n          \\n\\n          \\n\\n          \\n  <div id=\"content-wrapper\">\\n    \\n    \\n\\n  <section id=\"main\">\\n    \\n      \\n    \\n\\n    \\n      <section id=\"content\" class=\"page-home\">\\n        \\n        \\n          <div class=\"row\">\\n<div class=\"banner1 banner\">\\n<div class=\"ikona_1\"></div>\\n<div class=\"ikona_2\"></div>\\n<a class=\"banner1_link\" href=\"https://muiskcolombia.com/180-catalogo-2022\">\\n<div class=\"kreski\">\\n<div class=\"content-banery\">\\n<div class=\"opis\">Catálogo</div>\\n<div class=\"buttons-banners\">Ver más</div>\\n</div>\\n<img src=\"https://muiskcolombia.com/modules/bannerone/imgj/beddf783a88fb67c568575ab4557d953.\" alt=\"Catálogo\" title=\"Catálogo\"></img>\\n</div>\\n</div>\\n</a>\\n\\n<div class=\"banner2 banner\">\\n<div class=\"ikona_1\"></div>\\n<div class=\"ikona_2\"></div>\\n<a class=\"banner2_link\" href=\"https://muiskcolombia.com/content/28-promocion-2x1-jersey\">\\n<div class=\"kreski\">\\n<div class=\"content-banery\">\\n<div class=\"opis\"></br></div>\\n<div class=\"buttons-banners\">TÉRMINOS</div>\\n</div>\\n<img src=\"https://muiskcolombia.com/modules/bannertwo/imgd/ee476bda5f1c7640a65eee4790700482.\" alt=\"\" title=\"\"></img>\\n</div>\\n</div>\\n</a><div class=\"banner3 banner\">\\n<div class=\"ikona_1\"></div>\\n<div class=\"ikona_2\"></div>\\n<a class=\"banner3_link\" href=\"https://muiskcolombia.com/index.php?id_cms=12&amp;controller=cms\">\\n<div class=\"kreski\">\\n<div class=\"content-banery\">\\n<div class=\"opis\">Todo lo que necesitas saber para comprar</div>\\n<div class=\"buttons-banners\">Leer más</div>\\n</div>\\n<img src=\"https://muiskcolombia.com/modules/bannerthree/imgt/9ab2b3c991f2ef4c1c3a289ded857828.\" alt=\"Todo lo que necesitas saber para comprar\" title=\"Todo lo que necesitas saber para comprar\"></img>\\n</div>\\n</div>\\n</a>\\n</div><section class=\"featured-products clearfix\">\\n<div class=\"linia_tytul\">\\n    <div class=\"tytuly\">\\n\\t\\tNovedades\\n\\t\\t</div>\\n\\t\\t<div class=\"SliderNavigation\">\\n\\t\\t\\t\\t<a class=\"btn prev slider_new_prev\">&nbsp;</a>\\n\\t\\t\\t\\t<a class=\"btn next slider_new_next\">&nbsp;</a>\\n\\t\\t\\t</div>\\n\\t</div>\\n\\t<div class=\"products\">\\t\\n\\t\\t <!-- Define Number of product for SLIDER -->\\n\\t\\t\\t<ul id=\"new-carousel\" class=\"bestseller_grid product_list grid row gridcount\">\\n\\t\\t\\t\\n\\t\\t\\t\\t\\t<li class=\"item\">\\n\\t\\t\\t\\t  \\n<article class=\"product-miniature js-product-miniature\" data-id-product=\"16325\" data-id-product-attribute=\"62\" itemscope itemtype=\"http://schema.org/Product\">\\n  <div class=\"thumbnail-container\">\\n  <div class=\"dd-product-image\">\\n    \\n      <a href=\"https://muiskcolombia.com/inicio/16325-62-hombre-jersey-manga-larga-pro-precolombino.html#/5-talla-xxs/6-genero-hombre\" class=\"thumbnail product-thumbnail\">\\n        <img\\n          src = \"https://muiskcolombia.com/1569-home_default/hombre-jersey-manga-larga-pro-precolombino.jpg\"\\n          alt = \"\"\\n          data-full-size-image-url = \"https://muiskcolombia.com/1569-large_default/hombre-jersey-manga-larga-pro-precolombino.jpg\"\\n        >\\n      </a>\\n    \\n\\t\\t\\t\\n\\t\\t<ul class=\"product-flags\">\\n\\t\\t\\t\\t\\t\\t<li class=\"on-sale\">¡En oferta!</li>\\n\\t\\t\\t\\t\\t\\t<li class=\"discount\">-$\\xa033.870,00</li>\\n\\t\\t\\t\\t\\t\\t<li class=\"new\">Nuevo</li>\\n\\t\\t\\t\\t\\t</ul>\\n\\t\\t\\n\\t</div>\\n\\t\\n\\t<div class=\"product-desc\">\\n    <div class=\"product-description\">\\n      \\n        <h1 class=\"h3 product-title\" itemprop=\"name\"><a href=\"https://muiskcolombia.com/inicio/16325-62-hombre-jersey-manga-larga-pro-precolombino.html#/5-talla-xxs/6-genero-hombre\">HOMBRE JERSEY MANGA LARGA...</a></h1>\\n      \\n\\n        \\n                      <div class=\"product-price-and-shipping\">\\n                              \\n\\n                <span class=\"sr-only\">Precio base</span>\\n                <span class=\"regular-price\">$\\xa0146.770,00</span>\\n                              \\n              \\n\\n              <span class=\"sr-only\">Precio</span>\\n              <span itemprop=\"price\" class=\"price\">$\\xa0112.900,00</span>\\n\\n              \\n\\n              \\n            </div>\\n\\t\\t\\n\\t\\t\\n<div class=\"product-list-reviews\" data-id=\"16325\" data-url=\"https://muiskcolombia.com/module/productcomments/CommentGrade\">\\n  <div class=\"grade-stars small-stars\"></div>\\n  <div class=\"comments-nb\"></div>\\n</div>\\n\\n\\n\\t\\t\\n                  \\n</div>\\n\\t\\t\\t<div class=\"highlighted-informations no-variants\">\\n\\t\\t\\t\\t\\t<div class=\"buttons-actions_align\">\\n\\t\\t\\t\\t\\t\\t\\t\\t\\n\\t\\t\\t\\t\\t\\t\\t\\t<form action=\"https://muiskcolombia.com/carrito\" method=\"post\" id=\"add-to-cart-or-refresh-16325\">\\n\\t\\t\\t\\t\\t\\t\\t\\t<input type=\"hidden\" name=\"token\" value=\"5dd126e3934713f1dfc114fa1b05c8c5\">\\n\\t\\t\\t\\t\\t\\t\\t\\t<input type=\"hidden\" name=\"id_product\" value=\"16325\" id=\"product_page_product_id_16325\">\\n\\t\\t\\t\\t\\t\\t\\t\\t<input type=\"hidden\" name=\"id_customization\" value=\"0\" id=\"product_customization_id_16325\">\\n\\t\\t\\t\\t\\t\\t\\t\\t\\n\\t\\t\\t\\t\\t\\t\\t\\t\\t<div class=\"product-add-to-cart-buttons\">\\n      \\n      <div class=\"product-quantity\">\\n        <div class=\"qty hidden-xl-down\">\\n          <input type=\"text\" name=\"qty\" id=\"quantity_wanted\" value=\"1\" class=\"input-group\" min=\"1\" />\\n        </div>\\n<div class=\"add\" >\\n\\t\\t\\t\\t\\t\\t                           <button class=\"add-to-cart-buttons\" style=\"outline: none; text-decoration: none;\" data-button-action=\"add-to-cart\" title=\"Adicionar al carrito\" type=\"submit\"> \\n\\t\\t\\t\\t\\t\\t</button>\\n                               \\t    </div>\\n      </div>\\n    \\n  </div>\\n\\t\\t\\t\\t\\t\\t\\t\\t\\n\\t\\t\\t\\t\\t\\t\\t</form>\\n\\t\\t\\t\\t\\t\\t\\t\\n\\t\\t\\t\\t\\t\\t\\t\\t<input class=\"product-refresh\" data-url-update=\"false\" name=\"refresh\" type=\"submit\" value=\"Refrescar\" hidden>\\n\\t\\t\\t\\t\\t\\t\\t\\n\\t\\t\\t\\t\\t\\n\\t\\t\\t\\n\\t\\t\\t\\t\\t<a href=\"https://muiskcolombia.com/inicio/16325-62-hombre-jersey-manga-larga-pro-precolombino.html#/5-talla-xxs/6-genero-hombre\" title=\"Ver\" class=\"view\">\\n\\t\\t\\t\\t\\t</a>\\n\\t\\t\\t\\n\\t\\t\\t\\t\\t\\t<a href=\"#\" class=\"quick-view\" title=\"Ver\" data-link-action=\"quickview\">\\n\\t\\t\\t\\t\\t\\t\\t<div class=\"quick-view-buttons\">\\n\\t\\t\\t\\t\\t\\t\\t<i class=\"material-icons quick\">&#xE8F4;</i> \\n\\t\\t\\t\\t\\t\\t</div>\\n\\t\\t\\t\\t\\t</a>\\n\\t\\t\\t\\t\\t</div>\\n\\t\\t\\t</div>\\n\\t\\t</div>\\t\\n\\t</div>\\n</article>\\n\\t\\t\\t</li>\\n\\t\\t\\t\\t\\t<li class=\"item\">\\n\\t\\t\\t\\t  \\n<article class=\"product-miniature js-product-miniature\" data-id-product=\"16327\" data-id-product-attribute=\"63\" itemscope itemtype=\"http://schema.org/Product\">\\n  <div class=\"thumbnail-container\">\\n  <div class=\"dd-product-image\">\\n    \\n      <a href=\"https://muiskcolombia.com/inicio/16327-63-hombre-jersey-manga-larga-pro-colombia.html#/5-talla-xxs/6-genero-hombre\" class=\"thumbnail product-thumbnail\">\\n        <img\\n          src = \"https://muiskcolombia.com/1585-home_default/hombre-jersey-manga-larga-pro-colombia.jpg\"\\n          alt = \"\"\\n          data-full-size-image-url = \"https://muiskcolombia.com/1585-large_default/hombre-jersey-manga-larga-pro-colombia.jpg\"\\n        >\\n      </a>\\n    \\n\\t\\t\\t\\n\\t\\t<ul class=\"product-flags\">\\n\\t\\t\\t\\t\\t\\t<li class=\"on-sale\">¡En oferta!</li>\\n\\t\\t\\t\\t\\t\\t<li class=\"discount\">-$\\xa033.870,00</li>\\n\\t\\t\\t\\t\\t\\t<li class=\"new\">Nuevo</li>\\n\\t\\t\\t\\t\\t</ul>\\n\\t\\t\\n\\t</div>\\n\\t\\n\\t<div class=\"product-desc\">\\n    <div class=\"product-description\">\\n      \\n        <h1 class=\"h3 product-title\" itemprop=\"name\"><a href=\"https://muiskcolombia.com/inicio/16327-63-hombre-jersey-manga-larga-pro-colombia.html#/5-talla-xxs/6-genero-hombre\">HOMBRE JERSEY MANGA LARGA...</a></h1>\\n      \\n\\n        \\n                      <div class=\"product-price-and-shipping\">\\n                              \\n\\n                <span class=\"sr-only\">Precio base</span>\\n                <span class=\"regular-price\">$\\xa0146.770,00</span>\\n                              \\n              \\n\\n              <span class=\"sr-only\">Precio</span>\\n              <span itemprop=\"price\" class=\"price\">$\\xa0112.900,00</span>\\n\\n              \\n\\n              \\n            </div>\\n\\t\\t\\n\\t\\t\\n<div class=\"product-list-reviews\" data-id=\"16327\" data-url=\"https://muiskcolombia.com/module/productcomments/CommentGrade\">\\n  <div class=\"grade-stars small-stars\"></div>\\n  <div class=\"comments-nb\"></div>\\n</div>\\n\\n\\n\\t\\t\\n                  \\n</div>\\n\\t\\t\\t<div class=\"highlighted-informations no-variants\">\\n\\t\\t\\t\\t\\t<div class=\"buttons-actions_align\">\\n\\t\\t\\t\\t\\t\\t\\t\\t\\n\\t\\t\\t\\t\\t\\t\\t\\t<form action=\"https://muiskcolombia.com/carrito\" method=\"post\" id=\"add-to-cart-or-refresh-16327\">\\n\\t\\t\\t\\t\\t\\t\\t\\t<input type=\"hidden\" name=\"token\" value=\"5dd126e3934713f1dfc114fa1b05c8c5\">\\n\\t\\t\\t\\t\\t\\t\\t\\t<input type=\"hidden\" name=\"id_product\" value=\"16327\" id=\"product_page_product_id_16327\">\\n\\t\\t\\t\\t\\t\\t\\t\\t<input type=\"hidden\" name=\"id_customization\" value=\"0\" id=\"product_customization_id_16327\">\\n\\t\\t\\t\\t\\t\\t\\t\\t\\n\\t\\t\\t\\t\\t\\t\\t\\t\\t<div class=\"product-add-to-cart-buttons\">\\n      \\n      <div class=\"product-quantity\">\\n        <div class=\"qty hidden-xl-down\">\\n          <input type=\"text\" name=\"qty\" id=\"quantity_wanted\" value=\"1\" class=\"input-group\" min=\"1\" />\\n        </div>\\n<div class=\"add\" >\\n\\t\\t\\t\\t\\t\\t                           <button class=\"add-to-cart-buttons\" style=\"outline: none; text-decoration: none;\" data-button-action=\"add-to-cart\" title=\"Adicionar al carrito\" type=\"submit\"> \\n\\t\\t\\t\\t\\t\\t</button>\\n                               \\t    </div>\\n      </div>\\n    \\n  </div>\\n\\t\\t\\t\\t\\t\\t\\t\\t\\n\\t\\t\\t\\t\\t\\t\\t</form>\\n\\t\\t\\t\\t\\t\\t\\t\\n\\t\\t\\t\\t\\t\\t\\t\\t<input class=\"product-refresh\" data-url-update=\"false\" name=\"refresh\" type=\"submit\" value=\"Refrescar\" hidden>\\n\\t\\t\\t\\t\\t\\t\\t\\n\\t\\t\\t\\t\\t\\n\\t\\t\\t\\n\\t\\t\\t\\t\\t<a href=\"https://muiskcolombia.com/inicio/16327-63-hombre-jersey-manga-larga-pro-colombia.html#/5-talla-xxs/6-genero-hombre\" title=\"Ver\" class=\"view\">\\n\\t\\t\\t\\t\\t</a>\\n\\t\\t\\t\\n\\t\\t\\t\\t\\t\\t<a href=\"#\" class=\"quick-view\" title=\"Ver\" data-link-action=\"quickview\">\\n\\t\\t\\t\\t\\t\\t\\t<div class=\"quick-view-buttons\">\\n\\t\\t\\t\\t\\t\\t\\t<i class=\"material-icons quick\">&#xE8F4;</i> \\n\\t\\t\\t\\t\\t\\t</div>\\n\\t\\t\\t\\t\\t</a>\\n\\t\\t\\t\\t\\t</div>\\n\\t\\t\\t</div>\\n\\t\\t</div>\\t\\n\\t</div>\\n</article>\\n\\t\\t\\t</li>\\n\\t\\t\\t\\t\\t<li class=\"item\">\\n\\t\\t\\t\\t  \\n<article class=\"product-miniature js-product-miniature\" data-id-product=\"16320\" data-id-product-attribute=\"58\" itemscope itemtype=\"http://schema.org/Product\">\\n  <div class=\"thumbnail-container\">\\n  <div class=\"dd-product-image\">\\n    \\n      <a href=\"https://muiskcolombia.com/inicio/16320-58-hombre-jersey-manga-larga-confort-vinotinto.html#/5-talla-xxs/6-genero-hombre\" class=\"thumbnail product-thumbnail\">\\n        <img\\n          src = \"https://muiskcolombia.com/1529-home_default/hombre-jersey-manga-larga-confort-vinotinto.jpg\"\\n          alt = \"\"\\n          data-full-size-image-url = \"https://muiskcolombia.com/1529-large_default/hombre-jersey-manga-larga-confort-vinotinto.jpg\"\\n        >\\n      </a>\\n    \\n\\t\\t\\t\\n\\t\\t<ul class=\"product-flags\">\\n\\t\\t\\t\\t\\t\\t<li class=\"on-sale\">¡En oferta!</li>\\n\\t\\t\\t\\t\\t\\t<li class=\"discount\">-$\\xa029.370,00</li>\\n\\t\\t\\t\\t\\t\\t<li class=\"new\">Nuevo</li>\\n\\t\\t\\t\\t\\t</ul>\\n\\t\\t\\n\\t</div>\\n\\t\\n\\t<div class=\"product-desc\">\\n    <div class=\"product-description\">\\n      \\n        <h1 class=\"h3 product-title\" itemprop=\"name\"><a href=\"https://muiskcolombia.com/inicio/16320-58-hombre-jersey-manga-larga-confort-vinotinto.html#/5-talla-xxs/6-genero-hombre\">HOMBRE JERSEY MANGA LARGA...</a></h1>\\n      \\n\\n        \\n                      <div class=\"product-price-and-shipping\">\\n                              \\n\\n                <span class=\"sr-only\">Precio base</span>\\n                <span class=\"regular-price\">$\\xa0127.270,00</span>\\n                              \\n              \\n\\n              <span class=\"sr-only\">Precio</span>\\n              <span itemprop=\"price\" class=\"price\">$\\xa097.900,00</span>\\n\\n              \\n\\n              \\n            </div>\\n\\t\\t\\n\\t\\t\\n<div class=\"product-list-reviews\" data-id=\"16320\" data-url=\"https://muiskcolombia.com/module/productcomments/CommentGrade\">\\n  <div class=\"grade-stars small-stars\"></div>\\n  <div class=\"comments-nb\"></div>\\n</div>\\n\\n\\n\\t\\t\\n                  \\n</div>\\n\\t\\t\\t<div class=\"highlighted-informations no-variants\">\\n\\t\\t\\t\\t\\t<div class=\"buttons-actions_align\">\\n\\t\\t\\t\\t\\t\\t\\t\\t\\n\\t\\t\\t\\t\\t\\t\\t\\t<form action=\"https://muiskcolombia.com/carrito\" method=\"post\" id=\"add-to-cart-or-refresh-16320\">\\n\\t\\t\\t\\t\\t\\t\\t\\t<input type=\"hidden\" name=\"token\" value=\"5dd126e3934713f1dfc114fa1b05c8c5\">\\n\\t\\t\\t\\t\\t\\t\\t\\t<input type=\"hidden\" name=\"id_product\" value=\"16320\" id=\"product_page_product_id_16320\">\\n\\t\\t\\t\\t\\t\\t\\t\\t<input type=\"hidden\" name=\"id_customization\" value=\"0\" id=\"product_customization_id_16320\">\\n\\t\\t\\t\\t\\t\\t\\t\\t\\n\\t\\t\\t\\t\\t\\t\\t\\t\\t<div class=\"product-add-to-cart-buttons\">\\n      \\n      <div class=\"product-quantity\">\\n        <div class=\"qty hidden-xl-down\">\\n          <input type=\"text\" name=\"qty\" id=\"quantity_wanted\" value=\"1\" class=\"input-group\" min=\"1\" />\\n        </div>\\n<div class=\"add\" >\\n\\t\\t\\t\\t\\t\\t                           <button class=\"add-to-cart-buttons\" style=\"outline: none; text-decoration: none;\" data-button-action=\"add-to-cart\" title=\"Adicionar al carrito\" type=\"submit\"> \\n\\t\\t\\t\\t\\t\\t</button>\\n                               \\t    </div>\\n      </div>\\n    \\n  </div>\\n\\t\\t\\t\\t\\t\\t\\t\\t\\n\\t\\t\\t\\t\\t\\t\\t</form>\\n\\t\\t\\t\\t\\t\\t\\t\\n\\t\\t\\t\\t\\t\\t\\t\\t<input class=\"product-refresh\" data-url-update=\"false\" name=\"refresh\" type=\"submit\" value=\"Refrescar\" hidden>\\n\\t\\t\\t\\t\\t\\t\\t\\n\\t\\t\\t\\t\\t\\n\\t\\t\\t\\n\\t\\t\\t\\t\\t<a href=\"https://muiskcolombia.com/inicio/16320-58-hombre-jersey-manga-larga-confort-vinotinto.html#/5-talla-xxs/6-genero-hombre\" title=\"Ver\" class=\"view\">\\n\\t\\t\\t\\t\\t</a>\\n\\t\\t\\t\\n\\t\\t\\t\\t\\t\\t<a href=\"#\" class=\"quick-view\" title=\"Ver\" data-link-action=\"quickview\">\\n\\t\\t\\t\\t\\t\\t\\t<div class=\"quick-view-buttons\">\\n\\t\\t\\t\\t\\t\\t\\t<i class=\"material-icons quick\">&#xE8F4;</i> \\n\\t\\t\\t\\t\\t\\t</div>\\n\\t\\t\\t\\t\\t</a>\\n\\t\\t\\t\\t\\t</div>\\n\\t\\t\\t</div>\\n\\t\\t</div>\\t\\n\\t</div>\\n</article>\\n\\t\\t\\t</li>\\n\\t\\t\\t\\t\\t<li class=\"item\">\\n\\t\\t\\t\\t  \\n<article class=\"product-miniature js-product-miniature\" data-id-product=\"16322\" data-id-product-attribute=\"59\" itemscope itemtype=\"http://schema.org/Product\">\\n  <div class=\"thumbnail-container\">\\n  <div class=\"dd-product-image\">\\n    \\n      <a href=\"https://muiskcolombia.com/inicio/16322-59-hombre-jersey-manga-larga-confort-puntos-negro.html#/5-talla-xxs/6-genero-hombre\" class=\"thumbnail product-thumbnail\">\\n        <img\\n          src = \"https://muiskcolombia.com/1545-home_default/hombre-jersey-manga-larga-confort-puntos-negro.jpg\"\\n          alt = \"\"\\n          data-full-size-image-url = \"https://muiskcolombia.com/1545-large_default/hombre-jersey-manga-larga-confort-puntos-negro.jpg\"\\n        >\\n      </a>\\n    \\n\\t\\t\\t\\n\\t\\t<ul class=\"product-flags\">\\n\\t\\t\\t\\t\\t\\t<li class=\"on-sale\">¡En oferta!</li>\\n\\t\\t\\t\\t\\t\\t<li class=\"discount\">-$\\xa029.370,00</li>\\n\\t\\t\\t\\t\\t\\t<li class=\"new\">Nuevo</li>\\n\\t\\t\\t\\t\\t</ul>\\n\\t\\t\\n\\t</div>\\n\\t\\n\\t<div class=\"product-desc\">\\n    <div class=\"product-description\">\\n      \\n        <h1 class=\"h3 product-title\" itemprop=\"name\"><a href=\"https://muiskcolombia.com/inicio/16322-59-hombre-jersey-manga-larga-confort-puntos-negro.html#/5-talla-xxs/6-genero-hombre\">HOMBRE JERSEY MANGA LARGA...</a></h1>\\n      \\n\\n        \\n                      <div class=\"product-price-and-shipping\">\\n                              \\n\\n                <span class=\"sr-only\">Precio base</span>\\n                <span class=\"regular-price\">$\\xa0127.270,00</span>\\n                              \\n              \\n\\n              <span class=\"sr-only\">Precio</span>\\n              <span itemprop=\"price\" class=\"price\">$\\xa097.900,00</span>\\n\\n              \\n\\n              \\n            </div>\\n\\t\\t\\n\\t\\t\\n<div class=\"product-list-reviews\" data-id=\"16322\" data-url=\"https://muiskcolombia.com/module/productcomments/CommentGrade\">\\n  <div class=\"grade-stars small-stars\"></div>\\n  <div class=\"comments-nb\"></div>\\n</div>\\n\\n\\n\\t\\t\\n                  \\n</div>\\n\\t\\t\\t<div class=\"highlighted-informations no-variants\">\\n\\t\\t\\t\\t\\t<div class=\"buttons-actions_align\">\\n\\t\\t\\t\\t\\t\\t\\t\\t\\n\\t\\t\\t\\t\\t\\t\\t\\t<form action=\"https://muiskcolombia.com/carrito\" method=\"post\" id=\"add-to-cart-or-refresh-16322\">\\n\\t\\t\\t\\t\\t\\t\\t\\t<input type=\"hidden\" name=\"token\" value=\"5dd126e3934713f1dfc114fa1b05c8c5\">\\n\\t\\t\\t\\t\\t\\t\\t\\t<input type=\"hidden\" name=\"id_product\" value=\"16322\" id=\"product_page_product_id_16322\">\\n\\t\\t\\t\\t\\t\\t\\t\\t<input type=\"hidden\" name=\"id_customization\" value=\"0\" id=\"product_customization_id_16322\">\\n\\t\\t\\t\\t\\t\\t\\t\\t\\n\\t\\t\\t\\t\\t\\t\\t\\t\\t<div class=\"product-add-to-cart-buttons\">\\n      \\n      <div class=\"product-quantity\">\\n        <div class=\"qty hidden-xl-down\">\\n          <input type=\"text\" name=\"qty\" id=\"quantity_wanted\" value=\"1\" class=\"input-group\" min=\"1\" />\\n        </div>\\n<div class=\"add\" >\\n\\t\\t\\t\\t\\t\\t                           <button class=\"add-to-cart-buttons\" style=\"outline: none; text-decoration: none;\" data-button-action=\"add-to-cart\" title=\"Adicionar al carrito\" type=\"submit\"> \\n\\t\\t\\t\\t\\t\\t</button>\\n                               \\t    </div>\\n      </div>\\n    \\n  </div>\\n\\t\\t\\t\\t\\t\\t\\t\\t\\n\\t\\t\\t\\t\\t\\t\\t</form>\\n\\t\\t\\t\\t\\t\\t\\t\\n\\t\\t\\t\\t\\t\\t\\t\\t<input class=\"product-refresh\" data-url-update=\"false\" name=\"refresh\" type=\"submit\" value=\"Refrescar\" hidden>\\n\\t\\t\\t\\t\\t\\t\\t\\n\\t\\t\\t\\t\\t\\n\\t\\t\\t\\n\\t\\t\\t\\t\\t<a href=\"https://muiskcolombia.com/inicio/16322-59-hombre-jersey-manga-larga-confort-puntos-negro.html#/5-talla-xxs/6-genero-hombre\" title=\"Ver\" class=\"view\">\\n\\t\\t\\t\\t\\t</a>\\n\\t\\t\\t\\n\\t\\t\\t\\t\\t\\t<a href=\"#\" class=\"quick-view\" title=\"Ver\" data-link-action=\"quickview\">\\n\\t\\t\\t\\t\\t\\t\\t<div class=\"quick-view-buttons\">\\n\\t\\t\\t\\t\\t\\t\\t<i class=\"material-icons quick\">&#xE8F4;</i> \\n\\t\\t\\t\\t\\t\\t</div>\\n\\t\\t\\t\\t\\t</a>\\n\\t\\t\\t\\t\\t</div>\\n\\t\\t\\t</div>\\n\\t\\t</div>\\t\\n\\t</div>\\n</article>\\n\\t\\t\\t</li>\\n\\t\\t\\t\\t\\t<li class=\"item\">\\n\\t\\t\\t\\t  \\n<article class=\"product-miniature js-product-miniature\" data-id-product=\"16323\" data-id-product-attribute=\"60\" itemscope itemtype=\"http://schema.org/Product\">\\n  <div class=\"thumbnail-container\">\\n  <div class=\"dd-product-image\">\\n    \\n      <a href=\"https://muiskcolombia.com/inicio/16323-60-hombre-jersey-manga-larga-confort-puntos-azul.html#/5-talla-xxs/6-genero-hombre\" class=\"thumbnail product-thumbnail\">\\n        <img\\n          src = \"https://muiskcolombia.com/1553-home_default/hombre-jersey-manga-larga-confort-puntos-azul.jpg\"\\n          alt = \"\"\\n          data-full-size-image-url = \"https://muiskcolombia.com/1553-large_default/hombre-jersey-manga-larga-confort-puntos-azul.jpg\"\\n        >\\n      </a>\\n    \\n\\t\\t\\t\\n\\t\\t<ul class=\"product-flags\">\\n\\t\\t\\t\\t\\t\\t<li class=\"on-sale\">¡En oferta!</li>\\n\\t\\t\\t\\t\\t\\t<li class=\"discount\">-$\\xa029.370,00</li>\\n\\t\\t\\t\\t\\t\\t<li class=\"new\">Nuevo</li>\\n\\t\\t\\t\\t\\t</ul>\\n\\t\\t\\n\\t</div>\\n\\t\\n\\t<div class=\"product-desc\">\\n    <div class=\"product-description\">\\n      \\n        <h1 class=\"h3 product-title\" itemprop=\"name\"><a href=\"https://muiskcolombia.com/inicio/16323-60-hombre-jersey-manga-larga-confort-puntos-azul.html#/5-talla-xxs/6-genero-hombre\">HOMBRE JERSEY MANGA LARGA...</a></h1>\\n      \\n\\n        \\n                      <div class=\"product-price-and-shipping\">\\n                              \\n\\n                <span class=\"sr-only\">Precio base</span>\\n                <span class=\"regular-price\">$\\xa0127.270,00</span>\\n                              \\n              \\n\\n              <span class=\"sr-only\">Precio</span>\\n              <span itemprop=\"price\" class=\"price\">$\\xa097.900,00</span>\\n\\n              \\n\\n              \\n            </div>\\n\\t\\t\\n\\t\\t\\n<div class=\"product-list-reviews\" data-id=\"16323\" data-url=\"https://muiskcolombia.com/module/productcomments/CommentGrade\">\\n  <div class=\"grade-stars small-stars\"></div>\\n  <div class=\"comments-nb\"></div>\\n</div>\\n\\n\\n\\t\\t\\n                  \\n</div>\\n\\t\\t\\t<div class=\"highlighted-informations no-variants\">\\n\\t\\t\\t\\t\\t<div class=\"buttons-actions_align\">\\n\\t\\t\\t\\t\\t\\t\\t\\t\\n\\t\\t\\t\\t\\t\\t\\t\\t<form action=\"https://muiskcolombia.com/carrito\" method=\"post\" id=\"add-to-cart-or-refresh-16323\">\\n\\t\\t\\t\\t\\t\\t\\t\\t<input type=\"hidden\" name=\"token\" value=\"5dd126e3934713f1dfc114fa1b05c8c5\">\\n\\t\\t\\t\\t\\t\\t\\t\\t<input type=\"hidden\" name=\"id_product\" value=\"16323\" id=\"product_page_product_id_16323\">\\n\\t\\t\\t\\t\\t\\t\\t\\t<input type=\"hidden\" name=\"id_customization\" value=\"0\" id=\"product_customization_id_16323\">\\n\\t\\t\\t\\t\\t\\t\\t\\t\\n\\t\\t\\t\\t\\t\\t\\t\\t\\t<div class=\"product-add-to-cart-buttons\">\\n      \\n      <div class=\"product-quantity\">\\n        <div class=\"qty hidden-xl-down\">\\n          <input type=\"text\" name=\"qty\" id=\"quantity_wanted\" value=\"1\" class=\"input-group\" min=\"1\" />\\n        </div>\\n<div class=\"add\" >\\n\\t\\t\\t\\t\\t\\t                           <button class=\"add-to-cart-buttons\" style=\"outline: none; text-decoration: none;\" data-button-action=\"add-to-cart\" title=\"Adicionar al carrito\" type=\"submit\"> \\n\\t\\t\\t\\t\\t\\t</button>\\n                               \\t    </div>\\n      </div>\\n    \\n  </div>\\n\\t\\t\\t\\t\\t\\t\\t\\t\\n\\t\\t\\t\\t\\t\\t\\t</form>\\n\\t\\t\\t\\t\\t\\t\\t\\n\\t\\t\\t\\t\\t\\t\\t\\t<input class=\"product-refresh\" data-url-update=\"false\" name=\"refresh\" type=\"submit\" value=\"Refrescar\" hidden>\\n\\t\\t\\t\\t\\t\\t\\t\\n\\t\\t\\t\\t\\t\\n\\t\\t\\t\\n\\t\\t\\t\\t\\t<a href=\"https://muiskcolombia.com/inicio/16323-60-hombre-jersey-manga-larga-confort-puntos-azul.html#/5-talla-xxs/6-genero-hombre\" title=\"Ver\" class=\"view\">\\n\\t\\t\\t\\t\\t</a>\\n\\t\\t\\t\\n\\t\\t\\t\\t\\t\\t<a href=\"#\" class=\"quick-view\" title=\"Ver\" data-link-action=\"quickview\">\\n\\t\\t\\t\\t\\t\\t\\t<div class=\"quick-view-buttons\">\\n\\t\\t\\t\\t\\t\\t\\t<i class=\"material-icons quick\">&#xE8F4;</i> \\n\\t\\t\\t\\t\\t\\t</div>\\n\\t\\t\\t\\t\\t</a>\\n\\t\\t\\t\\t\\t</div>\\n\\t\\t\\t</div>\\n\\t\\t</div>\\t\\n\\t</div>\\n</article>\\n\\t\\t\\t</li>\\n\\t\\t\\t\\t\\t<li class=\"item\">\\n\\t\\t\\t\\t  \\n<article class=\"product-miniature js-product-miniature\" data-id-product=\"16324\" data-id-product-attribute=\"61\" itemscope itemtype=\"http://schema.org/Product\">\\n  <div class=\"thumbnail-container\">\\n  <div class=\"dd-product-image\">\\n    \\n      <a href=\"https://muiskcolombia.com/inicio/16324-61-hombre-jersey-manga-larga-confort-puntos-vino.html#/5-talla-xxs/6-genero-hombre\" class=\"thumbnail product-thumbnail\">\\n        <img\\n          src = \"https://muiskcolombia.com/1561-home_default/hombre-jersey-manga-larga-confort-puntos-vino.jpg\"\\n          alt = \"\"\\n          data-full-size-image-url = \"https://muiskcolombia.com/1561-large_default/hombre-jersey-manga-larga-confort-puntos-vino.jpg\"\\n        >\\n      </a>\\n    \\n\\t\\t\\t\\n\\t\\t<ul class=\"product-flags\">\\n\\t\\t\\t\\t\\t\\t<li class=\"on-sale\">¡En oferta!</li>\\n\\t\\t\\t\\t\\t\\t<li class=\"discount\">-$\\xa029.370,00</li>\\n\\t\\t\\t\\t\\t\\t<li class=\"new\">Nuevo</li>\\n\\t\\t\\t\\t\\t</ul>\\n\\t\\t\\n\\t</div>\\n\\t\\n\\t<div class=\"product-desc\">\\n    <div class=\"product-description\">\\n      \\n        <h1 class=\"h3 product-title\" itemprop=\"name\"><a href=\"https://muiskcolombia.com/inicio/16324-61-hombre-jersey-manga-larga-confort-puntos-vino.html#/5-talla-xxs/6-genero-hombre\">HOMBRE JERSEY MANGA LARGA...</a></h1>\\n      \\n\\n        \\n                      <div class=\"product-price-and-shipping\">\\n                              \\n\\n                <span class=\"sr-only\">Precio base</span>\\n                <span class=\"regular-price\">$\\xa0127.270,00</span>\\n                              \\n              \\n\\n              <span class=\"sr-only\">Precio</span>\\n              <span itemprop=\"price\" class=\"price\">$\\xa097.900,00</span>\\n\\n              \\n\\n              \\n            </div>\\n\\t\\t\\n\\t\\t\\n<div class=\"product-list-reviews\" data-id=\"16324\" data-url=\"https://muiskcolombia.com/module/productcomments/CommentGrade\">\\n  <div class=\"grade-stars small-stars\"></div>\\n  <div class=\"comments-nb\"></div>\\n</div>\\n\\n\\n\\t\\t\\n                  \\n</div>\\n\\t\\t\\t<div class=\"highlighted-informations no-variants\">\\n\\t\\t\\t\\t\\t<div class=\"buttons-actions_align\">\\n\\t\\t\\t\\t\\t\\t\\t\\t\\n\\t\\t\\t\\t\\t\\t\\t\\t<form action=\"https://muiskcolombia.com/carrito\" method=\"post\" id=\"add-to-cart-or-refresh-16324\">\\n\\t\\t\\t\\t\\t\\t\\t\\t<input type=\"hidden\" name=\"token\" value=\"5dd126e3934713f1dfc114fa1b05c8c5\">\\n\\t\\t\\t\\t\\t\\t\\t\\t<input type=\"hidden\" name=\"id_product\" value=\"16324\" id=\"product_page_product_id_16324\">\\n\\t\\t\\t\\t\\t\\t\\t\\t<input type=\"hidden\" name=\"id_customization\" value=\"0\" id=\"product_customization_id_16324\">\\n\\t\\t\\t\\t\\t\\t\\t\\t\\n\\t\\t\\t\\t\\t\\t\\t\\t\\t<div class=\"product-add-to-cart-buttons\">\\n      \\n      <div class=\"product-quantity\">\\n        <div class=\"qty hidden-xl-down\">\\n          <input type=\"text\" name=\"qty\" id=\"quantity_wanted\" value=\"1\" class=\"input-group\" min=\"1\" />\\n        </div>\\n<div class=\"add\" >\\n\\t\\t\\t\\t\\t\\t                           <button class=\"add-to-cart-buttons\" style=\"outline: none; text-decoration: none;\" data-button-action=\"add-to-cart\" title=\"Adicionar al carrito\" type=\"submit\"> \\n\\t\\t\\t\\t\\t\\t</button>\\n                               \\t    </div>\\n      </div>\\n    \\n  </div>\\n\\t\\t\\t\\t\\t\\t\\t\\t\\n\\t\\t\\t\\t\\t\\t\\t</form>\\n\\t\\t\\t\\t\\t\\t\\t\\n\\t\\t\\t\\t\\t\\t\\t\\t<input class=\"product-refresh\" data-url-update=\"false\" name=\"refresh\" type=\"submit\" value=\"Refrescar\" hidden>\\n\\t\\t\\t\\t\\t\\t\\t\\n\\t\\t\\t\\t\\t\\n\\t\\t\\t\\n\\t\\t\\t\\t\\t<a href=\"https://muiskcolombia.com/inicio/16324-61-hombre-jersey-manga-larga-confort-puntos-vino.html#/5-talla-xxs/6-genero-hombre\" title=\"Ver\" class=\"view\">\\n\\t\\t\\t\\t\\t</a>\\n\\t\\t\\t\\n\\t\\t\\t\\t\\t\\t<a href=\"#\" class=\"quick-view\" title=\"Ver\" data-link-action=\"quickview\">\\n\\t\\t\\t\\t\\t\\t\\t<div class=\"quick-view-buttons\">\\n\\t\\t\\t\\t\\t\\t\\t<i class=\"material-icons quick\">&#xE8F4;</i> \\n\\t\\t\\t\\t\\t\\t</div>\\n\\t\\t\\t\\t\\t</a>\\n\\t\\t\\t\\t\\t</div>\\n\\t\\t\\t</div>\\n\\t\\t</div>\\t\\n\\t</div>\\n</article>\\n\\t\\t\\t</li>\\n\\t\\t\\t\\t\\t<li class=\"item\">\\n\\t\\t\\t\\t  \\n<article class=\"product-miniature js-product-miniature\" data-id-product=\"16315\" data-id-product-attribute=\"53\" itemscope itemtype=\"http://schema.org/Product\">\\n  <div class=\"thumbnail-container\">\\n  <div class=\"dd-product-image\">\\n    \\n      <a href=\"https://muiskcolombia.com/inicio/16315-53-hombre-jersey-manga-larga-confort-fucsia.html#/5-talla-xxs/6-genero-hombre\" class=\"thumbnail product-thumbnail\">\\n        <img\\n          src = \"https://muiskcolombia.com/1489-home_default/hombre-jersey-manga-larga-confort-fucsia.jpg\"\\n          alt = \"\"\\n          data-full-size-image-url = \"https://muiskcolombia.com/1489-large_default/hombre-jersey-manga-larga-confort-fucsia.jpg\"\\n        >\\n      </a>\\n    \\n\\t\\t\\t\\n\\t\\t<ul class=\"product-flags\">\\n\\t\\t\\t\\t\\t\\t<li class=\"on-sale\">¡En oferta!</li>\\n\\t\\t\\t\\t\\t\\t<li class=\"discount\">-$\\xa029.370,00</li>\\n\\t\\t\\t\\t\\t\\t<li class=\"new\">Nuevo</li>\\n\\t\\t\\t\\t\\t</ul>\\n\\t\\t\\n\\t</div>\\n\\t\\n\\t<div class=\"product-desc\">\\n    <div class=\"product-description\">\\n      \\n        <h1 class=\"h3 product-title\" itemprop=\"name\"><a href=\"https://muiskcolombia.com/inicio/16315-53-hombre-jersey-manga-larga-confort-fucsia.html#/5-talla-xxs/6-genero-hombre\">HOMBRE JERSEY MANGA LARGA...</a></h1>\\n      \\n\\n        \\n                      <div class=\"product-price-and-shipping\">\\n                              \\n\\n                <span class=\"sr-only\">Precio base</span>\\n                <span class=\"regular-price\">$\\xa0127.270,00</span>\\n                              \\n              \\n\\n              <span class=\"sr-only\">Precio</span>\\n              <span itemprop=\"price\" class=\"price\">$\\xa097.900,00</span>\\n\\n              \\n\\n              \\n            </div>\\n\\t\\t\\n\\t\\t\\n<div class=\"product-list-reviews\" data-id=\"16315\" data-url=\"https://muiskcolombia.com/module/productcomments/CommentGrade\">\\n  <div class=\"grade-stars small-stars\"></div>\\n  <div class=\"comments-nb\"></div>\\n</div>\\n\\n\\n\\t\\t\\n                  \\n</div>\\n\\t\\t\\t<div class=\"highlighted-informations no-variants\">\\n\\t\\t\\t\\t\\t<div class=\"buttons-actions_align\">\\n\\t\\t\\t\\t\\t\\t\\t\\t\\n\\t\\t\\t\\t\\t\\t\\t\\t<form action=\"https://muiskcolombia.com/carrito\" method=\"post\" id=\"add-to-cart-or-refresh-16315\">\\n\\t\\t\\t\\t\\t\\t\\t\\t<input type=\"hidden\" name=\"token\" value=\"5dd126e3934713f1dfc114fa1b05c8c5\">\\n\\t\\t\\t\\t\\t\\t\\t\\t<input type=\"hidden\" name=\"id_product\" value=\"16315\" id=\"product_page_product_id_16315\">\\n\\t\\t\\t\\t\\t\\t\\t\\t<input type=\"hidden\" name=\"id_customization\" value=\"0\" id=\"product_customization_id_16315\">\\n\\t\\t\\t\\t\\t\\t\\t\\t\\n\\t\\t\\t\\t\\t\\t\\t\\t\\t<div class=\"product-add-to-cart-buttons\">\\n      \\n      <div class=\"product-quantity\">\\n        <div class=\"qty hidden-xl-down\">\\n          <input type=\"text\" name=\"qty\" id=\"quantity_wanted\" value=\"1\" class=\"input-group\" min=\"1\" />\\n        </div>\\n<div class=\"add\" >\\n\\t\\t\\t\\t\\t\\t                           <button class=\"add-to-cart-buttons\" style=\"outline: none; text-decoration: none;\" data-button-action=\"add-to-cart\" title=\"Adicionar al carrito\" type=\"submit\"> \\n\\t\\t\\t\\t\\t\\t</button>\\n                               \\t    </div>\\n      </div>\\n    \\n  </div>\\n\\t\\t\\t\\t\\t\\t\\t\\t\\n\\t\\t\\t\\t\\t\\t\\t</form>\\n\\t\\t\\t\\t\\t\\t\\t\\n\\t\\t\\t\\t\\t\\t\\t\\t<input class=\"product-refresh\" data-url-update=\"false\" name=\"refresh\" type=\"submit\" value=\"Refrescar\" hidden>\\n\\t\\t\\t\\t\\t\\t\\t\\n\\t\\t\\t\\t\\t\\n\\t\\t\\t\\n\\t\\t\\t\\t\\t<a href=\"https://muiskcolombia.com/inicio/16315-53-hombre-jersey-manga-larga-confort-fucsia.html#/5-talla-xxs/6-genero-hombre\" title=\"Ver\" class=\"view\">\\n\\t\\t\\t\\t\\t</a>\\n\\t\\t\\t\\n\\t\\t\\t\\t\\t\\t<a href=\"#\" class=\"quick-view\" title=\"Ver\" data-link-action=\"quickview\">\\n\\t\\t\\t\\t\\t\\t\\t<div class=\"quick-view-buttons\">\\n\\t\\t\\t\\t\\t\\t\\t<i class=\"material-icons quick\">&#xE8F4;</i> \\n\\t\\t\\t\\t\\t\\t</div>\\n\\t\\t\\t\\t\\t</a>\\n\\t\\t\\t\\t\\t</div>\\n\\t\\t\\t</div>\\n\\t\\t</div>\\t\\n\\t</div>\\n</article>\\n\\t\\t\\t</li>\\n\\t\\t\\t\\t\\t<li class=\"item\">\\n\\t\\t\\t\\t  \\n<article class=\"product-miniature js-product-miniature\" data-id-product=\"16316\" data-id-product-attribute=\"54\" itemscope itemtype=\"http://schema.org/Product\">\\n  <div class=\"thumbnail-container\">\\n  <div class=\"dd-product-image\">\\n    \\n      <a href=\"https://muiskcolombia.com/inicio/16316-54-hombre-jersey-manga-larga-patios-militar-outlet.html#/5-talla-xxs/6-genero-hombre\" class=\"thumbnail product-thumbnail\">\\n        <img\\n          src = \"https://muiskcolombia.com/1497-home_default/hombre-jersey-manga-larga-patios-militar-outlet.jpg\"\\n          alt = \"\"\\n          data-full-size-image-url = \"https://muiskcolombia.com/1497-large_default/hombre-jersey-manga-larga-patios-militar-outlet.jpg\"\\n        >\\n      </a>\\n    \\n\\t\\t\\t\\n\\t\\t<ul class=\"product-flags\">\\n\\t\\t\\t\\t\\t\\t<li class=\"on-sale\">¡En oferta!</li>\\n\\t\\t\\t\\t\\t\\t<li class=\"discount\">-$\\xa016.470,00</li>\\n\\t\\t\\t\\t\\t\\t<li class=\"new\">Nuevo</li>\\n\\t\\t\\t\\t\\t</ul>\\n\\t\\t\\n\\t</div>\\n\\t\\n\\t<div class=\"product-desc\">\\n    <div class=\"product-description\">\\n      \\n        <h1 class=\"h3 product-title\" itemprop=\"name\"><a href=\"https://muiskcolombia.com/inicio/16316-54-hombre-jersey-manga-larga-patios-militar-outlet.html#/5-talla-xxs/6-genero-hombre\">HOMBRE JERSEY MANGA LARGA...</a></h1>\\n      \\n\\n        \\n                      <div class=\"product-price-and-shipping\">\\n                              \\n\\n                <span class=\"sr-only\">Precio base</span>\\n                <span class=\"regular-price\">$\\xa071.370,00</span>\\n                              \\n              \\n\\n              <span class=\"sr-only\">Precio</span>\\n              <span itemprop=\"price\" class=\"price\">$\\xa054.900,00</span>\\n\\n              \\n\\n              \\n            </div>\\n\\t\\t\\n\\t\\t\\n<div class=\"product-list-reviews\" data-id=\"16316\" data-url=\"https://muiskcolombia.com/module/productcomments/CommentGrade\">\\n  <div class=\"grade-stars small-stars\"></div>\\n  <div class=\"comments-nb\"></div>\\n</div>\\n\\n\\n\\t\\t\\n                  \\n</div>\\n\\t\\t\\t<div class=\"highlighted-informations no-variants\">\\n\\t\\t\\t\\t\\t<div class=\"buttons-actions_align\">\\n\\t\\t\\t\\t\\t\\t\\t\\t\\n\\t\\t\\t\\t\\t\\t\\t\\t<form action=\"https://muiskcolombia.com/carrito\" method=\"post\" id=\"add-to-cart-or-refresh-16316\">\\n\\t\\t\\t\\t\\t\\t\\t\\t<input type=\"hidden\" name=\"token\" value=\"5dd126e3934713f1dfc114fa1b05c8c5\">\\n\\t\\t\\t\\t\\t\\t\\t\\t<input type=\"hidden\" name=\"id_product\" value=\"16316\" id=\"product_page_product_id_16316\">\\n\\t\\t\\t\\t\\t\\t\\t\\t<input type=\"hidden\" name=\"id_customization\" value=\"0\" id=\"product_customization_id_16316\">\\n\\t\\t\\t\\t\\t\\t\\t\\t\\n\\t\\t\\t\\t\\t\\t\\t\\t\\t<div class=\"product-add-to-cart-buttons\">\\n      \\n      <div class=\"product-quantity\">\\n        <div class=\"qty hidden-xl-down\">\\n          <input type=\"text\" name=\"qty\" id=\"quantity_wanted\" value=\"1\" class=\"input-group\" min=\"1\" />\\n        </div>\\n<div class=\"add\" >\\n\\t\\t\\t\\t\\t\\t                           <button class=\"add-to-cart-buttons\" style=\"outline: none; text-decoration: none;\" data-button-action=\"add-to-cart\" title=\"Adicionar al carrito\" type=\"submit\"> \\n\\t\\t\\t\\t\\t\\t</button>\\n                               \\t    </div>\\n      </div>\\n    \\n  </div>\\n\\t\\t\\t\\t\\t\\t\\t\\t\\n\\t\\t\\t\\t\\t\\t\\t</form>\\n\\t\\t\\t\\t\\t\\t\\t\\n\\t\\t\\t\\t\\t\\t\\t\\t<input class=\"product-refresh\" data-url-update=\"false\" name=\"refresh\" type=\"submit\" value=\"Refrescar\" hidden>\\n\\t\\t\\t\\t\\t\\t\\t\\n\\t\\t\\t\\t\\t\\n\\t\\t\\t\\n\\t\\t\\t\\t\\t<a href=\"https://muiskcolombia.com/inicio/16316-54-hombre-jersey-manga-larga-patios-militar-outlet.html#/5-talla-xxs/6-genero-hombre\" title=\"Ver\" class=\"view\">\\n\\t\\t\\t\\t\\t</a>\\n\\t\\t\\t\\n\\t\\t\\t\\t\\t\\t<a href=\"#\" class=\"quick-view\" title=\"Ver\" data-link-action=\"quickview\">\\n\\t\\t\\t\\t\\t\\t\\t<div class=\"quick-view-buttons\">\\n\\t\\t\\t\\t\\t\\t\\t<i class=\"material-icons quick\">&#xE8F4;</i> \\n\\t\\t\\t\\t\\t\\t</div>\\n\\t\\t\\t\\t\\t</a>\\n\\t\\t\\t\\t\\t</div>\\n\\t\\t\\t</div>\\n\\t\\t</div>\\t\\n\\t</div>\\n</article>\\n\\t\\t\\t</li>\\n\\t\\t\\t\\t\\n\\t\\t</ul>\\n\\t\\t<div class=\"view_more\">\\n\\t\\t\\t  <a class=\"all-product-link\" href=\"https://muiskcolombia.com/novedades\">Todas los nuevos productos</a>\\n\\t\\t</div>\\n\\t</div>\\n</section>\\n\\n<section class=\"featured-products clearfix\">\\n<div class=\"linia_tytul\">\\n    <div class=\"tytuly\">\\n\\t\\tProductos Populares\\n\\t\\t\\t</div>\\n\\t\\t\\t<div class=\"SliderNavigation\">\\n\\t\\t\\t\\t<a class=\"btn prev sliderfeature_prev\">&nbsp;</a>\\n\\t\\t\\t\\t<a class=\"btn next sliderfeature_next\">&nbsp;</a>\\n\\t\\t\\t</div>\\n</div>\\t\\n\\t<div class=\"products\">\\t\\t\\t\\n\\t\\t\\t\\t\\t\\t\\t<ul id=\"feature-carousel\" class=\"product_list\">\\n\\t\\t\\n\\t\\t\\t\\t\\t<li class=\"item\">\\n\\t\\t\\t\\t  \\n<article class=\"product-miniature js-product-miniature\" data-id-product=\"16001\" data-id-product-attribute=\"64\" itemscope itemtype=\"http://schema.org/Product\">\\n  <div class=\"thumbnail-container\">\\n  <div class=\"dd-product-image\">\\n    \\n      <a href=\"https://muiskcolombia.com/inicio/16001-64-hombre-badana-semifondo-negra.html#/6-genero-hombre/7-talla-xs\" class=\"thumbnail product-thumbnail\">\\n        <img\\n          src = \"https://muiskcolombia.com/1-home_default/hombre-badana-semifondo-negra.jpg\"\\n          alt = \"\"\\n          data-full-size-image-url = \"https://muiskcolombia.com/1-large_default/hombre-badana-semifondo-negra.jpg\"\\n        >\\n      </a>\\n    \\n\\t\\t\\t\\n\\t\\t<ul class=\"product-flags\">\\n\\t\\t\\t\\t\\t\\t<li class=\"on-sale\">¡En oferta!</li>\\n\\t\\t\\t\\t\\t\\t<li class=\"discount\">-$\\xa029.970,00</li>\\n\\t\\t\\t\\t\\t\\t<li class=\"new\">Nuevo</li>\\n\\t\\t\\t\\t\\t</ul>\\n\\t\\t\\n\\t</div>\\n\\t\\n\\t<div class=\"product-desc\">\\n    <div class=\"product-description\">\\n      \\n        <h1 class=\"h3 product-title\" itemprop=\"name\"><a href=\"https://muiskcolombia.com/inicio/16001-64-hombre-badana-semifondo-negra.html#/6-genero-hombre/7-talla-xs\">HOMBRE BADANA SEMIFONDO NEGRA</a></h1>\\n      \\n\\n        \\n                      <div class=\"product-price-and-shipping\">\\n                              \\n\\n                <span class=\"sr-only\">Precio base</span>\\n                <span class=\"regular-price\">$\\xa0129.870,00</span>\\n                              \\n              \\n\\n              <span class=\"sr-only\">Precio</span>\\n              <span itemprop=\"price\" class=\"price\">$\\xa099.900,00</span>\\n\\n              \\n\\n              \\n            </div>\\n\\t\\t\\n\\t\\t\\n<div class=\"product-list-reviews\" data-id=\"16001\" data-url=\"https://muiskcolombia.com/module/productcomments/CommentGrade\">\\n  <div class=\"grade-stars small-stars\"></div>\\n  <div class=\"comments-nb\"></div>\\n</div>\\n\\n\\n\\t\\t\\n                  \\n</div>\\n\\t\\t\\t<div class=\"highlighted-informations no-variants\">\\n\\t\\t\\t\\t\\t<div class=\"buttons-actions_align\">\\n\\t\\t\\t\\t\\t\\t\\t\\t\\n\\t\\t\\t\\t\\t\\t\\t\\t<form action=\"https://muiskcolombia.com/carrito\" method=\"post\" id=\"add-to-cart-or-refresh-16001\">\\n\\t\\t\\t\\t\\t\\t\\t\\t<input type=\"hidden\" name=\"token\" value=\"5dd126e3934713f1dfc114fa1b05c8c5\">\\n\\t\\t\\t\\t\\t\\t\\t\\t<input type=\"hidden\" name=\"id_product\" value=\"16001\" id=\"product_page_product_id_16001\">\\n\\t\\t\\t\\t\\t\\t\\t\\t<input type=\"hidden\" name=\"id_customization\" value=\"0\" id=\"product_customization_id_16001\">\\n\\t\\t\\t\\t\\t\\t\\t\\t\\n\\t\\t\\t\\t\\t\\t\\t\\t\\t<div class=\"product-add-to-cart-buttons\">\\n      \\n      <div class=\"product-quantity\">\\n        <div class=\"qty hidden-xl-down\">\\n          <input type=\"text\" name=\"qty\" id=\"quantity_wanted\" value=\"1\" class=\"input-group\" min=\"1\" />\\n        </div>\\n<div class=\"add\" >\\n\\t\\t\\t\\t\\t\\t                           <button class=\"add-to-cart-buttons\" style=\"outline: none; text-decoration: none;\" data-button-action=\"add-to-cart\" title=\"Adicionar al carrito\" type=\"submit\"> \\n\\t\\t\\t\\t\\t\\t</button>\\n                               \\t    </div>\\n      </div>\\n    \\n  </div>\\n\\t\\t\\t\\t\\t\\t\\t\\t\\n\\t\\t\\t\\t\\t\\t\\t</form>\\n\\t\\t\\t\\t\\t\\t\\t\\n\\t\\t\\t\\t\\t\\t\\t\\t<input class=\"product-refresh\" data-url-update=\"false\" name=\"refresh\" type=\"submit\" value=\"Refrescar\" hidden>\\n\\t\\t\\t\\t\\t\\t\\t\\n\\t\\t\\t\\t\\t\\n\\t\\t\\t\\n\\t\\t\\t\\t\\t<a href=\"https://muiskcolombia.com/inicio/16001-64-hombre-badana-semifondo-negra.html#/6-genero-hombre/7-talla-xs\" title=\"Ver\" class=\"view\">\\n\\t\\t\\t\\t\\t</a>\\n\\t\\t\\t\\n\\t\\t\\t\\t\\t\\t<a href=\"#\" class=\"quick-view\" title=\"Ver\" data-link-action=\"quickview\">\\n\\t\\t\\t\\t\\t\\t\\t<div class=\"quick-view-buttons\">\\n\\t\\t\\t\\t\\t\\t\\t<i class=\"material-icons quick\">&#xE8F4;</i> \\n\\t\\t\\t\\t\\t\\t</div>\\n\\t\\t\\t\\t\\t</a>\\n\\t\\t\\t\\t\\t</div>\\n\\t\\t\\t</div>\\n\\t\\t</div>\\t\\n\\t</div>\\n</article>\\n\\t\\t\\t</li>\\n\\t\\t\\t\\t\\t<li class=\"item\">\\n\\t\\t\\t\\t  \\n<article class=\"product-miniature js-product-miniature\" data-id-product=\"16005\" data-id-product-attribute=\"65\" itemscope itemtype=\"http://schema.org/Product\">\\n  <div class=\"thumbnail-container\">\\n  <div class=\"dd-product-image\">\\n    \\n      <a href=\"https://muiskcolombia.com/inicio/16005-65-hombre-badana-semifondo-azul-oscuro.html#/6-genero-hombre/7-talla-xs\" class=\"thumbnail product-thumbnail\">\\n        <img\\n          src = \"https://muiskcolombia.com/33-home_default/hombre-badana-semifondo-azul-oscuro.jpg\"\\n          alt = \"\"\\n          data-full-size-image-url = \"https://muiskcolombia.com/33-large_default/hombre-badana-semifondo-azul-oscuro.jpg\"\\n        >\\n      </a>\\n    \\n\\t\\t\\t\\n\\t\\t<ul class=\"product-flags\">\\n\\t\\t\\t\\t\\t\\t<li class=\"on-sale\">¡En oferta!</li>\\n\\t\\t\\t\\t\\t\\t<li class=\"discount\">-$\\xa029.970,00</li>\\n\\t\\t\\t\\t\\t\\t<li class=\"new\">Nuevo</li>\\n\\t\\t\\t\\t\\t</ul>\\n\\t\\t\\n\\t</div>\\n\\t\\n\\t<div class=\"product-desc\">\\n    <div class=\"product-description\">\\n      \\n        <h1 class=\"h3 product-title\" itemprop=\"name\"><a href=\"https://muiskcolombia.com/inicio/16005-65-hombre-badana-semifondo-azul-oscuro.html#/6-genero-hombre/7-talla-xs\">HOMBRE BADANA SEMIFONDO...</a></h1>\\n      \\n\\n        \\n                      <div class=\"product-price-and-shipping\">\\n                              \\n\\n                <span class=\"sr-only\">Precio base</span>\\n                <span class=\"regular-price\">$\\xa0129.870,00</span>\\n                              \\n              \\n\\n              <span class=\"sr-only\">Precio</span>\\n              <span itemprop=\"price\" class=\"price\">$\\xa099.900,00</span>\\n\\n              \\n\\n              \\n            </div>\\n\\t\\t\\n\\t\\t\\n<div class=\"product-list-reviews\" data-id=\"16005\" data-url=\"https://muiskcolombia.com/module/productcomments/CommentGrade\">\\n  <div class=\"grade-stars small-stars\"></div>\\n  <div class=\"comments-nb\"></div>\\n</div>\\n\\n\\n\\t\\t\\n                  \\n</div>\\n\\t\\t\\t<div class=\"highlighted-informations no-variants\">\\n\\t\\t\\t\\t\\t<div class=\"buttons-actions_align\">\\n\\t\\t\\t\\t\\t\\t\\t\\t\\n\\t\\t\\t\\t\\t\\t\\t\\t<form action=\"https://muiskcolombia.com/carrito\" method=\"post\" id=\"add-to-cart-or-refresh-16005\">\\n\\t\\t\\t\\t\\t\\t\\t\\t<input type=\"hidden\" name=\"token\" value=\"5dd126e3934713f1dfc114fa1b05c8c5\">\\n\\t\\t\\t\\t\\t\\t\\t\\t<input type=\"hidden\" name=\"id_product\" value=\"16005\" id=\"product_page_product_id_16005\">\\n\\t\\t\\t\\t\\t\\t\\t\\t<input type=\"hidden\" name=\"id_customization\" value=\"0\" id=\"product_customization_id_16005\">\\n\\t\\t\\t\\t\\t\\t\\t\\t\\n\\t\\t\\t\\t\\t\\t\\t\\t\\t<div class=\"product-add-to-cart-buttons\">\\n      \\n      <div class=\"product-quantity\">\\n        <div class=\"qty hidden-xl-down\">\\n          <input type=\"text\" name=\"qty\" id=\"quantity_wanted\" value=\"1\" class=\"input-group\" min=\"1\" />\\n        </div>\\n<div class=\"add\" >\\n\\t\\t\\t\\t\\t\\t                           <button class=\"add-to-cart-buttons\" style=\"outline: none; text-decoration: none;\" data-button-action=\"add-to-cart\" title=\"Adicionar al carrito\" type=\"submit\"> \\n\\t\\t\\t\\t\\t\\t</button>\\n                               \\t    </div>\\n      </div>\\n    \\n  </div>\\n\\t\\t\\t\\t\\t\\t\\t\\t\\n\\t\\t\\t\\t\\t\\t\\t</form>\\n\\t\\t\\t\\t\\t\\t\\t\\n\\t\\t\\t\\t\\t\\t\\t\\t<input class=\"product-refresh\" data-url-update=\"false\" name=\"refresh\" type=\"submit\" value=\"Refrescar\" hidden>\\n\\t\\t\\t\\t\\t\\t\\t\\n\\t\\t\\t\\t\\t\\n\\t\\t\\t\\n\\t\\t\\t\\t\\t<a href=\"https://muiskcolombia.com/inicio/16005-65-hombre-badana-semifondo-azul-oscuro.html#/6-genero-hombre/7-talla-xs\" title=\"Ver\" class=\"view\">\\n\\t\\t\\t\\t\\t</a>\\n\\t\\t\\t\\n\\t\\t\\t\\t\\t\\t<a href=\"#\" class=\"quick-view\" title=\"Ver\" data-link-action=\"quickview\">\\n\\t\\t\\t\\t\\t\\t\\t<div class=\"quick-view-buttons\">\\n\\t\\t\\t\\t\\t\\t\\t<i class=\"material-icons quick\">&#xE8F4;</i> \\n\\t\\t\\t\\t\\t\\t</div>\\n\\t\\t\\t\\t\\t</a>\\n\\t\\t\\t\\t\\t</div>\\n\\t\\t\\t</div>\\n\\t\\t</div>\\t\\n\\t</div>\\n</article>\\n\\t\\t\\t</li>\\n\\t\\t\\t\\t\\t<li class=\"item\">\\n\\t\\t\\t\\t  \\n<article class=\"product-miniature js-product-miniature\" data-id-product=\"16006\" data-id-product-attribute=\"66\" itemscope itemtype=\"http://schema.org/Product\">\\n  <div class=\"thumbnail-container\">\\n  <div class=\"dd-product-image\">\\n    \\n      <a href=\"https://muiskcolombia.com/inicio/16006-66-hombre-badana-semifondo-vinotinto.html#/6-genero-hombre/7-talla-xs\" class=\"thumbnail product-thumbnail\">\\n        <img\\n          src = \"https://muiskcolombia.com/41-home_default/hombre-badana-semifondo-vinotinto.jpg\"\\n          alt = \"\"\\n          data-full-size-image-url = \"https://muiskcolombia.com/41-large_default/hombre-badana-semifondo-vinotinto.jpg\"\\n        >\\n      </a>\\n    \\n\\t\\t\\t\\n\\t\\t<ul class=\"product-flags\">\\n\\t\\t\\t\\t\\t\\t<li class=\"on-sale\">¡En oferta!</li>\\n\\t\\t\\t\\t\\t\\t<li class=\"discount\">-$\\xa029.970,00</li>\\n\\t\\t\\t\\t\\t\\t<li class=\"new\">Nuevo</li>\\n\\t\\t\\t\\t\\t</ul>\\n\\t\\t\\n\\t</div>\\n\\t\\n\\t<div class=\"product-desc\">\\n    <div class=\"product-description\">\\n      \\n        <h1 class=\"h3 product-title\" itemprop=\"name\"><a href=\"https://muiskcolombia.com/inicio/16006-66-hombre-badana-semifondo-vinotinto.html#/6-genero-hombre/7-talla-xs\">HOMBRE BADANA SEMIFONDO...</a></h1>\\n      \\n\\n        \\n                      <div class=\"product-price-and-shipping\">\\n                              \\n\\n                <span class=\"sr-only\">Precio base</span>\\n                <span class=\"regular-price\">$\\xa0129.870,00</span>\\n                              \\n              \\n\\n              <span class=\"sr-only\">Precio</span>\\n              <span itemprop=\"price\" class=\"price\">$\\xa099.900,00</span>\\n\\n              \\n\\n              \\n            </div>\\n\\t\\t\\n\\t\\t\\n<div class=\"product-list-reviews\" data-id=\"16006\" data-url=\"https://muiskcolombia.com/module/productcomments/CommentGrade\">\\n  <div class=\"grade-stars small-stars\"></div>\\n  <div class=\"comments-nb\"></div>\\n</div>\\n\\n\\n\\t\\t\\n                  \\n</div>\\n\\t\\t\\t<div class=\"highlighted-informations no-variants\">\\n\\t\\t\\t\\t\\t<div class=\"buttons-actions_align\">\\n\\t\\t\\t\\t\\t\\t\\t\\t\\n\\t\\t\\t\\t\\t\\t\\t\\t<form action=\"https://muiskcolombia.com/carrito\" method=\"post\" id=\"add-to-cart-or-refresh-16006\">\\n\\t\\t\\t\\t\\t\\t\\t\\t<input type=\"hidden\" name=\"token\" value=\"5dd126e3934713f1dfc114fa1b05c8c5\">\\n\\t\\t\\t\\t\\t\\t\\t\\t<input type=\"hidden\" name=\"id_product\" value=\"16006\" id=\"product_page_product_id_16006\">\\n\\t\\t\\t\\t\\t\\t\\t\\t<input type=\"hidden\" name=\"id_customization\" value=\"0\" id=\"product_customization_id_16006\">\\n\\t\\t\\t\\t\\t\\t\\t\\t\\n\\t\\t\\t\\t\\t\\t\\t\\t\\t<div class=\"product-add-to-cart-buttons\">\\n      \\n      <div class=\"product-quantity\">\\n        <div class=\"qty hidden-xl-down\">\\n          <input type=\"text\" name=\"qty\" id=\"quantity_wanted\" value=\"1\" class=\"input-group\" min=\"1\" />\\n        </div>\\n<div class=\"add\" >\\n\\t\\t\\t\\t\\t\\t                           <button class=\"add-to-cart-buttons\" style=\"outline: none; text-decoration: none;\" data-button-action=\"add-to-cart\" title=\"Adicionar al carrito\" type=\"submit\"> \\n\\t\\t\\t\\t\\t\\t</button>\\n                               \\t    </div>\\n      </div>\\n    \\n  </div>\\n\\t\\t\\t\\t\\t\\t\\t\\t\\n\\t\\t\\t\\t\\t\\t\\t</form>\\n\\t\\t\\t\\t\\t\\t\\t\\n\\t\\t\\t\\t\\t\\t\\t\\t<input class=\"product-refresh\" data-url-update=\"false\" name=\"refresh\" type=\"submit\" value=\"Refrescar\" hidden>\\n\\t\\t\\t\\t\\t\\t\\t\\n\\t\\t\\t\\t\\t\\n\\t\\t\\t\\n\\t\\t\\t\\t\\t<a href=\"https://muiskcolombia.com/inicio/16006-66-hombre-badana-semifondo-vinotinto.html#/6-genero-hombre/7-talla-xs\" title=\"Ver\" class=\"view\">\\n\\t\\t\\t\\t\\t</a>\\n\\t\\t\\t\\n\\t\\t\\t\\t\\t\\t<a href=\"#\" class=\"quick-view\" title=\"Ver\" data-link-action=\"quickview\">\\n\\t\\t\\t\\t\\t\\t\\t<div class=\"quick-view-buttons\">\\n\\t\\t\\t\\t\\t\\t\\t<i class=\"material-icons quick\">&#xE8F4;</i> \\n\\t\\t\\t\\t\\t\\t</div>\\n\\t\\t\\t\\t\\t</a>\\n\\t\\t\\t\\t\\t</div>\\n\\t\\t\\t</div>\\n\\t\\t</div>\\t\\n\\t</div>\\n</article>\\n\\t\\t\\t</li>\\n\\t\\t\\t\\t\\t<li class=\"item\">\\n\\t\\t\\t\\t  \\n<article class=\"product-miniature js-product-miniature\" data-id-product=\"16007\" data-id-product-attribute=\"67\" itemscope itemtype=\"http://schema.org/Product\">\\n  <div class=\"thumbnail-container\">\\n  <div class=\"dd-product-image\">\\n    \\n      <a href=\"https://muiskcolombia.com/inicio/16007-67-hombre-badana-semifondo-negra-reflectiva.html#/6-genero-hombre/7-talla-xs\" class=\"thumbnail product-thumbnail\">\\n        <img\\n          src = \"https://muiskcolombia.com/49-home_default/hombre-badana-semifondo-negra-reflectiva.jpg\"\\n          alt = \"\"\\n          data-full-size-image-url = \"https://muiskcolombia.com/49-large_default/hombre-badana-semifondo-negra-reflectiva.jpg\"\\n        >\\n      </a>\\n    \\n\\t\\t\\t\\n\\t\\t<ul class=\"product-flags\">\\n\\t\\t\\t\\t\\t\\t<li class=\"on-sale\">¡En oferta!</li>\\n\\t\\t\\t\\t\\t\\t<li class=\"discount\">-$\\xa029.970,00</li>\\n\\t\\t\\t\\t\\t\\t<li class=\"new\">Nuevo</li>\\n\\t\\t\\t\\t\\t</ul>\\n\\t\\t\\n\\t</div>\\n\\t\\n\\t<div class=\"product-desc\">\\n    <div class=\"product-description\">\\n      \\n        <h1 class=\"h3 product-title\" itemprop=\"name\"><a href=\"https://muiskcolombia.com/inicio/16007-67-hombre-badana-semifondo-negra-reflectiva.html#/6-genero-hombre/7-talla-xs\">HOMBRE BADANA SEMIFONDO...</a></h1>\\n      \\n\\n        \\n                      <div class=\"product-price-and-shipping\">\\n                              \\n\\n                <span class=\"sr-only\">Precio base</span>\\n                <span class=\"regular-price\">$\\xa0129.870,00</span>\\n                              \\n              \\n\\n              <span class=\"sr-only\">Precio</span>\\n              <span itemprop=\"price\" class=\"price\">$\\xa099.900,00</span>\\n\\n              \\n\\n              \\n            </div>\\n\\t\\t\\n\\t\\t\\n<div class=\"product-list-reviews\" data-id=\"16007\" data-url=\"https://muiskcolombia.com/module/productcomments/CommentGrade\">\\n  <div class=\"grade-stars small-stars\"></div>\\n  <div class=\"comments-nb\"></div>\\n</div>\\n\\n\\n\\t\\t\\n                  \\n</div>\\n\\t\\t\\t<div class=\"highlighted-informations no-variants\">\\n\\t\\t\\t\\t\\t<div class=\"buttons-actions_align\">\\n\\t\\t\\t\\t\\t\\t\\t\\t\\n\\t\\t\\t\\t\\t\\t\\t\\t<form action=\"https://muiskcolombia.com/carrito\" method=\"post\" id=\"add-to-cart-or-refresh-16007\">\\n\\t\\t\\t\\t\\t\\t\\t\\t<input type=\"hidden\" name=\"token\" value=\"5dd126e3934713f1dfc114fa1b05c8c5\">\\n\\t\\t\\t\\t\\t\\t\\t\\t<input type=\"hidden\" name=\"id_product\" value=\"16007\" id=\"product_page_product_id_16007\">\\n\\t\\t\\t\\t\\t\\t\\t\\t<input type=\"hidden\" name=\"id_customization\" value=\"0\" id=\"product_customization_id_16007\">\\n\\t\\t\\t\\t\\t\\t\\t\\t\\n\\t\\t\\t\\t\\t\\t\\t\\t\\t<div class=\"product-add-to-cart-buttons\">\\n      \\n      <div class=\"product-quantity\">\\n        <div class=\"qty hidden-xl-down\">\\n          <input type=\"text\" name=\"qty\" id=\"quantity_wanted\" value=\"1\" class=\"input-group\" min=\"1\" />\\n        </div>\\n<div class=\"add\" >\\n\\t\\t\\t\\t\\t\\t                           <button class=\"add-to-cart-buttons\" style=\"outline: none; text-decoration: none;\" data-button-action=\"add-to-cart\" title=\"Adicionar al carrito\" type=\"submit\"> \\n\\t\\t\\t\\t\\t\\t</button>\\n                               \\t    </div>\\n      </div>\\n    \\n  </div>\\n\\t\\t\\t\\t\\t\\t\\t\\t\\n\\t\\t\\t\\t\\t\\t\\t</form>\\n\\t\\t\\t\\t\\t\\t\\t\\n\\t\\t\\t\\t\\t\\t\\t\\t<input class=\"product-refresh\" data-url-update=\"false\" name=\"refresh\" type=\"submit\" value=\"Refrescar\" hidden>\\n\\t\\t\\t\\t\\t\\t\\t\\n\\t\\t\\t\\t\\t\\n\\t\\t\\t\\n\\t\\t\\t\\t\\t<a href=\"https://muiskcolombia.com/inicio/16007-67-hombre-badana-semifondo-negra-reflectiva.html#/6-genero-hombre/7-talla-xs\" title=\"Ver\" class=\"view\">\\n\\t\\t\\t\\t\\t</a>\\n\\t\\t\\t\\n\\t\\t\\t\\t\\t\\t<a href=\"#\" class=\"quick-view\" title=\"Ver\" data-link-action=\"quickview\">\\n\\t\\t\\t\\t\\t\\t\\t<div class=\"quick-view-buttons\">\\n\\t\\t\\t\\t\\t\\t\\t<i class=\"material-icons quick\">&#xE8F4;</i> \\n\\t\\t\\t\\t\\t\\t</div>\\n\\t\\t\\t\\t\\t</a>\\n\\t\\t\\t\\t\\t</div>\\n\\t\\t\\t</div>\\n\\t\\t</div>\\t\\n\\t</div>\\n</article>\\n\\t\\t\\t</li>\\n\\t\\t\\t\\t\\t<li class=\"item\">\\n\\t\\t\\t\\t  \\n<article class=\"product-miniature js-product-miniature\" data-id-product=\"16009\" data-id-product-attribute=\"139\" itemscope itemtype=\"http://schema.org/Product\">\\n  <div class=\"thumbnail-container\">\\n  <div class=\"dd-product-image\">\\n    \\n      <a href=\"https://muiskcolombia.com/inicio/16009-139-hombre-badana-semifondo-azul-tiranta-blanca-outlet.html#/6-genero-hombre/8-talla-s\" class=\"thumbnail product-thumbnail\">\\n        <img\\n          src = \"https://muiskcolombia.com/65-home_default/hombre-badana-semifondo-azul-tiranta-blanca-outlet.jpg\"\\n          alt = \"\"\\n          data-full-size-image-url = \"https://muiskcolombia.com/65-large_default/hombre-badana-semifondo-azul-tiranta-blanca-outlet.jpg\"\\n        >\\n      </a>\\n    \\n\\t\\t\\t\\n\\t\\t<ul class=\"product-flags\">\\n\\t\\t\\t\\t\\t\\t<li class=\"on-sale\">¡En oferta!</li>\\n\\t\\t\\t\\t\\t\\t<li class=\"discount\">-$\\xa026.970,00</li>\\n\\t\\t\\t\\t\\t\\t<li class=\"new\">Nuevo</li>\\n\\t\\t\\t\\t\\t</ul>\\n\\t\\t\\n\\t</div>\\n\\t\\n\\t<div class=\"product-desc\">\\n    <div class=\"product-description\">\\n      \\n        <h1 class=\"h3 product-title\" itemprop=\"name\"><a href=\"https://muiskcolombia.com/inicio/16009-139-hombre-badana-semifondo-azul-tiranta-blanca-outlet.html#/6-genero-hombre/8-talla-s\">HOMBRE BADANA SEMIFONDO...</a></h1>\\n      \\n\\n        \\n                      <div class=\"product-price-and-shipping\">\\n                              \\n\\n                <span class=\"sr-only\">Precio base</span>\\n                <span class=\"regular-price\">$\\xa0116.870,00</span>\\n                              \\n              \\n\\n              <span class=\"sr-only\">Precio</span>\\n              <span itemprop=\"price\" class=\"price\">$\\xa089.900,00</span>\\n\\n              \\n\\n              \\n            </div>\\n\\t\\t\\n\\t\\t\\n<div class=\"product-list-reviews\" data-id=\"16009\" data-url=\"https://muiskcolombia.com/module/productcomments/CommentGrade\">\\n  <div class=\"grade-stars small-stars\"></div>\\n  <div class=\"comments-nb\"></div>\\n</div>\\n\\n\\n\\t\\t\\n                  \\n</div>\\n\\t\\t\\t<div class=\"highlighted-informations no-variants\">\\n\\t\\t\\t\\t\\t<div class=\"buttons-actions_align\">\\n\\t\\t\\t\\t\\t\\t\\t\\t\\n\\t\\t\\t\\t\\t\\t\\t\\t<form action=\"https://muiskcolombia.com/carrito\" method=\"post\" id=\"add-to-cart-or-refresh-16009\">\\n\\t\\t\\t\\t\\t\\t\\t\\t<input type=\"hidden\" name=\"token\" value=\"5dd126e3934713f1dfc114fa1b05c8c5\">\\n\\t\\t\\t\\t\\t\\t\\t\\t<input type=\"hidden\" name=\"id_product\" value=\"16009\" id=\"product_page_product_id_16009\">\\n\\t\\t\\t\\t\\t\\t\\t\\t<input type=\"hidden\" name=\"id_customization\" value=\"0\" id=\"product_customization_id_16009\">\\n\\t\\t\\t\\t\\t\\t\\t\\t\\n\\t\\t\\t\\t\\t\\t\\t\\t\\t<div class=\"product-add-to-cart-buttons\">\\n      \\n      <div class=\"product-quantity\">\\n        <div class=\"qty hidden-xl-down\">\\n          <input type=\"text\" name=\"qty\" id=\"quantity_wanted\" value=\"1\" class=\"input-group\" min=\"1\" />\\n        </div>\\n<div class=\"add\" >\\n\\t\\t\\t\\t\\t\\t                           <button class=\"add-to-cart-buttons\" style=\"outline: none; text-decoration: none;\" data-button-action=\"add-to-cart\" title=\"Adicionar al carrito\" type=\"submit\"> \\n\\t\\t\\t\\t\\t\\t</button>\\n                               \\t    </div>\\n      </div>\\n    \\n  </div>\\n\\t\\t\\t\\t\\t\\t\\t\\t\\n\\t\\t\\t\\t\\t\\t\\t</form>\\n\\t\\t\\t\\t\\t\\t\\t\\n\\t\\t\\t\\t\\t\\t\\t\\t<input class=\"product-refresh\" data-url-update=\"false\" name=\"refresh\" type=\"submit\" value=\"Refrescar\" hidden>\\n\\t\\t\\t\\t\\t\\t\\t\\n\\t\\t\\t\\t\\t\\n\\t\\t\\t\\n\\t\\t\\t\\t\\t<a href=\"https://muiskcolombia.com/inicio/16009-139-hombre-badana-semifondo-azul-tiranta-blanca-outlet.html#/6-genero-hombre/8-talla-s\" title=\"Ver\" class=\"view\">\\n\\t\\t\\t\\t\\t</a>\\n\\t\\t\\t\\n\\t\\t\\t\\t\\t\\t<a href=\"#\" class=\"quick-view\" title=\"Ver\" data-link-action=\"quickview\">\\n\\t\\t\\t\\t\\t\\t\\t<div class=\"quick-view-buttons\">\\n\\t\\t\\t\\t\\t\\t\\t<i class=\"material-icons quick\">&#xE8F4;</i> \\n\\t\\t\\t\\t\\t\\t</div>\\n\\t\\t\\t\\t\\t</a>\\n\\t\\t\\t\\t\\t</div>\\n\\t\\t\\t</div>\\n\\t\\t</div>\\t\\n\\t</div>\\n</article>\\n\\t\\t\\t</li>\\n\\t\\t\\t\\t\\t<li class=\"item\">\\n\\t\\t\\t\\t  \\n<article class=\"product-miniature js-product-miniature\" data-id-product=\"16010\" data-id-product-attribute=\"140\" itemscope itemtype=\"http://schema.org/Product\">\\n  <div class=\"thumbnail-container\">\\n  <div class=\"dd-product-image\">\\n    \\n      <a href=\"https://muiskcolombia.com/inicio/16010-140-hombre-badana-semifondo-vinotinto-tiranta-blanca-outlet.html#/6-genero-hombre/8-talla-s\" class=\"thumbnail product-thumbnail\">\\n        <img\\n          src = \"https://muiskcolombia.com/73-home_default/hombre-badana-semifondo-vinotinto-tiranta-blanca-outlet.jpg\"\\n          alt = \"\"\\n          data-full-size-image-url = \"https://muiskcolombia.com/73-large_default/hombre-badana-semifondo-vinotinto-tiranta-blanca-outlet.jpg\"\\n        >\\n      </a>\\n    \\n\\t\\t\\t\\n\\t\\t<ul class=\"product-flags\">\\n\\t\\t\\t\\t\\t\\t<li class=\"on-sale\">¡En oferta!</li>\\n\\t\\t\\t\\t\\t\\t<li class=\"discount\">-$\\xa026.970,00</li>\\n\\t\\t\\t\\t\\t\\t<li class=\"new\">Nuevo</li>\\n\\t\\t\\t\\t\\t</ul>\\n\\t\\t\\n\\t</div>\\n\\t\\n\\t<div class=\"product-desc\">\\n    <div class=\"product-description\">\\n      \\n        <h1 class=\"h3 product-title\" itemprop=\"name\"><a href=\"https://muiskcolombia.com/inicio/16010-140-hombre-badana-semifondo-vinotinto-tiranta-blanca-outlet.html#/6-genero-hombre/8-talla-s\">HOMBRE BADANA SEMIFONDO...</a></h1>\\n      \\n\\n        \\n                      <div class=\"product-price-and-shipping\">\\n                              \\n\\n                <span class=\"sr-only\">Precio base</span>\\n                <span class=\"regular-price\">$\\xa0116.870,00</span>\\n                              \\n              \\n\\n              <span class=\"sr-only\">Precio</span>\\n              <span itemprop=\"price\" class=\"price\">$\\xa089.900,00</span>\\n\\n              \\n\\n              \\n            </div>\\n\\t\\t\\n\\t\\t\\n<div class=\"product-list-reviews\" data-id=\"16010\" data-url=\"https://muiskcolombia.com/module/productcomments/CommentGrade\">\\n  <div class=\"grade-stars small-stars\"></div>\\n  <div class=\"comments-nb\"></div>\\n</div>\\n\\n\\n\\t\\t\\n                  \\n</div>\\n\\t\\t\\t<div class=\"highlighted-informations no-variants\">\\n\\t\\t\\t\\t\\t<div class=\"buttons-actions_align\">\\n\\t\\t\\t\\t\\t\\t\\t\\t\\n\\t\\t\\t\\t\\t\\t\\t\\t<form action=\"https://muiskcolombia.com/carrito\" method=\"post\" id=\"add-to-cart-or-refresh-16010\">\\n\\t\\t\\t\\t\\t\\t\\t\\t<input type=\"hidden\" name=\"token\" value=\"5dd126e3934713f1dfc114fa1b05c8c5\">\\n\\t\\t\\t\\t\\t\\t\\t\\t<input type=\"hidden\" name=\"id_product\" value=\"16010\" id=\"product_page_product_id_16010\">\\n\\t\\t\\t\\t\\t\\t\\t\\t<input type=\"hidden\" name=\"id_customization\" value=\"0\" id=\"product_customization_id_16010\">\\n\\t\\t\\t\\t\\t\\t\\t\\t\\n\\t\\t\\t\\t\\t\\t\\t\\t\\t<div class=\"product-add-to-cart-buttons\">\\n      \\n      <div class=\"product-quantity\">\\n        <div class=\"qty hidden-xl-down\">\\n          <input type=\"text\" name=\"qty\" id=\"quantity_wanted\" value=\"1\" class=\"input-group\" min=\"1\" />\\n        </div>\\n<div class=\"add\" >\\n\\t\\t\\t\\t\\t\\t                           <button class=\"add-to-cart-buttons\" style=\"outline: none; text-decoration: none;\" data-button-action=\"add-to-cart\" title=\"Adicionar al carrito\" type=\"submit\"> \\n\\t\\t\\t\\t\\t\\t</button>\\n                               \\t    </div>\\n      </div>\\n    \\n  </div>\\n\\t\\t\\t\\t\\t\\t\\t\\t\\n\\t\\t\\t\\t\\t\\t\\t</form>\\n\\t\\t\\t\\t\\t\\t\\t\\n\\t\\t\\t\\t\\t\\t\\t\\t<input class=\"product-refresh\" data-url-update=\"false\" name=\"refresh\" type=\"submit\" value=\"Refrescar\" hidden>\\n\\t\\t\\t\\t\\t\\t\\t\\n\\t\\t\\t\\t\\t\\n\\t\\t\\t\\n\\t\\t\\t\\t\\t<a href=\"https://muiskcolombia.com/inicio/16010-140-hombre-badana-semifondo-vinotinto-tiranta-blanca-outlet.html#/6-genero-hombre/8-talla-s\" title=\"Ver\" class=\"view\">\\n\\t\\t\\t\\t\\t</a>\\n\\t\\t\\t\\n\\t\\t\\t\\t\\t\\t<a href=\"#\" class=\"quick-view\" title=\"Ver\" data-link-action=\"quickview\">\\n\\t\\t\\t\\t\\t\\t\\t<div class=\"quick-view-buttons\">\\n\\t\\t\\t\\t\\t\\t\\t<i class=\"material-icons quick\">&#xE8F4;</i> \\n\\t\\t\\t\\t\\t\\t</div>\\n\\t\\t\\t\\t\\t</a>\\n\\t\\t\\t\\t\\t</div>\\n\\t\\t\\t</div>\\n\\t\\t</div>\\t\\n\\t</div>\\n</article>\\n\\t\\t\\t</li>\\n\\t\\t\\t\\t\\t<li class=\"item\">\\n\\t\\t\\t\\t  \\n<article class=\"product-miniature js-product-miniature\" data-id-product=\"16011\" data-id-product-attribute=\"141\" itemscope itemtype=\"http://schema.org/Product\">\\n  <div class=\"thumbnail-container\">\\n  <div class=\"dd-product-image\">\\n    \\n      <a href=\"https://muiskcolombia.com/inicio/16011-141-hombre-badana-larga-semifondo-negra.html#/6-genero-hombre/8-talla-s\" class=\"thumbnail product-thumbnail\">\\n        <img\\n          src = \"https://muiskcolombia.com/81-home_default/hombre-badana-larga-semifondo-negra.jpg\"\\n          alt = \"\"\\n          data-full-size-image-url = \"https://muiskcolombia.com/81-large_default/hombre-badana-larga-semifondo-negra.jpg\"\\n        >\\n      </a>\\n    \\n\\t\\t\\t\\n\\t\\t<ul class=\"product-flags\">\\n\\t\\t\\t\\t\\t\\t<li class=\"on-sale\">¡En oferta!</li>\\n\\t\\t\\t\\t\\t\\t<li class=\"discount\">-$\\xa031.770,00</li>\\n\\t\\t\\t\\t\\t\\t<li class=\"new\">Nuevo</li>\\n\\t\\t\\t\\t\\t</ul>\\n\\t\\t\\n\\t</div>\\n\\t\\n\\t<div class=\"product-desc\">\\n    <div class=\"product-description\">\\n      \\n        <h1 class=\"h3 product-title\" itemprop=\"name\"><a href=\"https://muiskcolombia.com/inicio/16011-141-hombre-badana-larga-semifondo-negra.html#/6-genero-hombre/8-talla-s\">HOMBRE BADANA LARGA...</a></h1>\\n      \\n\\n        \\n                      <div class=\"product-price-and-shipping\">\\n                              \\n\\n                <span class=\"sr-only\">Precio base</span>\\n                <span class=\"regular-price\">$\\xa0137.670,00</span>\\n                              \\n              \\n\\n              <span class=\"sr-only\">Precio</span>\\n              <span itemprop=\"price\" class=\"price\">$\\xa0105.900,00</span>\\n\\n              \\n\\n              \\n            </div>\\n\\t\\t\\n\\t\\t\\n<div class=\"product-list-reviews\" data-id=\"16011\" data-url=\"https://muiskcolombia.com/module/productcomments/CommentGrade\">\\n  <div class=\"grade-stars small-stars\"></div>\\n  <div class=\"comments-nb\"></div>\\n</div>\\n\\n\\n\\t\\t\\n                  \\n</div>\\n\\t\\t\\t<div class=\"highlighted-informations no-variants\">\\n\\t\\t\\t\\t\\t<div class=\"buttons-actions_align\">\\n\\t\\t\\t\\t\\t\\t\\t\\t\\n\\t\\t\\t\\t\\t\\t\\t\\t<form action=\"https://muiskcolombia.com/carrito\" method=\"post\" id=\"add-to-cart-or-refresh-16011\">\\n\\t\\t\\t\\t\\t\\t\\t\\t<input type=\"hidden\" name=\"token\" value=\"5dd126e3934713f1dfc114fa1b05c8c5\">\\n\\t\\t\\t\\t\\t\\t\\t\\t<input type=\"hidden\" name=\"id_product\" value=\"16011\" id=\"product_page_product_id_16011\">\\n\\t\\t\\t\\t\\t\\t\\t\\t<input type=\"hidden\" name=\"id_customization\" value=\"0\" id=\"product_customization_id_16011\">\\n\\t\\t\\t\\t\\t\\t\\t\\t\\n\\t\\t\\t\\t\\t\\t\\t\\t\\t<div class=\"product-add-to-cart-buttons\">\\n      \\n      <div class=\"product-quantity\">\\n        <div class=\"qty hidden-xl-down\">\\n          <input type=\"text\" name=\"qty\" id=\"quantity_wanted\" value=\"1\" class=\"input-group\" min=\"1\" />\\n        </div>\\n<div class=\"add\" >\\n\\t\\t\\t\\t\\t\\t                           <button class=\"add-to-cart-buttons\" style=\"outline: none; text-decoration: none;\" data-button-action=\"add-to-cart\" title=\"Adicionar al carrito\" type=\"submit\"> \\n\\t\\t\\t\\t\\t\\t</button>\\n                               \\t    </div>\\n      </div>\\n    \\n  </div>\\n\\t\\t\\t\\t\\t\\t\\t\\t\\n\\t\\t\\t\\t\\t\\t\\t</form>\\n\\t\\t\\t\\t\\t\\t\\t\\n\\t\\t\\t\\t\\t\\t\\t\\t<input class=\"product-refresh\" data-url-update=\"false\" name=\"refresh\" type=\"submit\" value=\"Refrescar\" hidden>\\n\\t\\t\\t\\t\\t\\t\\t\\n\\t\\t\\t\\t\\t\\n\\t\\t\\t\\n\\t\\t\\t\\t\\t<a href=\"https://muiskcolombia.com/inicio/16011-141-hombre-badana-larga-semifondo-negra.html#/6-genero-hombre/8-talla-s\" title=\"Ver\" class=\"view\">\\n\\t\\t\\t\\t\\t</a>\\n\\t\\t\\t\\n\\t\\t\\t\\t\\t\\t<a href=\"#\" class=\"quick-view\" title=\"Ver\" data-link-action=\"quickview\">\\n\\t\\t\\t\\t\\t\\t\\t<div class=\"quick-view-buttons\">\\n\\t\\t\\t\\t\\t\\t\\t<i class=\"material-icons quick\">&#xE8F4;</i> \\n\\t\\t\\t\\t\\t\\t</div>\\n\\t\\t\\t\\t\\t</a>\\n\\t\\t\\t\\t\\t</div>\\n\\t\\t\\t</div>\\n\\t\\t</div>\\t\\n\\t</div>\\n</article>\\n\\t\\t\\t</li>\\n\\t\\t\\t\\t\\t<li class=\"item\">\\n\\t\\t\\t\\t  \\n<article class=\"product-miniature js-product-miniature\" data-id-product=\"16012\" data-id-product-attribute=\"68\" itemscope itemtype=\"http://schema.org/Product\">\\n  <div class=\"thumbnail-container\">\\n  <div class=\"dd-product-image\">\\n    \\n      <a href=\"https://muiskcolombia.com/inicio/16012-68-mujer-badana-semifondo-negra.html#/4-genero-mujer/7-talla-xs\" class=\"thumbnail product-thumbnail\">\\n        <img\\n          src = \"https://muiskcolombia.com/89-home_default/mujer-badana-semifondo-negra.jpg\"\\n          alt = \"\"\\n          data-full-size-image-url = \"https://muiskcolombia.com/89-large_default/mujer-badana-semifondo-negra.jpg\"\\n        >\\n      </a>\\n    \\n\\t\\t\\t\\n\\t\\t<ul class=\"product-flags\">\\n\\t\\t\\t\\t\\t\\t<li class=\"on-sale\">¡En oferta!</li>\\n\\t\\t\\t\\t\\t\\t<li class=\"discount\">-$\\xa029.970,00</li>\\n\\t\\t\\t\\t\\t\\t<li class=\"new\">Nuevo</li>\\n\\t\\t\\t\\t\\t</ul>\\n\\t\\t\\n\\t</div>\\n\\t\\n\\t<div class=\"product-desc\">\\n    <div class=\"product-description\">\\n      \\n        <h1 class=\"h3 product-title\" itemprop=\"name\"><a href=\"https://muiskcolombia.com/inicio/16012-68-mujer-badana-semifondo-negra.html#/4-genero-mujer/7-talla-xs\">MUJER BADANA SEMIFONDO NEGRA</a></h1>\\n      \\n\\n        \\n                      <div class=\"product-price-and-shipping\">\\n                              \\n\\n                <span class=\"sr-only\">Precio base</span>\\n                <span class=\"regular-price\">$\\xa0129.870,00</span>\\n                              \\n              \\n\\n              <span class=\"sr-only\">Precio</span>\\n              <span itemprop=\"price\" class=\"price\">$\\xa099.900,00</span>\\n\\n              \\n\\n              \\n            </div>\\n\\t\\t\\n\\t\\t\\n<div class=\"product-list-reviews\" data-id=\"16012\" data-url=\"https://muiskcolombia.com/module/productcomments/CommentGrade\">\\n  <div class=\"grade-stars small-stars\"></div>\\n  <div class=\"comments-nb\"></div>\\n</div>\\n\\n\\n\\t\\t\\n                  \\n</div>\\n\\t\\t\\t<div class=\"highlighted-informations no-variants\">\\n\\t\\t\\t\\t\\t<div class=\"buttons-actions_align\">\\n\\t\\t\\t\\t\\t\\t\\t\\t\\n\\t\\t\\t\\t\\t\\t\\t\\t<form action=\"https://muiskcolombia.com/carrito\" method=\"post\" id=\"add-to-cart-or-refresh-16012\">\\n\\t\\t\\t\\t\\t\\t\\t\\t<input type=\"hidden\" name=\"token\" value=\"5dd126e3934713f1dfc114fa1b05c8c5\">\\n\\t\\t\\t\\t\\t\\t\\t\\t<input type=\"hidden\" name=\"id_product\" value=\"16012\" id=\"product_page_product_id_16012\">\\n\\t\\t\\t\\t\\t\\t\\t\\t<input type=\"hidden\" name=\"id_customization\" value=\"0\" id=\"product_customization_id_16012\">\\n\\t\\t\\t\\t\\t\\t\\t\\t\\n\\t\\t\\t\\t\\t\\t\\t\\t\\t<div class=\"product-add-to-cart-buttons\">\\n      \\n      <div class=\"product-quantity\">\\n        <div class=\"qty hidden-xl-down\">\\n          <input type=\"text\" name=\"qty\" id=\"quantity_wanted\" value=\"1\" class=\"input-group\" min=\"1\" />\\n        </div>\\n<div class=\"add\" >\\n\\t\\t\\t\\t\\t\\t                           <button class=\"add-to-cart-buttons\" style=\"outline: none; text-decoration: none;\" data-button-action=\"add-to-cart\" title=\"Adicionar al carrito\" type=\"submit\"> \\n\\t\\t\\t\\t\\t\\t</button>\\n                               \\t    </div>\\n      </div>\\n    \\n  </div>\\n\\t\\t\\t\\t\\t\\t\\t\\t\\n\\t\\t\\t\\t\\t\\t\\t</form>\\n\\t\\t\\t\\t\\t\\t\\t\\n\\t\\t\\t\\t\\t\\t\\t\\t<input class=\"product-refresh\" data-url-update=\"false\" name=\"refresh\" type=\"submit\" value=\"Refrescar\" hidden>\\n\\t\\t\\t\\t\\t\\t\\t\\n\\t\\t\\t\\t\\t\\n\\t\\t\\t\\n\\t\\t\\t\\t\\t<a href=\"https://muiskcolombia.com/inicio/16012-68-mujer-badana-semifondo-negra.html#/4-genero-mujer/7-talla-xs\" title=\"Ver\" class=\"view\">\\n\\t\\t\\t\\t\\t</a>\\n\\t\\t\\t\\n\\t\\t\\t\\t\\t\\t<a href=\"#\" class=\"quick-view\" title=\"Ver\" data-link-action=\"quickview\">\\n\\t\\t\\t\\t\\t\\t\\t<div class=\"quick-view-buttons\">\\n\\t\\t\\t\\t\\t\\t\\t<i class=\"material-icons quick\">&#xE8F4;</i> \\n\\t\\t\\t\\t\\t\\t</div>\\n\\t\\t\\t\\t\\t</a>\\n\\t\\t\\t\\t\\t</div>\\n\\t\\t\\t</div>\\n\\t\\t</div>\\t\\n\\t</div>\\n</article>\\n\\t\\t\\t</li>\\n\\t\\t\\t\\t</ul>\\t\\n\\t\\t\\n\\n\\t\\t<div class=\"view_more\">\\n\\t\\t\\t<a class=\"all-product-link\" href=\"https://muiskcolombia.com/2-inicio\">\\n\\t\\t\\t\\tTodos los productos\\n\\t\\t\\t</a>\\n\\t\\t</div>\\n\\t</div>\\n</section><section class=\"featured-products clearfix\">\\n<div class=\"linia_tytul\">\\n    <div class=\"tytuly\">\\n\\t\\tMás vendidos\\n\\t\\t</div>\\n\\t\\t<div class=\"SliderNavigation\">\\n\\t\\t\\t\\t<a class=\"btn prev slider_bestseller_prev\">&nbsp;</a>\\n\\t\\t\\t\\t<a class=\"btn next slider_bestseller_next\">&nbsp;</a>\\n\\t\\t\\t</div>\\n\\t</div>\\n\\t<div class=\"products\">\\t\\n\\t\\t <!-- Define Number of product for SLIDER -->\\n\\t\\t\\n\\t\\t\\t\\t\\n\\t\\t\\t<ul id=\"bestseller-carousel\" class=\"product_list\">\\n\\t\\t\\t\\t\\n\\t\\t\\t\\t\\t<li class=\"item\">\\n\\t\\t\\t\\t  \\n<article class=\"product-miniature js-product-miniature\" data-id-product=\"16026\" data-id-product-attribute=\"75\" itemscope itemtype=\"http://schema.org/Product\">\\n  <div class=\"thumbnail-container\">\\n  <div class=\"dd-product-image\">\\n    \\n      <a href=\"https://muiskcolombia.com/inicio/16026-75-mujer-jersey-manga-corta-confort-blanco.html#/4-genero-mujer/7-talla-xs\" class=\"thumbnail product-thumbnail\">\\n        <img\\n          src = \"https://muiskcolombia.com/201-home_default/mujer-jersey-manga-corta-confort-blanco.jpg\"\\n          alt = \"\"\\n          data-full-size-image-url = \"https://muiskcolombia.com/201-large_default/mujer-jersey-manga-corta-confort-blanco.jpg\"\\n        >\\n      </a>\\n    \\n\\t\\t\\t\\n\\t\\t<ul class=\"product-flags\">\\n\\t\\t\\t\\t\\t\\t<li class=\"on-sale\">¡En oferta!</li>\\n\\t\\t\\t\\t\\t\\t<li class=\"discount\">-$\\xa027.870,00</li>\\n\\t\\t\\t\\t\\t\\t<li class=\"new\">Nuevo</li>\\n\\t\\t\\t\\t\\t</ul>\\n\\t\\t\\n\\t</div>\\n\\t\\n\\t<div class=\"product-desc\">\\n    <div class=\"product-description\">\\n      \\n        <h1 class=\"h3 product-title\" itemprop=\"name\"><a href=\"https://muiskcolombia.com/inicio/16026-75-mujer-jersey-manga-corta-confort-blanco.html#/4-genero-mujer/7-talla-xs\">MUJER JERSEY MANGA CORTA...</a></h1>\\n      \\n\\n        \\n                      <div class=\"product-price-and-shipping\">\\n                              \\n\\n                <span class=\"sr-only\">Precio base</span>\\n                <span class=\"regular-price\">$\\xa0120.770,00</span>\\n                              \\n              \\n\\n              <span class=\"sr-only\">Precio</span>\\n              <span itemprop=\"price\" class=\"price\">$\\xa092.900,00</span>\\n\\n              \\n\\n              \\n            </div>\\n\\t\\t\\n\\t\\t\\n<div class=\"product-list-reviews\" data-id=\"16026\" data-url=\"https://muiskcolombia.com/module/productcomments/CommentGrade\">\\n  <div class=\"grade-stars small-stars\"></div>\\n  <div class=\"comments-nb\"></div>\\n</div>\\n\\n\\n\\t\\t\\n                  \\n</div>\\n\\t\\t\\t<div class=\"highlighted-informations no-variants\">\\n\\t\\t\\t\\t\\t<div class=\"buttons-actions_align\">\\n\\t\\t\\t\\t\\t\\t\\t\\t\\n\\t\\t\\t\\t\\t\\t\\t\\t<form action=\"https://muiskcolombia.com/carrito\" method=\"post\" id=\"add-to-cart-or-refresh-16026\">\\n\\t\\t\\t\\t\\t\\t\\t\\t<input type=\"hidden\" name=\"token\" value=\"5dd126e3934713f1dfc114fa1b05c8c5\">\\n\\t\\t\\t\\t\\t\\t\\t\\t<input type=\"hidden\" name=\"id_product\" value=\"16026\" id=\"product_page_product_id_16026\">\\n\\t\\t\\t\\t\\t\\t\\t\\t<input type=\"hidden\" name=\"id_customization\" value=\"0\" id=\"product_customization_id_16026\">\\n\\t\\t\\t\\t\\t\\t\\t\\t\\n\\t\\t\\t\\t\\t\\t\\t\\t\\t<div class=\"product-add-to-cart-buttons\">\\n      \\n      <div class=\"product-quantity\">\\n        <div class=\"qty hidden-xl-down\">\\n          <input type=\"text\" name=\"qty\" id=\"quantity_wanted\" value=\"1\" class=\"input-group\" min=\"1\" />\\n        </div>\\n<div class=\"add\" >\\n\\t\\t\\t\\t\\t\\t                           <button class=\"add-to-cart-buttons\" style=\"outline: none; text-decoration: none;\" data-button-action=\"add-to-cart\" title=\"Adicionar al carrito\" type=\"submit\"> \\n\\t\\t\\t\\t\\t\\t</button>\\n                               \\t    </div>\\n      </div>\\n    \\n  </div>\\n\\t\\t\\t\\t\\t\\t\\t\\t\\n\\t\\t\\t\\t\\t\\t\\t</form>\\n\\t\\t\\t\\t\\t\\t\\t\\n\\t\\t\\t\\t\\t\\t\\t\\t<input class=\"product-refresh\" data-url-update=\"false\" name=\"refresh\" type=\"submit\" value=\"Refrescar\" hidden>\\n\\t\\t\\t\\t\\t\\t\\t\\n\\t\\t\\t\\t\\t\\n\\t\\t\\t\\n\\t\\t\\t\\t\\t<a href=\"https://muiskcolombia.com/inicio/16026-75-mujer-jersey-manga-corta-confort-blanco.html#/4-genero-mujer/7-talla-xs\" title=\"Ver\" class=\"view\">\\n\\t\\t\\t\\t\\t</a>\\n\\t\\t\\t\\n\\t\\t\\t\\t\\t\\t<a href=\"#\" class=\"quick-view\" title=\"Ver\" data-link-action=\"quickview\">\\n\\t\\t\\t\\t\\t\\t\\t<div class=\"quick-view-buttons\">\\n\\t\\t\\t\\t\\t\\t\\t<i class=\"material-icons quick\">&#xE8F4;</i> \\n\\t\\t\\t\\t\\t\\t</div>\\n\\t\\t\\t\\t\\t</a>\\n\\t\\t\\t\\t\\t</div>\\n\\t\\t\\t</div>\\n\\t\\t</div>\\t\\n\\t</div>\\n</article>\\n\\t\\t\\t</li>\\n\\t\\t\\t\\t\\t<li class=\"item\">\\n\\t\\t\\t\\t  \\n<article class=\"product-miniature js-product-miniature\" data-id-product=\"16319\" data-id-product-attribute=\"57\" itemscope itemtype=\"http://schema.org/Product\">\\n  <div class=\"thumbnail-container\">\\n  <div class=\"dd-product-image\">\\n    \\n      <a href=\"https://muiskcolombia.com/inicio/16319-57-hombre-jersey-manga-larga-confort-azul.html#/5-talla-xxs/6-genero-hombre\" class=\"thumbnail product-thumbnail\">\\n        <img\\n          src = \"https://muiskcolombia.com/1521-home_default/hombre-jersey-manga-larga-confort-azul.jpg\"\\n          alt = \"\"\\n          data-full-size-image-url = \"https://muiskcolombia.com/1521-large_default/hombre-jersey-manga-larga-confort-azul.jpg\"\\n        >\\n      </a>\\n    \\n\\t\\t\\t\\n\\t\\t<ul class=\"product-flags\">\\n\\t\\t\\t\\t\\t\\t<li class=\"on-sale\">¡En oferta!</li>\\n\\t\\t\\t\\t\\t\\t<li class=\"discount\">-$\\xa029.370,00</li>\\n\\t\\t\\t\\t\\t\\t<li class=\"new\">Nuevo</li>\\n\\t\\t\\t\\t\\t</ul>\\n\\t\\t\\n\\t</div>\\n\\t\\n\\t<div class=\"product-desc\">\\n    <div class=\"product-description\">\\n      \\n        <h1 class=\"h3 product-title\" itemprop=\"name\"><a href=\"https://muiskcolombia.com/inicio/16319-57-hombre-jersey-manga-larga-confort-azul.html#/5-talla-xxs/6-genero-hombre\">HOMBRE JERSEY MANGA LARGA...</a></h1>\\n      \\n\\n        \\n                      <div class=\"product-price-and-shipping\">\\n                              \\n\\n                <span class=\"sr-only\">Precio base</span>\\n                <span class=\"regular-price\">$\\xa0127.270,00</span>\\n                              \\n              \\n\\n              <span class=\"sr-only\">Precio</span>\\n              <span itemprop=\"price\" class=\"price\">$\\xa097.900,00</span>\\n\\n              \\n\\n              \\n            </div>\\n\\t\\t\\n\\t\\t\\n<div class=\"product-list-reviews\" data-id=\"16319\" data-url=\"https://muiskcolombia.com/module/productcomments/CommentGrade\">\\n  <div class=\"grade-stars small-stars\"></div>\\n  <div class=\"comments-nb\"></div>\\n</div>\\n\\n\\n\\t\\t\\n                  \\n</div>\\n\\t\\t\\t<div class=\"highlighted-informations no-variants\">\\n\\t\\t\\t\\t\\t<div class=\"buttons-actions_align\">\\n\\t\\t\\t\\t\\t\\t\\t\\t\\n\\t\\t\\t\\t\\t\\t\\t\\t<form action=\"https://muiskcolombia.com/carrito\" method=\"post\" id=\"add-to-cart-or-refresh-16319\">\\n\\t\\t\\t\\t\\t\\t\\t\\t<input type=\"hidden\" name=\"token\" value=\"5dd126e3934713f1dfc114fa1b05c8c5\">\\n\\t\\t\\t\\t\\t\\t\\t\\t<input type=\"hidden\" name=\"id_product\" value=\"16319\" id=\"product_page_product_id_16319\">\\n\\t\\t\\t\\t\\t\\t\\t\\t<input type=\"hidden\" name=\"id_customization\" value=\"0\" id=\"product_customization_id_16319\">\\n\\t\\t\\t\\t\\t\\t\\t\\t\\n\\t\\t\\t\\t\\t\\t\\t\\t\\t<div class=\"product-add-to-cart-buttons\">\\n      \\n      <div class=\"product-quantity\">\\n        <div class=\"qty hidden-xl-down\">\\n          <input type=\"text\" name=\"qty\" id=\"quantity_wanted\" value=\"1\" class=\"input-group\" min=\"1\" />\\n        </div>\\n<div class=\"add\" >\\n\\t\\t\\t\\t\\t\\t                           <button class=\"add-to-cart-buttons\" style=\"outline: none; text-decoration: none;\" data-button-action=\"add-to-cart\" title=\"Adicionar al carrito\" type=\"submit\"> \\n\\t\\t\\t\\t\\t\\t</button>\\n                               \\t    </div>\\n      </div>\\n    \\n  </div>\\n\\t\\t\\t\\t\\t\\t\\t\\t\\n\\t\\t\\t\\t\\t\\t\\t</form>\\n\\t\\t\\t\\t\\t\\t\\t\\n\\t\\t\\t\\t\\t\\t\\t\\t<input class=\"product-refresh\" data-url-update=\"false\" name=\"refresh\" type=\"submit\" value=\"Refrescar\" hidden>\\n\\t\\t\\t\\t\\t\\t\\t\\n\\t\\t\\t\\t\\t\\n\\t\\t\\t\\n\\t\\t\\t\\t\\t<a href=\"https://muiskcolombia.com/inicio/16319-57-hombre-jersey-manga-larga-confort-azul.html#/5-talla-xxs/6-genero-hombre\" title=\"Ver\" class=\"view\">\\n\\t\\t\\t\\t\\t</a>\\n\\t\\t\\t\\n\\t\\t\\t\\t\\t\\t<a href=\"#\" class=\"quick-view\" title=\"Ver\" data-link-action=\"quickview\">\\n\\t\\t\\t\\t\\t\\t\\t<div class=\"quick-view-buttons\">\\n\\t\\t\\t\\t\\t\\t\\t<i class=\"material-icons quick\">&#xE8F4;</i> \\n\\t\\t\\t\\t\\t\\t</div>\\n\\t\\t\\t\\t\\t</a>\\n\\t\\t\\t\\t\\t</div>\\n\\t\\t\\t</div>\\n\\t\\t</div>\\t\\n\\t</div>\\n</article>\\n\\t\\t\\t</li>\\n\\t\\t\\t\\t\\t<li class=\"item\">\\n\\t\\t\\t\\t  \\n<article class=\"product-miniature js-product-miniature\" data-id-product=\"16310\" data-id-product-attribute=\"49\" itemscope itemtype=\"http://schema.org/Product\">\\n  <div class=\"thumbnail-container\">\\n  <div class=\"dd-product-image\">\\n    \\n      <a href=\"https://muiskcolombia.com/inicio/16310-49-hombre-jersey-manga-corta-confort-puntos-vino.html#/5-talla-xxs/6-genero-hombre\" class=\"thumbnail product-thumbnail\">\\n        <img\\n          src = \"https://muiskcolombia.com/1449-home_default/hombre-jersey-manga-corta-confort-puntos-vino.jpg\"\\n          alt = \"\"\\n          data-full-size-image-url = \"https://muiskcolombia.com/1449-large_default/hombre-jersey-manga-corta-confort-puntos-vino.jpg\"\\n        >\\n      </a>\\n    \\n\\t\\t\\t\\n\\t\\t<ul class=\"product-flags\">\\n\\t\\t\\t\\t\\t\\t<li class=\"on-sale\">¡En oferta!</li>\\n\\t\\t\\t\\t\\t\\t<li class=\"discount\">-$\\xa027.870,00</li>\\n\\t\\t\\t\\t\\t\\t<li class=\"new\">Nuevo</li>\\n\\t\\t\\t\\t\\t</ul>\\n\\t\\t\\n\\t</div>\\n\\t\\n\\t<div class=\"product-desc\">\\n    <div class=\"product-description\">\\n      \\n        <h1 class=\"h3 product-title\" itemprop=\"name\"><a href=\"https://muiskcolombia.com/inicio/16310-49-hombre-jersey-manga-corta-confort-puntos-vino.html#/5-talla-xxs/6-genero-hombre\">HOMBRE JERSEY MANGA CORTA...</a></h1>\\n      \\n\\n        \\n                      <div class=\"product-price-and-shipping\">\\n                              \\n\\n                <span class=\"sr-only\">Precio base</span>\\n                <span class=\"regular-price\">$\\xa0120.770,00</span>\\n                              \\n              \\n\\n              <span class=\"sr-only\">Precio</span>\\n              <span itemprop=\"price\" class=\"price\">$\\xa092.900,00</span>\\n\\n              \\n\\n              \\n            </div>\\n\\t\\t\\n\\t\\t\\n<div class=\"product-list-reviews\" data-id=\"16310\" data-url=\"https://muiskcolombia.com/module/productcomments/CommentGrade\">\\n  <div class=\"grade-stars small-stars\"></div>\\n  <div class=\"comments-nb\"></div>\\n</div>\\n\\n\\n\\t\\t\\n                  \\n</div>\\n\\t\\t\\t<div class=\"highlighted-informations no-variants\">\\n\\t\\t\\t\\t\\t<div class=\"buttons-actions_align\">\\n\\t\\t\\t\\t\\t\\t\\t\\t\\n\\t\\t\\t\\t\\t\\t\\t\\t<form action=\"https://muiskcolombia.com/carrito\" method=\"post\" id=\"add-to-cart-or-refresh-16310\">\\n\\t\\t\\t\\t\\t\\t\\t\\t<input type=\"hidden\" name=\"token\" value=\"5dd126e3934713f1dfc114fa1b05c8c5\">\\n\\t\\t\\t\\t\\t\\t\\t\\t<input type=\"hidden\" name=\"id_product\" value=\"16310\" id=\"product_page_product_id_16310\">\\n\\t\\t\\t\\t\\t\\t\\t\\t<input type=\"hidden\" name=\"id_customization\" value=\"0\" id=\"product_customization_id_16310\">\\n\\t\\t\\t\\t\\t\\t\\t\\t\\n\\t\\t\\t\\t\\t\\t\\t\\t\\t<div class=\"product-add-to-cart-buttons\">\\n      \\n      <div class=\"product-quantity\">\\n        <div class=\"qty hidden-xl-down\">\\n          <input type=\"text\" name=\"qty\" id=\"quantity_wanted\" value=\"1\" class=\"input-group\" min=\"1\" />\\n        </div>\\n<div class=\"add\" >\\n\\t\\t\\t\\t\\t\\t                           <button class=\"add-to-cart-buttons\" style=\"outline: none; text-decoration: none;\" data-button-action=\"add-to-cart\" title=\"Adicionar al carrito\" type=\"submit\"> \\n\\t\\t\\t\\t\\t\\t</button>\\n                               \\t    </div>\\n      </div>\\n    \\n  </div>\\n\\t\\t\\t\\t\\t\\t\\t\\t\\n\\t\\t\\t\\t\\t\\t\\t</form>\\n\\t\\t\\t\\t\\t\\t\\t\\n\\t\\t\\t\\t\\t\\t\\t\\t<input class=\"product-refresh\" data-url-update=\"false\" name=\"refresh\" type=\"submit\" value=\"Refrescar\" hidden>\\n\\t\\t\\t\\t\\t\\t\\t\\n\\t\\t\\t\\t\\t\\n\\t\\t\\t\\n\\t\\t\\t\\t\\t<a href=\"https://muiskcolombia.com/inicio/16310-49-hombre-jersey-manga-corta-confort-puntos-vino.html#/5-talla-xxs/6-genero-hombre\" title=\"Ver\" class=\"view\">\\n\\t\\t\\t\\t\\t</a>\\n\\t\\t\\t\\n\\t\\t\\t\\t\\t\\t<a href=\"#\" class=\"quick-view\" title=\"Ver\" data-link-action=\"quickview\">\\n\\t\\t\\t\\t\\t\\t\\t<div class=\"quick-view-buttons\">\\n\\t\\t\\t\\t\\t\\t\\t<i class=\"material-icons quick\">&#xE8F4;</i> \\n\\t\\t\\t\\t\\t\\t</div>\\n\\t\\t\\t\\t\\t</a>\\n\\t\\t\\t\\t\\t</div>\\n\\t\\t\\t</div>\\n\\t\\t</div>\\t\\n\\t</div>\\n</article>\\n\\t\\t\\t</li>\\n\\t\\t\\t\\t\\t<li class=\"item\">\\n\\t\\t\\t\\t  \\n<article class=\"product-miniature js-product-miniature\" data-id-product=\"16174\" data-id-product-attribute=\"122\" itemscope itemtype=\"http://schema.org/Product\">\\n  <div class=\"thumbnail-container\">\\n  <div class=\"dd-product-image\">\\n    \\n      <a href=\"https://muiskcolombia.com/inicio/16174-122-mujer-jersey-manga-larga-oro-mostaza.html#/4-genero-mujer/7-talla-xs\" class=\"thumbnail product-thumbnail\">\\n        <img\\n          src = \"https://muiskcolombia.com/1353-home_default/mujer-jersey-manga-larga-oro-mostaza.jpg\"\\n          alt = \"\"\\n          data-full-size-image-url = \"https://muiskcolombia.com/1353-large_default/mujer-jersey-manga-larga-oro-mostaza.jpg\"\\n        >\\n      </a>\\n    \\n\\t\\t\\t\\n\\t\\t<ul class=\"product-flags\">\\n\\t\\t\\t\\t\\t\\t<li class=\"on-sale\">¡En oferta!</li>\\n\\t\\t\\t\\t\\t\\t<li class=\"discount\">-$\\xa035.370,00</li>\\n\\t\\t\\t\\t\\t\\t<li class=\"new\">Nuevo</li>\\n\\t\\t\\t\\t\\t</ul>\\n\\t\\t\\n\\t</div>\\n\\t\\n\\t<div class=\"product-desc\">\\n    <div class=\"product-description\">\\n      \\n        <h1 class=\"h3 product-title\" itemprop=\"name\"><a href=\"https://muiskcolombia.com/inicio/16174-122-mujer-jersey-manga-larga-oro-mostaza.html#/4-genero-mujer/7-talla-xs\">MUJER JERSEY MANGA LARGA...</a></h1>\\n      \\n\\n        \\n                      <div class=\"product-price-and-shipping\">\\n                              \\n\\n                <span class=\"sr-only\">Precio base</span>\\n                <span class=\"regular-price\">$\\xa0153.270,00</span>\\n                              \\n              \\n\\n              <span class=\"sr-only\">Precio</span>\\n              <span itemprop=\"price\" class=\"price\">$\\xa0117.900,00</span>\\n\\n              \\n\\n              \\n            </div>\\n\\t\\t\\n\\t\\t\\n<div class=\"product-list-reviews\" data-id=\"16174\" data-url=\"https://muiskcolombia.com/module/productcomments/CommentGrade\">\\n  <div class=\"grade-stars small-stars\"></div>\\n  <div class=\"comments-nb\"></div>\\n</div>\\n\\n\\n\\t\\t\\n                  \\n</div>\\n\\t\\t\\t<div class=\"highlighted-informations no-variants\">\\n\\t\\t\\t\\t\\t<div class=\"buttons-actions_align\">\\n\\t\\t\\t\\t\\t\\t\\t\\t\\n\\t\\t\\t\\t\\t\\t\\t\\t<form action=\"https://muiskcolombia.com/carrito\" method=\"post\" id=\"add-to-cart-or-refresh-16174\">\\n\\t\\t\\t\\t\\t\\t\\t\\t<input type=\"hidden\" name=\"token\" value=\"5dd126e3934713f1dfc114fa1b05c8c5\">\\n\\t\\t\\t\\t\\t\\t\\t\\t<input type=\"hidden\" name=\"id_product\" value=\"16174\" id=\"product_page_product_id_16174\">\\n\\t\\t\\t\\t\\t\\t\\t\\t<input type=\"hidden\" name=\"id_customization\" value=\"0\" id=\"product_customization_id_16174\">\\n\\t\\t\\t\\t\\t\\t\\t\\t\\n\\t\\t\\t\\t\\t\\t\\t\\t\\t<div class=\"product-add-to-cart-buttons\">\\n      \\n      <div class=\"product-quantity\">\\n        <div class=\"qty hidden-xl-down\">\\n          <input type=\"text\" name=\"qty\" id=\"quantity_wanted\" value=\"1\" class=\"input-group\" min=\"1\" />\\n        </div>\\n<div class=\"add\" >\\n\\t\\t\\t\\t\\t\\t                           <button class=\"add-to-cart-buttons\" style=\"outline: none; text-decoration: none;\" data-button-action=\"add-to-cart\" title=\"Adicionar al carrito\" type=\"submit\"> \\n\\t\\t\\t\\t\\t\\t</button>\\n                               \\t    </div>\\n      </div>\\n    \\n  </div>\\n\\t\\t\\t\\t\\t\\t\\t\\t\\n\\t\\t\\t\\t\\t\\t\\t</form>\\n\\t\\t\\t\\t\\t\\t\\t\\n\\t\\t\\t\\t\\t\\t\\t\\t<input class=\"product-refresh\" data-url-update=\"false\" name=\"refresh\" type=\"submit\" value=\"Refrescar\" hidden>\\n\\t\\t\\t\\t\\t\\t\\t\\n\\t\\t\\t\\t\\t\\n\\t\\t\\t\\n\\t\\t\\t\\t\\t<a href=\"https://muiskcolombia.com/inicio/16174-122-mujer-jersey-manga-larga-oro-mostaza.html#/4-genero-mujer/7-talla-xs\" title=\"Ver\" class=\"view\">\\n\\t\\t\\t\\t\\t</a>\\n\\t\\t\\t\\n\\t\\t\\t\\t\\t\\t<a href=\"#\" class=\"quick-view\" title=\"Ver\" data-link-action=\"quickview\">\\n\\t\\t\\t\\t\\t\\t\\t<div class=\"quick-view-buttons\">\\n\\t\\t\\t\\t\\t\\t\\t<i class=\"material-icons quick\">&#xE8F4;</i> \\n\\t\\t\\t\\t\\t\\t</div>\\n\\t\\t\\t\\t\\t</a>\\n\\t\\t\\t\\t\\t</div>\\n\\t\\t\\t</div>\\n\\t\\t</div>\\t\\n\\t</div>\\n</article>\\n\\t\\t\\t</li>\\n\\t\\t\\t\\t\\t<li class=\"item\">\\n\\t\\t\\t\\t  \\n<article class=\"product-miniature js-product-miniature\" data-id-product=\"16173\" data-id-product-attribute=\"197\" itemscope itemtype=\"http://schema.org/Product\">\\n  <div class=\"thumbnail-container\">\\n  <div class=\"dd-product-image\">\\n    \\n      <a href=\"https://muiskcolombia.com/inicio/16173-197-hombre-jersey-manga-larga-oro-mostaza.html#/6-genero-hombre/8-talla-s\" class=\"thumbnail product-thumbnail\">\\n        <img\\n          src = \"https://muiskcolombia.com/1345-home_default/hombre-jersey-manga-larga-oro-mostaza.jpg\"\\n          alt = \"\"\\n          data-full-size-image-url = \"https://muiskcolombia.com/1345-large_default/hombre-jersey-manga-larga-oro-mostaza.jpg\"\\n        >\\n      </a>\\n    \\n\\t\\t\\t\\n\\t\\t<ul class=\"product-flags\">\\n\\t\\t\\t\\t\\t\\t<li class=\"on-sale\">¡En oferta!</li>\\n\\t\\t\\t\\t\\t\\t<li class=\"discount\">-$\\xa035.370,00</li>\\n\\t\\t\\t\\t\\t\\t<li class=\"new\">Nuevo</li>\\n\\t\\t\\t\\t\\t</ul>\\n\\t\\t\\n\\t</div>\\n\\t\\n\\t<div class=\"product-desc\">\\n    <div class=\"product-description\">\\n      \\n        <h1 class=\"h3 product-title\" itemprop=\"name\"><a href=\"https://muiskcolombia.com/inicio/16173-197-hombre-jersey-manga-larga-oro-mostaza.html#/6-genero-hombre/8-talla-s\">HOMBRE JERSEY MANGA LARGA...</a></h1>\\n      \\n\\n        \\n                      <div class=\"product-price-and-shipping\">\\n                              \\n\\n                <span class=\"sr-only\">Precio base</span>\\n                <span class=\"regular-price\">$\\xa0153.270,00</span>\\n                              \\n              \\n\\n              <span class=\"sr-only\">Precio</span>\\n              <span itemprop=\"price\" class=\"price\">$\\xa0117.900,00</span>\\n\\n              \\n\\n              \\n            </div>\\n\\t\\t\\n\\t\\t\\n<div class=\"product-list-reviews\" data-id=\"16173\" data-url=\"https://muiskcolombia.com/module/productcomments/CommentGrade\">\\n  <div class=\"grade-stars small-stars\"></div>\\n  <div class=\"comments-nb\"></div>\\n</div>\\n\\n\\n\\t\\t\\n                  \\n</div>\\n\\t\\t\\t<div class=\"highlighted-informations no-variants\">\\n\\t\\t\\t\\t\\t<div class=\"buttons-actions_align\">\\n\\t\\t\\t\\t\\t\\t\\t\\t\\n\\t\\t\\t\\t\\t\\t\\t\\t<form action=\"https://muiskcolombia.com/carrito\" method=\"post\" id=\"add-to-cart-or-refresh-16173\">\\n\\t\\t\\t\\t\\t\\t\\t\\t<input type=\"hidden\" name=\"token\" value=\"5dd126e3934713f1dfc114fa1b05c8c5\">\\n\\t\\t\\t\\t\\t\\t\\t\\t<input type=\"hidden\" name=\"id_product\" value=\"16173\" id=\"product_page_product_id_16173\">\\n\\t\\t\\t\\t\\t\\t\\t\\t<input type=\"hidden\" name=\"id_customization\" value=\"0\" id=\"product_customization_id_16173\">\\n\\t\\t\\t\\t\\t\\t\\t\\t\\n\\t\\t\\t\\t\\t\\t\\t\\t\\t<div class=\"product-add-to-cart-buttons\">\\n      \\n      <div class=\"product-quantity\">\\n        <div class=\"qty hidden-xl-down\">\\n          <input type=\"text\" name=\"qty\" id=\"quantity_wanted\" value=\"1\" class=\"input-group\" min=\"1\" />\\n        </div>\\n<div class=\"add\" >\\n\\t\\t\\t\\t\\t\\t                           <button class=\"add-to-cart-buttons\" style=\"outline: none; text-decoration: none;\" data-button-action=\"add-to-cart\" title=\"Adicionar al carrito\" type=\"submit\"> \\n\\t\\t\\t\\t\\t\\t</button>\\n                               \\t    </div>\\n      </div>\\n    \\n  </div>\\n\\t\\t\\t\\t\\t\\t\\t\\t\\n\\t\\t\\t\\t\\t\\t\\t</form>\\n\\t\\t\\t\\t\\t\\t\\t\\n\\t\\t\\t\\t\\t\\t\\t\\t<input class=\"product-refresh\" data-url-update=\"false\" name=\"refresh\" type=\"submit\" value=\"Refrescar\" hidden>\\n\\t\\t\\t\\t\\t\\t\\t\\n\\t\\t\\t\\t\\t\\n\\t\\t\\t\\n\\t\\t\\t\\t\\t<a href=\"https://muiskcolombia.com/inicio/16173-197-hombre-jersey-manga-larga-oro-mostaza.html#/6-genero-hombre/8-talla-s\" title=\"Ver\" class=\"view\">\\n\\t\\t\\t\\t\\t</a>\\n\\t\\t\\t\\n\\t\\t\\t\\t\\t\\t<a href=\"#\" class=\"quick-view\" title=\"Ver\" data-link-action=\"quickview\">\\n\\t\\t\\t\\t\\t\\t\\t<div class=\"quick-view-buttons\">\\n\\t\\t\\t\\t\\t\\t\\t<i class=\"material-icons quick\">&#xE8F4;</i> \\n\\t\\t\\t\\t\\t\\t</div>\\n\\t\\t\\t\\t\\t</a>\\n\\t\\t\\t\\t\\t</div>\\n\\t\\t\\t</div>\\n\\t\\t</div>\\t\\n\\t</div>\\n</article>\\n\\t\\t\\t</li>\\n\\t\\t\\t\\t\\t<li class=\"item\">\\n\\t\\t\\t\\t  \\n<article class=\"product-miniature js-product-miniature\" data-id-product=\"16163\" data-id-product-attribute=\"192\" itemscope itemtype=\"http://schema.org/Product\">\\n  <div class=\"thumbnail-container\">\\n  <div class=\"dd-product-image\">\\n    \\n      <a href=\"https://muiskcolombia.com/inicio/16163-192-hombre-jersey-manga-corta-azul-agua.html#/6-genero-hombre/8-talla-s\" class=\"thumbnail product-thumbnail\">\\n        <img\\n          src = \"https://muiskcolombia.com/1265-home_default/hombre-jersey-manga-corta-azul-agua.jpg\"\\n          alt = \"\"\\n          data-full-size-image-url = \"https://muiskcolombia.com/1265-large_default/hombre-jersey-manga-corta-azul-agua.jpg\"\\n        >\\n      </a>\\n    \\n\\t\\t\\t\\n\\t\\t<ul class=\"product-flags\">\\n\\t\\t\\t\\t\\t\\t<li class=\"on-sale\">¡En oferta!</li>\\n\\t\\t\\t\\t\\t\\t<li class=\"discount\">-$\\xa034.470,00</li>\\n\\t\\t\\t\\t\\t\\t<li class=\"new\">Nuevo</li>\\n\\t\\t\\t\\t\\t</ul>\\n\\t\\t\\n\\t</div>\\n\\t\\n\\t<div class=\"product-desc\">\\n    <div class=\"product-description\">\\n      \\n        <h1 class=\"h3 product-title\" itemprop=\"name\"><a href=\"https://muiskcolombia.com/inicio/16163-192-hombre-jersey-manga-corta-azul-agua.html#/6-genero-hombre/8-talla-s\">HOMBRE JERSEY MANGA CORTA...</a></h1>\\n      \\n\\n        \\n                      <div class=\"product-price-and-shipping\">\\n                              \\n\\n                <span class=\"sr-only\">Precio base</span>\\n                <span class=\"regular-price\">$\\xa0149.370,00</span>\\n                              \\n              \\n\\n              <span class=\"sr-only\">Precio</span>\\n              <span itemprop=\"price\" class=\"price\">$\\xa0114.900,00</span>\\n\\n              \\n\\n              \\n            </div>\\n\\t\\t\\n\\t\\t\\n<div class=\"product-list-reviews\" data-id=\"16163\" data-url=\"https://muiskcolombia.com/module/productcomments/CommentGrade\">\\n  <div class=\"grade-stars small-stars\"></div>\\n  <div class=\"comments-nb\"></div>\\n</div>\\n\\n\\n\\t\\t\\n                  \\n</div>\\n\\t\\t\\t<div class=\"highlighted-informations no-variants\">\\n\\t\\t\\t\\t\\t<div class=\"buttons-actions_align\">\\n\\t\\t\\t\\t\\t\\t\\t\\t\\n\\t\\t\\t\\t\\t\\t\\t\\t<form action=\"https://muiskcolombia.com/carrito\" method=\"post\" id=\"add-to-cart-or-refresh-16163\">\\n\\t\\t\\t\\t\\t\\t\\t\\t<input type=\"hidden\" name=\"token\" value=\"5dd126e3934713f1dfc114fa1b05c8c5\">\\n\\t\\t\\t\\t\\t\\t\\t\\t<input type=\"hidden\" name=\"id_product\" value=\"16163\" id=\"product_page_product_id_16163\">\\n\\t\\t\\t\\t\\t\\t\\t\\t<input type=\"hidden\" name=\"id_customization\" value=\"0\" id=\"product_customization_id_16163\">\\n\\t\\t\\t\\t\\t\\t\\t\\t\\n\\t\\t\\t\\t\\t\\t\\t\\t\\t<div class=\"product-add-to-cart-buttons\">\\n      \\n      <div class=\"product-quantity\">\\n        <div class=\"qty hidden-xl-down\">\\n          <input type=\"text\" name=\"qty\" id=\"quantity_wanted\" value=\"1\" class=\"input-group\" min=\"1\" />\\n        </div>\\n<div class=\"add\" >\\n\\t\\t\\t\\t\\t\\t                           <button class=\"add-to-cart-buttons\" style=\"outline: none; text-decoration: none;\" data-button-action=\"add-to-cart\" title=\"Adicionar al carrito\" type=\"submit\"> \\n\\t\\t\\t\\t\\t\\t</button>\\n                               \\t    </div>\\n      </div>\\n    \\n  </div>\\n\\t\\t\\t\\t\\t\\t\\t\\t\\n\\t\\t\\t\\t\\t\\t\\t</form>\\n\\t\\t\\t\\t\\t\\t\\t\\n\\t\\t\\t\\t\\t\\t\\t\\t<input class=\"product-refresh\" data-url-update=\"false\" name=\"refresh\" type=\"submit\" value=\"Refrescar\" hidden>\\n\\t\\t\\t\\t\\t\\t\\t\\n\\t\\t\\t\\t\\t\\n\\t\\t\\t\\n\\t\\t\\t\\t\\t<a href=\"https://muiskcolombia.com/inicio/16163-192-hombre-jersey-manga-corta-azul-agua.html#/6-genero-hombre/8-talla-s\" title=\"Ver\" class=\"view\">\\n\\t\\t\\t\\t\\t</a>\\n\\t\\t\\t\\n\\t\\t\\t\\t\\t\\t<a href=\"#\" class=\"quick-view\" title=\"Ver\" data-link-action=\"quickview\">\\n\\t\\t\\t\\t\\t\\t\\t<div class=\"quick-view-buttons\">\\n\\t\\t\\t\\t\\t\\t\\t<i class=\"material-icons quick\">&#xE8F4;</i> \\n\\t\\t\\t\\t\\t\\t</div>\\n\\t\\t\\t\\t\\t</a>\\n\\t\\t\\t\\t\\t</div>\\n\\t\\t\\t</div>\\n\\t\\t</div>\\t\\n\\t</div>\\n</article>\\n\\t\\t\\t</li>\\n\\t\\t\\t\\t\\t<li class=\"item\">\\n\\t\\t\\t\\t  \\n<article class=\"product-miniature js-product-miniature\" data-id-product=\"16135\" data-id-product-attribute=\"178\" itemscope itemtype=\"http://schema.org/Product\">\\n  <div class=\"thumbnail-container\">\\n  <div class=\"dd-product-image\">\\n    \\n      <a href=\"https://muiskcolombia.com/inicio/16135-178-hombre-jersey-manga-corta-alto-de-la-linea.html#/6-genero-hombre/8-talla-s\" class=\"thumbnail product-thumbnail\">\\n        <img\\n          src = \"https://muiskcolombia.com/1041-home_default/hombre-jersey-manga-corta-alto-de-la-linea.jpg\"\\n          alt = \"\"\\n          data-full-size-image-url = \"https://muiskcolombia.com/1041-large_default/hombre-jersey-manga-corta-alto-de-la-linea.jpg\"\\n        >\\n      </a>\\n    \\n\\t\\t\\t\\n\\t\\t<ul class=\"product-flags\">\\n\\t\\t\\t\\t\\t\\t<li class=\"on-sale\">¡En oferta!</li>\\n\\t\\t\\t\\t\\t\\t<li class=\"discount\">-$\\xa030.570,00</li>\\n\\t\\t\\t\\t\\t\\t<li class=\"new\">Nuevo</li>\\n\\t\\t\\t\\t\\t</ul>\\n\\t\\t\\n\\t</div>\\n\\t\\n\\t<div class=\"product-desc\">\\n    <div class=\"product-description\">\\n      \\n        <h1 class=\"h3 product-title\" itemprop=\"name\"><a href=\"https://muiskcolombia.com/inicio/16135-178-hombre-jersey-manga-corta-alto-de-la-linea.html#/6-genero-hombre/8-talla-s\">HOMBRE JERSEY MANGA CORTA...</a></h1>\\n      \\n\\n        \\n                      <div class=\"product-price-and-shipping\">\\n                              \\n\\n                <span class=\"sr-only\">Precio base</span>\\n                <span class=\"regular-price\">$\\xa0132.470,00</span>\\n                              \\n              \\n\\n              <span class=\"sr-only\">Precio</span>\\n              <span itemprop=\"price\" class=\"price\">$\\xa0101.900,00</span>\\n\\n              \\n\\n              \\n            </div>\\n\\t\\t\\n\\t\\t\\n<div class=\"product-list-reviews\" data-id=\"16135\" data-url=\"https://muiskcolombia.com/module/productcomments/CommentGrade\">\\n  <div class=\"grade-stars small-stars\"></div>\\n  <div class=\"comments-nb\"></div>\\n</div>\\n\\n\\n\\t\\t\\n                  \\n</div>\\n\\t\\t\\t<div class=\"highlighted-informations no-variants\">\\n\\t\\t\\t\\t\\t<div class=\"buttons-actions_align\">\\n\\t\\t\\t\\t\\t\\t\\t\\t\\n\\t\\t\\t\\t\\t\\t\\t\\t<form action=\"https://muiskcolombia.com/carrito\" method=\"post\" id=\"add-to-cart-or-refresh-16135\">\\n\\t\\t\\t\\t\\t\\t\\t\\t<input type=\"hidden\" name=\"token\" value=\"5dd126e3934713f1dfc114fa1b05c8c5\">\\n\\t\\t\\t\\t\\t\\t\\t\\t<input type=\"hidden\" name=\"id_product\" value=\"16135\" id=\"product_page_product_id_16135\">\\n\\t\\t\\t\\t\\t\\t\\t\\t<input type=\"hidden\" name=\"id_customization\" value=\"0\" id=\"product_customization_id_16135\">\\n\\t\\t\\t\\t\\t\\t\\t\\t\\n\\t\\t\\t\\t\\t\\t\\t\\t\\t<div class=\"product-add-to-cart-buttons\">\\n      \\n      <div class=\"product-quantity\">\\n        <div class=\"qty hidden-xl-down\">\\n          <input type=\"text\" name=\"qty\" id=\"quantity_wanted\" value=\"1\" class=\"input-group\" min=\"1\" />\\n        </div>\\n<div class=\"add\" >\\n\\t\\t\\t\\t\\t\\t                           <button class=\"add-to-cart-buttons\" style=\"outline: none; text-decoration: none;\" data-button-action=\"add-to-cart\" title=\"Adicionar al carrito\" type=\"submit\"> \\n\\t\\t\\t\\t\\t\\t</button>\\n                               \\t    </div>\\n      </div>\\n    \\n  </div>\\n\\t\\t\\t\\t\\t\\t\\t\\t\\n\\t\\t\\t\\t\\t\\t\\t</form>\\n\\t\\t\\t\\t\\t\\t\\t\\n\\t\\t\\t\\t\\t\\t\\t\\t<input class=\"product-refresh\" data-url-update=\"false\" name=\"refresh\" type=\"submit\" value=\"Refrescar\" hidden>\\n\\t\\t\\t\\t\\t\\t\\t\\n\\t\\t\\t\\t\\t\\n\\t\\t\\t\\n\\t\\t\\t\\t\\t<a href=\"https://muiskcolombia.com/inicio/16135-178-hombre-jersey-manga-corta-alto-de-la-linea.html#/6-genero-hombre/8-talla-s\" title=\"Ver\" class=\"view\">\\n\\t\\t\\t\\t\\t</a>\\n\\t\\t\\t\\n\\t\\t\\t\\t\\t\\t<a href=\"#\" class=\"quick-view\" title=\"Ver\" data-link-action=\"quickview\">\\n\\t\\t\\t\\t\\t\\t\\t<div class=\"quick-view-buttons\">\\n\\t\\t\\t\\t\\t\\t\\t<i class=\"material-icons quick\">&#xE8F4;</i> \\n\\t\\t\\t\\t\\t\\t</div>\\n\\t\\t\\t\\t\\t</a>\\n\\t\\t\\t\\t\\t</div>\\n\\t\\t\\t</div>\\n\\t\\t</div>\\t\\n\\t</div>\\n</article>\\n\\t\\t\\t</li>\\n\\t\\t\\t\\t\\t<li class=\"item\">\\n\\t\\t\\t\\t  \\n<article class=\"product-miniature js-product-miniature\" data-id-product=\"16036\" data-id-product-attribute=\"84\" itemscope itemtype=\"http://schema.org/Product\">\\n  <div class=\"thumbnail-container\">\\n  <div class=\"dd-product-image\">\\n    \\n      <a href=\"https://muiskcolombia.com/inicio/16036-84-mujer-jersey-manga-larga-patios-azul-outlet.html#/4-genero-mujer/7-talla-xs\" class=\"thumbnail product-thumbnail\">\\n        <img\\n          src = \"https://muiskcolombia.com/281-home_default/mujer-jersey-manga-larga-patios-azul-outlet.jpg\"\\n          alt = \"\"\\n          data-full-size-image-url = \"https://muiskcolombia.com/281-large_default/mujer-jersey-manga-larga-patios-azul-outlet.jpg\"\\n        >\\n      </a>\\n    \\n\\t\\t\\t\\n\\t\\t<ul class=\"product-flags\">\\n\\t\\t\\t\\t\\t\\t<li class=\"on-sale\">¡En oferta!</li>\\n\\t\\t\\t\\t\\t\\t<li class=\"discount\">-$\\xa016.470,00</li>\\n\\t\\t\\t\\t\\t\\t<li class=\"new\">Nuevo</li>\\n\\t\\t\\t\\t\\t</ul>\\n\\t\\t\\n\\t</div>\\n\\t\\n\\t<div class=\"product-desc\">\\n    <div class=\"product-description\">\\n      \\n        <h1 class=\"h3 product-title\" itemprop=\"name\"><a href=\"https://muiskcolombia.com/inicio/16036-84-mujer-jersey-manga-larga-patios-azul-outlet.html#/4-genero-mujer/7-talla-xs\">MUJER JERSEY MANGA LARGA...</a></h1>\\n      \\n\\n        \\n                      <div class=\"product-price-and-shipping\">\\n                              \\n\\n                <span class=\"sr-only\">Precio base</span>\\n                <span class=\"regular-price\">$\\xa071.370,00</span>\\n                              \\n              \\n\\n              <span class=\"sr-only\">Precio</span>\\n              <span itemprop=\"price\" class=\"price\">$\\xa054.900,00</span>\\n\\n              \\n\\n              \\n            </div>\\n\\t\\t\\n\\t\\t\\n<div class=\"product-list-reviews\" data-id=\"16036\" data-url=\"https://muiskcolombia.com/module/productcomments/CommentGrade\">\\n  <div class=\"grade-stars small-stars\"></div>\\n  <div class=\"comments-nb\"></div>\\n</div>\\n\\n\\n\\t\\t\\n                  \\n</div>\\n\\t\\t\\t<div class=\"highlighted-informations no-variants\">\\n\\t\\t\\t\\t\\t<div class=\"buttons-actions_align\">\\n\\t\\t\\t\\t\\t\\t\\t\\t\\n\\t\\t\\t\\t\\t\\t\\t\\t<form action=\"https://muiskcolombia.com/carrito\" method=\"post\" id=\"add-to-cart-or-refresh-16036\">\\n\\t\\t\\t\\t\\t\\t\\t\\t<input type=\"hidden\" name=\"token\" value=\"5dd126e3934713f1dfc114fa1b05c8c5\">\\n\\t\\t\\t\\t\\t\\t\\t\\t<input type=\"hidden\" name=\"id_product\" value=\"16036\" id=\"product_page_product_id_16036\">\\n\\t\\t\\t\\t\\t\\t\\t\\t<input type=\"hidden\" name=\"id_customization\" value=\"0\" id=\"product_customization_id_16036\">\\n\\t\\t\\t\\t\\t\\t\\t\\t\\n\\t\\t\\t\\t\\t\\t\\t\\t\\t<div class=\"product-add-to-cart-buttons\">\\n      \\n      <div class=\"product-quantity\">\\n        <div class=\"qty hidden-xl-down\">\\n          <input type=\"text\" name=\"qty\" id=\"quantity_wanted\" value=\"1\" class=\"input-group\" min=\"1\" />\\n        </div>\\n<div class=\"add\" >\\n\\t\\t\\t\\t\\t\\t                           <button class=\"add-to-cart-buttons\" style=\"outline: none; text-decoration: none;\" data-button-action=\"add-to-cart\" title=\"Adicionar al carrito\" type=\"submit\"> \\n\\t\\t\\t\\t\\t\\t</button>\\n                               \\t    </div>\\n      </div>\\n    \\n  </div>\\n\\t\\t\\t\\t\\t\\t\\t\\t\\n\\t\\t\\t\\t\\t\\t\\t</form>\\n\\t\\t\\t\\t\\t\\t\\t\\n\\t\\t\\t\\t\\t\\t\\t\\t<input class=\"product-refresh\" data-url-update=\"false\" name=\"refresh\" type=\"submit\" value=\"Refrescar\" hidden>\\n\\t\\t\\t\\t\\t\\t\\t\\n\\t\\t\\t\\t\\t\\n\\t\\t\\t\\n\\t\\t\\t\\t\\t<a href=\"https://muiskcolombia.com/inicio/16036-84-mujer-jersey-manga-larga-patios-azul-outlet.html#/4-genero-mujer/7-talla-xs\" title=\"Ver\" class=\"view\">\\n\\t\\t\\t\\t\\t</a>\\n\\t\\t\\t\\n\\t\\t\\t\\t\\t\\t<a href=\"#\" class=\"quick-view\" title=\"Ver\" data-link-action=\"quickview\">\\n\\t\\t\\t\\t\\t\\t\\t<div class=\"quick-view-buttons\">\\n\\t\\t\\t\\t\\t\\t\\t<i class=\"material-icons quick\">&#xE8F4;</i> \\n\\t\\t\\t\\t\\t\\t</div>\\n\\t\\t\\t\\t\\t</a>\\n\\t\\t\\t\\t\\t</div>\\n\\t\\t\\t</div>\\n\\t\\t</div>\\t\\n\\t</div>\\n</article>\\n\\t\\t\\t</li>\\n\\t\\t\\t\\t</ul>\\n\\t\\t<div class=\"view_more\">\\n\\t\\t\\t<a class=\"all-product-link\" href=\"https://muiskcolombia.com/mas-vendidos\">\\n\\t\\t\\t\\tTodos los productos\\n\\t\\t\\t</a>\\n\\t\\t</div>\\n\\t</div>\\n</section>\\n<section class=\"featured-products clearfix\">\\n<div class=\"linia_tytul\">\\n    <div class=\"tytuly\">\\n\\t\\tSpecials\\n\\t\\t</div>\\n\\t\\t<div class=\"SliderNavigation\">\\n\\t\\t\\t\\t<a class=\"btn prev webspecial_prev\">&nbsp;</a>\\n\\t\\t\\t\\t<a class=\"btn next webspecial_next\">&nbsp;</a>\\n\\t\\t</div>\\n</div>\\n\\n\\t<div class=\"products\">\\t\\t\\t\\n\\t\\t\\n\\t\\t<ul id=\"specials\" class=\"special_grid product_list grid row gridcount\">\\n\\n\\t\\t\\t\\t\\t<li class=\"item\">\\n\\t\\t\\t\\t \\n<article class=\"product-miniature js-product-miniature\" data-id-product=\"16134\" data-id-product-attribute=\"112\" itemscope itemtype=\"http://schema.org/Product\">\\n  <div class=\"thumbnail-container\">\\n  <div class=\"dd-product-image special-image\">\\n    \\n\\t\\t\\t  <a href=\"https://muiskcolombia.com/inicio/16134-112-mujer-enterizo-manga-corta-basic-marino.html#/4-genero-mujer/7-talla-xs\" class=\"thumbnail product-thumbnail\"\">\\n\\t\\t\\t\\t\\t<img\\n\\t\\t\\t\\t\\t  class=\"ddproduct-img1\"\\n\\t\\t\\t\\t\\t  src = \"https://muiskcolombia.com/1033-home_default/mujer-enterizo-manga-corta-basic-marino.jpg\"\\n\\t\\t\\t\\t\\t  alt = \"MUJER ENTERIZO MANGA CORTA BASIC MARINO\"\\n\\t\\t\\t\\t\\t  data-full-size-image-url = \"https://muiskcolombia.com/1033-large_default/mujer-enterizo-manga-corta-basic-marino.jpg\"\\n\\t\\t\\t\\t\\t>\\n\\t\\t\\t\\t\\n\\t\\t\\t  </a>\\n    \\t\\t\\n   </div>\\n\\n    \\n\\t<div class=\"product-description-special col-lg-6\">\\n      \\n        <h3 class=\"h3 product-title\" itemprop=\"name\"><a href=\"https://muiskcolombia.com/inicio/16134-112-mujer-enterizo-manga-corta-basic-marino.html#/4-genero-mujer/7-talla-xs\">MUJER ENTERIZO MANGA CORTA BASIC MARINO</a></h3 >\\n      \\n\\t\\t\\n        <div id=\"product-description-short-16134\" class=\"description\" itemprop=\"description\"><br /><br />✅ENTERIZO<br />\\n✅TIPO DE TELA <br />\\nPRO ⭐⭐⭐⭐⭐<br />\\nCONFORT ⭐⭐⭐⭐✴<br />\\nBASIC ⭐⭐✴✴✴<br />\\n✅ UNIFORME<br />\\n✅ Cremallera de seguridad...\\n\\t\\t</div>\\n       \\n\\t   \\n        \\n                    \\n                              \\n\\n                <span class=\"sr-only\">Precio base</span>\\n                <span class=\"regular-price\">$\\xa0182.000,00</span>\\n                              \\n              \\n\\n              <span class=\"sr-only\">Precio</span>\\n              <span itemprop=\"price\" class=\"price\">$\\xa0140.000,00</span>\\n\\n              \\n\\n              \\n      \\n                  \\n\\t\\t\\n\\n\\n\\n\\n\\t</div>\\n </div>\\n</article>\\n\\t\\t\\t</li>\\n\\t\\t\\t\\t\\t<li class=\"item\">\\n\\t\\t\\t\\t \\n<article class=\"product-miniature js-product-miniature\" data-id-product=\"16161\" data-id-product-attribute=\"190\" itemscope itemtype=\"http://schema.org/Product\">\\n  <div class=\"thumbnail-container\">\\n  <div class=\"dd-product-image special-image\">\\n    \\n\\t\\t\\t  <a href=\"https://muiskcolombia.com/inicio/16161-190-hombre-jersey-manga-larga-patios-fucsia.html#/6-genero-hombre/8-talla-s\" class=\"thumbnail product-thumbnail\"\">\\n\\t\\t\\t\\t\\t<img\\n\\t\\t\\t\\t\\t  class=\"ddproduct-img1\"\\n\\t\\t\\t\\t\\t  src = \"https://muiskcolombia.com/1249-home_default/hombre-jersey-manga-larga-patios-fucsia.jpg\"\\n\\t\\t\\t\\t\\t  alt = \"HOMBRE JERSEY MANGA LARGA PATIOS FUCSIA\"\\n\\t\\t\\t\\t\\t  data-full-size-image-url = \"https://muiskcolombia.com/1249-large_default/hombre-jersey-manga-larga-patios-fucsia.jpg\"\\n\\t\\t\\t\\t\\t>\\n\\t\\t\\t\\t\\n\\t\\t\\t  </a>\\n    \\t\\t\\n   </div>\\n\\n    \\n\\t<div class=\"product-description-special col-lg-6\">\\n      \\n        <h3 class=\"h3 product-title\" itemprop=\"name\"><a href=\"https://muiskcolombia.com/inicio/16161-190-hombre-jersey-manga-larga-patios-fucsia.html#/6-genero-hombre/8-talla-s\">HOMBRE JERSEY MANGA LARGA PATIOS FUCSIA</a></h3 >\\n      \\n\\t\\t\\n        <div id=\"product-description-short-16161\" class=\"description\" itemprop=\"description\"><br /><br />✅JERSEY CONFORT<br />\\n✅TIPO DE TELA <br />\\nCONFORT ⭐⭐⭐⭐✴<br />\\n✅ Jersey<br />\\n✅ Cremallera de seguridad <br />\\n✅ Ideal para recorridos...\\n\\t\\t</div>\\n       \\n\\t   \\n        \\n                    \\n                              \\n\\n                <span class=\"sr-only\">Precio base</span>\\n                <span class=\"regular-price\">$\\xa0153.270,00</span>\\n                              \\n              \\n\\n              <span class=\"sr-only\">Precio</span>\\n              <span itemprop=\"price\" class=\"price\">$\\xa0117.900,00</span>\\n\\n              \\n\\n              \\n      \\n                  \\n\\t\\t\\n\\n\\n\\n\\n\\t</div>\\n </div>\\n</article>\\n\\t\\t\\t</li>\\n\\t\\t\\t\\t\\t<li class=\"item\">\\n\\t\\t\\t\\t \\n<article class=\"product-miniature js-product-miniature\" data-id-product=\"16162\" data-id-product-attribute=\"119\" itemscope itemtype=\"http://schema.org/Product\">\\n  <div class=\"thumbnail-container\">\\n  <div class=\"dd-product-image special-image\">\\n    \\n\\t\\t\\t  <a href=\"https://muiskcolombia.com/inicio/16162-119-mujer-jersey-manga-larga-patios-fucsia.html#/4-genero-mujer/7-talla-xs\" class=\"thumbnail product-thumbnail\"\">\\n\\t\\t\\t\\t\\t<img\\n\\t\\t\\t\\t\\t  class=\"ddproduct-img1\"\\n\\t\\t\\t\\t\\t  src = \"https://muiskcolombia.com/1257-home_default/mujer-jersey-manga-larga-patios-fucsia.jpg\"\\n\\t\\t\\t\\t\\t  alt = \"MUJER JERSEY MANGA LARGA PATIOS FUCSIA\"\\n\\t\\t\\t\\t\\t  data-full-size-image-url = \"https://muiskcolombia.com/1257-large_default/mujer-jersey-manga-larga-patios-fucsia.jpg\"\\n\\t\\t\\t\\t\\t>\\n\\t\\t\\t\\t\\n\\t\\t\\t  </a>\\n    \\t\\t\\n   </div>\\n\\n    \\n\\t<div class=\"product-description-special col-lg-6\">\\n      \\n        <h3 class=\"h3 product-title\" itemprop=\"name\"><a href=\"https://muiskcolombia.com/inicio/16162-119-mujer-jersey-manga-larga-patios-fucsia.html#/4-genero-mujer/7-talla-xs\">MUJER JERSEY MANGA LARGA PATIOS FUCSIA</a></h3 >\\n      \\n\\t\\t\\n        <div id=\"product-description-short-16162\" class=\"description\" itemprop=\"description\"><br /><br />✅JERSEY CONFORT<br />\\n✅TIPO DE TELA <br />\\nCONFORT ⭐⭐⭐⭐✴<br />\\n✅ Jersey<br />\\n✅ Cremallera de seguridad <br />\\n✅ Ideal para recorridos...\\n\\t\\t</div>\\n       \\n\\t   \\n        \\n                    \\n                              \\n\\n                <span class=\"sr-only\">Precio base</span>\\n                <span class=\"regular-price\">$\\xa0153.270,00</span>\\n                              \\n              \\n\\n              <span class=\"sr-only\">Precio</span>\\n              <span itemprop=\"price\" class=\"price\">$\\xa0117.900,00</span>\\n\\n              \\n\\n              \\n      \\n                  \\n\\t\\t\\n\\n\\n\\n\\n\\t</div>\\n </div>\\n</article>\\n\\t\\t\\t</li>\\n\\t\\t\\t\\t\\t<li class=\"item\">\\n\\t\\t\\t\\t \\n<article class=\"product-miniature js-product-miniature\" data-id-product=\"16165\" data-id-product-attribute=\"194\" itemscope itemtype=\"http://schema.org/Product\">\\n  <div class=\"thumbnail-container\">\\n  <div class=\"dd-product-image special-image\">\\n    \\n\\t\\t\\t  <a href=\"https://muiskcolombia.com/inicio/16165-194-hombre-jersey-manga-larga-azul-agua.html#/6-genero-hombre/8-talla-s\" class=\"thumbnail product-thumbnail\"\">\\n\\t\\t\\t\\t\\t<img\\n\\t\\t\\t\\t\\t  class=\"ddproduct-img1\"\\n\\t\\t\\t\\t\\t  src = \"https://muiskcolombia.com/1281-home_default/hombre-jersey-manga-larga-azul-agua.jpg\"\\n\\t\\t\\t\\t\\t  alt = \"HOMBRE JERSEY MANGA LARGA AZUL AGUA\"\\n\\t\\t\\t\\t\\t  data-full-size-image-url = \"https://muiskcolombia.com/1281-large_default/hombre-jersey-manga-larga-azul-agua.jpg\"\\n\\t\\t\\t\\t\\t>\\n\\t\\t\\t\\t\\n\\t\\t\\t  </a>\\n    \\t\\t\\n   </div>\\n\\n    \\n\\t<div class=\"product-description-special col-lg-6\">\\n      \\n        <h3 class=\"h3 product-title\" itemprop=\"name\"><a href=\"https://muiskcolombia.com/inicio/16165-194-hombre-jersey-manga-larga-azul-agua.html#/6-genero-hombre/8-talla-s\">HOMBRE JERSEY MANGA LARGA AZUL AGUA</a></h3 >\\n      \\n\\t\\t\\n        <div id=\"product-description-short-16165\" class=\"description\" itemprop=\"description\"><br /><br />✅JERSEY CONFORT<br />\\n✅TIPO DE TELA <br />\\nCONFORT ⭐⭐⭐⭐✴<br />\\n✅ Jersey<br />\\n✅ Cremallera de seguridad <br />\\n✅ Ideal para recorridos...\\n\\t\\t</div>\\n       \\n\\t   \\n        \\n                    \\n                              \\n\\n                <span class=\"sr-only\">Precio base</span>\\n                <span class=\"regular-price\">$\\xa0153.270,00</span>\\n                              \\n              \\n\\n              <span class=\"sr-only\">Precio</span>\\n              <span itemprop=\"price\" class=\"price\">$\\xa0117.900,00</span>\\n\\n              \\n\\n              \\n      \\n                  \\n\\t\\t\\n\\n\\n\\n\\n\\t</div>\\n </div>\\n</article>\\n\\t\\t\\t</li>\\n\\t\\t\\t\\t\\t<li class=\"item\">\\n\\t\\t\\t\\t \\n<article class=\"product-miniature js-product-miniature\" data-id-product=\"16173\" data-id-product-attribute=\"197\" itemscope itemtype=\"http://schema.org/Product\">\\n  <div class=\"thumbnail-container\">\\n  <div class=\"dd-product-image special-image\">\\n    \\n\\t\\t\\t  <a href=\"https://muiskcolombia.com/inicio/16173-197-hombre-jersey-manga-larga-oro-mostaza.html#/6-genero-hombre/8-talla-s\" class=\"thumbnail product-thumbnail\"\">\\n\\t\\t\\t\\t\\t<img\\n\\t\\t\\t\\t\\t  class=\"ddproduct-img1\"\\n\\t\\t\\t\\t\\t  src = \"https://muiskcolombia.com/1345-home_default/hombre-jersey-manga-larga-oro-mostaza.jpg\"\\n\\t\\t\\t\\t\\t  alt = \"HOMBRE JERSEY MANGA LARGA ORO MOSTAZA\"\\n\\t\\t\\t\\t\\t  data-full-size-image-url = \"https://muiskcolombia.com/1345-large_default/hombre-jersey-manga-larga-oro-mostaza.jpg\"\\n\\t\\t\\t\\t\\t>\\n\\t\\t\\t\\t\\n\\t\\t\\t  </a>\\n    \\t\\t\\n   </div>\\n\\n    \\n\\t<div class=\"product-description-special col-lg-6\">\\n      \\n        <h3 class=\"h3 product-title\" itemprop=\"name\"><a href=\"https://muiskcolombia.com/inicio/16173-197-hombre-jersey-manga-larga-oro-mostaza.html#/6-genero-hombre/8-talla-s\">HOMBRE JERSEY MANGA LARGA ORO MOSTAZA</a></h3 >\\n      \\n\\t\\t\\n        <div id=\"product-description-short-16173\" class=\"description\" itemprop=\"description\"><br /><br />✅JERSEY CONFORT<br />\\n✅TIPO DE TELA <br />\\nCONFORT ⭐⭐⭐⭐✴<br />\\n✅ Jersey<br />\\n✅ Cremallera de seguridad <br />\\n✅ Ideal para recorridos...\\n\\t\\t</div>\\n       \\n\\t   \\n        \\n                    \\n                              \\n\\n                <span class=\"sr-only\">Precio base</span>\\n                <span class=\"regular-price\">$\\xa0153.270,00</span>\\n                              \\n              \\n\\n              <span class=\"sr-only\">Precio</span>\\n              <span itemprop=\"price\" class=\"price\">$\\xa0117.900,00</span>\\n\\n              \\n\\n              \\n      \\n                  \\n\\t\\t\\n\\n\\n\\n\\n\\t</div>\\n </div>\\n</article>\\n\\t\\t\\t</li>\\n\\t\\t\\t\\t\\t<li class=\"item\">\\n\\t\\t\\t\\t \\n<article class=\"product-miniature js-product-miniature\" data-id-product=\"16174\" data-id-product-attribute=\"122\" itemscope itemtype=\"http://schema.org/Product\">\\n  <div class=\"thumbnail-container\">\\n  <div class=\"dd-product-image special-image\">\\n    \\n\\t\\t\\t  <a href=\"https://muiskcolombia.com/inicio/16174-122-mujer-jersey-manga-larga-oro-mostaza.html#/4-genero-mujer/7-talla-xs\" class=\"thumbnail product-thumbnail\"\">\\n\\t\\t\\t\\t\\t<img\\n\\t\\t\\t\\t\\t  class=\"ddproduct-img1\"\\n\\t\\t\\t\\t\\t  src = \"https://muiskcolombia.com/1353-home_default/mujer-jersey-manga-larga-oro-mostaza.jpg\"\\n\\t\\t\\t\\t\\t  alt = \"MUJER JERSEY MANGA LARGA ORO MOSTAZA\"\\n\\t\\t\\t\\t\\t  data-full-size-image-url = \"https://muiskcolombia.com/1353-large_default/mujer-jersey-manga-larga-oro-mostaza.jpg\"\\n\\t\\t\\t\\t\\t>\\n\\t\\t\\t\\t\\n\\t\\t\\t  </a>\\n    \\t\\t\\n   </div>\\n\\n    \\n\\t<div class=\"product-description-special col-lg-6\">\\n      \\n        <h3 class=\"h3 product-title\" itemprop=\"name\"><a href=\"https://muiskcolombia.com/inicio/16174-122-mujer-jersey-manga-larga-oro-mostaza.html#/4-genero-mujer/7-talla-xs\">MUJER JERSEY MANGA LARGA ORO MOSTAZA</a></h3 >\\n      \\n\\t\\t\\n        <div id=\"product-description-short-16174\" class=\"description\" itemprop=\"description\"><br /><br />✅JERSEY CONFORT<br />\\n✅TIPO DE TELA <br />\\nCONFORT ⭐⭐⭐⭐✴<br />\\n✅ Jersey<br />\\n✅ Cremallera de seguridad <br />\\n✅ Ideal para recorridos...\\n\\t\\t</div>\\n       \\n\\t   \\n        \\n                    \\n                              \\n\\n                <span class=\"sr-only\">Precio base</span>\\n                <span class=\"regular-price\">$\\xa0153.270,00</span>\\n                              \\n              \\n\\n              <span class=\"sr-only\">Precio</span>\\n              <span itemprop=\"price\" class=\"price\">$\\xa0117.900,00</span>\\n\\n              \\n\\n              \\n      \\n                  \\n\\t\\t\\n\\n\\n\\n\\n\\t</div>\\n </div>\\n</article>\\n\\t\\t\\t</li>\\n\\t\\t\\t\\t</ul>\\t\\n\\t\\t\\n\\t\\t<div class=\"view_more\">\\n\\t\\t\\t   <a class=\"all-product-link\" href=\"https://muiskcolombia.com/productos-rebajados\">All sale products</a>\\n\\t\\t</div>\\n\\t</div>\\n</section>\\n<section class=\"manufacture_image\">\\n<div class=\"linia_tytul\">\\n    <div class=\"tytuly\">\\n\\t\\t\\t\\t\\tMarcas\\n\\t\\t\\t</div>\\n\\t\\t\\t\\t\\t\\t<div class=\"SliderNavigation\">\\n\\t\\t\\t\\t<a class=\"btn prev manufacture_prev\"></a>\\n\\t\\t\\t\\t<a class=\"btn next manufacture_next\"></a>\\n\\t\\t\\t\\t</div>\\n</div>\\n\\t<div class=\"products\">\\n    \\t\\t\\t\\n\\t\\t\\t\\t\\t\\t\\t        \\t\\t\\t\\t\\n\\t\\t\\t\\t<ul id=\"manufacture-slider\" class=\"manufacturers product_list\">\\n\\t\\t\\t\\t\\t\\t\\t\\t\\t\\t<li class=\"item\">\\n\\t\\t\\t\\t\\t<div class=\"brand-image\">\\n\\t\\t\\t\\t\\t<a href=\"https://muiskcolombia.com/brand/5-calidad\" title=\"Calidad\">\\n\\t\\t\\t\\t\\t\\t<img src=\"https://muiskcolombia.com/img/m/5.jpg\" alt=\"Calidad\" />\\n\\t\\t\\t\\t\\t</a>\\n\\t\\t\\t\\t\\t</div>\\n\\t\\t\\t\\t\\t\\n\\t\\t\\t\\t\\t\\t\\t\\t\\t\\t\\t<span class=\"h3 product-title\" itemprop=\"name\">\\n\\t\\t\\t\\t\\t\\t\\t<a class=\"product-name\" itemprop=\"url\"  href=\"https://muiskcolombia.com/brand/5-calidad\" title=\"Calidad\">Calidad</a>\\n\\t\\t\\t\\t\\t\\t</span>\\n\\t\\t\\t\\t\\t\\t\\t\\t\\t</li>\\n\\t\\t\\t\\t\\t\\t\\t<li class=\"item\">\\n\\t\\t\\t\\t\\t<div class=\"brand-image\">\\n\\t\\t\\t\\t\\t<a href=\"https://muiskcolombia.com/brand/7-color\" title=\"COLOR\">\\n\\t\\t\\t\\t\\t\\t<img src=\"https://muiskcolombia.com/img/m/7.jpg\" alt=\"COLOR\" />\\n\\t\\t\\t\\t\\t</a>\\n\\t\\t\\t\\t\\t</div>\\n\\t\\t\\t\\t\\t\\n\\t\\t\\t\\t\\t\\t\\t\\t\\t\\t\\t<span class=\"h3 product-title\" itemprop=\"name\">\\n\\t\\t\\t\\t\\t\\t\\t<a class=\"product-name\" itemprop=\"url\"  href=\"https://muiskcolombia.com/brand/7-color\" title=\"COLOR\">COLOR</a>\\n\\t\\t\\t\\t\\t\\t</span>\\n\\t\\t\\t\\t\\t\\t\\t\\t\\t</li>\\n\\t\\t\\t\\t\\t\\t\\t<li class=\"item\">\\n\\t\\t\\t\\t\\t<div class=\"brand-image\">\\n\\t\\t\\t\\t\\t<a href=\"https://muiskcolombia.com/brand/6-elegancia\" title=\"Elegancia\">\\n\\t\\t\\t\\t\\t\\t<img src=\"https://muiskcolombia.com/img/m/6.jpg\" alt=\"Elegancia\" />\\n\\t\\t\\t\\t\\t</a>\\n\\t\\t\\t\\t\\t</div>\\n\\t\\t\\t\\t\\t\\n\\t\\t\\t\\t\\t\\t\\t\\t\\t\\t\\t<span class=\"h3 product-title\" itemprop=\"name\">\\n\\t\\t\\t\\t\\t\\t\\t<a class=\"product-name\" itemprop=\"url\"  href=\"https://muiskcolombia.com/brand/6-elegancia\" title=\"Elegancia\">Elegancia</a>\\n\\t\\t\\t\\t\\t\\t</span>\\n\\t\\t\\t\\t\\t\\t\\t\\t\\t</li>\\n\\t\\t\\t\\t\\t\\t</ul>\\n\\t\\t\\t</div>\\n</section>\\n<section class=\"featured-products clearfix\">\\n<div class=\"linia_tytul\">\\n  <div class=\"tytuly\">En oferta</div></div>\\n  <div class=\"products\">\\t\\t\\n  \\n  <ul class=\"special_grid product_list grid row gridcount\">\\t<li class=\"product_item col-xs-12 col-sm-6 col-md-4 col-lg-3\">  \\n<article class=\"product-miniature js-product-miniature\" data-id-product=\"16134\" data-id-product-attribute=\"112\" itemscope itemtype=\"http://schema.org/Product\">\\n  <div class=\"thumbnail-container\">\\n  <div class=\"dd-product-image\">\\n    \\n      <a href=\"https://muiskcolombia.com/inicio/16134-112-mujer-enterizo-manga-corta-basic-marino.html#/4-genero-mujer/7-talla-xs\" class=\"thumbnail product-thumbnail\">\\n        <img\\n          src = \"https://muiskcolombia.com/1033-home_default/mujer-enterizo-manga-corta-basic-marino.jpg\"\\n          alt = \"\"\\n          data-full-size-image-url = \"https://muiskcolombia.com/1033-large_default/mujer-enterizo-manga-corta-basic-marino.jpg\"\\n        >\\n      </a>\\n    \\n\\t\\t\\t\\n\\t\\t<ul class=\"product-flags\">\\n\\t\\t\\t\\t\\t\\t<li class=\"on-sale\">¡En oferta!</li>\\n\\t\\t\\t\\t\\t\\t<li class=\"discount\">-$\\xa042.000,00</li>\\n\\t\\t\\t\\t\\t\\t<li class=\"new\">Nuevo</li>\\n\\t\\t\\t\\t\\t</ul>\\n\\t\\t\\n\\t</div>\\n\\t\\n\\t<div class=\"product-desc\">\\n    <div class=\"product-description\">\\n      \\n        <h1 class=\"h3 product-title\" itemprop=\"name\"><a href=\"https://muiskcolombia.com/inicio/16134-112-mujer-enterizo-manga-corta-basic-marino.html#/4-genero-mujer/7-talla-xs\">MUJER ENTERIZO MANGA CORTA...</a></h1>\\n      \\n\\n        \\n                      <div class=\"product-price-and-shipping\">\\n                              \\n\\n                <span class=\"sr-only\">Precio base</span>\\n                <span class=\"regular-price\">$\\xa0182.000,00</span>\\n                              \\n              \\n\\n              <span class=\"sr-only\">Precio</span>\\n              <span itemprop=\"price\" class=\"price\">$\\xa0140.000,00</span>\\n\\n              \\n\\n              \\n            </div>\\n\\t\\t\\n\\t\\t\\n<div class=\"product-list-reviews\" data-id=\"16134\" data-url=\"https://muiskcolombia.com/module/productcomments/CommentGrade\">\\n  <div class=\"grade-stars small-stars\"></div>\\n  <div class=\"comments-nb\"></div>\\n</div>\\n\\n\\n\\t\\t\\n                  \\n</div>\\n\\t\\t\\t<div class=\"highlighted-informations no-variants\">\\n\\t\\t\\t\\t\\t<div class=\"buttons-actions_align\">\\n\\t\\t\\t\\t\\t\\t\\t\\t\\n\\t\\t\\t\\t\\t\\t\\t\\t<form action=\"https://muiskcolombia.com/carrito\" method=\"post\" id=\"add-to-cart-or-refresh-16134\">\\n\\t\\t\\t\\t\\t\\t\\t\\t<input type=\"hidden\" name=\"token\" value=\"5dd126e3934713f1dfc114fa1b05c8c5\">\\n\\t\\t\\t\\t\\t\\t\\t\\t<input type=\"hidden\" name=\"id_product\" value=\"16134\" id=\"product_page_product_id_16134\">\\n\\t\\t\\t\\t\\t\\t\\t\\t<input type=\"hidden\" name=\"id_customization\" value=\"0\" id=\"product_customization_id_16134\">\\n\\t\\t\\t\\t\\t\\t\\t\\t\\n\\t\\t\\t\\t\\t\\t\\t\\t\\t<div class=\"product-add-to-cart-buttons\">\\n      \\n      <div class=\"product-quantity\">\\n        <div class=\"qty hidden-xl-down\">\\n          <input type=\"text\" name=\"qty\" id=\"quantity_wanted\" value=\"1\" class=\"input-group\" min=\"1\" />\\n        </div>\\n<div class=\"add\" >\\n\\t\\t\\t\\t\\t\\t                           <button class=\"add-to-cart-buttons\" style=\"outline: none; text-decoration: none;\" data-button-action=\"add-to-cart\" title=\"Adicionar al carrito\" type=\"submit\"> \\n\\t\\t\\t\\t\\t\\t</button>\\n                               \\t    </div>\\n      </div>\\n    \\n  </div>\\n\\t\\t\\t\\t\\t\\t\\t\\t\\n\\t\\t\\t\\t\\t\\t\\t</form>\\n\\t\\t\\t\\t\\t\\t\\t\\n\\t\\t\\t\\t\\t\\t\\t\\t<input class=\"product-refresh\" data-url-update=\"false\" name=\"refresh\" type=\"submit\" value=\"Refrescar\" hidden>\\n\\t\\t\\t\\t\\t\\t\\t\\n\\t\\t\\t\\t\\t\\n\\t\\t\\t\\n\\t\\t\\t\\t\\t<a href=\"https://muiskcolombia.com/inicio/16134-112-mujer-enterizo-manga-corta-basic-marino.html#/4-genero-mujer/7-talla-xs\" title=\"Ver\" class=\"view\">\\n\\t\\t\\t\\t\\t</a>\\n\\t\\t\\t\\n\\t\\t\\t\\t\\t\\t<a href=\"#\" class=\"quick-view\" title=\"Ver\" data-link-action=\"quickview\">\\n\\t\\t\\t\\t\\t\\t\\t<div class=\"quick-view-buttons\">\\n\\t\\t\\t\\t\\t\\t\\t<i class=\"material-icons quick\">&#xE8F4;</i> \\n\\t\\t\\t\\t\\t\\t</div>\\n\\t\\t\\t\\t\\t</a>\\n\\t\\t\\t\\t\\t</div>\\n\\t\\t\\t</div>\\n\\t\\t</div>\\t\\n\\t</div>\\n</article>\\n</li>\\n    \\t<li class=\"product_item col-xs-12 col-sm-6 col-md-4 col-lg-3\">  \\n<article class=\"product-miniature js-product-miniature\" data-id-product=\"16161\" data-id-product-attribute=\"190\" itemscope itemtype=\"http://schema.org/Product\">\\n  <div class=\"thumbnail-container\">\\n  <div class=\"dd-product-image\">\\n    \\n      <a href=\"https://muiskcolombia.com/inicio/16161-190-hombre-jersey-manga-larga-patios-fucsia.html#/6-genero-hombre/8-talla-s\" class=\"thumbnail product-thumbnail\">\\n        <img\\n          src = \"https://muiskcolombia.com/1249-home_default/hombre-jersey-manga-larga-patios-fucsia.jpg\"\\n          alt = \"\"\\n          data-full-size-image-url = \"https://muiskcolombia.com/1249-large_default/hombre-jersey-manga-larga-patios-fucsia.jpg\"\\n        >\\n      </a>\\n    \\n\\t\\t\\t\\n\\t\\t<ul class=\"product-flags\">\\n\\t\\t\\t\\t\\t\\t<li class=\"on-sale\">¡En oferta!</li>\\n\\t\\t\\t\\t\\t\\t<li class=\"discount\">-$\\xa035.370,00</li>\\n\\t\\t\\t\\t\\t\\t<li class=\"new\">Nuevo</li>\\n\\t\\t\\t\\t\\t</ul>\\n\\t\\t\\n\\t</div>\\n\\t\\n\\t<div class=\"product-desc\">\\n    <div class=\"product-description\">\\n      \\n        <h1 class=\"h3 product-title\" itemprop=\"name\"><a href=\"https://muiskcolombia.com/inicio/16161-190-hombre-jersey-manga-larga-patios-fucsia.html#/6-genero-hombre/8-talla-s\">HOMBRE JERSEY MANGA LARGA...</a></h1>\\n      \\n\\n        \\n                      <div class=\"product-price-and-shipping\">\\n                              \\n\\n                <span class=\"sr-only\">Precio base</span>\\n                <span class=\"regular-price\">$\\xa0153.270,00</span>\\n                              \\n              \\n\\n              <span class=\"sr-only\">Precio</span>\\n              <span itemprop=\"price\" class=\"price\">$\\xa0117.900,00</span>\\n\\n              \\n\\n              \\n            </div>\\n\\t\\t\\n\\t\\t\\n<div class=\"product-list-reviews\" data-id=\"16161\" data-url=\"https://muiskcolombia.com/module/productcomments/CommentGrade\">\\n  <div class=\"grade-stars small-stars\"></div>\\n  <div class=\"comments-nb\"></div>\\n</div>\\n\\n\\n\\t\\t\\n                  \\n</div>\\n\\t\\t\\t<div class=\"highlighted-informations no-variants\">\\n\\t\\t\\t\\t\\t<div class=\"buttons-actions_align\">\\n\\t\\t\\t\\t\\t\\t\\t\\t\\n\\t\\t\\t\\t\\t\\t\\t\\t<form action=\"https://muiskcolombia.com/carrito\" method=\"post\" id=\"add-to-cart-or-refresh-16161\">\\n\\t\\t\\t\\t\\t\\t\\t\\t<input type=\"hidden\" name=\"token\" value=\"5dd126e3934713f1dfc114fa1b05c8c5\">\\n\\t\\t\\t\\t\\t\\t\\t\\t<input type=\"hidden\" name=\"id_product\" value=\"16161\" id=\"product_page_product_id_16161\">\\n\\t\\t\\t\\t\\t\\t\\t\\t<input type=\"hidden\" name=\"id_customization\" value=\"0\" id=\"product_customization_id_16161\">\\n\\t\\t\\t\\t\\t\\t\\t\\t\\n\\t\\t\\t\\t\\t\\t\\t\\t\\t<div class=\"product-add-to-cart-buttons\">\\n      \\n      <div class=\"product-quantity\">\\n        <div class=\"qty hidden-xl-down\">\\n          <input type=\"text\" name=\"qty\" id=\"quantity_wanted\" value=\"1\" class=\"input-group\" min=\"1\" />\\n        </div>\\n<div class=\"add\" >\\n\\t\\t\\t\\t\\t\\t                           <button class=\"add-to-cart-buttons\" style=\"outline: none; text-decoration: none;\" data-button-action=\"add-to-cart\" title=\"Adicionar al carrito\" type=\"submit\"> \\n\\t\\t\\t\\t\\t\\t</button>\\n                               \\t    </div>\\n      </div>\\n    \\n  </div>\\n\\t\\t\\t\\t\\t\\t\\t\\t\\n\\t\\t\\t\\t\\t\\t\\t</form>\\n\\t\\t\\t\\t\\t\\t\\t\\n\\t\\t\\t\\t\\t\\t\\t\\t<input class=\"product-refresh\" data-url-update=\"false\" name=\"refresh\" type=\"submit\" value=\"Refrescar\" hidden>\\n\\t\\t\\t\\t\\t\\t\\t\\n\\t\\t\\t\\t\\t\\n\\t\\t\\t\\n\\t\\t\\t\\t\\t<a href=\"https://muiskcolombia.com/inicio/16161-190-hombre-jersey-manga-larga-patios-fucsia.html#/6-genero-hombre/8-talla-s\" title=\"Ver\" class=\"view\">\\n\\t\\t\\t\\t\\t</a>\\n\\t\\t\\t\\n\\t\\t\\t\\t\\t\\t<a href=\"#\" class=\"quick-view\" title=\"Ver\" data-link-action=\"quickview\">\\n\\t\\t\\t\\t\\t\\t\\t<div class=\"quick-view-buttons\">\\n\\t\\t\\t\\t\\t\\t\\t<i class=\"material-icons quick\">&#xE8F4;</i> \\n\\t\\t\\t\\t\\t\\t</div>\\n\\t\\t\\t\\t\\t</a>\\n\\t\\t\\t\\t\\t</div>\\n\\t\\t\\t</div>\\n\\t\\t</div>\\t\\n\\t</div>\\n</article>\\n</li>\\n    \\t<li class=\"product_item col-xs-12 col-sm-6 col-md-4 col-lg-3\">  \\n<article class=\"product-miniature js-product-miniature\" data-id-product=\"16162\" data-id-product-attribute=\"119\" itemscope itemtype=\"http://schema.org/Product\">\\n  <div class=\"thumbnail-container\">\\n  <div class=\"dd-product-image\">\\n    \\n      <a href=\"https://muiskcolombia.com/inicio/16162-119-mujer-jersey-manga-larga-patios-fucsia.html#/4-genero-mujer/7-talla-xs\" class=\"thumbnail product-thumbnail\">\\n        <img\\n          src = \"https://muiskcolombia.com/1257-home_default/mujer-jersey-manga-larga-patios-fucsia.jpg\"\\n          alt = \"\"\\n          data-full-size-image-url = \"https://muiskcolombia.com/1257-large_default/mujer-jersey-manga-larga-patios-fucsia.jpg\"\\n        >\\n      </a>\\n    \\n\\t\\t\\t\\n\\t\\t<ul class=\"product-flags\">\\n\\t\\t\\t\\t\\t\\t<li class=\"on-sale\">¡En oferta!</li>\\n\\t\\t\\t\\t\\t\\t<li class=\"discount\">-$\\xa035.370,00</li>\\n\\t\\t\\t\\t\\t\\t<li class=\"new\">Nuevo</li>\\n\\t\\t\\t\\t\\t</ul>\\n\\t\\t\\n\\t</div>\\n\\t\\n\\t<div class=\"product-desc\">\\n    <div class=\"product-description\">\\n      \\n        <h1 class=\"h3 product-title\" itemprop=\"name\"><a href=\"https://muiskcolombia.com/inicio/16162-119-mujer-jersey-manga-larga-patios-fucsia.html#/4-genero-mujer/7-talla-xs\">MUJER JERSEY MANGA LARGA...</a></h1>\\n      \\n\\n        \\n                      <div class=\"product-price-and-shipping\">\\n                              \\n\\n                <span class=\"sr-only\">Precio base</span>\\n                <span class=\"regular-price\">$\\xa0153.270,00</span>\\n                              \\n              \\n\\n              <span class=\"sr-only\">Precio</span>\\n              <span itemprop=\"price\" class=\"price\">$\\xa0117.900,00</span>\\n\\n              \\n\\n              \\n            </div>\\n\\t\\t\\n\\t\\t\\n<div class=\"product-list-reviews\" data-id=\"16162\" data-url=\"https://muiskcolombia.com/module/productcomments/CommentGrade\">\\n  <div class=\"grade-stars small-stars\"></div>\\n  <div class=\"comments-nb\"></div>\\n</div>\\n\\n\\n\\t\\t\\n                  \\n</div>\\n\\t\\t\\t<div class=\"highlighted-informations no-variants\">\\n\\t\\t\\t\\t\\t<div class=\"buttons-actions_align\">\\n\\t\\t\\t\\t\\t\\t\\t\\t\\n\\t\\t\\t\\t\\t\\t\\t\\t<form action=\"https://muiskcolombia.com/carrito\" method=\"post\" id=\"add-to-cart-or-refresh-16162\">\\n\\t\\t\\t\\t\\t\\t\\t\\t<input type=\"hidden\" name=\"token\" value=\"5dd126e3934713f1dfc114fa1b05c8c5\">\\n\\t\\t\\t\\t\\t\\t\\t\\t<input type=\"hidden\" name=\"id_product\" value=\"16162\" id=\"product_page_product_id_16162\">\\n\\t\\t\\t\\t\\t\\t\\t\\t<input type=\"hidden\" name=\"id_customization\" value=\"0\" id=\"product_customization_id_16162\">\\n\\t\\t\\t\\t\\t\\t\\t\\t\\n\\t\\t\\t\\t\\t\\t\\t\\t\\t<div class=\"product-add-to-cart-buttons\">\\n      \\n      <div class=\"product-quantity\">\\n        <div class=\"qty hidden-xl-down\">\\n          <input type=\"text\" name=\"qty\" id=\"quantity_wanted\" value=\"1\" class=\"input-group\" min=\"1\" />\\n        </div>\\n<div class=\"add\" >\\n\\t\\t\\t\\t\\t\\t                           <button class=\"add-to-cart-buttons\" style=\"outline: none; text-decoration: none;\" data-button-action=\"add-to-cart\" title=\"Adicionar al carrito\" type=\"submit\"> \\n\\t\\t\\t\\t\\t\\t</button>\\n                               \\t    </div>\\n      </div>\\n    \\n  </div>\\n\\t\\t\\t\\t\\t\\t\\t\\t\\n\\t\\t\\t\\t\\t\\t\\t</form>\\n\\t\\t\\t\\t\\t\\t\\t\\n\\t\\t\\t\\t\\t\\t\\t\\t<input class=\"product-refresh\" data-url-update=\"false\" name=\"refresh\" type=\"submit\" value=\"Refrescar\" hidden>\\n\\t\\t\\t\\t\\t\\t\\t\\n\\t\\t\\t\\t\\t\\n\\t\\t\\t\\n\\t\\t\\t\\t\\t<a href=\"https://muiskcolombia.com/inicio/16162-119-mujer-jersey-manga-larga-patios-fucsia.html#/4-genero-mujer/7-talla-xs\" title=\"Ver\" class=\"view\">\\n\\t\\t\\t\\t\\t</a>\\n\\t\\t\\t\\n\\t\\t\\t\\t\\t\\t<a href=\"#\" class=\"quick-view\" title=\"Ver\" data-link-action=\"quickview\">\\n\\t\\t\\t\\t\\t\\t\\t<div class=\"quick-view-buttons\">\\n\\t\\t\\t\\t\\t\\t\\t<i class=\"material-icons quick\">&#xE8F4;</i> \\n\\t\\t\\t\\t\\t\\t</div>\\n\\t\\t\\t\\t\\t</a>\\n\\t\\t\\t\\t\\t</div>\\n\\t\\t\\t</div>\\n\\t\\t</div>\\t\\n\\t</div>\\n</article>\\n</li>\\n    \\t<li class=\"product_item col-xs-12 col-sm-6 col-md-4 col-lg-3\">  \\n<article class=\"product-miniature js-product-miniature\" data-id-product=\"16165\" data-id-product-attribute=\"194\" itemscope itemtype=\"http://schema.org/Product\">\\n  <div class=\"thumbnail-container\">\\n  <div class=\"dd-product-image\">\\n    \\n      <a href=\"https://muiskcolombia.com/inicio/16165-194-hombre-jersey-manga-larga-azul-agua.html#/6-genero-hombre/8-talla-s\" class=\"thumbnail product-thumbnail\">\\n        <img\\n          src = \"https://muiskcolombia.com/1281-home_default/hombre-jersey-manga-larga-azul-agua.jpg\"\\n          alt = \"\"\\n          data-full-size-image-url = \"https://muiskcolombia.com/1281-large_default/hombre-jersey-manga-larga-azul-agua.jpg\"\\n        >\\n      </a>\\n    \\n\\t\\t\\t\\n\\t\\t<ul class=\"product-flags\">\\n\\t\\t\\t\\t\\t\\t<li class=\"on-sale\">¡En oferta!</li>\\n\\t\\t\\t\\t\\t\\t<li class=\"discount\">-$\\xa035.370,00</li>\\n\\t\\t\\t\\t\\t\\t<li class=\"new\">Nuevo</li>\\n\\t\\t\\t\\t\\t</ul>\\n\\t\\t\\n\\t</div>\\n\\t\\n\\t<div class=\"product-desc\">\\n    <div class=\"product-description\">\\n      \\n        <h1 class=\"h3 product-title\" itemprop=\"name\"><a href=\"https://muiskcolombia.com/inicio/16165-194-hombre-jersey-manga-larga-azul-agua.html#/6-genero-hombre/8-talla-s\">HOMBRE JERSEY MANGA LARGA...</a></h1>\\n      \\n\\n        \\n                      <div class=\"product-price-and-shipping\">\\n                              \\n\\n                <span class=\"sr-only\">Precio base</span>\\n                <span class=\"regular-price\">$\\xa0153.270,00</span>\\n                              \\n              \\n\\n              <span class=\"sr-only\">Precio</span>\\n              <span itemprop=\"price\" class=\"price\">$\\xa0117.900,00</span>\\n\\n              \\n\\n              \\n            </div>\\n\\t\\t\\n\\t\\t\\n<div class=\"product-list-reviews\" data-id=\"16165\" data-url=\"https://muiskcolombia.com/module/productcomments/CommentGrade\">\\n  <div class=\"grade-stars small-stars\"></div>\\n  <div class=\"comments-nb\"></div>\\n</div>\\n\\n\\n\\t\\t\\n                  \\n</div>\\n\\t\\t\\t<div class=\"highlighted-informations no-variants\">\\n\\t\\t\\t\\t\\t<div class=\"buttons-actions_align\">\\n\\t\\t\\t\\t\\t\\t\\t\\t\\n\\t\\t\\t\\t\\t\\t\\t\\t<form action=\"https://muiskcolombia.com/carrito\" method=\"post\" id=\"add-to-cart-or-refresh-16165\">\\n\\t\\t\\t\\t\\t\\t\\t\\t<input type=\"hidden\" name=\"token\" value=\"5dd126e3934713f1dfc114fa1b05c8c5\">\\n\\t\\t\\t\\t\\t\\t\\t\\t<input type=\"hidden\" name=\"id_product\" value=\"16165\" id=\"product_page_product_id_16165\">\\n\\t\\t\\t\\t\\t\\t\\t\\t<input type=\"hidden\" name=\"id_customization\" value=\"0\" id=\"product_customization_id_16165\">\\n\\t\\t\\t\\t\\t\\t\\t\\t\\n\\t\\t\\t\\t\\t\\t\\t\\t\\t<div class=\"product-add-to-cart-buttons\">\\n      \\n      <div class=\"product-quantity\">\\n        <div class=\"qty hidden-xl-down\">\\n          <input type=\"text\" name=\"qty\" id=\"quantity_wanted\" value=\"1\" class=\"input-group\" min=\"1\" />\\n        </div>\\n<div class=\"add\" >\\n\\t\\t\\t\\t\\t\\t                           <button class=\"add-to-cart-buttons\" style=\"outline: none; text-decoration: none;\" data-button-action=\"add-to-cart\" title=\"Adicionar al carrito\" type=\"submit\"> \\n\\t\\t\\t\\t\\t\\t</button>\\n                               \\t    </div>\\n      </div>\\n    \\n  </div>\\n\\t\\t\\t\\t\\t\\t\\t\\t\\n\\t\\t\\t\\t\\t\\t\\t</form>\\n\\t\\t\\t\\t\\t\\t\\t\\n\\t\\t\\t\\t\\t\\t\\t\\t<input class=\"product-refresh\" data-url-update=\"false\" name=\"refresh\" type=\"submit\" value=\"Refrescar\" hidden>\\n\\t\\t\\t\\t\\t\\t\\t\\n\\t\\t\\t\\t\\t\\n\\t\\t\\t\\n\\t\\t\\t\\t\\t<a href=\"https://muiskcolombia.com/inicio/16165-194-hombre-jersey-manga-larga-azul-agua.html#/6-genero-hombre/8-talla-s\" title=\"Ver\" class=\"view\">\\n\\t\\t\\t\\t\\t</a>\\n\\t\\t\\t\\n\\t\\t\\t\\t\\t\\t<a href=\"#\" class=\"quick-view\" title=\"Ver\" data-link-action=\"quickview\">\\n\\t\\t\\t\\t\\t\\t\\t<div class=\"quick-view-buttons\">\\n\\t\\t\\t\\t\\t\\t\\t<i class=\"material-icons quick\">&#xE8F4;</i> \\n\\t\\t\\t\\t\\t\\t</div>\\n\\t\\t\\t\\t\\t</a>\\n\\t\\t\\t\\t\\t</div>\\n\\t\\t\\t</div>\\n\\t\\t</div>\\t\\n\\t</div>\\n</article>\\n</li>\\n    \\t<li class=\"product_item col-xs-12 col-sm-6 col-md-4 col-lg-3\">  \\n<article class=\"product-miniature js-product-miniature\" data-id-product=\"16173\" data-id-product-attribute=\"197\" itemscope itemtype=\"http://schema.org/Product\">\\n  <div class=\"thumbnail-container\">\\n  <div class=\"dd-product-image\">\\n    \\n      <a href=\"https://muiskcolombia.com/inicio/16173-197-hombre-jersey-manga-larga-oro-mostaza.html#/6-genero-hombre/8-talla-s\" class=\"thumbnail product-thumbnail\">\\n        <img\\n          src = \"https://muiskcolombia.com/1345-home_default/hombre-jersey-manga-larga-oro-mostaza.jpg\"\\n          alt = \"\"\\n          data-full-size-image-url = \"https://muiskcolombia.com/1345-large_default/hombre-jersey-manga-larga-oro-mostaza.jpg\"\\n        >\\n      </a>\\n    \\n\\t\\t\\t\\n\\t\\t<ul class=\"product-flags\">\\n\\t\\t\\t\\t\\t\\t<li class=\"on-sale\">¡En oferta!</li>\\n\\t\\t\\t\\t\\t\\t<li class=\"discount\">-$\\xa035.370,00</li>\\n\\t\\t\\t\\t\\t\\t<li class=\"new\">Nuevo</li>\\n\\t\\t\\t\\t\\t</ul>\\n\\t\\t\\n\\t</div>\\n\\t\\n\\t<div class=\"product-desc\">\\n    <div class=\"product-description\">\\n      \\n        <h1 class=\"h3 product-title\" itemprop=\"name\"><a href=\"https://muiskcolombia.com/inicio/16173-197-hombre-jersey-manga-larga-oro-mostaza.html#/6-genero-hombre/8-talla-s\">HOMBRE JERSEY MANGA LARGA...</a></h1>\\n      \\n\\n        \\n                      <div class=\"product-price-and-shipping\">\\n                              \\n\\n                <span class=\"sr-only\">Precio base</span>\\n                <span class=\"regular-price\">$\\xa0153.270,00</span>\\n                              \\n              \\n\\n              <span class=\"sr-only\">Precio</span>\\n              <span itemprop=\"price\" class=\"price\">$\\xa0117.900,00</span>\\n\\n              \\n\\n              \\n            </div>\\n\\t\\t\\n\\t\\t\\n<div class=\"product-list-reviews\" data-id=\"16173\" data-url=\"https://muiskcolombia.com/module/productcomments/CommentGrade\">\\n  <div class=\"grade-stars small-stars\"></div>\\n  <div class=\"comments-nb\"></div>\\n</div>\\n\\n\\n\\t\\t\\n                  \\n</div>\\n\\t\\t\\t<div class=\"highlighted-informations no-variants\">\\n\\t\\t\\t\\t\\t<div class=\"buttons-actions_align\">\\n\\t\\t\\t\\t\\t\\t\\t\\t\\n\\t\\t\\t\\t\\t\\t\\t\\t<form action=\"https://muiskcolombia.com/carrito\" method=\"post\" id=\"add-to-cart-or-refresh-16173\">\\n\\t\\t\\t\\t\\t\\t\\t\\t<input type=\"hidden\" name=\"token\" value=\"5dd126e3934713f1dfc114fa1b05c8c5\">\\n\\t\\t\\t\\t\\t\\t\\t\\t<input type=\"hidden\" name=\"id_product\" value=\"16173\" id=\"product_page_product_id_16173\">\\n\\t\\t\\t\\t\\t\\t\\t\\t<input type=\"hidden\" name=\"id_customization\" value=\"0\" id=\"product_customization_id_16173\">\\n\\t\\t\\t\\t\\t\\t\\t\\t\\n\\t\\t\\t\\t\\t\\t\\t\\t\\t<div class=\"product-add-to-cart-buttons\">\\n      \\n      <div class=\"product-quantity\">\\n        <div class=\"qty hidden-xl-down\">\\n          <input type=\"text\" name=\"qty\" id=\"quantity_wanted\" value=\"1\" class=\"input-group\" min=\"1\" />\\n        </div>\\n<div class=\"add\" >\\n\\t\\t\\t\\t\\t\\t                           <button class=\"add-to-cart-buttons\" style=\"outline: none; text-decoration: none;\" data-button-action=\"add-to-cart\" title=\"Adicionar al carrito\" type=\"submit\"> \\n\\t\\t\\t\\t\\t\\t</button>\\n                               \\t    </div>\\n      </div>\\n    \\n  </div>\\n\\t\\t\\t\\t\\t\\t\\t\\t\\n\\t\\t\\t\\t\\t\\t\\t</form>\\n\\t\\t\\t\\t\\t\\t\\t\\n\\t\\t\\t\\t\\t\\t\\t\\t<input class=\"product-refresh\" data-url-update=\"false\" name=\"refresh\" type=\"submit\" value=\"Refrescar\" hidden>\\n\\t\\t\\t\\t\\t\\t\\t\\n\\t\\t\\t\\t\\t\\n\\t\\t\\t\\n\\t\\t\\t\\t\\t<a href=\"https://muiskcolombia.com/inicio/16173-197-hombre-jersey-manga-larga-oro-mostaza.html#/6-genero-hombre/8-talla-s\" title=\"Ver\" class=\"view\">\\n\\t\\t\\t\\t\\t</a>\\n\\t\\t\\t\\n\\t\\t\\t\\t\\t\\t<a href=\"#\" class=\"quick-view\" title=\"Ver\" data-link-action=\"quickview\">\\n\\t\\t\\t\\t\\t\\t\\t<div class=\"quick-view-buttons\">\\n\\t\\t\\t\\t\\t\\t\\t<i class=\"material-icons quick\">&#xE8F4;</i> \\n\\t\\t\\t\\t\\t\\t</div>\\n\\t\\t\\t\\t\\t</a>\\n\\t\\t\\t\\t\\t</div>\\n\\t\\t\\t</div>\\n\\t\\t</div>\\t\\n\\t</div>\\n</article>\\n</li>\\n    \\t<li class=\"product_item col-xs-12 col-sm-6 col-md-4 col-lg-3\">  \\n<article class=\"product-miniature js-product-miniature\" data-id-product=\"16174\" data-id-product-attribute=\"122\" itemscope itemtype=\"http://schema.org/Product\">\\n  <div class=\"thumbnail-container\">\\n  <div class=\"dd-product-image\">\\n    \\n      <a href=\"https://muiskcolombia.com/inicio/16174-122-mujer-jersey-manga-larga-oro-mostaza.html#/4-genero-mujer/7-talla-xs\" class=\"thumbnail product-thumbnail\">\\n        <img\\n          src = \"https://muiskcolombia.com/1353-home_default/mujer-jersey-manga-larga-oro-mostaza.jpg\"\\n          alt = \"\"\\n          data-full-size-image-url = \"https://muiskcolombia.com/1353-large_default/mujer-jersey-manga-larga-oro-mostaza.jpg\"\\n        >\\n      </a>\\n    \\n\\t\\t\\t\\n\\t\\t<ul class=\"product-flags\">\\n\\t\\t\\t\\t\\t\\t<li class=\"on-sale\">¡En oferta!</li>\\n\\t\\t\\t\\t\\t\\t<li class=\"discount\">-$\\xa035.370,00</li>\\n\\t\\t\\t\\t\\t\\t<li class=\"new\">Nuevo</li>\\n\\t\\t\\t\\t\\t</ul>\\n\\t\\t\\n\\t</div>\\n\\t\\n\\t<div class=\"product-desc\">\\n    <div class=\"product-description\">\\n      \\n        <h1 class=\"h3 product-title\" itemprop=\"name\"><a href=\"https://muiskcolombia.com/inicio/16174-122-mujer-jersey-manga-larga-oro-mostaza.html#/4-genero-mujer/7-talla-xs\">MUJER JERSEY MANGA LARGA...</a></h1>\\n      \\n\\n        \\n                      <div class=\"product-price-and-shipping\">\\n                              \\n\\n                <span class=\"sr-only\">Precio base</span>\\n                <span class=\"regular-price\">$\\xa0153.270,00</span>\\n                              \\n              \\n\\n              <span class=\"sr-only\">Precio</span>\\n              <span itemprop=\"price\" class=\"price\">$\\xa0117.900,00</span>\\n\\n              \\n\\n              \\n            </div>\\n\\t\\t\\n\\t\\t\\n<div class=\"product-list-reviews\" data-id=\"16174\" data-url=\"https://muiskcolombia.com/module/productcomments/CommentGrade\">\\n  <div class=\"grade-stars small-stars\"></div>\\n  <div class=\"comments-nb\"></div>\\n</div>\\n\\n\\n\\t\\t\\n                  \\n</div>\\n\\t\\t\\t<div class=\"highlighted-informations no-variants\">\\n\\t\\t\\t\\t\\t<div class=\"buttons-actions_align\">\\n\\t\\t\\t\\t\\t\\t\\t\\t\\n\\t\\t\\t\\t\\t\\t\\t\\t<form action=\"https://muiskcolombia.com/carrito\" method=\"post\" id=\"add-to-cart-or-refresh-16174\">\\n\\t\\t\\t\\t\\t\\t\\t\\t<input type=\"hidden\" name=\"token\" value=\"5dd126e3934713f1dfc114fa1b05c8c5\">\\n\\t\\t\\t\\t\\t\\t\\t\\t<input type=\"hidden\" name=\"id_product\" value=\"16174\" id=\"product_page_product_id_16174\">\\n\\t\\t\\t\\t\\t\\t\\t\\t<input type=\"hidden\" name=\"id_customization\" value=\"0\" id=\"product_customization_id_16174\">\\n\\t\\t\\t\\t\\t\\t\\t\\t\\n\\t\\t\\t\\t\\t\\t\\t\\t\\t<div class=\"product-add-to-cart-buttons\">\\n      \\n      <div class=\"product-quantity\">\\n        <div class=\"qty hidden-xl-down\">\\n          <input type=\"text\" name=\"qty\" id=\"quantity_wanted\" value=\"1\" class=\"input-group\" min=\"1\" />\\n        </div>\\n<div class=\"add\" >\\n\\t\\t\\t\\t\\t\\t                           <button class=\"add-to-cart-buttons\" style=\"outline: none; text-decoration: none;\" data-button-action=\"add-to-cart\" title=\"Adicionar al carrito\" type=\"submit\"> \\n\\t\\t\\t\\t\\t\\t</button>\\n                               \\t    </div>\\n      </div>\\n    \\n  </div>\\n\\t\\t\\t\\t\\t\\t\\t\\t\\n\\t\\t\\t\\t\\t\\t\\t</form>\\n\\t\\t\\t\\t\\t\\t\\t\\n\\t\\t\\t\\t\\t\\t\\t\\t<input class=\"product-refresh\" data-url-update=\"false\" name=\"refresh\" type=\"submit\" value=\"Refrescar\" hidden>\\n\\t\\t\\t\\t\\t\\t\\t\\n\\t\\t\\t\\t\\t\\n\\t\\t\\t\\n\\t\\t\\t\\t\\t<a href=\"https://muiskcolombia.com/inicio/16174-122-mujer-jersey-manga-larga-oro-mostaza.html#/4-genero-mujer/7-talla-xs\" title=\"Ver\" class=\"view\">\\n\\t\\t\\t\\t\\t</a>\\n\\t\\t\\t\\n\\t\\t\\t\\t\\t\\t<a href=\"#\" class=\"quick-view\" title=\"Ver\" data-link-action=\"quickview\">\\n\\t\\t\\t\\t\\t\\t\\t<div class=\"quick-view-buttons\">\\n\\t\\t\\t\\t\\t\\t\\t<i class=\"material-icons quick\">&#xE8F4;</i> \\n\\t\\t\\t\\t\\t\\t</div>\\n\\t\\t\\t\\t\\t</a>\\n\\t\\t\\t\\t\\t</div>\\n\\t\\t\\t</div>\\n\\t\\t</div>\\t\\n\\t</div>\\n</article>\\n</li>\\n    \\t<li class=\"product_item col-xs-12 col-sm-6 col-md-4 col-lg-3\">  \\n<article class=\"product-miniature js-product-miniature\" data-id-product=\"16139\" data-id-product-attribute=\"181\" itemscope itemtype=\"http://schema.org/Product\">\\n  <div class=\"thumbnail-container\">\\n  <div class=\"dd-product-image\">\\n    \\n      <a href=\"https://muiskcolombia.com/inicio/16139-181-hombre-jersey-manga-corta-natural-muisk-fluor.html#/6-genero-hombre/8-talla-s\" class=\"thumbnail product-thumbnail\">\\n        <img\\n          src = \"https://muiskcolombia.com/1073-home_default/hombre-jersey-manga-corta-natural-muisk-fluor.jpg\"\\n          alt = \"\"\\n          data-full-size-image-url = \"https://muiskcolombia.com/1073-large_default/hombre-jersey-manga-corta-natural-muisk-fluor.jpg\"\\n        >\\n      </a>\\n    \\n\\t\\t\\t\\n\\t\\t<ul class=\"product-flags\">\\n\\t\\t\\t\\t\\t\\t<li class=\"on-sale\">¡En oferta!</li>\\n\\t\\t\\t\\t\\t\\t<li class=\"discount\">-$\\xa034.470,00</li>\\n\\t\\t\\t\\t\\t\\t<li class=\"new\">Nuevo</li>\\n\\t\\t\\t\\t\\t</ul>\\n\\t\\t\\n\\t</div>\\n\\t\\n\\t<div class=\"product-desc\">\\n    <div class=\"product-description\">\\n      \\n        <h1 class=\"h3 product-title\" itemprop=\"name\"><a href=\"https://muiskcolombia.com/inicio/16139-181-hombre-jersey-manga-corta-natural-muisk-fluor.html#/6-genero-hombre/8-talla-s\">HOMBRE JERSEY MANGA CORTA...</a></h1>\\n      \\n\\n        \\n                      <div class=\"product-price-and-shipping\">\\n                              \\n\\n                <span class=\"sr-only\">Precio base</span>\\n                <span class=\"regular-price\">$\\xa0149.370,00</span>\\n                              \\n              \\n\\n              <span class=\"sr-only\">Precio</span>\\n              <span itemprop=\"price\" class=\"price\">$\\xa0114.900,00</span>\\n\\n              \\n\\n              \\n            </div>\\n\\t\\t\\n\\t\\t\\n<div class=\"product-list-reviews\" data-id=\"16139\" data-url=\"https://muiskcolombia.com/module/productcomments/CommentGrade\">\\n  <div class=\"grade-stars small-stars\"></div>\\n  <div class=\"comments-nb\"></div>\\n</div>\\n\\n\\n\\t\\t\\n                  \\n</div>\\n\\t\\t\\t<div class=\"highlighted-informations no-variants\">\\n\\t\\t\\t\\t\\t<div class=\"buttons-actions_align\">\\n\\t\\t\\t\\t\\t\\t\\t\\t\\n\\t\\t\\t\\t\\t\\t\\t\\t<form action=\"https://muiskcolombia.com/carrito\" method=\"post\" id=\"add-to-cart-or-refresh-16139\">\\n\\t\\t\\t\\t\\t\\t\\t\\t<input type=\"hidden\" name=\"token\" value=\"5dd126e3934713f1dfc114fa1b05c8c5\">\\n\\t\\t\\t\\t\\t\\t\\t\\t<input type=\"hidden\" name=\"id_product\" value=\"16139\" id=\"product_page_product_id_16139\">\\n\\t\\t\\t\\t\\t\\t\\t\\t<input type=\"hidden\" name=\"id_customization\" value=\"0\" id=\"product_customization_id_16139\">\\n\\t\\t\\t\\t\\t\\t\\t\\t\\n\\t\\t\\t\\t\\t\\t\\t\\t\\t<div class=\"product-add-to-cart-buttons\">\\n      \\n      <div class=\"product-quantity\">\\n        <div class=\"qty hidden-xl-down\">\\n          <input type=\"text\" name=\"qty\" id=\"quantity_wanted\" value=\"1\" class=\"input-group\" min=\"1\" />\\n        </div>\\n<div class=\"add\" >\\n\\t\\t\\t\\t\\t\\t                           <button class=\"add-to-cart-buttons\" style=\"outline: none; text-decoration: none;\" data-button-action=\"add-to-cart\" title=\"Adicionar al carrito\" type=\"submit\"> \\n\\t\\t\\t\\t\\t\\t</button>\\n                               \\t    </div>\\n      </div>\\n    \\n  </div>\\n\\t\\t\\t\\t\\t\\t\\t\\t\\n\\t\\t\\t\\t\\t\\t\\t</form>\\n\\t\\t\\t\\t\\t\\t\\t\\n\\t\\t\\t\\t\\t\\t\\t\\t<input class=\"product-refresh\" data-url-update=\"false\" name=\"refresh\" type=\"submit\" value=\"Refrescar\" hidden>\\n\\t\\t\\t\\t\\t\\t\\t\\n\\t\\t\\t\\t\\t\\n\\t\\t\\t\\n\\t\\t\\t\\t\\t<a href=\"https://muiskcolombia.com/inicio/16139-181-hombre-jersey-manga-corta-natural-muisk-fluor.html#/6-genero-hombre/8-talla-s\" title=\"Ver\" class=\"view\">\\n\\t\\t\\t\\t\\t</a>\\n\\t\\t\\t\\n\\t\\t\\t\\t\\t\\t<a href=\"#\" class=\"quick-view\" title=\"Ver\" data-link-action=\"quickview\">\\n\\t\\t\\t\\t\\t\\t\\t<div class=\"quick-view-buttons\">\\n\\t\\t\\t\\t\\t\\t\\t<i class=\"material-icons quick\">&#xE8F4;</i> \\n\\t\\t\\t\\t\\t\\t</div>\\n\\t\\t\\t\\t\\t</a>\\n\\t\\t\\t\\t\\t</div>\\n\\t\\t\\t</div>\\n\\t\\t</div>\\t\\n\\t</div>\\n</article>\\n</li>\\n    \\t<li class=\"product_item col-xs-12 col-sm-6 col-md-4 col-lg-3\">  \\n<article class=\"product-miniature js-product-miniature\" data-id-product=\"16140\" data-id-product-attribute=\"38\" itemscope itemtype=\"http://schema.org/Product\">\\n  <div class=\"thumbnail-container\">\\n  <div class=\"dd-product-image\">\\n    \\n      <a href=\"https://muiskcolombia.com/inicio/16140-38-mujer-jersey-manga-corta-natural-muisk-fluor.html#/4-genero-mujer/5-talla-xxs\" class=\"thumbnail product-thumbnail\">\\n        <img\\n          src = \"https://muiskcolombia.com/1081-home_default/mujer-jersey-manga-corta-natural-muisk-fluor.jpg\"\\n          alt = \"\"\\n          data-full-size-image-url = \"https://muiskcolombia.com/1081-large_default/mujer-jersey-manga-corta-natural-muisk-fluor.jpg\"\\n        >\\n      </a>\\n    \\n\\t\\t\\t\\n\\t\\t<ul class=\"product-flags\">\\n\\t\\t\\t\\t\\t\\t<li class=\"on-sale\">¡En oferta!</li>\\n\\t\\t\\t\\t\\t\\t<li class=\"discount\">-$\\xa034.470,00</li>\\n\\t\\t\\t\\t\\t\\t<li class=\"new\">Nuevo</li>\\n\\t\\t\\t\\t\\t</ul>\\n\\t\\t\\n\\t</div>\\n\\t\\n\\t<div class=\"product-desc\">\\n    <div class=\"product-description\">\\n      \\n        <h1 class=\"h3 product-title\" itemprop=\"name\"><a href=\"https://muiskcolombia.com/inicio/16140-38-mujer-jersey-manga-corta-natural-muisk-fluor.html#/4-genero-mujer/5-talla-xxs\">MUJER JERSEY MANGA CORTA...</a></h1>\\n      \\n\\n        \\n                      <div class=\"product-price-and-shipping\">\\n                              \\n\\n                <span class=\"sr-only\">Precio base</span>\\n                <span class=\"regular-price\">$\\xa0149.370,00</span>\\n                              \\n              \\n\\n              <span class=\"sr-only\">Precio</span>\\n              <span itemprop=\"price\" class=\"price\">$\\xa0114.900,00</span>\\n\\n              \\n\\n              \\n            </div>\\n\\t\\t\\n\\t\\t\\n<div class=\"product-list-reviews\" data-id=\"16140\" data-url=\"https://muiskcolombia.com/module/productcomments/CommentGrade\">\\n  <div class=\"grade-stars small-stars\"></div>\\n  <div class=\"comments-nb\"></div>\\n</div>\\n\\n\\n\\t\\t\\n                  \\n</div>\\n\\t\\t\\t<div class=\"highlighted-informations no-variants\">\\n\\t\\t\\t\\t\\t<div class=\"buttons-actions_align\">\\n\\t\\t\\t\\t\\t\\t\\t\\t\\n\\t\\t\\t\\t\\t\\t\\t\\t<form action=\"https://muiskcolombia.com/carrito\" method=\"post\" id=\"add-to-cart-or-refresh-16140\">\\n\\t\\t\\t\\t\\t\\t\\t\\t<input type=\"hidden\" name=\"token\" value=\"5dd126e3934713f1dfc114fa1b05c8c5\">\\n\\t\\t\\t\\t\\t\\t\\t\\t<input type=\"hidden\" name=\"id_product\" value=\"16140\" id=\"product_page_product_id_16140\">\\n\\t\\t\\t\\t\\t\\t\\t\\t<input type=\"hidden\" name=\"id_customization\" value=\"0\" id=\"product_customization_id_16140\">\\n\\t\\t\\t\\t\\t\\t\\t\\t\\n\\t\\t\\t\\t\\t\\t\\t\\t\\t<div class=\"product-add-to-cart-buttons\">\\n      \\n      <div class=\"product-quantity\">\\n        <div class=\"qty hidden-xl-down\">\\n          <input type=\"text\" name=\"qty\" id=\"quantity_wanted\" value=\"1\" class=\"input-group\" min=\"1\" />\\n        </div>\\n<div class=\"add\" >\\n\\t\\t\\t\\t\\t\\t                           <button class=\"add-to-cart-buttons\" style=\"outline: none; text-decoration: none;\" data-button-action=\"add-to-cart\" title=\"Adicionar al carrito\" type=\"submit\"> \\n\\t\\t\\t\\t\\t\\t</button>\\n                               \\t    </div>\\n      </div>\\n    \\n  </div>\\n\\t\\t\\t\\t\\t\\t\\t\\t\\n\\t\\t\\t\\t\\t\\t\\t</form>\\n\\t\\t\\t\\t\\t\\t\\t\\n\\t\\t\\t\\t\\t\\t\\t\\t<input class=\"product-refresh\" data-url-update=\"false\" name=\"refresh\" type=\"submit\" value=\"Refrescar\" hidden>\\n\\t\\t\\t\\t\\t\\t\\t\\n\\t\\t\\t\\t\\t\\n\\t\\t\\t\\n\\t\\t\\t\\t\\t<a href=\"https://muiskcolombia.com/inicio/16140-38-mujer-jersey-manga-corta-natural-muisk-fluor.html#/4-genero-mujer/5-talla-xxs\" title=\"Ver\" class=\"view\">\\n\\t\\t\\t\\t\\t</a>\\n\\t\\t\\t\\n\\t\\t\\t\\t\\t\\t<a href=\"#\" class=\"quick-view\" title=\"Ver\" data-link-action=\"quickview\">\\n\\t\\t\\t\\t\\t\\t\\t<div class=\"quick-view-buttons\">\\n\\t\\t\\t\\t\\t\\t\\t<i class=\"material-icons quick\">&#xE8F4;</i> \\n\\t\\t\\t\\t\\t\\t</div>\\n\\t\\t\\t\\t\\t</a>\\n\\t\\t\\t\\t\\t</div>\\n\\t\\t\\t</div>\\n\\t\\t</div>\\t\\n\\t</div>\\n</article>\\n</li>\\n      </ul>\\n  \\n  </div>\\n  <a class=\"all-product-link pull-xs-left pull-md-right h4\" href=\"https://muiskcolombia.com/productos-rebajados\">Todos los productos\\n  <i class=\"material-icons\">&#xE315;</i></a>\\n</section>\\n\\n\\n        \\n\\n\\t\\t<div id=\"featureProduct\" class=\"page-home\">\\t\\n\\t\\t\\t\\n\\t\\t</div>\\n\\t\\t<div id=\"bestseller\" class=\"page-home\">\\n\\t\\t\\t\\n\\t\\t</div>\\n\\n      </section>\\n    \\n\\n    \\n      <footer class=\"page-footer\">\\n        \\n          <!-- Footer content -->\\n        \\n      </footer>\\n    \\n\\n  </section>\\n\\n\\n    \\n  </div>\\n\\n\\n          \\n        </div>\\n\\t\\t</div>\\n        \\n      </section>\\n\\n      <footer id=\"footer\">\\n        \\n          <!-- Dodanie strzałki powrótnej do góry strony -->\\n<a href=\"#\"  id=\"do_gory\"></a>\\t\\t\\n<!-- End Dodanie strzałki powrótnej do góry strony -->\\t\\n  <div class=\"row\">\\n    <div id=\"custom-text\">\\n<div class=\"text-background\">\\n  <h2 style=\"text-align:center;\">.</h2>\\n  </div>\\n</div>\\n\\n  <div class=\"block-social\">\\n    <ul>\\n              <li class=\"facebook\"><a href=\"https://www.facebook.com/muiskcolombia\" target=\"_blank\">Facebook</a></li>\\n              <li class=\"twitter\"><a href=\"https://twitter.com/ColombiaMuisk\" target=\"_blank\">Twitter</a></li>\\n              <li class=\"rss\"><a href=\"#\" target=\"_blank\">Rss</a></li>\\n              <li class=\"youtube\"><a href=\"https://www.youtube.com/channel/UCV6o6zRlSTxcn1CNT4d-Wgw\" target=\"_blank\">YouTube</a></li>\\n              <li class=\"instagram\"><a href=\"https://www.instagram.com/muiskcolombia/?hl=es\" target=\"_blank\">Instagram</a></li>\\n          </ul>\\n  </div>\\n\\n<div class=\"news newstlo\">\\n<div class=\"block_newsletter col-lg-12 col-md-12 col-sm-12\">\\n  <h2 class=\"newsletter-tekst\">Newsletter</h2>\\n\\n\\t      <p class=\"tekstn col-md-12 col-xs-12\">Obtenga nuestras últimas noticias y promociones</p>\\n      <form action=\"https://muiskcolombia.com/#footer\" method=\"post\">\\n\\n          <div class=\"col-xs-12 news-center\">\\n            <input\\n              class=\"btn btn-primary pull-xs-right hidden-xs-down\"\\n              name=\"submitNewsletter\"\\n              type=\"submit\"\\n              value=\"Suscribirse\"\\n            >\\n            <input\\n              class=\"btn btn-primary pull-xs-right hidden-sm-up\"\\n              name=\"submitNewsletter\"\\n              type=\"submit\"\\n              value=\"Ok\"\\n            >\\n            <div class=\"input-wrapper\">\\n              <input\\n                name=\"email\"\\n                type=\"text\"\\n                value=\"\"\\n                placeholder=\"Tu email\"\\n              >\\n            </div>\\n            <input type=\"hidden\" name=\"action\" value=\"0\">\\n            <div class=\"clearfix\"></div>\\n          </div>\\n\\t\\t      <div class=\"col-xs-12 gdpr\">\\n                              <p>Obtén el 10% de descuento en tu primera compra suscribiéndote a nuestro boletín y aceptando los términos - condiciones. Debes confirmar correo y seleccionar las 3 casillas. La compra debe ser con el correo registrado para validar el descuento USANDO EL CODIGO: REGISTRO10 que llegará a tu correo.</p>\\n                                                          \\n                        </div>\\n\\n      </form>\\n  </div>\\n</div>\\n\\n  </div>\\n<div class=\"container\">\\n\\t<div class=\"footer-container\">\\n\\t\\t<div class=\"row\">\\n\\t\\t\\t<div class=\"col-md-6 links\" style=\"padding: 0px;\">\\n      <div class=\"col-md-6 wrapper\">\\n      <i class=\"material-icons\">reorder</i><h3 class=\"h3 hidden-sm-down\">Productos</h3>\\n            <div class=\"title clearfix hidden-md-up\" data-target=\"#footer_sub_menu_29213\" data-toggle=\"collapse\">\\n        <span class=\"h3\">Productos</span>\\n        <span class=\"pull-xs-right\">\\n          <span class=\"navbar-toggler collapse-icons\">\\n            <i class=\"material-icons add\">&#xE313;</i>\\n            <i class=\"material-icons remove\">&#xE316;</i>\\n          </span>\\n        </span>\\n      </div>\\n      <ul id=\"footer_sub_menu_29213\" class=\"collapse\">\\n                  <li>\\n            <a\\n                id=\"link-product-page-prices-drop-1\"\\n                class=\"cms-page-link\"\\n                href=\"https://muiskcolombia.com/productos-rebajados\"\\n                title=\"Our special products\">\\n              Ofertas\\n            </a>\\n          </li>\\n                  <li>\\n            <a\\n                id=\"link-product-page-new-products-1\"\\n                class=\"cms-page-link\"\\n                href=\"https://muiskcolombia.com/novedades\"\\n                title=\"Novedades\">\\n              Novedades\\n            </a>\\n          </li>\\n                  <li>\\n            <a\\n                id=\"link-product-page-best-sales-1\"\\n                class=\"cms-page-link\"\\n                href=\"https://muiskcolombia.com/mas-vendidos\"\\n                title=\"Los más vendidos\">\\n              Los más vendidos\\n            </a>\\n          </li>\\n              </ul>\\n    </div>\\n      <div class=\"col-md-6 wrapper\">\\n      <i class=\"material-icons\">reorder</i><h3 class=\"h3 hidden-sm-down\">Nuestra empresa</h3>\\n            <div class=\"title clearfix hidden-md-up\" data-target=\"#footer_sub_menu_28917\" data-toggle=\"collapse\">\\n        <span class=\"h3\">Nuestra empresa</span>\\n        <span class=\"pull-xs-right\">\\n          <span class=\"navbar-toggler collapse-icons\">\\n            <i class=\"material-icons add\">&#xE313;</i>\\n            <i class=\"material-icons remove\">&#xE316;</i>\\n          </span>\\n        </span>\\n      </div>\\n      <ul id=\"footer_sub_menu_28917\" class=\"collapse\">\\n                  <li>\\n            <a\\n                id=\"link-cms-page-1-2\"\\n                class=\"cms-page-link\"\\n                href=\"https://muiskcolombia.com/content/1-politica-de-envios\"\\n                title=\"Nuestros términos y condiciones de envíos\">\\n              Política de envíos\\n            </a>\\n          </li>\\n                  <li>\\n            <a\\n                id=\"link-cms-page-2-2\"\\n                class=\"cms-page-link\"\\n                href=\"https://muiskcolombia.com/content/2-legal\"\\n                title=\"Noticias legales\">\\n              Legal\\n            </a>\\n          </li>\\n                  <li>\\n            <a\\n                id=\"link-cms-page-3-2\"\\n                class=\"cms-page-link\"\\n                href=\"https://muiskcolombia.com/content/3-politica-de-cambios-o-devoluciones-muisk\"\\n                title=\"Si una prenda no te queda, no te preocupes lee los terminos y condiciones para realizar el cambio\">\\n              Política de cambios o devoluciones Muisk\\n            </a>\\n          </li>\\n                  <li>\\n            <a\\n                id=\"link-cms-page-4-2\"\\n                class=\"cms-page-link\"\\n                href=\"https://muiskcolombia.com/content/4-quienes-somos\"\\n                title=\"Conoce más acerca de Muisk Colombia\">\\n              Quienes somos\\n            </a>\\n          </li>\\n                  <li>\\n            <a\\n                id=\"link-cms-page-5-2\"\\n                class=\"cms-page-link\"\\n                href=\"https://muiskcolombia.com/content/5-pagos-seguros\"\\n                title=\"Metodos de pago\">\\n              Pagos seguros\\n            </a>\\n          </li>\\n                  <li>\\n            <a\\n                id=\"link-cms-page-6-2\"\\n                class=\"cms-page-link\"\\n                href=\"https://muiskcolombia.com/content/6-terminos-y-condiciones-de-rodadas-muisk\"\\n                title=\"Muisk colombia te ofrece la seguridad de que disfrutaras tus rodadas con la mejor indumentaria.\">\\n              Términos y condiciones de rodadas Muisk\\n            </a>\\n          </li>\\n                  <li>\\n            <a\\n                id=\"link-static-page-contact-2\"\\n                class=\"cms-page-link\"\\n                href=\"https://muiskcolombia.com/contactenos\"\\n                title=\"Contáctenos\">\\n              Contacte con nosotros\\n            </a>\\n          </li>\\n                  <li>\\n            <a\\n                id=\"link-static-page-sitemap-2\"\\n                class=\"cms-page-link\"\\n                href=\"https://muiskcolombia.com/mapa del sitio\"\\n                title=\"¿Perdido? Encuentre lo que está buscando\">\\n              Mapa del sitio\\n            </a>\\n          </li>\\n                  <li>\\n            <a\\n                id=\"link-static-page-stores-2\"\\n                class=\"cms-page-link\"\\n                href=\"https://muiskcolombia.com/tiendas\"\\n                title=\"\">\\n              Tiendas\\n            </a>\\n          </li>\\n              </ul>\\n    </div>\\n      <div class=\"col-md-6 wrapper\">\\n      <i class=\"material-icons\">reorder</i><h3 class=\"h3 hidden-sm-down\">Interés</h3>\\n            <div class=\"title clearfix hidden-md-up\" data-target=\"#footer_sub_menu_81087\" data-toggle=\"collapse\">\\n        <span class=\"h3\">Interés</span>\\n        <span class=\"pull-xs-right\">\\n          <span class=\"navbar-toggler collapse-icons\">\\n            <i class=\"material-icons add\">&#xE313;</i>\\n            <i class=\"material-icons remove\">&#xE316;</i>\\n          </span>\\n        </span>\\n      </div>\\n      <ul id=\"footer_sub_menu_81087\" class=\"collapse\">\\n                  <li>\\n            <a\\n                id=\"link-cms-page-12-3\"\\n                class=\"cms-page-link\"\\n                href=\"https://muiskcolombia.com/content/12-preguntas-frecuentes\"\\n                title=\"Todo lo relacionado con compra y venta de nuestros productos\">\\n              Preguntas Frecuentes\\n            </a>\\n          </li>\\n              </ul>\\n    </div>\\n  </div>\\n<div class=\"block-contact col-md-4 links wrapper\">\\n  <div class=\"hidden-sm-down\"><i class=\"fa fa-map-marker\" aria-hidden=\"true\"></i>\\n    <h4 class=\"text-uppercase block-contact-title\">Información de la tienda</h4>\\n\\t<ul id=\"block-contact_list\" class=\"collapse\">\\n\\t\\n\\t\\t<li><div class=\"data\">\\n\\t\\tMuisk Colombia Clothing<br />Colombia</div>\\n\\t\\t</li>\\n        \\n\\t\\t<li>\\n\\t    <i class=\"fa fa-phone\" aria-hidden=\"true\"></i>\\n        <div class=\"data\">\\n                </div>\\n        </li>\\n         <li>\\n        <i class=\"fa fa-envelope\" aria-hidden=\"true\"></i>\\n        <div class=\"data\">\\n        \\n                     <br>\\n                Envíenos un correo electrónico: <span>muiskcolombia@gmail.com</span>\\n              </div>\\n        </li>\\n        </ul>\\n  </div>\\n  <div class=\"title clearfix hidden-md-up\">\\n      <i class=\"fa fa-map-marker\" aria-hidden=\"true\"></i><a class=\"h3\" href=\"https://muiskcolombia.com/tiendas\">Información de la tienda</a>\\n  </div>\\n</div><script id=\"mcjs\">!function(c,h,i,m,p){m=c.createElement(h),p=c.getElementsByTagName(h)[0],m.async=1,m.src=i,p.parentNode.insertBefore(m,p)}(document,\"script\",\"https://chimpstatic.com/mcjs-connected/js/users/c392bec65802703029a823fb4/9f4e05baf69bea1cf91997db2.js\");</script><div class=\"asagiSabit hidden-xs\"><a href=\"https://web.whatsapp.com/send?l=en&phone=+573508738924\"><img src=\"/modules/whatsapp//views/img/whataspp_icon.png\" alt=\"Whataspp\" width=\"24px\" height=\"24px\" /> WHATSAPP</a></div>\\n<div class=\"asagiSabit visible-xs\"><a href=\"https://api.whatsapp.com/send?l=en&phone=+573508738924\"><img src=\"/modules/whatsapp//views/img/whataspp_icon.png\" alt=\"Whataspp\" width=\"24px\" height=\"24px\" /> WHATSAPP</a></div><div id=\"block_myaccount_infos\" class=\"col-md-3 links wrapper\">\\n  <i class=\"material-icons\">account_box</i><h3 class=\"myaccount-title hidden-sm-down\">\\n    <a class=\"text-uppercase\" href=\"https://muiskcolombia.com/mi-cuenta\" rel=\"nofollow\">\\n      Su cuenta\\n    </a>\\n  </h3>\\n  <div class=\"title clearfix hidden-md-up\" data-target=\"#footer_account_list\" data-toggle=\"collapse\">\\n    <span class=\"h3\">Su cuenta</span>\\n    <span class=\"pull-xs-right\">\\n      <span class=\"navbar-toggler collapse-icons\">\\n        <i class=\"material-icons add\">&#xE313;</i>\\n        <i class=\"material-icons remove\">&#xE316;</i>\\n      </span>\\n    </span>\\n  </div>\\n  <ul class=\"account-list collapse\" id=\"footer_account_list\">\\n            <li>\\n          <a href=\"https://muiskcolombia.com/datos-personales\" title=\"Información personal\" rel=\"nofollow\">\\n            Información personal\\n          </a>\\n        </li>\\n            <li>\\n          <a href=\"https://muiskcolombia.com/historial-compra\" title=\"Pedidos\" rel=\"nofollow\">\\n            Pedidos\\n          </a>\\n        </li>\\n            <li>\\n          <a href=\"https://muiskcolombia.com/facturas-abono\" title=\"Notas Crédito\" rel=\"nofollow\">\\n            Notas Crédito\\n          </a>\\n        </li>\\n            <li>\\n          <a href=\"https://muiskcolombia.com/direcciones\" title=\"Direcciones\" rel=\"nofollow\">\\n            Direcciones\\n          </a>\\n        </li>\\n            <li>\\n          <a href=\"https://muiskcolombia.com/descuento\" title=\"Cupones\" rel=\"nofollow\">\\n            Cupones\\n          </a>\\n        </li>\\n        <li>\\n  <a href=\"//muiskcolombia.com/module/ps_emailalerts/account\">My alerts</a>\\n</li>\\n\\n\\t</ul>\\n</div>\\n\\n\\t\\t</div>\\n\\t\\t<div class=\"row\">\\n\\t\\t\\t\\n\\t\\t\\t<img class=\"logo img-responsive\" src=\"https://muiskcolombia.com/img/my-shop-logo-1613395755.jpg\" alt=\"Muisk Colombia Clothing logo\">\\n\\t\\t</div>\\n\\t\\t<div class=\"row\">\\n\\t\\t\\t\\t<p>\\n\\t\\t\\t\\t<div class=\"linkstopka\">\\n\\t\\t\\t\\t\\t<a class=\"_blank\" href=\"http://www.prestashop.com\" target=\"_blank\">\\n\\t\\t\\t\\t\\t© 2022 - Software Ecommerce desarrollado por Muisk Colombia\\n\\t\\t\\t\\t\\t</a>\\n\\t\\t\\t\\t</div>\\n\\t\\t\\t\\t</p>\\n\\t\\t\\t<a style=\"opacity: 0;\" href=\"https://webbay.pl\">w</a><a style=\"opacity: 0;\" href=\"https://szablonystroncms.pl\">s</a>\\n\\t\\t</div>\\n\\t</div>\\n</div>\\n\\n        \\n      </footer>\\n\\n    </main>\\n\\n    \\n        <script type=\"text/javascript\" src=\"https://muiskcolombia.com/themes/core.js\" ></script>\\n  <script type=\"text/javascript\" src=\"https://muiskcolombia.com/themes/multi_sport/assets/js/theme.js\" ></script>\\n  <script type=\"text/javascript\" src=\"https://muiskcolombia.com/modules/blockreassurance/views/dist/front.js\" ></script>\\n  <script type=\"text/javascript\" src=\"https://muiskcolombia.com/modules/ps_emailsubscription/views/js/ps_emailsubscription.js\" ></script>\\n  <script type=\"text/javascript\" src=\"https://muiskcolombia.com/modules/elevatezoom/views/js/jquery.elevatezoom.js\" ></script>\\n  <script type=\"text/javascript\" src=\"https://muiskcolombia.com/modules/fancybox/views/js/fancybox.js\" ></script>\\n  <script type=\"text/javascript\" src=\"https://muiskcolombia.com/modules/productcomments/views/js/jquery.rating.plugin.js\" ></script>\\n  <script type=\"text/javascript\" src=\"https://muiskcolombia.com/modules/productcomments/views/js/productListingComments.js\" ></script>\\n  <script type=\"text/javascript\" src=\"https://muiskcolombia.com/modules/mercadopago/views/js/front.min.js\" ></script>\\n  <script type=\"text/javascript\" src=\"https://muiskcolombia.com/modules/whatsapp//views/js/whatsapp.js\" ></script>\\n  <script type=\"text/javascript\" src=\"https://muiskcolombia.com/js/jquery/ui/jquery-ui.min.js\" ></script>\\n  <script type=\"text/javascript\" src=\"https://muiskcolombia.com/modules/ps_imageslider/js/responsiveslides.min.js\" ></script>\\n  <script type=\"text/javascript\" src=\"https://muiskcolombia.com/modules/ps_imageslider/js/homeslider.js\" ></script>\\n  <script type=\"text/javascript\" src=\"https://muiskcolombia.com/themes/multi_sport/modules/ps_searchbar/ps_searchbar.js\" ></script>\\n  <script type=\"text/javascript\" src=\"https://muiskcolombia.com/themes/multi_sport/modules/ps_shoppingcart/ps_shoppingcart.js\" ></script>\\n  <script type=\"text/javascript\" src=\"https://muiskcolombia.com/modules/ps_searchbarfound/ps_searchbarfound.js\" ></script>\\n  <script type=\"text/javascript\" src=\"https://muiskcolombia.com/modules/ddproductcomments/views/js/jquery.textareaCounter.plugin.js\" ></script>\\n  <script type=\"text/javascript\" src=\"https://muiskcolombia.com/modules/ddproductcomments/views/js/ddproductcomments.js\" ></script>\\n  <script type=\"text/javascript\" src=\"https://muiskcolombia.com/modules/ddproductcomments/views/js/jquery.rating.pack.js\" ></script>\\n  <script type=\"text/javascript\" src=\"https://muiskcolombia.com/themes/multi_sport/assets/js/owl.carousel.js\" ></script>\\n  <script type=\"text/javascript\" src=\"https://muiskcolombia.com/themes/multi_sport/assets/js/totalstorage.js\" ></script>\\n  <script type=\"text/javascript\" src=\"https://muiskcolombia.com/themes/multi_sport/assets/js/custom.js\" ></script>\\n\\n\\n    \\n\\n    \\n      \\n    \\n  </body>\\n\\n</html>'"
      ]
     },
     "execution_count": 66,
     "metadata": {},
     "output_type": "execute_result"
    }
   ],
   "source": [
    "url=\"https://www.muiskcolombia.com\"\n",
    "data2=requests.get(url).text\n",
    "data2"
   ]
  },
  {
   "cell_type": "code",
   "execution_count": 67,
   "id": "a40e8834",
   "metadata": {},
   "outputs": [],
   "source": [
    "soup=BeautifulSoup(data,\"html.parser\")\n"
   ]
  },
  {
   "cell_type": "code",
   "execution_count": 68,
   "id": "7ad10273",
   "metadata": {},
   "outputs": [
    {
     "name": "stdout",
     "output_type": "stream",
     "text": [
      "https://www.ibm.com/co/es\n",
      "https://www.ibm.com/sitemap/co/es\n",
      "https://newsroom.ibm.com/2022-07-12-IBM-Expands-Power10-Server-Family-to-Help-Clients-Respond-Faster-to-Rapidly-Changing-Business-Demands\n",
      "https://www.ibm.com/es-es/about/secure-your-business\n",
      "https://www.ibm.com/es-es/cloud/campaign/cloud-simplicity\n",
      "https://www.ibm.com/es-es/analytics/data-fabric\n",
      "https://www.ibm.com/es-es/cloud/aiops\n",
      "https://www.ibm.com/consulting/es-es/\n",
      "https://www.ibm.com/co-es/storage/flash\n",
      "https://www.ibm.com/it-infrastructure/storage/flash/offers/co-es\n",
      "/co-es/products?lnk=hpv18t5\n",
      "/co-es/cloud/free?lnk=hpv18t1\n",
      "/co-es/products/cloud-pak-for-data?lnk=hpv18t2\n",
      "/co-es/products/spectrum-virtualize-for-public-cloud\n",
      "/co-es/cloud/watson-assistant?lnk=hpv18t3\n",
      "/co-es/security/identity-access-management/cloud-identity?lnk=hpv18t4\n",
      "https://developer.ibm.com/depmodels/cloud/?lnk=hpv18ct16\n",
      "https://developer.ibm.com/technologies/artificial-intelligence?lnk=hpv18ct19\n",
      "https://www.ibm.com/demos/?lnk=hpv18ct12\n",
      "https://developer.ibm.com/?lnk=hpv18ct9\n",
      "https://www.ibm.com/docs/en?lnk=hpv18ct14\n",
      "https://www.redbooks.ibm.com/?lnk=ushpv18ct10\n",
      "https://www.ibm.com/support/home/?lnk=hpv18ct11\n",
      "https://www.ibm.com/training/?lnk=hpv18ct15\n",
      "/co-es/cloud\n",
      "/cloud/hybrid?lnk=hpv18pt14\n",
      "/co-es/watson?lnk=ushpv18pt17\n",
      "/co-es/garage?lnk=hpv18pt13\n",
      "/co-es/blockchain?lnk=hpv18pt4\n",
      "https://www.ibm.com/thought-leadership/institute-business-value/?lnk=hpv18pt12\n",
      "/co-es/analytics?lnk=hpv18pt1\n",
      "/co-es/security?lnk=hpv18pt9\n",
      "/mx-es/financing?lnk=hpv18pt3\n",
      "https://www.ibm.com/quantum-computing?lnk=hpv18pt16\n",
      "/co-es/cloud/learn/hybrid-cloud\n",
      "/cloud/learn/public-cloud?lnk=hpv18ct1\n",
      "/co-es/cloud/redhat?lnk=hpv18ct13\n",
      "/co-es/watson?lnk=hpv18ct3\n",
      "https://www.ibm.com/quantum-computing?lnk=hpv18ct18\n",
      "/cloud/learn/kubernetes?lnk=hpv18ct8\n",
      "/co-es/products/spss-statistics?lnk=ushpv18ct7\n",
      "/co-es/blockchain?lnk=hpv18ct1\n",
      "https://www.ibm.com/co-es/employment?lnk=hpv18ct2\n",
      "https://research.ibm.com/\n",
      "https://www.ibm.com/case-studies/masters/\n",
      "/case-studies/search?lnk=hpv18cs2\n",
      "#\n"
     ]
    }
   ],
   "source": [
    "for link in soup.find_all(\"a\",href=True):\n",
    "    print(link.get(\"href\"))"
   ]
  },
  {
   "cell_type": "code",
   "execution_count": 69,
   "id": "35a9f459",
   "metadata": {},
   "outputs": [],
   "source": [
    "soup2=BeautifulSoup(data2,\"html.parser\")"
   ]
  },
  {
   "cell_type": "code",
   "execution_count": 71,
   "id": "8f0ce682",
   "metadata": {},
   "outputs": [
    {
     "name": "stdout",
     "output_type": "stream",
     "text": [
      "https://muiskcolombia.com/\n",
      "https://muiskcolombia.com/180-catalogo-2022\n",
      "https://muiskcolombia.com/198-jerseys-hombre\n",
      "https://muiskcolombia.com/184-jerseys-mujer\n",
      "https://muiskcolombia.com/181-badanas\n",
      "https://muiskcolombia.com/188-manguillas\n",
      "https://muiskcolombia.com/190-perneras\n",
      "https://muiskcolombia.com/191-chalecos\n",
      "https://muiskcolombia.com/192-guantes\n",
      "https://muiskcolombia.com/193-caps\n",
      "https://muiskcolombia.com/194-medias\n",
      "https://muiskcolombia.com/195-esqueletos\n",
      "https://muiskcolombia.com/197-enterizos\n",
      "https://muiskcolombia.com/content/23-sketch-muisk\n",
      "https://muiskcolombia.com/content/10-calificanos\n",
      "https://muiskcolombia.com/?SubmitCurrency=1&id_currency=2\n",
      "//muiskcolombia.com/carrito?action=show\n",
      "https://muiskcolombia.com/pedido\n",
      "https://muiskcolombia.com/content/28-promocion-2x1-jersey\n",
      "https://muiskcolombia.com/CYCLING-CATALOGO/257-346-hombre-jersey-manga-corta-natural-muisk-fluor.html#/195-talla-s/223-elige_que_articulos-jersey_manga_corta_natural_muisk_fluor_hombre\n",
      "http://muiskcolombia.com\n",
      "http://muiskcolombia.com\n",
      "#carousel\n",
      "#carousel\n",
      "https://muiskcolombia.com/\n",
      "https://muiskcolombia.com/180-catalogo-2022\n",
      "https://muiskcolombia.com/content/28-promocion-2x1-jersey\n",
      "https://muiskcolombia.com/index.php?id_cms=12&controller=cms\n",
      "https://muiskcolombia.com/inicio/16325-62-hombre-jersey-manga-larga-pro-precolombino.html#/5-talla-xxs/6-genero-hombre\n",
      "https://muiskcolombia.com/inicio/16325-62-hombre-jersey-manga-larga-pro-precolombino.html#/5-talla-xxs/6-genero-hombre\n",
      "https://muiskcolombia.com/inicio/16325-62-hombre-jersey-manga-larga-pro-precolombino.html#/5-talla-xxs/6-genero-hombre\n",
      "#\n",
      "https://muiskcolombia.com/inicio/16327-63-hombre-jersey-manga-larga-pro-colombia.html#/5-talla-xxs/6-genero-hombre\n",
      "https://muiskcolombia.com/inicio/16327-63-hombre-jersey-manga-larga-pro-colombia.html#/5-talla-xxs/6-genero-hombre\n",
      "https://muiskcolombia.com/inicio/16327-63-hombre-jersey-manga-larga-pro-colombia.html#/5-talla-xxs/6-genero-hombre\n",
      "#\n",
      "https://muiskcolombia.com/inicio/16320-58-hombre-jersey-manga-larga-confort-vinotinto.html#/5-talla-xxs/6-genero-hombre\n",
      "https://muiskcolombia.com/inicio/16320-58-hombre-jersey-manga-larga-confort-vinotinto.html#/5-talla-xxs/6-genero-hombre\n",
      "https://muiskcolombia.com/inicio/16320-58-hombre-jersey-manga-larga-confort-vinotinto.html#/5-talla-xxs/6-genero-hombre\n",
      "#\n",
      "https://muiskcolombia.com/inicio/16322-59-hombre-jersey-manga-larga-confort-puntos-negro.html#/5-talla-xxs/6-genero-hombre\n",
      "https://muiskcolombia.com/inicio/16322-59-hombre-jersey-manga-larga-confort-puntos-negro.html#/5-talla-xxs/6-genero-hombre\n",
      "https://muiskcolombia.com/inicio/16322-59-hombre-jersey-manga-larga-confort-puntos-negro.html#/5-talla-xxs/6-genero-hombre\n",
      "#\n",
      "https://muiskcolombia.com/inicio/16323-60-hombre-jersey-manga-larga-confort-puntos-azul.html#/5-talla-xxs/6-genero-hombre\n",
      "https://muiskcolombia.com/inicio/16323-60-hombre-jersey-manga-larga-confort-puntos-azul.html#/5-talla-xxs/6-genero-hombre\n",
      "https://muiskcolombia.com/inicio/16323-60-hombre-jersey-manga-larga-confort-puntos-azul.html#/5-talla-xxs/6-genero-hombre\n",
      "#\n",
      "https://muiskcolombia.com/inicio/16324-61-hombre-jersey-manga-larga-confort-puntos-vino.html#/5-talla-xxs/6-genero-hombre\n",
      "https://muiskcolombia.com/inicio/16324-61-hombre-jersey-manga-larga-confort-puntos-vino.html#/5-talla-xxs/6-genero-hombre\n",
      "https://muiskcolombia.com/inicio/16324-61-hombre-jersey-manga-larga-confort-puntos-vino.html#/5-talla-xxs/6-genero-hombre\n",
      "#\n",
      "https://muiskcolombia.com/inicio/16315-53-hombre-jersey-manga-larga-confort-fucsia.html#/5-talla-xxs/6-genero-hombre\n",
      "https://muiskcolombia.com/inicio/16315-53-hombre-jersey-manga-larga-confort-fucsia.html#/5-talla-xxs/6-genero-hombre\n",
      "https://muiskcolombia.com/inicio/16315-53-hombre-jersey-manga-larga-confort-fucsia.html#/5-talla-xxs/6-genero-hombre\n",
      "#\n",
      "https://muiskcolombia.com/inicio/16316-54-hombre-jersey-manga-larga-patios-militar-outlet.html#/5-talla-xxs/6-genero-hombre\n",
      "https://muiskcolombia.com/inicio/16316-54-hombre-jersey-manga-larga-patios-militar-outlet.html#/5-talla-xxs/6-genero-hombre\n",
      "https://muiskcolombia.com/inicio/16316-54-hombre-jersey-manga-larga-patios-militar-outlet.html#/5-talla-xxs/6-genero-hombre\n",
      "#\n",
      "https://muiskcolombia.com/novedades\n",
      "https://muiskcolombia.com/inicio/16001-64-hombre-badana-semifondo-negra.html#/6-genero-hombre/7-talla-xs\n",
      "https://muiskcolombia.com/inicio/16001-64-hombre-badana-semifondo-negra.html#/6-genero-hombre/7-talla-xs\n",
      "https://muiskcolombia.com/inicio/16001-64-hombre-badana-semifondo-negra.html#/6-genero-hombre/7-talla-xs\n",
      "#\n",
      "https://muiskcolombia.com/inicio/16005-65-hombre-badana-semifondo-azul-oscuro.html#/6-genero-hombre/7-talla-xs\n",
      "https://muiskcolombia.com/inicio/16005-65-hombre-badana-semifondo-azul-oscuro.html#/6-genero-hombre/7-talla-xs\n",
      "https://muiskcolombia.com/inicio/16005-65-hombre-badana-semifondo-azul-oscuro.html#/6-genero-hombre/7-talla-xs\n",
      "#\n",
      "https://muiskcolombia.com/inicio/16006-66-hombre-badana-semifondo-vinotinto.html#/6-genero-hombre/7-talla-xs\n",
      "https://muiskcolombia.com/inicio/16006-66-hombre-badana-semifondo-vinotinto.html#/6-genero-hombre/7-talla-xs\n",
      "https://muiskcolombia.com/inicio/16006-66-hombre-badana-semifondo-vinotinto.html#/6-genero-hombre/7-talla-xs\n",
      "#\n",
      "https://muiskcolombia.com/inicio/16007-67-hombre-badana-semifondo-negra-reflectiva.html#/6-genero-hombre/7-talla-xs\n",
      "https://muiskcolombia.com/inicio/16007-67-hombre-badana-semifondo-negra-reflectiva.html#/6-genero-hombre/7-talla-xs\n",
      "https://muiskcolombia.com/inicio/16007-67-hombre-badana-semifondo-negra-reflectiva.html#/6-genero-hombre/7-talla-xs\n",
      "#\n",
      "https://muiskcolombia.com/inicio/16009-139-hombre-badana-semifondo-azul-tiranta-blanca-outlet.html#/6-genero-hombre/8-talla-s\n",
      "https://muiskcolombia.com/inicio/16009-139-hombre-badana-semifondo-azul-tiranta-blanca-outlet.html#/6-genero-hombre/8-talla-s\n",
      "https://muiskcolombia.com/inicio/16009-139-hombre-badana-semifondo-azul-tiranta-blanca-outlet.html#/6-genero-hombre/8-talla-s\n",
      "#\n",
      "https://muiskcolombia.com/inicio/16010-140-hombre-badana-semifondo-vinotinto-tiranta-blanca-outlet.html#/6-genero-hombre/8-talla-s\n",
      "https://muiskcolombia.com/inicio/16010-140-hombre-badana-semifondo-vinotinto-tiranta-blanca-outlet.html#/6-genero-hombre/8-talla-s\n",
      "https://muiskcolombia.com/inicio/16010-140-hombre-badana-semifondo-vinotinto-tiranta-blanca-outlet.html#/6-genero-hombre/8-talla-s\n",
      "#\n",
      "https://muiskcolombia.com/inicio/16011-141-hombre-badana-larga-semifondo-negra.html#/6-genero-hombre/8-talla-s\n",
      "https://muiskcolombia.com/inicio/16011-141-hombre-badana-larga-semifondo-negra.html#/6-genero-hombre/8-talla-s\n",
      "https://muiskcolombia.com/inicio/16011-141-hombre-badana-larga-semifondo-negra.html#/6-genero-hombre/8-talla-s\n",
      "#\n",
      "https://muiskcolombia.com/inicio/16012-68-mujer-badana-semifondo-negra.html#/4-genero-mujer/7-talla-xs\n",
      "https://muiskcolombia.com/inicio/16012-68-mujer-badana-semifondo-negra.html#/4-genero-mujer/7-talla-xs\n",
      "https://muiskcolombia.com/inicio/16012-68-mujer-badana-semifondo-negra.html#/4-genero-mujer/7-talla-xs\n",
      "#\n",
      "https://muiskcolombia.com/2-inicio\n",
      "https://muiskcolombia.com/inicio/16026-75-mujer-jersey-manga-corta-confort-blanco.html#/4-genero-mujer/7-talla-xs\n",
      "https://muiskcolombia.com/inicio/16026-75-mujer-jersey-manga-corta-confort-blanco.html#/4-genero-mujer/7-talla-xs\n",
      "https://muiskcolombia.com/inicio/16026-75-mujer-jersey-manga-corta-confort-blanco.html#/4-genero-mujer/7-talla-xs\n",
      "#\n",
      "https://muiskcolombia.com/inicio/16319-57-hombre-jersey-manga-larga-confort-azul.html#/5-talla-xxs/6-genero-hombre\n",
      "https://muiskcolombia.com/inicio/16319-57-hombre-jersey-manga-larga-confort-azul.html#/5-talla-xxs/6-genero-hombre\n",
      "https://muiskcolombia.com/inicio/16319-57-hombre-jersey-manga-larga-confort-azul.html#/5-talla-xxs/6-genero-hombre\n",
      "#\n",
      "https://muiskcolombia.com/inicio/16310-49-hombre-jersey-manga-corta-confort-puntos-vino.html#/5-talla-xxs/6-genero-hombre\n",
      "https://muiskcolombia.com/inicio/16310-49-hombre-jersey-manga-corta-confort-puntos-vino.html#/5-talla-xxs/6-genero-hombre\n",
      "https://muiskcolombia.com/inicio/16310-49-hombre-jersey-manga-corta-confort-puntos-vino.html#/5-talla-xxs/6-genero-hombre\n",
      "#\n",
      "https://muiskcolombia.com/inicio/16174-122-mujer-jersey-manga-larga-oro-mostaza.html#/4-genero-mujer/7-talla-xs\n",
      "https://muiskcolombia.com/inicio/16174-122-mujer-jersey-manga-larga-oro-mostaza.html#/4-genero-mujer/7-talla-xs\n",
      "https://muiskcolombia.com/inicio/16174-122-mujer-jersey-manga-larga-oro-mostaza.html#/4-genero-mujer/7-talla-xs\n",
      "#\n",
      "https://muiskcolombia.com/inicio/16173-197-hombre-jersey-manga-larga-oro-mostaza.html#/6-genero-hombre/8-talla-s\n",
      "https://muiskcolombia.com/inicio/16173-197-hombre-jersey-manga-larga-oro-mostaza.html#/6-genero-hombre/8-talla-s\n",
      "https://muiskcolombia.com/inicio/16173-197-hombre-jersey-manga-larga-oro-mostaza.html#/6-genero-hombre/8-talla-s\n",
      "#\n",
      "https://muiskcolombia.com/inicio/16163-192-hombre-jersey-manga-corta-azul-agua.html#/6-genero-hombre/8-talla-s\n",
      "https://muiskcolombia.com/inicio/16163-192-hombre-jersey-manga-corta-azul-agua.html#/6-genero-hombre/8-talla-s\n",
      "https://muiskcolombia.com/inicio/16163-192-hombre-jersey-manga-corta-azul-agua.html#/6-genero-hombre/8-talla-s\n",
      "#\n",
      "https://muiskcolombia.com/inicio/16135-178-hombre-jersey-manga-corta-alto-de-la-linea.html#/6-genero-hombre/8-talla-s\n",
      "https://muiskcolombia.com/inicio/16135-178-hombre-jersey-manga-corta-alto-de-la-linea.html#/6-genero-hombre/8-talla-s\n",
      "https://muiskcolombia.com/inicio/16135-178-hombre-jersey-manga-corta-alto-de-la-linea.html#/6-genero-hombre/8-talla-s\n",
      "#\n",
      "https://muiskcolombia.com/inicio/16036-84-mujer-jersey-manga-larga-patios-azul-outlet.html#/4-genero-mujer/7-talla-xs\n",
      "https://muiskcolombia.com/inicio/16036-84-mujer-jersey-manga-larga-patios-azul-outlet.html#/4-genero-mujer/7-talla-xs\n",
      "https://muiskcolombia.com/inicio/16036-84-mujer-jersey-manga-larga-patios-azul-outlet.html#/4-genero-mujer/7-talla-xs\n",
      "#\n",
      "https://muiskcolombia.com/mas-vendidos\n",
      "https://muiskcolombia.com/inicio/16134-112-mujer-enterizo-manga-corta-basic-marino.html#/4-genero-mujer/7-talla-xs\n",
      "https://muiskcolombia.com/inicio/16134-112-mujer-enterizo-manga-corta-basic-marino.html#/4-genero-mujer/7-talla-xs\n",
      "https://muiskcolombia.com/inicio/16161-190-hombre-jersey-manga-larga-patios-fucsia.html#/6-genero-hombre/8-talla-s\n",
      "https://muiskcolombia.com/inicio/16161-190-hombre-jersey-manga-larga-patios-fucsia.html#/6-genero-hombre/8-talla-s\n",
      "https://muiskcolombia.com/inicio/16162-119-mujer-jersey-manga-larga-patios-fucsia.html#/4-genero-mujer/7-talla-xs\n",
      "https://muiskcolombia.com/inicio/16162-119-mujer-jersey-manga-larga-patios-fucsia.html#/4-genero-mujer/7-talla-xs\n",
      "https://muiskcolombia.com/inicio/16165-194-hombre-jersey-manga-larga-azul-agua.html#/6-genero-hombre/8-talla-s\n",
      "https://muiskcolombia.com/inicio/16165-194-hombre-jersey-manga-larga-azul-agua.html#/6-genero-hombre/8-talla-s\n",
      "https://muiskcolombia.com/inicio/16173-197-hombre-jersey-manga-larga-oro-mostaza.html#/6-genero-hombre/8-talla-s\n",
      "https://muiskcolombia.com/inicio/16173-197-hombre-jersey-manga-larga-oro-mostaza.html#/6-genero-hombre/8-talla-s\n",
      "https://muiskcolombia.com/inicio/16174-122-mujer-jersey-manga-larga-oro-mostaza.html#/4-genero-mujer/7-talla-xs\n",
      "https://muiskcolombia.com/inicio/16174-122-mujer-jersey-manga-larga-oro-mostaza.html#/4-genero-mujer/7-talla-xs\n",
      "https://muiskcolombia.com/productos-rebajados\n",
      "https://muiskcolombia.com/brand/5-calidad\n",
      "https://muiskcolombia.com/brand/5-calidad\n",
      "https://muiskcolombia.com/brand/7-color\n",
      "https://muiskcolombia.com/brand/7-color\n",
      "https://muiskcolombia.com/brand/6-elegancia\n",
      "https://muiskcolombia.com/brand/6-elegancia\n",
      "https://muiskcolombia.com/inicio/16134-112-mujer-enterizo-manga-corta-basic-marino.html#/4-genero-mujer/7-talla-xs\n",
      "https://muiskcolombia.com/inicio/16134-112-mujer-enterizo-manga-corta-basic-marino.html#/4-genero-mujer/7-talla-xs\n",
      "https://muiskcolombia.com/inicio/16134-112-mujer-enterizo-manga-corta-basic-marino.html#/4-genero-mujer/7-talla-xs\n",
      "#\n",
      "https://muiskcolombia.com/inicio/16161-190-hombre-jersey-manga-larga-patios-fucsia.html#/6-genero-hombre/8-talla-s\n",
      "https://muiskcolombia.com/inicio/16161-190-hombre-jersey-manga-larga-patios-fucsia.html#/6-genero-hombre/8-talla-s\n",
      "https://muiskcolombia.com/inicio/16161-190-hombre-jersey-manga-larga-patios-fucsia.html#/6-genero-hombre/8-talla-s\n",
      "#\n",
      "https://muiskcolombia.com/inicio/16162-119-mujer-jersey-manga-larga-patios-fucsia.html#/4-genero-mujer/7-talla-xs\n",
      "https://muiskcolombia.com/inicio/16162-119-mujer-jersey-manga-larga-patios-fucsia.html#/4-genero-mujer/7-talla-xs\n",
      "https://muiskcolombia.com/inicio/16162-119-mujer-jersey-manga-larga-patios-fucsia.html#/4-genero-mujer/7-talla-xs\n",
      "#\n",
      "https://muiskcolombia.com/inicio/16165-194-hombre-jersey-manga-larga-azul-agua.html#/6-genero-hombre/8-talla-s\n",
      "https://muiskcolombia.com/inicio/16165-194-hombre-jersey-manga-larga-azul-agua.html#/6-genero-hombre/8-talla-s\n",
      "https://muiskcolombia.com/inicio/16165-194-hombre-jersey-manga-larga-azul-agua.html#/6-genero-hombre/8-talla-s\n",
      "#\n",
      "https://muiskcolombia.com/inicio/16173-197-hombre-jersey-manga-larga-oro-mostaza.html#/6-genero-hombre/8-talla-s\n",
      "https://muiskcolombia.com/inicio/16173-197-hombre-jersey-manga-larga-oro-mostaza.html#/6-genero-hombre/8-talla-s\n",
      "https://muiskcolombia.com/inicio/16173-197-hombre-jersey-manga-larga-oro-mostaza.html#/6-genero-hombre/8-talla-s\n",
      "#\n",
      "https://muiskcolombia.com/inicio/16174-122-mujer-jersey-manga-larga-oro-mostaza.html#/4-genero-mujer/7-talla-xs\n",
      "https://muiskcolombia.com/inicio/16174-122-mujer-jersey-manga-larga-oro-mostaza.html#/4-genero-mujer/7-talla-xs\n",
      "https://muiskcolombia.com/inicio/16174-122-mujer-jersey-manga-larga-oro-mostaza.html#/4-genero-mujer/7-talla-xs\n",
      "#\n",
      "https://muiskcolombia.com/inicio/16139-181-hombre-jersey-manga-corta-natural-muisk-fluor.html#/6-genero-hombre/8-talla-s\n",
      "https://muiskcolombia.com/inicio/16139-181-hombre-jersey-manga-corta-natural-muisk-fluor.html#/6-genero-hombre/8-talla-s\n",
      "https://muiskcolombia.com/inicio/16139-181-hombre-jersey-manga-corta-natural-muisk-fluor.html#/6-genero-hombre/8-talla-s\n",
      "#\n",
      "https://muiskcolombia.com/inicio/16140-38-mujer-jersey-manga-corta-natural-muisk-fluor.html#/4-genero-mujer/5-talla-xxs\n",
      "https://muiskcolombia.com/inicio/16140-38-mujer-jersey-manga-corta-natural-muisk-fluor.html#/4-genero-mujer/5-talla-xxs\n",
      "https://muiskcolombia.com/inicio/16140-38-mujer-jersey-manga-corta-natural-muisk-fluor.html#/4-genero-mujer/5-talla-xxs\n",
      "#\n",
      "https://muiskcolombia.com/productos-rebajados\n",
      "#\n",
      "https://www.facebook.com/muiskcolombia\n",
      "https://twitter.com/ColombiaMuisk\n",
      "#\n",
      "https://www.youtube.com/channel/UCV6o6zRlSTxcn1CNT4d-Wgw\n",
      "https://www.instagram.com/muiskcolombia/?hl=es\n",
      "https://muiskcolombia.com/productos-rebajados\n",
      "https://muiskcolombia.com/novedades\n",
      "https://muiskcolombia.com/mas-vendidos\n",
      "https://muiskcolombia.com/content/1-politica-de-envios\n",
      "https://muiskcolombia.com/content/2-legal\n",
      "https://muiskcolombia.com/content/3-politica-de-cambios-o-devoluciones-muisk\n",
      "https://muiskcolombia.com/content/4-quienes-somos\n",
      "https://muiskcolombia.com/content/5-pagos-seguros\n",
      "https://muiskcolombia.com/content/6-terminos-y-condiciones-de-rodadas-muisk\n",
      "https://muiskcolombia.com/contactenos\n",
      "https://muiskcolombia.com/mapa del sitio\n",
      "https://muiskcolombia.com/tiendas\n",
      "https://muiskcolombia.com/content/12-preguntas-frecuentes\n",
      "https://muiskcolombia.com/tiendas\n",
      "https://web.whatsapp.com/send?l=en&phone=+573508738924\n",
      "https://api.whatsapp.com/send?l=en&phone=+573508738924\n",
      "https://muiskcolombia.com/mi-cuenta\n",
      "https://muiskcolombia.com/datos-personales\n",
      "https://muiskcolombia.com/historial-compra\n",
      "https://muiskcolombia.com/facturas-abono\n",
      "https://muiskcolombia.com/direcciones\n",
      "https://muiskcolombia.com/descuento\n",
      "//muiskcolombia.com/module/ps_emailalerts/account\n",
      "http://www.prestashop.com\n",
      "https://webbay.pl\n",
      "https://szablonystroncms.pl\n"
     ]
    }
   ],
   "source": [
    "for link in soup2.find_all(\"a\",href=True):\n",
    "        print(link.get(\"href\"))"
   ]
  },
  {
   "cell_type": "code",
   "execution_count": 72,
   "id": "65fb6fc3",
   "metadata": {},
   "outputs": [
    {
     "name": "stdout",
     "output_type": "stream",
     "text": [
      "<img height=\"1\" src=\"https://www.facebook.com/tr?id=793848341113645&amp;ev=PageView&amp;noscript=1\" style=\"display:none\" width=\"1\"/>\n",
      "https://www.facebook.com/tr?id=793848341113645&ev=PageView&noscript=1\n",
      "<img alt=\"Muisk Colombia Clothing\" class=\"logo img-responsive\" src=\"https://muiskcolombia.com/img/my-shop-logo-1613395755.jpg\"/>\n",
      "https://muiskcolombia.com/img/my-shop-logo-1613395755.jpg\n",
      "<img alt=\"\" src=\"https://muiskcolombia.com/modules/ps_imageslider/images/69e96e2535776b16439cc8365990a74ea96f4a5e_PORTADA-PAGINA-WEB.png\"/>\n",
      "https://muiskcolombia.com/modules/ps_imageslider/images/69e96e2535776b16439cc8365990a74ea96f4a5e_PORTADA-PAGINA-WEB.png\n",
      "<img alt=\"\" src=\"https://muiskcolombia.com/modules/ps_imageslider/images/121277b6c71975366ead0db7dc5da10205c8850c_PORTADA-PAGINA-WEB.png\"/>\n",
      "https://muiskcolombia.com/modules/ps_imageslider/images/121277b6c71975366ead0db7dc5da10205c8850c_PORTADA-PAGINA-WEB.png\n",
      "<img alt=\"\" src=\"https://muiskcolombia.com/modules/ps_imageslider/images/c2ad1c6503317a66d01c464d2f2c6e821558c182_PORTADA-PAGINA-WEB2.png\"/>\n",
      "https://muiskcolombia.com/modules/ps_imageslider/images/c2ad1c6503317a66d01c464d2f2c6e821558c182_PORTADA-PAGINA-WEB2.png\n",
      "<img alt=\"\" src=\"https://muiskcolombia.com/modules/ps_imageslider/images/85be409f5b3390237d448210fc81c538678458ed_1.jpg\"/>\n",
      "https://muiskcolombia.com/modules/ps_imageslider/images/85be409f5b3390237d448210fc81c538678458ed_1.jpg\n",
      "<img alt=\"Catálogo\" src=\"https://muiskcolombia.com/modules/bannerone/imgj/beddf783a88fb67c568575ab4557d953.\" title=\"Catálogo\"/>\n",
      "https://muiskcolombia.com/modules/bannerone/imgj/beddf783a88fb67c568575ab4557d953.\n",
      "<img alt=\"\" src=\"https://muiskcolombia.com/modules/bannertwo/imgd/ee476bda5f1c7640a65eee4790700482.\" title=\"\"/>\n",
      "https://muiskcolombia.com/modules/bannertwo/imgd/ee476bda5f1c7640a65eee4790700482.\n",
      "<img alt=\"Todo lo que necesitas saber para comprar\" src=\"https://muiskcolombia.com/modules/bannerthree/imgt/9ab2b3c991f2ef4c1c3a289ded857828.\" title=\"Todo lo que necesitas saber para comprar\"/>\n",
      "https://muiskcolombia.com/modules/bannerthree/imgt/9ab2b3c991f2ef4c1c3a289ded857828.\n",
      "<img alt=\"\" data-full-size-image-url=\"https://muiskcolombia.com/1569-large_default/hombre-jersey-manga-larga-pro-precolombino.jpg\" src=\"https://muiskcolombia.com/1569-home_default/hombre-jersey-manga-larga-pro-precolombino.jpg\"/>\n",
      "https://muiskcolombia.com/1569-home_default/hombre-jersey-manga-larga-pro-precolombino.jpg\n",
      "<img alt=\"\" data-full-size-image-url=\"https://muiskcolombia.com/1585-large_default/hombre-jersey-manga-larga-pro-colombia.jpg\" src=\"https://muiskcolombia.com/1585-home_default/hombre-jersey-manga-larga-pro-colombia.jpg\"/>\n",
      "https://muiskcolombia.com/1585-home_default/hombre-jersey-manga-larga-pro-colombia.jpg\n",
      "<img alt=\"\" data-full-size-image-url=\"https://muiskcolombia.com/1529-large_default/hombre-jersey-manga-larga-confort-vinotinto.jpg\" src=\"https://muiskcolombia.com/1529-home_default/hombre-jersey-manga-larga-confort-vinotinto.jpg\"/>\n",
      "https://muiskcolombia.com/1529-home_default/hombre-jersey-manga-larga-confort-vinotinto.jpg\n",
      "<img alt=\"\" data-full-size-image-url=\"https://muiskcolombia.com/1545-large_default/hombre-jersey-manga-larga-confort-puntos-negro.jpg\" src=\"https://muiskcolombia.com/1545-home_default/hombre-jersey-manga-larga-confort-puntos-negro.jpg\"/>\n",
      "https://muiskcolombia.com/1545-home_default/hombre-jersey-manga-larga-confort-puntos-negro.jpg\n",
      "<img alt=\"\" data-full-size-image-url=\"https://muiskcolombia.com/1553-large_default/hombre-jersey-manga-larga-confort-puntos-azul.jpg\" src=\"https://muiskcolombia.com/1553-home_default/hombre-jersey-manga-larga-confort-puntos-azul.jpg\"/>\n",
      "https://muiskcolombia.com/1553-home_default/hombre-jersey-manga-larga-confort-puntos-azul.jpg\n",
      "<img alt=\"\" data-full-size-image-url=\"https://muiskcolombia.com/1561-large_default/hombre-jersey-manga-larga-confort-puntos-vino.jpg\" src=\"https://muiskcolombia.com/1561-home_default/hombre-jersey-manga-larga-confort-puntos-vino.jpg\"/>\n",
      "https://muiskcolombia.com/1561-home_default/hombre-jersey-manga-larga-confort-puntos-vino.jpg\n",
      "<img alt=\"\" data-full-size-image-url=\"https://muiskcolombia.com/1489-large_default/hombre-jersey-manga-larga-confort-fucsia.jpg\" src=\"https://muiskcolombia.com/1489-home_default/hombre-jersey-manga-larga-confort-fucsia.jpg\"/>\n",
      "https://muiskcolombia.com/1489-home_default/hombre-jersey-manga-larga-confort-fucsia.jpg\n",
      "<img alt=\"\" data-full-size-image-url=\"https://muiskcolombia.com/1497-large_default/hombre-jersey-manga-larga-patios-militar-outlet.jpg\" src=\"https://muiskcolombia.com/1497-home_default/hombre-jersey-manga-larga-patios-militar-outlet.jpg\"/>\n",
      "https://muiskcolombia.com/1497-home_default/hombre-jersey-manga-larga-patios-militar-outlet.jpg\n",
      "<img alt=\"\" data-full-size-image-url=\"https://muiskcolombia.com/1-large_default/hombre-badana-semifondo-negra.jpg\" src=\"https://muiskcolombia.com/1-home_default/hombre-badana-semifondo-negra.jpg\"/>\n",
      "https://muiskcolombia.com/1-home_default/hombre-badana-semifondo-negra.jpg\n",
      "<img alt=\"\" data-full-size-image-url=\"https://muiskcolombia.com/33-large_default/hombre-badana-semifondo-azul-oscuro.jpg\" src=\"https://muiskcolombia.com/33-home_default/hombre-badana-semifondo-azul-oscuro.jpg\"/>\n",
      "https://muiskcolombia.com/33-home_default/hombre-badana-semifondo-azul-oscuro.jpg\n",
      "<img alt=\"\" data-full-size-image-url=\"https://muiskcolombia.com/41-large_default/hombre-badana-semifondo-vinotinto.jpg\" src=\"https://muiskcolombia.com/41-home_default/hombre-badana-semifondo-vinotinto.jpg\"/>\n",
      "https://muiskcolombia.com/41-home_default/hombre-badana-semifondo-vinotinto.jpg\n",
      "<img alt=\"\" data-full-size-image-url=\"https://muiskcolombia.com/49-large_default/hombre-badana-semifondo-negra-reflectiva.jpg\" src=\"https://muiskcolombia.com/49-home_default/hombre-badana-semifondo-negra-reflectiva.jpg\"/>\n",
      "https://muiskcolombia.com/49-home_default/hombre-badana-semifondo-negra-reflectiva.jpg\n",
      "<img alt=\"\" data-full-size-image-url=\"https://muiskcolombia.com/65-large_default/hombre-badana-semifondo-azul-tiranta-blanca-outlet.jpg\" src=\"https://muiskcolombia.com/65-home_default/hombre-badana-semifondo-azul-tiranta-blanca-outlet.jpg\"/>\n",
      "https://muiskcolombia.com/65-home_default/hombre-badana-semifondo-azul-tiranta-blanca-outlet.jpg\n",
      "<img alt=\"\" data-full-size-image-url=\"https://muiskcolombia.com/73-large_default/hombre-badana-semifondo-vinotinto-tiranta-blanca-outlet.jpg\" src=\"https://muiskcolombia.com/73-home_default/hombre-badana-semifondo-vinotinto-tiranta-blanca-outlet.jpg\"/>\n",
      "https://muiskcolombia.com/73-home_default/hombre-badana-semifondo-vinotinto-tiranta-blanca-outlet.jpg\n",
      "<img alt=\"\" data-full-size-image-url=\"https://muiskcolombia.com/81-large_default/hombre-badana-larga-semifondo-negra.jpg\" src=\"https://muiskcolombia.com/81-home_default/hombre-badana-larga-semifondo-negra.jpg\"/>\n",
      "https://muiskcolombia.com/81-home_default/hombre-badana-larga-semifondo-negra.jpg\n",
      "<img alt=\"\" data-full-size-image-url=\"https://muiskcolombia.com/89-large_default/mujer-badana-semifondo-negra.jpg\" src=\"https://muiskcolombia.com/89-home_default/mujer-badana-semifondo-negra.jpg\"/>\n",
      "https://muiskcolombia.com/89-home_default/mujer-badana-semifondo-negra.jpg\n",
      "<img alt=\"\" data-full-size-image-url=\"https://muiskcolombia.com/201-large_default/mujer-jersey-manga-corta-confort-blanco.jpg\" src=\"https://muiskcolombia.com/201-home_default/mujer-jersey-manga-corta-confort-blanco.jpg\"/>\n",
      "https://muiskcolombia.com/201-home_default/mujer-jersey-manga-corta-confort-blanco.jpg\n",
      "<img alt=\"\" data-full-size-image-url=\"https://muiskcolombia.com/1521-large_default/hombre-jersey-manga-larga-confort-azul.jpg\" src=\"https://muiskcolombia.com/1521-home_default/hombre-jersey-manga-larga-confort-azul.jpg\"/>\n",
      "https://muiskcolombia.com/1521-home_default/hombre-jersey-manga-larga-confort-azul.jpg\n",
      "<img alt=\"\" data-full-size-image-url=\"https://muiskcolombia.com/1449-large_default/hombre-jersey-manga-corta-confort-puntos-vino.jpg\" src=\"https://muiskcolombia.com/1449-home_default/hombre-jersey-manga-corta-confort-puntos-vino.jpg\"/>\n",
      "https://muiskcolombia.com/1449-home_default/hombre-jersey-manga-corta-confort-puntos-vino.jpg\n",
      "<img alt=\"\" data-full-size-image-url=\"https://muiskcolombia.com/1353-large_default/mujer-jersey-manga-larga-oro-mostaza.jpg\" src=\"https://muiskcolombia.com/1353-home_default/mujer-jersey-manga-larga-oro-mostaza.jpg\"/>\n",
      "https://muiskcolombia.com/1353-home_default/mujer-jersey-manga-larga-oro-mostaza.jpg\n",
      "<img alt=\"\" data-full-size-image-url=\"https://muiskcolombia.com/1345-large_default/hombre-jersey-manga-larga-oro-mostaza.jpg\" src=\"https://muiskcolombia.com/1345-home_default/hombre-jersey-manga-larga-oro-mostaza.jpg\"/>\n",
      "https://muiskcolombia.com/1345-home_default/hombre-jersey-manga-larga-oro-mostaza.jpg\n",
      "<img alt=\"\" data-full-size-image-url=\"https://muiskcolombia.com/1265-large_default/hombre-jersey-manga-corta-azul-agua.jpg\" src=\"https://muiskcolombia.com/1265-home_default/hombre-jersey-manga-corta-azul-agua.jpg\"/>\n",
      "https://muiskcolombia.com/1265-home_default/hombre-jersey-manga-corta-azul-agua.jpg\n",
      "<img alt=\"\" data-full-size-image-url=\"https://muiskcolombia.com/1041-large_default/hombre-jersey-manga-corta-alto-de-la-linea.jpg\" src=\"https://muiskcolombia.com/1041-home_default/hombre-jersey-manga-corta-alto-de-la-linea.jpg\"/>\n",
      "https://muiskcolombia.com/1041-home_default/hombre-jersey-manga-corta-alto-de-la-linea.jpg\n",
      "<img alt=\"\" data-full-size-image-url=\"https://muiskcolombia.com/281-large_default/mujer-jersey-manga-larga-patios-azul-outlet.jpg\" src=\"https://muiskcolombia.com/281-home_default/mujer-jersey-manga-larga-patios-azul-outlet.jpg\"/>\n",
      "https://muiskcolombia.com/281-home_default/mujer-jersey-manga-larga-patios-azul-outlet.jpg\n",
      "<img alt=\"MUJER ENTERIZO MANGA CORTA BASIC MARINO\" class=\"ddproduct-img1\" data-full-size-image-url=\"https://muiskcolombia.com/1033-large_default/mujer-enterizo-manga-corta-basic-marino.jpg\" src=\"https://muiskcolombia.com/1033-home_default/mujer-enterizo-manga-corta-basic-marino.jpg\"/>\n",
      "https://muiskcolombia.com/1033-home_default/mujer-enterizo-manga-corta-basic-marino.jpg\n",
      "<img alt=\"HOMBRE JERSEY MANGA LARGA PATIOS FUCSIA\" class=\"ddproduct-img1\" data-full-size-image-url=\"https://muiskcolombia.com/1249-large_default/hombre-jersey-manga-larga-patios-fucsia.jpg\" src=\"https://muiskcolombia.com/1249-home_default/hombre-jersey-manga-larga-patios-fucsia.jpg\"/>\n",
      "https://muiskcolombia.com/1249-home_default/hombre-jersey-manga-larga-patios-fucsia.jpg\n",
      "<img alt=\"MUJER JERSEY MANGA LARGA PATIOS FUCSIA\" class=\"ddproduct-img1\" data-full-size-image-url=\"https://muiskcolombia.com/1257-large_default/mujer-jersey-manga-larga-patios-fucsia.jpg\" src=\"https://muiskcolombia.com/1257-home_default/mujer-jersey-manga-larga-patios-fucsia.jpg\"/>\n",
      "https://muiskcolombia.com/1257-home_default/mujer-jersey-manga-larga-patios-fucsia.jpg\n",
      "<img alt=\"HOMBRE JERSEY MANGA LARGA AZUL AGUA\" class=\"ddproduct-img1\" data-full-size-image-url=\"https://muiskcolombia.com/1281-large_default/hombre-jersey-manga-larga-azul-agua.jpg\" src=\"https://muiskcolombia.com/1281-home_default/hombre-jersey-manga-larga-azul-agua.jpg\"/>\n",
      "https://muiskcolombia.com/1281-home_default/hombre-jersey-manga-larga-azul-agua.jpg\n",
      "<img alt=\"HOMBRE JERSEY MANGA LARGA ORO MOSTAZA\" class=\"ddproduct-img1\" data-full-size-image-url=\"https://muiskcolombia.com/1345-large_default/hombre-jersey-manga-larga-oro-mostaza.jpg\" src=\"https://muiskcolombia.com/1345-home_default/hombre-jersey-manga-larga-oro-mostaza.jpg\"/>\n",
      "https://muiskcolombia.com/1345-home_default/hombre-jersey-manga-larga-oro-mostaza.jpg\n",
      "<img alt=\"MUJER JERSEY MANGA LARGA ORO MOSTAZA\" class=\"ddproduct-img1\" data-full-size-image-url=\"https://muiskcolombia.com/1353-large_default/mujer-jersey-manga-larga-oro-mostaza.jpg\" src=\"https://muiskcolombia.com/1353-home_default/mujer-jersey-manga-larga-oro-mostaza.jpg\"/>\n",
      "https://muiskcolombia.com/1353-home_default/mujer-jersey-manga-larga-oro-mostaza.jpg\n",
      "<img alt=\"Calidad\" src=\"https://muiskcolombia.com/img/m/5.jpg\">\n",
      "</img>\n",
      "https://muiskcolombia.com/img/m/5.jpg\n",
      "<img alt=\"COLOR\" src=\"https://muiskcolombia.com/img/m/7.jpg\">\n",
      "</img>\n",
      "https://muiskcolombia.com/img/m/7.jpg\n",
      "<img alt=\"Elegancia\" src=\"https://muiskcolombia.com/img/m/6.jpg\">\n",
      "</img>\n",
      "https://muiskcolombia.com/img/m/6.jpg\n",
      "<img alt=\"\" data-full-size-image-url=\"https://muiskcolombia.com/1033-large_default/mujer-enterizo-manga-corta-basic-marino.jpg\" src=\"https://muiskcolombia.com/1033-home_default/mujer-enterizo-manga-corta-basic-marino.jpg\"/>\n",
      "https://muiskcolombia.com/1033-home_default/mujer-enterizo-manga-corta-basic-marino.jpg\n",
      "<img alt=\"\" data-full-size-image-url=\"https://muiskcolombia.com/1249-large_default/hombre-jersey-manga-larga-patios-fucsia.jpg\" src=\"https://muiskcolombia.com/1249-home_default/hombre-jersey-manga-larga-patios-fucsia.jpg\"/>\n",
      "https://muiskcolombia.com/1249-home_default/hombre-jersey-manga-larga-patios-fucsia.jpg\n",
      "<img alt=\"\" data-full-size-image-url=\"https://muiskcolombia.com/1257-large_default/mujer-jersey-manga-larga-patios-fucsia.jpg\" src=\"https://muiskcolombia.com/1257-home_default/mujer-jersey-manga-larga-patios-fucsia.jpg\"/>\n",
      "https://muiskcolombia.com/1257-home_default/mujer-jersey-manga-larga-patios-fucsia.jpg\n",
      "<img alt=\"\" data-full-size-image-url=\"https://muiskcolombia.com/1281-large_default/hombre-jersey-manga-larga-azul-agua.jpg\" src=\"https://muiskcolombia.com/1281-home_default/hombre-jersey-manga-larga-azul-agua.jpg\"/>\n",
      "https://muiskcolombia.com/1281-home_default/hombre-jersey-manga-larga-azul-agua.jpg\n",
      "<img alt=\"\" data-full-size-image-url=\"https://muiskcolombia.com/1345-large_default/hombre-jersey-manga-larga-oro-mostaza.jpg\" src=\"https://muiskcolombia.com/1345-home_default/hombre-jersey-manga-larga-oro-mostaza.jpg\"/>\n",
      "https://muiskcolombia.com/1345-home_default/hombre-jersey-manga-larga-oro-mostaza.jpg\n",
      "<img alt=\"\" data-full-size-image-url=\"https://muiskcolombia.com/1353-large_default/mujer-jersey-manga-larga-oro-mostaza.jpg\" src=\"https://muiskcolombia.com/1353-home_default/mujer-jersey-manga-larga-oro-mostaza.jpg\"/>\n",
      "https://muiskcolombia.com/1353-home_default/mujer-jersey-manga-larga-oro-mostaza.jpg\n",
      "<img alt=\"\" data-full-size-image-url=\"https://muiskcolombia.com/1073-large_default/hombre-jersey-manga-corta-natural-muisk-fluor.jpg\" src=\"https://muiskcolombia.com/1073-home_default/hombre-jersey-manga-corta-natural-muisk-fluor.jpg\"/>\n",
      "https://muiskcolombia.com/1073-home_default/hombre-jersey-manga-corta-natural-muisk-fluor.jpg\n",
      "<img alt=\"\" data-full-size-image-url=\"https://muiskcolombia.com/1081-large_default/mujer-jersey-manga-corta-natural-muisk-fluor.jpg\" src=\"https://muiskcolombia.com/1081-home_default/mujer-jersey-manga-corta-natural-muisk-fluor.jpg\"/>\n",
      "https://muiskcolombia.com/1081-home_default/mujer-jersey-manga-corta-natural-muisk-fluor.jpg\n",
      "<img alt=\"Whataspp\" height=\"24px\" src=\"/modules/whatsapp//views/img/whataspp_icon.png\" width=\"24px\"> WHATSAPP</img>\n",
      "/modules/whatsapp//views/img/whataspp_icon.png\n",
      "<img alt=\"Whataspp\" height=\"24px\" src=\"/modules/whatsapp//views/img/whataspp_icon.png\" width=\"24px\"> WHATSAPP</img>\n",
      "/modules/whatsapp//views/img/whataspp_icon.png\n",
      "<img alt=\"Muisk Colombia Clothing logo\" class=\"logo img-responsive\" src=\"https://muiskcolombia.com/img/my-shop-logo-1613395755.jpg\"/>\n",
      "https://muiskcolombia.com/img/my-shop-logo-1613395755.jpg\n"
     ]
    }
   ],
   "source": [
    "for link in soup2.find_all(\"img\"):\n",
    "    print(link)\n",
    "    print(link.get(\"src\"))"
   ]
  },
  {
   "cell_type": "code",
   "execution_count": 74,
   "id": "5cfc8361",
   "metadata": {},
   "outputs": [],
   "source": [
    "url = \"https://cf-courses-data.s3.us.cloud-object-storage.appdomain.cloud/IBM-DA0321EN-SkillsNetwork/labs/datasets/HTMLColorCodes.html\""
   ]
  },
  {
   "cell_type": "code",
   "execution_count": 75,
   "id": "5a602d4f",
   "metadata": {},
   "outputs": [],
   "source": [
    "data=requests.get(url).text"
   ]
  },
  {
   "cell_type": "code",
   "execution_count": 76,
   "id": "8885bbc8",
   "metadata": {},
   "outputs": [
    {
     "data": {
      "text/plain": [
       "'<html>\\n   <body>\\n      <h1>Partital List  of HTML5 Supported Colors</h1>\\n<table border =\"1\" class=\"main-table\">\\n   <tr>\\n      <td>Number </td>\\n      <td>Color</td>\\n      <td>Color Name</td>\\n      <td>Hex Code<br>#RRGGBB</td>\\n      <td>Decimal Code<br>(R,G,B)</td>\\n   </tr>\\n   <tr>\\n      <td>1</td>\\n      <td style=\"background:lightsalmon;\">&nbsp;</td>\\n      <td>lightsalmon</td>\\n      <td>#FFA07A</td>\\n      <td>rgb(255,160,122)</td>\\n   </tr>\\n   <tr>\\n      <td>2</td>\\n      <td style=\"background:salmon;\">&nbsp;</td>\\n      <td>salmon</td>\\n      <td>#FA8072</td>\\n      <td>rgb(250,128,114)</td>\\n   </tr>\\n   <tr>\\n      <td>3</td>\\n      <td style=\"background:darksalmon;\">&nbsp;</td>\\n      <td>darksalmon</td>\\n      <td>#E9967A</td>\\n      <td>rgb(233,150,122)</td>\\n   </tr>\\n   <tr>\\n      <td>4</td>\\n      <td style=\"background:lightcoral;\">&nbsp;</td>\\n      <td>lightcoral</td>\\n      <td>#F08080</td>\\n      <td>rgb(240,128,128)</td>\\n   </tr>\\n   <tr>\\n      <td>5</td>\\n      <td style=\"background:coral;\">&nbsp;</td>\\n      <td>coral</td>\\n      <td>#FF7F50</td>\\n      <td>rgb(255,127,80)</td>\\n   </tr>\\n   <tr>\\n      <td>6</td>\\n      <td style=\"background:tomato;\">&nbsp;</td>\\n      <td>tomato</td>\\n      <td>#FF6347</td>\\n      <td>rgb(255,99,71)</td>\\n   </tr>\\n   <tr>\\n      <td>7</td>\\n      <td style=\"background:orangered;\">&nbsp;</td>\\n      <td>orangered</td>\\n      <td>#FF4500</td>\\n      <td>rgb(255,69,0)</td>\\n   </tr>\\n   <tr>\\n      <td>8</td>\\n      <td style=\"background:gold;\">&nbsp;</td>\\n      <td>gold</td>\\n      <td>#FFD700</td>\\n      <td>rgb(255,215,0)</td>\\n   </tr>\\n   <tr>\\n      <td>9</td>\\n      <td style=\"background:orange;\">&nbsp;</td>\\n      <td>orange</td>\\n      <td>#FFA500</td>\\n      <td>rgb(255,165,0)</td>\\n   </tr>\\n   <tr>\\n      <td>10</td>\\n      <td style=\"background:darkorange;\">&nbsp;</td>\\n      <td>darkorange</td>\\n      <td>#FF8C00</td>\\n      <td>rgb(255,140,0)</td>\\n   </tr>\\n   <tr>\\n      <td>11</td>\\n      <td style=\"background:lightyellow;\">&nbsp;</td>\\n      <td>lightyellow</td>\\n      <td>#FFFFE0</td>\\n      <td>rgb(255,255,224)</td>\\n   </tr>\\n   <tr>\\n      <td>12</td>\\n      <td style=\"background:lemonchiffon;\">&nbsp;</td>\\n      <td>lemonchiffon</td>\\n      <td>#FFFACD</td>\\n      <td>rgb(255,250,205)</td>\\n   </tr>\\n   <tr>\\n      <td>13</td>\\n      <td style=\"background:papayawhip;\">&nbsp;</td>\\n      <td>papayawhip</td>\\n      <td>#FFEFD5</td>\\n      <td>rgb(255,239,213)</td>\\n   </tr>\\n   <tr>\\n      <td>14</td>\\n      <td style=\"background:moccasin;\">&nbsp;</td>\\n      <td>moccasin</td>\\n      <td>#FFE4B5</td>\\n      <td>rgb(255,228,181)</td>\\n   </tr>\\n   <tr>\\n      <td>15</td>\\n      <td style=\"background:peachpuff;\">&nbsp;</td>\\n      <td>peachpuff</td>\\n      <td>#FFDAB9</td>\\n      <td>rgb(255,218,185)</td>\\n   </tr>\\n   <tr>\\n      <td>16</td>\\n      <td style=\"background:palegoldenrod;\">&nbsp;</td>\\n      <td>palegoldenrod</td>\\n      <td>#EEE8AA</td>\\n      <td>rgb(238,232,170)</td>\\n   </tr>\\n   <tr>\\n      <td>17</td>\\n      <td style=\"background:khaki;\">&nbsp;</td>\\n      <td>khaki</td>\\n      <td>#F0E68C</td>\\n      <td>rgb(240,230,140)</td>\\n   </tr>\\n   <tr>\\n      <td>18</td>\\n      <td style=\"background:darkkhaki;\">&nbsp;</td>\\n      <td>darkkhaki</td>\\n      <td>#BDB76B</td>\\n      <td>rgb(189,183,107)</td>\\n   </tr>\\n   <tr>\\n      <td>19</td>\\n      <td style=\"background:yellow;\">&nbsp;</td>\\n      <td>yellow</td>\\n      <td>#FFFF00</td>\\n      <td>rgb(255,255,0)</td>\\n   </tr>\\n   <tr>\\n      <td>20</td>\\n      <td style=\"background:lawngreen;\">&nbsp;</td>\\n      <td>lawngreen</td>\\n      <td>#7CFC00</td>\\n      <td>rgb(124,252,0)</td>\\n   </tr>\\n   <tr>\\n      <td>21</td>\\n      <td style=\"background:chartreuse;\">&nbsp;</td>\\n      <td>chartreuse</td>\\n      <td>#7FFF00</td>\\n      <td>rgb(127,255,0)</td>\\n   </tr>\\n   <tr>\\n      <td>22</td>\\n      <td style=\"background:limegreen;\">&nbsp;</td>\\n      <td>limegreen</td>\\n      <td>#32CD32</td>\\n      <td>rgb(50,205,50)</td>\\n   </tr>\\n   <tr>\\n      <td>23</td>\\n      <td style=\"background:lime;\">&nbsp;</td>\\n      <td>lime</td>\\n      <td>#00FF00</td>\\n      <td>rgb(0.255.0)</td>\\n   </tr>\\n   <tr>\\n      <td>24</td>\\n      <td style=\"background:forestgreen;\">&nbsp;</td>\\n      <td>forestgreen</td>\\n      <td>#228B22</td>\\n      <td>rgb(34,139,34)</td>\\n   </tr>\\n   <tr>\\n      <td>25</td>\\n      <td style=\"background:green;\">&nbsp;</td>\\n      <td>green</td>\\n      <td>#008000</td>\\n      <td>rgb(0,128,0)</td>\\n   </tr>\\n   <tr>\\n      <td>26</td>\\n      <td style=\"background:powderblue;\">&nbsp;</td>\\n      <td>powderblue</td>\\n      <td>#B0E0E6</td>\\n      <td>rgb(176,224,230)</td>\\n   </tr>\\n   <tr>\\n      <td>27</td>\\n      <td style=\"background:lightblue;\">&nbsp;</td>\\n      <td>lightblue</td>\\n      <td>#ADD8E6</td>\\n      <td>rgb(173,216,230)</td>\\n   </tr>\\n   <tr>\\n      <td>28</td>\\n      <td style=\"background:lightskyblue;\">&nbsp;</td>\\n      <td>lightskyblue</td>\\n      <td>#87CEFA</td>\\n      <td>rgb(135,206,250)</td>\\n   </tr>\\n   <tr>\\n      <td>29</td>\\n      <td style=\"background:skyblue;\">&nbsp;</td>\\n      <td>skyblue</td>\\n      <td>#87CEEB</td>\\n      <td>rgb(135,206,235)</td>\\n   </tr>\\n   <tr>\\n      <td>30</td>\\n      <td style=\"background:deepskyblue;\">&nbsp;</td>\\n      <td>deepskyblue</td>\\n      <td>#00BFFF</td>\\n      <td>rgb(0,191,255)</td>\\n   </tr>\\n   <tr>\\n      <td>31</td>\\n      <td style=\"background:lightsteelblue;\">&nbsp;</td>\\n      <td>lightsteelblue</td>\\n      <td>#B0C4DE</td>\\n      <td>rgb(176,196,222)</td>\\n   </tr>\\n   <tr>\\n      <td>32</td>\\n      <td style=\"background:dodgerblue;\">&nbsp;</td>\\n      <td>dodgerblue</td>\\n      <td>#1E90FF</td>\\n      <td>rgb(30,144,255)</td>\\n   </tr>\\n</table>\\n   </body>\\n</html>'"
      ]
     },
     "execution_count": 76,
     "metadata": {},
     "output_type": "execute_result"
    }
   ],
   "source": [
    "data"
   ]
  },
  {
   "cell_type": "code",
   "execution_count": 77,
   "id": "bb426167",
   "metadata": {},
   "outputs": [],
   "source": [
    "soup=BeautifulSoup(data,\"html.parser\")"
   ]
  },
  {
   "cell_type": "code",
   "execution_count": 78,
   "id": "9094d80e",
   "metadata": {},
   "outputs": [
    {
     "data": {
      "text/plain": [
       "<table border=\"1\" class=\"main-table\">\n",
       "<tr>\n",
       "<td>Number </td>\n",
       "<td>Color</td>\n",
       "<td>Color Name</td>\n",
       "<td>Hex Code<br/>#RRGGBB</td>\n",
       "<td>Decimal Code<br/>(R,G,B)</td>\n",
       "</tr>\n",
       "<tr>\n",
       "<td>1</td>\n",
       "<td style=\"background:lightsalmon;\"> </td>\n",
       "<td>lightsalmon</td>\n",
       "<td>#FFA07A</td>\n",
       "<td>rgb(255,160,122)</td>\n",
       "</tr>\n",
       "<tr>\n",
       "<td>2</td>\n",
       "<td style=\"background:salmon;\"> </td>\n",
       "<td>salmon</td>\n",
       "<td>#FA8072</td>\n",
       "<td>rgb(250,128,114)</td>\n",
       "</tr>\n",
       "<tr>\n",
       "<td>3</td>\n",
       "<td style=\"background:darksalmon;\"> </td>\n",
       "<td>darksalmon</td>\n",
       "<td>#E9967A</td>\n",
       "<td>rgb(233,150,122)</td>\n",
       "</tr>\n",
       "<tr>\n",
       "<td>4</td>\n",
       "<td style=\"background:lightcoral;\"> </td>\n",
       "<td>lightcoral</td>\n",
       "<td>#F08080</td>\n",
       "<td>rgb(240,128,128)</td>\n",
       "</tr>\n",
       "<tr>\n",
       "<td>5</td>\n",
       "<td style=\"background:coral;\"> </td>\n",
       "<td>coral</td>\n",
       "<td>#FF7F50</td>\n",
       "<td>rgb(255,127,80)</td>\n",
       "</tr>\n",
       "<tr>\n",
       "<td>6</td>\n",
       "<td style=\"background:tomato;\"> </td>\n",
       "<td>tomato</td>\n",
       "<td>#FF6347</td>\n",
       "<td>rgb(255,99,71)</td>\n",
       "</tr>\n",
       "<tr>\n",
       "<td>7</td>\n",
       "<td style=\"background:orangered;\"> </td>\n",
       "<td>orangered</td>\n",
       "<td>#FF4500</td>\n",
       "<td>rgb(255,69,0)</td>\n",
       "</tr>\n",
       "<tr>\n",
       "<td>8</td>\n",
       "<td style=\"background:gold;\"> </td>\n",
       "<td>gold</td>\n",
       "<td>#FFD700</td>\n",
       "<td>rgb(255,215,0)</td>\n",
       "</tr>\n",
       "<tr>\n",
       "<td>9</td>\n",
       "<td style=\"background:orange;\"> </td>\n",
       "<td>orange</td>\n",
       "<td>#FFA500</td>\n",
       "<td>rgb(255,165,0)</td>\n",
       "</tr>\n",
       "<tr>\n",
       "<td>10</td>\n",
       "<td style=\"background:darkorange;\"> </td>\n",
       "<td>darkorange</td>\n",
       "<td>#FF8C00</td>\n",
       "<td>rgb(255,140,0)</td>\n",
       "</tr>\n",
       "<tr>\n",
       "<td>11</td>\n",
       "<td style=\"background:lightyellow;\"> </td>\n",
       "<td>lightyellow</td>\n",
       "<td>#FFFFE0</td>\n",
       "<td>rgb(255,255,224)</td>\n",
       "</tr>\n",
       "<tr>\n",
       "<td>12</td>\n",
       "<td style=\"background:lemonchiffon;\"> </td>\n",
       "<td>lemonchiffon</td>\n",
       "<td>#FFFACD</td>\n",
       "<td>rgb(255,250,205)</td>\n",
       "</tr>\n",
       "<tr>\n",
       "<td>13</td>\n",
       "<td style=\"background:papayawhip;\"> </td>\n",
       "<td>papayawhip</td>\n",
       "<td>#FFEFD5</td>\n",
       "<td>rgb(255,239,213)</td>\n",
       "</tr>\n",
       "<tr>\n",
       "<td>14</td>\n",
       "<td style=\"background:moccasin;\"> </td>\n",
       "<td>moccasin</td>\n",
       "<td>#FFE4B5</td>\n",
       "<td>rgb(255,228,181)</td>\n",
       "</tr>\n",
       "<tr>\n",
       "<td>15</td>\n",
       "<td style=\"background:peachpuff;\"> </td>\n",
       "<td>peachpuff</td>\n",
       "<td>#FFDAB9</td>\n",
       "<td>rgb(255,218,185)</td>\n",
       "</tr>\n",
       "<tr>\n",
       "<td>16</td>\n",
       "<td style=\"background:palegoldenrod;\"> </td>\n",
       "<td>palegoldenrod</td>\n",
       "<td>#EEE8AA</td>\n",
       "<td>rgb(238,232,170)</td>\n",
       "</tr>\n",
       "<tr>\n",
       "<td>17</td>\n",
       "<td style=\"background:khaki;\"> </td>\n",
       "<td>khaki</td>\n",
       "<td>#F0E68C</td>\n",
       "<td>rgb(240,230,140)</td>\n",
       "</tr>\n",
       "<tr>\n",
       "<td>18</td>\n",
       "<td style=\"background:darkkhaki;\"> </td>\n",
       "<td>darkkhaki</td>\n",
       "<td>#BDB76B</td>\n",
       "<td>rgb(189,183,107)</td>\n",
       "</tr>\n",
       "<tr>\n",
       "<td>19</td>\n",
       "<td style=\"background:yellow;\"> </td>\n",
       "<td>yellow</td>\n",
       "<td>#FFFF00</td>\n",
       "<td>rgb(255,255,0)</td>\n",
       "</tr>\n",
       "<tr>\n",
       "<td>20</td>\n",
       "<td style=\"background:lawngreen;\"> </td>\n",
       "<td>lawngreen</td>\n",
       "<td>#7CFC00</td>\n",
       "<td>rgb(124,252,0)</td>\n",
       "</tr>\n",
       "<tr>\n",
       "<td>21</td>\n",
       "<td style=\"background:chartreuse;\"> </td>\n",
       "<td>chartreuse</td>\n",
       "<td>#7FFF00</td>\n",
       "<td>rgb(127,255,0)</td>\n",
       "</tr>\n",
       "<tr>\n",
       "<td>22</td>\n",
       "<td style=\"background:limegreen;\"> </td>\n",
       "<td>limegreen</td>\n",
       "<td>#32CD32</td>\n",
       "<td>rgb(50,205,50)</td>\n",
       "</tr>\n",
       "<tr>\n",
       "<td>23</td>\n",
       "<td style=\"background:lime;\"> </td>\n",
       "<td>lime</td>\n",
       "<td>#00FF00</td>\n",
       "<td>rgb(0.255.0)</td>\n",
       "</tr>\n",
       "<tr>\n",
       "<td>24</td>\n",
       "<td style=\"background:forestgreen;\"> </td>\n",
       "<td>forestgreen</td>\n",
       "<td>#228B22</td>\n",
       "<td>rgb(34,139,34)</td>\n",
       "</tr>\n",
       "<tr>\n",
       "<td>25</td>\n",
       "<td style=\"background:green;\"> </td>\n",
       "<td>green</td>\n",
       "<td>#008000</td>\n",
       "<td>rgb(0,128,0)</td>\n",
       "</tr>\n",
       "<tr>\n",
       "<td>26</td>\n",
       "<td style=\"background:powderblue;\"> </td>\n",
       "<td>powderblue</td>\n",
       "<td>#B0E0E6</td>\n",
       "<td>rgb(176,224,230)</td>\n",
       "</tr>\n",
       "<tr>\n",
       "<td>27</td>\n",
       "<td style=\"background:lightblue;\"> </td>\n",
       "<td>lightblue</td>\n",
       "<td>#ADD8E6</td>\n",
       "<td>rgb(173,216,230)</td>\n",
       "</tr>\n",
       "<tr>\n",
       "<td>28</td>\n",
       "<td style=\"background:lightskyblue;\"> </td>\n",
       "<td>lightskyblue</td>\n",
       "<td>#87CEFA</td>\n",
       "<td>rgb(135,206,250)</td>\n",
       "</tr>\n",
       "<tr>\n",
       "<td>29</td>\n",
       "<td style=\"background:skyblue;\"> </td>\n",
       "<td>skyblue</td>\n",
       "<td>#87CEEB</td>\n",
       "<td>rgb(135,206,235)</td>\n",
       "</tr>\n",
       "<tr>\n",
       "<td>30</td>\n",
       "<td style=\"background:deepskyblue;\"> </td>\n",
       "<td>deepskyblue</td>\n",
       "<td>#00BFFF</td>\n",
       "<td>rgb(0,191,255)</td>\n",
       "</tr>\n",
       "<tr>\n",
       "<td>31</td>\n",
       "<td style=\"background:lightsteelblue;\"> </td>\n",
       "<td>lightsteelblue</td>\n",
       "<td>#B0C4DE</td>\n",
       "<td>rgb(176,196,222)</td>\n",
       "</tr>\n",
       "<tr>\n",
       "<td>32</td>\n",
       "<td style=\"background:dodgerblue;\"> </td>\n",
       "<td>dodgerblue</td>\n",
       "<td>#1E90FF</td>\n",
       "<td>rgb(30,144,255)</td>\n",
       "</tr>\n",
       "</table>"
      ]
     },
     "execution_count": 78,
     "metadata": {},
     "output_type": "execute_result"
    }
   ],
   "source": [
    "table=soup.find(\"table\")\n",
    "table"
   ]
  },
  {
   "cell_type": "code",
   "execution_count": 81,
   "id": "bf69bace",
   "metadata": {},
   "outputs": [
    {
     "name": "stdout",
     "output_type": "stream",
     "text": [
      "Color Name---->None\n",
      "lightsalmon---->#FFA07A\n",
      "salmon---->#FA8072\n",
      "darksalmon---->#E9967A\n",
      "lightcoral---->#F08080\n",
      "coral---->#FF7F50\n",
      "tomato---->#FF6347\n",
      "orangered---->#FF4500\n",
      "gold---->#FFD700\n",
      "orange---->#FFA500\n",
      "darkorange---->#FF8C00\n",
      "lightyellow---->#FFFFE0\n",
      "lemonchiffon---->#FFFACD\n",
      "papayawhip---->#FFEFD5\n",
      "moccasin---->#FFE4B5\n",
      "peachpuff---->#FFDAB9\n",
      "palegoldenrod---->#EEE8AA\n",
      "khaki---->#F0E68C\n",
      "darkkhaki---->#BDB76B\n",
      "yellow---->#FFFF00\n",
      "lawngreen---->#7CFC00\n",
      "chartreuse---->#7FFF00\n",
      "limegreen---->#32CD32\n",
      "lime---->#00FF00\n",
      "forestgreen---->#228B22\n",
      "green---->#008000\n",
      "powderblue---->#B0E0E6\n",
      "lightblue---->#ADD8E6\n",
      "lightskyblue---->#87CEFA\n",
      "skyblue---->#87CEEB\n",
      "deepskyblue---->#00BFFF\n",
      "lightsteelblue---->#B0C4DE\n",
      "dodgerblue---->#1E90FF\n"
     ]
    }
   ],
   "source": [
    "for row in table.find_all(\"tr\"):\n",
    "    cols=row.find_all(\"td\")\n",
    "    color_name=cols[2].string\n",
    "    color_code=cols[3].string\n",
    "    print(\"{}---->{}\".format(color_name,color_code))"
   ]
  },
  {
   "cell_type": "code",
   "execution_count": 82,
   "id": "4980b1a3",
   "metadata": {},
   "outputs": [],
   "source": [
    "import pandas as pd\n",
    "url=\"https://en.wikipedia.org/wiki/World_population\""
   ]
  },
  {
   "cell_type": "code",
   "execution_count": 83,
   "id": "1fbefbdb",
   "metadata": {},
   "outputs": [],
   "source": [
    "data=requests.get(url).text"
   ]
  },
  {
   "cell_type": "code",
   "execution_count": 84,
   "id": "2a5522c2",
   "metadata": {},
   "outputs": [],
   "source": [
    "soup=BeautifulSoup(data,\"html.parser\")"
   ]
  },
  {
   "cell_type": "code",
   "execution_count": 85,
   "id": "1af13d4c",
   "metadata": {},
   "outputs": [
    {
     "data": {
      "text/plain": [
       "25"
      ]
     },
     "execution_count": 85,
     "metadata": {},
     "output_type": "execute_result"
    }
   ],
   "source": [
    "tables=soup.find_all(\"table\")\n",
    "len(tables)"
   ]
  },
  {
   "cell_type": "code",
   "execution_count": 87,
   "id": "7f25c409",
   "metadata": {},
   "outputs": [
    {
     "name": "stdout",
     "output_type": "stream",
     "text": [
      "5\n"
     ]
    }
   ],
   "source": [
    "for index,table in enumerate(tables):\n",
    "    if (\"10 most densely populated countries\" in str(table)):\n",
    "        table_index = index\n",
    "print(table_index)"
   ]
  },
  {
   "cell_type": "code",
   "execution_count": 88,
   "id": "94742d53",
   "metadata": {},
   "outputs": [
    {
     "name": "stdout",
     "output_type": "stream",
     "text": [
      "<table class=\"wikitable sortable\" style=\"text-align:right\">\n",
      " <caption>\n",
      "  10 most densely populated countries\n",
      "  <small>\n",
      "   (with population above 5 million)\n",
      "  </small>\n",
      " </caption>\n",
      " <tbody>\n",
      "  <tr>\n",
      "   <th>\n",
      "    Rank\n",
      "   </th>\n",
      "   <th>\n",
      "    Country\n",
      "   </th>\n",
      "   <th>\n",
      "    Population\n",
      "   </th>\n",
      "   <th>\n",
      "    Area\n",
      "    <br/>\n",
      "    <small>\n",
      "     (km\n",
      "     <sup>\n",
      "      2\n",
      "     </sup>\n",
      "     )\n",
      "    </small>\n",
      "   </th>\n",
      "   <th>\n",
      "    Density\n",
      "    <br/>\n",
      "    <small>\n",
      "     (pop/km\n",
      "     <sup>\n",
      "      2\n",
      "     </sup>\n",
      "     )\n",
      "    </small>\n",
      "   </th>\n",
      "  </tr>\n",
      "  <tr>\n",
      "   <td>\n",
      "    1\n",
      "   </td>\n",
      "   <td align=\"left\">\n",
      "    <span class=\"flagicon\">\n",
      "     <img alt=\"\" class=\"thumbborder\" data-file-height=\"600\" data-file-width=\"900\" decoding=\"async\" height=\"15\" src=\"//upload.wikimedia.org/wikipedia/commons/thumb/4/48/Flag_of_Singapore.svg/23px-Flag_of_Singapore.svg.png\" srcset=\"//upload.wikimedia.org/wikipedia/commons/thumb/4/48/Flag_of_Singapore.svg/35px-Flag_of_Singapore.svg.png 1.5x, //upload.wikimedia.org/wikipedia/commons/thumb/4/48/Flag_of_Singapore.svg/45px-Flag_of_Singapore.svg.png 2x\" width=\"23\"/>\n",
      "    </span>\n",
      "    <a href=\"/wiki/Singapore\" title=\"Singapore\">\n",
      "     Singapore\n",
      "    </a>\n",
      "   </td>\n",
      "   <td>\n",
      "    5,704,000\n",
      "   </td>\n",
      "   <td>\n",
      "    710\n",
      "   </td>\n",
      "   <td>\n",
      "    8,033\n",
      "   </td>\n",
      "  </tr>\n",
      "  <tr>\n",
      "   <td>\n",
      "    2\n",
      "   </td>\n",
      "   <td align=\"left\">\n",
      "    <span class=\"flagicon\">\n",
      "     <img alt=\"\" class=\"thumbborder\" data-file-height=\"600\" data-file-width=\"1000\" decoding=\"async\" height=\"14\" src=\"//upload.wikimedia.org/wikipedia/commons/thumb/f/f9/Flag_of_Bangladesh.svg/23px-Flag_of_Bangladesh.svg.png\" srcset=\"//upload.wikimedia.org/wikipedia/commons/thumb/f/f9/Flag_of_Bangladesh.svg/35px-Flag_of_Bangladesh.svg.png 1.5x, //upload.wikimedia.org/wikipedia/commons/thumb/f/f9/Flag_of_Bangladesh.svg/46px-Flag_of_Bangladesh.svg.png 2x\" width=\"23\"/>\n",
      "    </span>\n",
      "    <a href=\"/wiki/Bangladesh\" title=\"Bangladesh\">\n",
      "     Bangladesh\n",
      "    </a>\n",
      "   </td>\n",
      "   <td>\n",
      "    173,240,000\n",
      "   </td>\n",
      "   <td>\n",
      "    143,998\n",
      "   </td>\n",
      "   <td>\n",
      "    1,203\n",
      "   </td>\n",
      "  </tr>\n",
      "  <tr>\n",
      "   <td>\n",
      "    3\n",
      "   </td>\n",
      "   <td align=\"left\">\n",
      "    <p>\n",
      "     <span class=\"flagicon\">\n",
      "      <img alt=\"\" class=\"thumbborder\" data-file-height=\"216\" data-file-width=\"432\" decoding=\"async\" height=\"12\" src=\"//upload.wikimedia.org/wikipedia/commons/thumb/0/00/Flag_of_Palestine.svg/23px-Flag_of_Palestine.svg.png\" srcset=\"//upload.wikimedia.org/wikipedia/commons/thumb/0/00/Flag_of_Palestine.svg/35px-Flag_of_Palestine.svg.png 1.5x, //upload.wikimedia.org/wikipedia/commons/thumb/0/00/Flag_of_Palestine.svg/46px-Flag_of_Palestine.svg.png 2x\" width=\"23\"/>\n",
      "     </span>\n",
      "     <a href=\"/wiki/State_of_Palestine\" title=\"State of Palestine\">\n",
      "      Palestine\n",
      "     </a>\n",
      "    </p>\n",
      "   </td>\n",
      "   <td>\n",
      "    5,266,785\n",
      "   </td>\n",
      "   <td>\n",
      "    6,020\n",
      "   </td>\n",
      "   <td>\n",
      "    847\n",
      "   </td>\n",
      "  </tr>\n",
      "  <tr>\n",
      "   <td>\n",
      "    4\n",
      "   </td>\n",
      "   <td align=\"left\">\n",
      "    <span class=\"flagicon\">\n",
      "     <img alt=\"\" class=\"thumbborder\" data-file-height=\"600\" data-file-width=\"900\" decoding=\"async\" height=\"15\" src=\"//upload.wikimedia.org/wikipedia/commons/thumb/5/59/Flag_of_Lebanon.svg/23px-Flag_of_Lebanon.svg.png\" srcset=\"//upload.wikimedia.org/wikipedia/commons/thumb/5/59/Flag_of_Lebanon.svg/35px-Flag_of_Lebanon.svg.png 1.5x, //upload.wikimedia.org/wikipedia/commons/thumb/5/59/Flag_of_Lebanon.svg/45px-Flag_of_Lebanon.svg.png 2x\" width=\"23\"/>\n",
      "    </span>\n",
      "    <a href=\"/wiki/Lebanon\" title=\"Lebanon\">\n",
      "     Lebanon\n",
      "    </a>\n",
      "   </td>\n",
      "   <td>\n",
      "    6,856,000\n",
      "   </td>\n",
      "   <td>\n",
      "    10,452\n",
      "   </td>\n",
      "   <td>\n",
      "    656\n",
      "   </td>\n",
      "  </tr>\n",
      "  <tr>\n",
      "   <td>\n",
      "    5\n",
      "   </td>\n",
      "   <td align=\"left\">\n",
      "    <span class=\"flagicon\">\n",
      "     <img alt=\"\" class=\"thumbborder\" data-file-height=\"600\" data-file-width=\"900\" decoding=\"async\" height=\"15\" src=\"//upload.wikimedia.org/wikipedia/commons/thumb/7/72/Flag_of_the_Republic_of_China.svg/23px-Flag_of_the_Republic_of_China.svg.png\" srcset=\"//upload.wikimedia.org/wikipedia/commons/thumb/7/72/Flag_of_the_Republic_of_China.svg/35px-Flag_of_the_Republic_of_China.svg.png 1.5x, //upload.wikimedia.org/wikipedia/commons/thumb/7/72/Flag_of_the_Republic_of_China.svg/45px-Flag_of_the_Republic_of_China.svg.png 2x\" width=\"23\"/>\n",
      "    </span>\n",
      "    <a href=\"/wiki/Taiwan\" title=\"Taiwan\">\n",
      "     Taiwan\n",
      "    </a>\n",
      "   </td>\n",
      "   <td>\n",
      "    23,604,000\n",
      "   </td>\n",
      "   <td>\n",
      "    36,193\n",
      "   </td>\n",
      "   <td>\n",
      "    652\n",
      "   </td>\n",
      "  </tr>\n",
      "  <tr>\n",
      "   <td>\n",
      "    6\n",
      "   </td>\n",
      "   <td align=\"left\">\n",
      "    <span class=\"flagicon\">\n",
      "     <img alt=\"\" class=\"thumbborder\" data-file-height=\"600\" data-file-width=\"900\" decoding=\"async\" height=\"15\" src=\"//upload.wikimedia.org/wikipedia/commons/thumb/0/09/Flag_of_South_Korea.svg/23px-Flag_of_South_Korea.svg.png\" srcset=\"//upload.wikimedia.org/wikipedia/commons/thumb/0/09/Flag_of_South_Korea.svg/35px-Flag_of_South_Korea.svg.png 1.5x, //upload.wikimedia.org/wikipedia/commons/thumb/0/09/Flag_of_South_Korea.svg/45px-Flag_of_South_Korea.svg.png 2x\" width=\"23\"/>\n",
      "    </span>\n",
      "    <a href=\"/wiki/South_Korea\" title=\"South Korea\">\n",
      "     South Korea\n",
      "    </a>\n",
      "   </td>\n",
      "   <td>\n",
      "    51,781,000\n",
      "   </td>\n",
      "   <td>\n",
      "    99,538\n",
      "   </td>\n",
      "   <td>\n",
      "    520\n",
      "   </td>\n",
      "  </tr>\n",
      "  <tr>\n",
      "   <td>\n",
      "    7\n",
      "   </td>\n",
      "   <td align=\"left\">\n",
      "    <span class=\"flagicon\">\n",
      "     <img alt=\"\" class=\"thumbborder\" data-file-height=\"720\" data-file-width=\"1080\" decoding=\"async\" height=\"15\" src=\"//upload.wikimedia.org/wikipedia/commons/thumb/1/17/Flag_of_Rwanda.svg/23px-Flag_of_Rwanda.svg.png\" srcset=\"//upload.wikimedia.org/wikipedia/commons/thumb/1/17/Flag_of_Rwanda.svg/35px-Flag_of_Rwanda.svg.png 1.5x, //upload.wikimedia.org/wikipedia/commons/thumb/1/17/Flag_of_Rwanda.svg/45px-Flag_of_Rwanda.svg.png 2x\" width=\"23\"/>\n",
      "    </span>\n",
      "    <a href=\"/wiki/Rwanda\" title=\"Rwanda\">\n",
      "     Rwanda\n",
      "    </a>\n",
      "   </td>\n",
      "   <td>\n",
      "    12,374,000\n",
      "   </td>\n",
      "   <td>\n",
      "    26,338\n",
      "   </td>\n",
      "   <td>\n",
      "    470\n",
      "   </td>\n",
      "  </tr>\n",
      "  <tr>\n",
      "   <td>\n",
      "    8\n",
      "   </td>\n",
      "   <td align=\"left\">\n",
      "    <span class=\"flagicon\">\n",
      "     <img alt=\"\" class=\"thumbborder\" data-file-height=\"600\" data-file-width=\"1000\" decoding=\"async\" height=\"14\" src=\"//upload.wikimedia.org/wikipedia/commons/thumb/5/56/Flag_of_Haiti.svg/23px-Flag_of_Haiti.svg.png\" srcset=\"//upload.wikimedia.org/wikipedia/commons/thumb/5/56/Flag_of_Haiti.svg/35px-Flag_of_Haiti.svg.png 1.5x, //upload.wikimedia.org/wikipedia/commons/thumb/5/56/Flag_of_Haiti.svg/46px-Flag_of_Haiti.svg.png 2x\" width=\"23\"/>\n",
      "    </span>\n",
      "    <a href=\"/wiki/Haiti\" title=\"Haiti\">\n",
      "     Haiti\n",
      "    </a>\n",
      "   </td>\n",
      "   <td>\n",
      "    11,578,000\n",
      "   </td>\n",
      "   <td>\n",
      "    27,065\n",
      "   </td>\n",
      "   <td>\n",
      "    428\n",
      "   </td>\n",
      "  </tr>\n",
      "  <tr>\n",
      "   <td>\n",
      "    9\n",
      "   </td>\n",
      "   <td align=\"left\">\n",
      "    <span class=\"flagicon\">\n",
      "     <img alt=\"\" class=\"thumbborder\" data-file-height=\"600\" data-file-width=\"900\" decoding=\"async\" height=\"15\" src=\"//upload.wikimedia.org/wikipedia/commons/thumb/2/20/Flag_of_the_Netherlands.svg/23px-Flag_of_the_Netherlands.svg.png\" srcset=\"//upload.wikimedia.org/wikipedia/commons/thumb/2/20/Flag_of_the_Netherlands.svg/35px-Flag_of_the_Netherlands.svg.png 1.5x, //upload.wikimedia.org/wikipedia/commons/thumb/2/20/Flag_of_the_Netherlands.svg/45px-Flag_of_the_Netherlands.svg.png 2x\" width=\"23\"/>\n",
      "    </span>\n",
      "    <a href=\"/wiki/Netherlands\" title=\"Netherlands\">\n",
      "     Netherlands\n",
      "    </a>\n",
      "   </td>\n",
      "   <td>\n",
      "    17,730,000\n",
      "   </td>\n",
      "   <td>\n",
      "    41,526\n",
      "   </td>\n",
      "   <td>\n",
      "    427\n",
      "   </td>\n",
      "  </tr>\n",
      "  <tr>\n",
      "   <td>\n",
      "    10\n",
      "   </td>\n",
      "   <td align=\"left\">\n",
      "    <span class=\"flagicon\">\n",
      "     <img alt=\"\" class=\"thumbborder\" data-file-height=\"800\" data-file-width=\"1100\" decoding=\"async\" height=\"15\" src=\"//upload.wikimedia.org/wikipedia/commons/thumb/d/d4/Flag_of_Israel.svg/21px-Flag_of_Israel.svg.png\" srcset=\"//upload.wikimedia.org/wikipedia/commons/thumb/d/d4/Flag_of_Israel.svg/32px-Flag_of_Israel.svg.png 1.5x, //upload.wikimedia.org/wikipedia/commons/thumb/d/d4/Flag_of_Israel.svg/41px-Flag_of_Israel.svg.png 2x\" width=\"21\"/>\n",
      "    </span>\n",
      "    <a href=\"/wiki/Israel\" title=\"Israel\">\n",
      "     Israel\n",
      "    </a>\n",
      "   </td>\n",
      "   <td>\n",
      "    9,560,000\n",
      "   </td>\n",
      "   <td>\n",
      "    22,072\n",
      "   </td>\n",
      "   <td>\n",
      "    433\n",
      "   </td>\n",
      "  </tr>\n",
      " </tbody>\n",
      "</table>\n",
      "\n"
     ]
    }
   ],
   "source": [
    "print(tables[table_index].prettify())"
   ]
  },
  {
   "cell_type": "code",
   "execution_count": 89,
   "id": "80284306",
   "metadata": {},
   "outputs": [
    {
     "data": {
      "text/html": [
       "<div>\n",
       "<style scoped>\n",
       "    .dataframe tbody tr th:only-of-type {\n",
       "        vertical-align: middle;\n",
       "    }\n",
       "\n",
       "    .dataframe tbody tr th {\n",
       "        vertical-align: top;\n",
       "    }\n",
       "\n",
       "    .dataframe thead th {\n",
       "        text-align: right;\n",
       "    }\n",
       "</style>\n",
       "<table border=\"1\" class=\"dataframe\">\n",
       "  <thead>\n",
       "    <tr style=\"text-align: right;\">\n",
       "      <th></th>\n",
       "      <th>Rank</th>\n",
       "      <th>Country</th>\n",
       "      <th>Population</th>\n",
       "      <th>Area</th>\n",
       "      <th>Density</th>\n",
       "    </tr>\n",
       "  </thead>\n",
       "  <tbody>\n",
       "    <tr>\n",
       "      <th>0</th>\n",
       "      <td>1</td>\n",
       "      <td>Singapore</td>\n",
       "      <td>5,704,000</td>\n",
       "      <td>710</td>\n",
       "      <td>8,033</td>\n",
       "    </tr>\n",
       "    <tr>\n",
       "      <th>1</th>\n",
       "      <td>2</td>\n",
       "      <td>Bangladesh</td>\n",
       "      <td>173,240,000</td>\n",
       "      <td>143,998</td>\n",
       "      <td>1,203</td>\n",
       "    </tr>\n",
       "    <tr>\n",
       "      <th>2</th>\n",
       "      <td>3</td>\n",
       "      <td>\\n Palestine\\n\\n</td>\n",
       "      <td>5,266,785</td>\n",
       "      <td>6,020</td>\n",
       "      <td>847</td>\n",
       "    </tr>\n",
       "    <tr>\n",
       "      <th>3</th>\n",
       "      <td>4</td>\n",
       "      <td>Lebanon</td>\n",
       "      <td>6,856,000</td>\n",
       "      <td>10,452</td>\n",
       "      <td>656</td>\n",
       "    </tr>\n",
       "    <tr>\n",
       "      <th>4</th>\n",
       "      <td>5</td>\n",
       "      <td>Taiwan</td>\n",
       "      <td>23,604,000</td>\n",
       "      <td>36,193</td>\n",
       "      <td>652</td>\n",
       "    </tr>\n",
       "    <tr>\n",
       "      <th>5</th>\n",
       "      <td>6</td>\n",
       "      <td>South Korea</td>\n",
       "      <td>51,781,000</td>\n",
       "      <td>99,538</td>\n",
       "      <td>520</td>\n",
       "    </tr>\n",
       "    <tr>\n",
       "      <th>6</th>\n",
       "      <td>7</td>\n",
       "      <td>Rwanda</td>\n",
       "      <td>12,374,000</td>\n",
       "      <td>26,338</td>\n",
       "      <td>470</td>\n",
       "    </tr>\n",
       "    <tr>\n",
       "      <th>7</th>\n",
       "      <td>8</td>\n",
       "      <td>Haiti</td>\n",
       "      <td>11,578,000</td>\n",
       "      <td>27,065</td>\n",
       "      <td>428</td>\n",
       "    </tr>\n",
       "    <tr>\n",
       "      <th>8</th>\n",
       "      <td>9</td>\n",
       "      <td>Netherlands</td>\n",
       "      <td>17,730,000</td>\n",
       "      <td>41,526</td>\n",
       "      <td>427</td>\n",
       "    </tr>\n",
       "    <tr>\n",
       "      <th>9</th>\n",
       "      <td>10</td>\n",
       "      <td>Israel</td>\n",
       "      <td>9,560,000</td>\n",
       "      <td>22,072</td>\n",
       "      <td>433</td>\n",
       "    </tr>\n",
       "  </tbody>\n",
       "</table>\n",
       "</div>"
      ],
      "text/plain": [
       "  Rank           Country   Population     Area Density\n",
       "0    1         Singapore    5,704,000      710   8,033\n",
       "1    2        Bangladesh  173,240,000  143,998   1,203\n",
       "2    3  \\n Palestine\\n\\n    5,266,785    6,020     847\n",
       "3    4           Lebanon    6,856,000   10,452     656\n",
       "4    5            Taiwan   23,604,000   36,193     652\n",
       "5    6       South Korea   51,781,000   99,538     520\n",
       "6    7            Rwanda   12,374,000   26,338     470\n",
       "7    8             Haiti   11,578,000   27,065     428\n",
       "8    9       Netherlands   17,730,000   41,526     427\n",
       "9   10            Israel    9,560,000   22,072     433"
      ]
     },
     "execution_count": 89,
     "metadata": {},
     "output_type": "execute_result"
    }
   ],
   "source": [
    "population_data = pd.DataFrame(columns=[\"Rank\", \"Country\", \"Population\", \"Area\", \"Density\"])\n",
    "\n",
    "for row in tables[table_index].tbody.find_all(\"tr\"):\n",
    "    col = row.find_all(\"td\")\n",
    "    if (col != []):\n",
    "        rank = col[0].text\n",
    "        country = col[1].text\n",
    "        population = col[2].text.strip()\n",
    "        area = col[3].text.strip()\n",
    "        density = col[4].text.strip()\n",
    "        population_data = population_data.append({\"Rank\":rank, \"Country\":country, \"Population\":population, \"Area\":area, \"Density\":density}, ignore_index=True)\n",
    "\n",
    "population_data"
   ]
  },
  {
   "cell_type": "code",
   "execution_count": 90,
   "id": "69836cf8",
   "metadata": {},
   "outputs": [
    {
     "data": {
      "text/plain": [
       "[   Rank      Country  Population  Area(km2)  Density(pop/km2)\n",
       " 0     1    Singapore     5704000        710              8033\n",
       " 1     2   Bangladesh   173240000     143998              1203\n",
       " 2     3    Palestine     5266785       6020               847\n",
       " 3     4      Lebanon     6856000      10452               656\n",
       " 4     5       Taiwan    23604000      36193               652\n",
       " 5     6  South Korea    51781000      99538               520\n",
       " 6     7       Rwanda    12374000      26338               470\n",
       " 7     8        Haiti    11578000      27065               428\n",
       " 8     9  Netherlands    17730000      41526               427\n",
       " 9    10       Israel     9560000      22072               433]"
      ]
     },
     "execution_count": 90,
     "metadata": {},
     "output_type": "execute_result"
    }
   ],
   "source": [
    "pd.read_html(str(tables[5]), flavor='bs4')"
   ]
  },
  {
   "cell_type": "code",
   "execution_count": 97,
   "id": "38f02a28",
   "metadata": {},
   "outputs": [
    {
     "data": {
      "text/html": [
       "<div>\n",
       "<style scoped>\n",
       "    .dataframe tbody tr th:only-of-type {\n",
       "        vertical-align: middle;\n",
       "    }\n",
       "\n",
       "    .dataframe tbody tr th {\n",
       "        vertical-align: top;\n",
       "    }\n",
       "\n",
       "    .dataframe thead th {\n",
       "        text-align: right;\n",
       "    }\n",
       "</style>\n",
       "<table border=\"1\" class=\"dataframe\">\n",
       "  <thead>\n",
       "    <tr style=\"text-align: right;\">\n",
       "      <th></th>\n",
       "      <th>#</th>\n",
       "      <th>Most populous countries</th>\n",
       "      <th>2000</th>\n",
       "      <th>2015</th>\n",
       "      <th>2030[A]</th>\n",
       "    </tr>\n",
       "  </thead>\n",
       "  <tbody>\n",
       "    <tr>\n",
       "      <th>0</th>\n",
       "      <td>1</td>\n",
       "      <td>China[B]</td>\n",
       "      <td>1270</td>\n",
       "      <td>1376</td>\n",
       "      <td>1416</td>\n",
       "    </tr>\n",
       "    <tr>\n",
       "      <th>1</th>\n",
       "      <td>2</td>\n",
       "      <td>India</td>\n",
       "      <td>1053</td>\n",
       "      <td>1311</td>\n",
       "      <td>1528</td>\n",
       "    </tr>\n",
       "    <tr>\n",
       "      <th>2</th>\n",
       "      <td>3</td>\n",
       "      <td>United States</td>\n",
       "      <td>283</td>\n",
       "      <td>322</td>\n",
       "      <td>356</td>\n",
       "    </tr>\n",
       "    <tr>\n",
       "      <th>3</th>\n",
       "      <td>4</td>\n",
       "      <td>Indonesia</td>\n",
       "      <td>212</td>\n",
       "      <td>258</td>\n",
       "      <td>295</td>\n",
       "    </tr>\n",
       "    <tr>\n",
       "      <th>4</th>\n",
       "      <td>5</td>\n",
       "      <td>Pakistan</td>\n",
       "      <td>136</td>\n",
       "      <td>208</td>\n",
       "      <td>245</td>\n",
       "    </tr>\n",
       "    <tr>\n",
       "      <th>5</th>\n",
       "      <td>6</td>\n",
       "      <td>Brazil</td>\n",
       "      <td>176</td>\n",
       "      <td>206</td>\n",
       "      <td>228</td>\n",
       "    </tr>\n",
       "    <tr>\n",
       "      <th>6</th>\n",
       "      <td>7</td>\n",
       "      <td>Nigeria</td>\n",
       "      <td>123</td>\n",
       "      <td>182</td>\n",
       "      <td>263</td>\n",
       "    </tr>\n",
       "    <tr>\n",
       "      <th>7</th>\n",
       "      <td>8</td>\n",
       "      <td>Bangladesh</td>\n",
       "      <td>131</td>\n",
       "      <td>161</td>\n",
       "      <td>186</td>\n",
       "    </tr>\n",
       "    <tr>\n",
       "      <th>8</th>\n",
       "      <td>9</td>\n",
       "      <td>Russia</td>\n",
       "      <td>146</td>\n",
       "      <td>146</td>\n",
       "      <td>149</td>\n",
       "    </tr>\n",
       "    <tr>\n",
       "      <th>9</th>\n",
       "      <td>10</td>\n",
       "      <td>Mexico</td>\n",
       "      <td>103</td>\n",
       "      <td>127</td>\n",
       "      <td>148</td>\n",
       "    </tr>\n",
       "    <tr>\n",
       "      <th>10</th>\n",
       "      <td>NaN</td>\n",
       "      <td>World total</td>\n",
       "      <td>6127</td>\n",
       "      <td>7349</td>\n",
       "      <td>8501</td>\n",
       "    </tr>\n",
       "    <tr>\n",
       "      <th>11</th>\n",
       "      <td>Notes: .mw-parser-output .reflist{font-size:90...</td>\n",
       "      <td>Notes: .mw-parser-output .reflist{font-size:90...</td>\n",
       "      <td>Notes: .mw-parser-output .reflist{font-size:90...</td>\n",
       "      <td>Notes: .mw-parser-output .reflist{font-size:90...</td>\n",
       "      <td>Notes: .mw-parser-output .reflist{font-size:90...</td>\n",
       "    </tr>\n",
       "  </tbody>\n",
       "</table>\n",
       "</div>"
      ],
      "text/plain": [
       "                                                    #  \\\n",
       "0                                                   1   \n",
       "1                                                   2   \n",
       "2                                                   3   \n",
       "3                                                   4   \n",
       "4                                                   5   \n",
       "5                                                   6   \n",
       "6                                                   7   \n",
       "7                                                   8   \n",
       "8                                                   9   \n",
       "9                                                  10   \n",
       "10                                                NaN   \n",
       "11  Notes: .mw-parser-output .reflist{font-size:90...   \n",
       "\n",
       "                              Most populous countries  \\\n",
       "0                                            China[B]   \n",
       "1                                               India   \n",
       "2                                       United States   \n",
       "3                                           Indonesia   \n",
       "4                                            Pakistan   \n",
       "5                                              Brazil   \n",
       "6                                             Nigeria   \n",
       "7                                          Bangladesh   \n",
       "8                                              Russia   \n",
       "9                                              Mexico   \n",
       "10                                        World total   \n",
       "11  Notes: .mw-parser-output .reflist{font-size:90...   \n",
       "\n",
       "                                                 2000  \\\n",
       "0                                                1270   \n",
       "1                                                1053   \n",
       "2                                                 283   \n",
       "3                                                 212   \n",
       "4                                                 136   \n",
       "5                                                 176   \n",
       "6                                                 123   \n",
       "7                                                 131   \n",
       "8                                                 146   \n",
       "9                                                 103   \n",
       "10                                               6127   \n",
       "11  Notes: .mw-parser-output .reflist{font-size:90...   \n",
       "\n",
       "                                                 2015  \\\n",
       "0                                                1376   \n",
       "1                                                1311   \n",
       "2                                                 322   \n",
       "3                                                 258   \n",
       "4                                                 208   \n",
       "5                                                 206   \n",
       "6                                                 182   \n",
       "7                                                 161   \n",
       "8                                                 146   \n",
       "9                                                 127   \n",
       "10                                               7349   \n",
       "11  Notes: .mw-parser-output .reflist{font-size:90...   \n",
       "\n",
       "                                              2030[A]  \n",
       "0                                                1416  \n",
       "1                                                1528  \n",
       "2                                                 356  \n",
       "3                                                 295  \n",
       "4                                                 245  \n",
       "5                                                 228  \n",
       "6                                                 263  \n",
       "7                                                 186  \n",
       "8                                                 149  \n",
       "9                                                 148  \n",
       "10                                               8501  \n",
       "11  Notes: .mw-parser-output .reflist{font-size:90...  "
      ]
     },
     "execution_count": 97,
     "metadata": {},
     "output_type": "execute_result"
    }
   ],
   "source": [
    "population_data_read_html = pd.read_html(str(tables[0]), flavor='bs4')[0]\n",
    "\n",
    "population_data_read_html"
   ]
  },
  {
   "cell_type": "code",
   "execution_count": 98,
   "id": "cc320136",
   "metadata": {},
   "outputs": [
    {
     "data": {
      "text/plain": [
       "25"
      ]
     },
     "execution_count": 98,
     "metadata": {},
     "output_type": "execute_result"
    }
   ],
   "source": [
    "dataframe=pd.read_html(url,flavor=\"bs4\")\n",
    "len(dataframe)"
   ]
  },
  {
   "cell_type": "code",
   "execution_count": 99,
   "id": "28195fe7",
   "metadata": {},
   "outputs": [
    {
     "data": {
      "text/html": [
       "<div>\n",
       "<style scoped>\n",
       "    .dataframe tbody tr th:only-of-type {\n",
       "        vertical-align: middle;\n",
       "    }\n",
       "\n",
       "    .dataframe tbody tr th {\n",
       "        vertical-align: top;\n",
       "    }\n",
       "\n",
       "    .dataframe thead th {\n",
       "        text-align: right;\n",
       "    }\n",
       "</style>\n",
       "<table border=\"1\" class=\"dataframe\">\n",
       "  <thead>\n",
       "    <tr style=\"text-align: right;\">\n",
       "      <th></th>\n",
       "      <th>#</th>\n",
       "      <th>Most populous countries</th>\n",
       "      <th>2000</th>\n",
       "      <th>2015</th>\n",
       "      <th>2030[A]</th>\n",
       "    </tr>\n",
       "  </thead>\n",
       "  <tbody>\n",
       "    <tr>\n",
       "      <th>0</th>\n",
       "      <td>1</td>\n",
       "      <td>China[B]</td>\n",
       "      <td>1270</td>\n",
       "      <td>1376</td>\n",
       "      <td>1416</td>\n",
       "    </tr>\n",
       "    <tr>\n",
       "      <th>1</th>\n",
       "      <td>2</td>\n",
       "      <td>India</td>\n",
       "      <td>1053</td>\n",
       "      <td>1311</td>\n",
       "      <td>1528</td>\n",
       "    </tr>\n",
       "    <tr>\n",
       "      <th>2</th>\n",
       "      <td>3</td>\n",
       "      <td>United States</td>\n",
       "      <td>283</td>\n",
       "      <td>322</td>\n",
       "      <td>356</td>\n",
       "    </tr>\n",
       "    <tr>\n",
       "      <th>3</th>\n",
       "      <td>4</td>\n",
       "      <td>Indonesia</td>\n",
       "      <td>212</td>\n",
       "      <td>258</td>\n",
       "      <td>295</td>\n",
       "    </tr>\n",
       "    <tr>\n",
       "      <th>4</th>\n",
       "      <td>5</td>\n",
       "      <td>Pakistan</td>\n",
       "      <td>136</td>\n",
       "      <td>208</td>\n",
       "      <td>245</td>\n",
       "    </tr>\n",
       "    <tr>\n",
       "      <th>5</th>\n",
       "      <td>6</td>\n",
       "      <td>Brazil</td>\n",
       "      <td>176</td>\n",
       "      <td>206</td>\n",
       "      <td>228</td>\n",
       "    </tr>\n",
       "    <tr>\n",
       "      <th>6</th>\n",
       "      <td>7</td>\n",
       "      <td>Nigeria</td>\n",
       "      <td>123</td>\n",
       "      <td>182</td>\n",
       "      <td>263</td>\n",
       "    </tr>\n",
       "    <tr>\n",
       "      <th>7</th>\n",
       "      <td>8</td>\n",
       "      <td>Bangladesh</td>\n",
       "      <td>131</td>\n",
       "      <td>161</td>\n",
       "      <td>186</td>\n",
       "    </tr>\n",
       "    <tr>\n",
       "      <th>8</th>\n",
       "      <td>9</td>\n",
       "      <td>Russia</td>\n",
       "      <td>146</td>\n",
       "      <td>146</td>\n",
       "      <td>149</td>\n",
       "    </tr>\n",
       "    <tr>\n",
       "      <th>9</th>\n",
       "      <td>10</td>\n",
       "      <td>Mexico</td>\n",
       "      <td>103</td>\n",
       "      <td>127</td>\n",
       "      <td>148</td>\n",
       "    </tr>\n",
       "    <tr>\n",
       "      <th>10</th>\n",
       "      <td>NaN</td>\n",
       "      <td>World total</td>\n",
       "      <td>6127</td>\n",
       "      <td>7349</td>\n",
       "      <td>8501</td>\n",
       "    </tr>\n",
       "    <tr>\n",
       "      <th>11</th>\n",
       "      <td>Notes: .mw-parser-output .reflist{font-size:90...</td>\n",
       "      <td>Notes: .mw-parser-output .reflist{font-size:90...</td>\n",
       "      <td>Notes: .mw-parser-output .reflist{font-size:90...</td>\n",
       "      <td>Notes: .mw-parser-output .reflist{font-size:90...</td>\n",
       "      <td>Notes: .mw-parser-output .reflist{font-size:90...</td>\n",
       "    </tr>\n",
       "  </tbody>\n",
       "</table>\n",
       "</div>"
      ],
      "text/plain": [
       "                                                    #  \\\n",
       "0                                                   1   \n",
       "1                                                   2   \n",
       "2                                                   3   \n",
       "3                                                   4   \n",
       "4                                                   5   \n",
       "5                                                   6   \n",
       "6                                                   7   \n",
       "7                                                   8   \n",
       "8                                                   9   \n",
       "9                                                  10   \n",
       "10                                                NaN   \n",
       "11  Notes: .mw-parser-output .reflist{font-size:90...   \n",
       "\n",
       "                              Most populous countries  \\\n",
       "0                                            China[B]   \n",
       "1                                               India   \n",
       "2                                       United States   \n",
       "3                                           Indonesia   \n",
       "4                                            Pakistan   \n",
       "5                                              Brazil   \n",
       "6                                             Nigeria   \n",
       "7                                          Bangladesh   \n",
       "8                                              Russia   \n",
       "9                                              Mexico   \n",
       "10                                        World total   \n",
       "11  Notes: .mw-parser-output .reflist{font-size:90...   \n",
       "\n",
       "                                                 2000  \\\n",
       "0                                                1270   \n",
       "1                                                1053   \n",
       "2                                                 283   \n",
       "3                                                 212   \n",
       "4                                                 136   \n",
       "5                                                 176   \n",
       "6                                                 123   \n",
       "7                                                 131   \n",
       "8                                                 146   \n",
       "9                                                 103   \n",
       "10                                               6127   \n",
       "11  Notes: .mw-parser-output .reflist{font-size:90...   \n",
       "\n",
       "                                                 2015  \\\n",
       "0                                                1376   \n",
       "1                                                1311   \n",
       "2                                                 322   \n",
       "3                                                 258   \n",
       "4                                                 208   \n",
       "5                                                 206   \n",
       "6                                                 182   \n",
       "7                                                 161   \n",
       "8                                                 146   \n",
       "9                                                 127   \n",
       "10                                               7349   \n",
       "11  Notes: .mw-parser-output .reflist{font-size:90...   \n",
       "\n",
       "                                              2030[A]  \n",
       "0                                                1416  \n",
       "1                                                1528  \n",
       "2                                                 356  \n",
       "3                                                 295  \n",
       "4                                                 245  \n",
       "5                                                 228  \n",
       "6                                                 263  \n",
       "7                                                 186  \n",
       "8                                                 149  \n",
       "9                                                 148  \n",
       "10                                               8501  \n",
       "11  Notes: .mw-parser-output .reflist{font-size:90...  "
      ]
     },
     "execution_count": 99,
     "metadata": {},
     "output_type": "execute_result"
    }
   ],
   "source": [
    "dataframe[0]"
   ]
  },
  {
   "cell_type": "code",
   "execution_count": 100,
   "id": "61fbf4c6",
   "metadata": {},
   "outputs": [
    {
     "data": {
      "text/html": [
       "<div>\n",
       "<style scoped>\n",
       "    .dataframe tbody tr th:only-of-type {\n",
       "        vertical-align: middle;\n",
       "    }\n",
       "\n",
       "    .dataframe tbody tr th {\n",
       "        vertical-align: top;\n",
       "    }\n",
       "\n",
       "    .dataframe thead tr th {\n",
       "        text-align: left;\n",
       "    }\n",
       "</style>\n",
       "<table border=\"1\" class=\"dataframe\">\n",
       "  <thead>\n",
       "    <tr>\n",
       "      <th></th>\n",
       "      <th colspan=\"11\" halign=\"left\">World population milestones in billions [3](Worldometers estimates)</th>\n",
       "    </tr>\n",
       "    <tr>\n",
       "      <th></th>\n",
       "      <th>Population</th>\n",
       "      <th>1</th>\n",
       "      <th>2</th>\n",
       "      <th>3</th>\n",
       "      <th>4</th>\n",
       "      <th>5</th>\n",
       "      <th>6</th>\n",
       "      <th>7</th>\n",
       "      <th>8</th>\n",
       "      <th>9</th>\n",
       "      <th>10</th>\n",
       "    </tr>\n",
       "  </thead>\n",
       "  <tbody>\n",
       "    <tr>\n",
       "      <th>0</th>\n",
       "      <td>Year</td>\n",
       "      <td>1804</td>\n",
       "      <td>1927</td>\n",
       "      <td>1960</td>\n",
       "      <td>1974</td>\n",
       "      <td>1987</td>\n",
       "      <td>1999</td>\n",
       "      <td>2011</td>\n",
       "      <td>2023</td>\n",
       "      <td>2037</td>\n",
       "      <td>2057</td>\n",
       "    </tr>\n",
       "    <tr>\n",
       "      <th>1</th>\n",
       "      <td>Years elapsed</td>\n",
       "      <td>—</td>\n",
       "      <td>123</td>\n",
       "      <td>33</td>\n",
       "      <td>14</td>\n",
       "      <td>13</td>\n",
       "      <td>12</td>\n",
       "      <td>12</td>\n",
       "      <td>12</td>\n",
       "      <td>14</td>\n",
       "      <td>20</td>\n",
       "    </tr>\n",
       "  </tbody>\n",
       "</table>\n",
       "</div>"
      ],
      "text/plain": [
       "  World population milestones in billions [3](Worldometers estimates)        \\\n",
       "                                                           Population     1   \n",
       "0                                               Year                   1804   \n",
       "1                                      Years elapsed                      —   \n",
       "\n",
       "                                                         \n",
       "      2     3     4     5     6     7     8     9    10  \n",
       "0  1927  1960  1974  1987  1999  2011  2023  2037  2057  \n",
       "1   123    33    14    13    12    12    12    14    20  "
      ]
     },
     "execution_count": 100,
     "metadata": {},
     "output_type": "execute_result"
    }
   ],
   "source": [
    "dataframe[2]"
   ]
  },
  {
   "cell_type": "code",
   "execution_count": 101,
   "id": "a59d8a92",
   "metadata": {},
   "outputs": [
    {
     "data": {
      "text/html": [
       "<div>\n",
       "<style scoped>\n",
       "    .dataframe tbody tr th:only-of-type {\n",
       "        vertical-align: middle;\n",
       "    }\n",
       "\n",
       "    .dataframe tbody tr th {\n",
       "        vertical-align: top;\n",
       "    }\n",
       "\n",
       "    .dataframe thead th {\n",
       "        text-align: right;\n",
       "    }\n",
       "</style>\n",
       "<table border=\"1\" class=\"dataframe\">\n",
       "  <thead>\n",
       "    <tr style=\"text-align: right;\">\n",
       "      <th></th>\n",
       "      <th>0</th>\n",
       "      <th>1</th>\n",
       "    </tr>\n",
       "  </thead>\n",
       "  <tbody>\n",
       "    <tr>\n",
       "      <th>0</th>\n",
       "      <td>.mw-parser-output .legend{page-break-inside:av...</td>\n",
       "      <td>67.5–70 65–67.5 60–65 55–60 50–55</td>\n",
       "    </tr>\n",
       "  </tbody>\n",
       "</table>\n",
       "</div>"
      ],
      "text/plain": [
       "                                                   0  \\\n",
       "0  .mw-parser-output .legend{page-break-inside:av...   \n",
       "\n",
       "                                   1  \n",
       "0  67.5–70 65–67.5 60–65 55–60 50–55  "
      ]
     },
     "execution_count": 101,
     "metadata": {},
     "output_type": "execute_result"
    }
   ],
   "source": [
    "dataframe[3]"
   ]
  },
  {
   "cell_type": "code",
   "execution_count": 102,
   "id": "04f1fa5d",
   "metadata": {},
   "outputs": [
    {
     "data": {
      "text/html": [
       "<div>\n",
       "<style scoped>\n",
       "    .dataframe tbody tr th:only-of-type {\n",
       "        vertical-align: middle;\n",
       "    }\n",
       "\n",
       "    .dataframe tbody tr th {\n",
       "        vertical-align: top;\n",
       "    }\n",
       "\n",
       "    .dataframe thead th {\n",
       "        text-align: right;\n",
       "    }\n",
       "</style>\n",
       "<table border=\"1\" class=\"dataframe\">\n",
       "  <thead>\n",
       "    <tr style=\"text-align: right;\">\n",
       "      <th></th>\n",
       "      <th>Rank</th>\n",
       "      <th>Country / Dependency</th>\n",
       "      <th>Population</th>\n",
       "      <th>Percentage of the world</th>\n",
       "      <th>Date</th>\n",
       "      <th>Source (official or from the United Nations)</th>\n",
       "    </tr>\n",
       "  </thead>\n",
       "  <tbody>\n",
       "    <tr>\n",
       "      <th>0</th>\n",
       "      <td>1</td>\n",
       "      <td>China</td>\n",
       "      <td>1412600000</td>\n",
       "      <td>17.7%</td>\n",
       "      <td>31 Dec 2021</td>\n",
       "      <td>National annual estimate[93]</td>\n",
       "    </tr>\n",
       "    <tr>\n",
       "      <th>1</th>\n",
       "      <td>2</td>\n",
       "      <td>India</td>\n",
       "      <td>1373761000</td>\n",
       "      <td>17.2%</td>\n",
       "      <td>1 Mar 2022</td>\n",
       "      <td>Annual national estimate[94]</td>\n",
       "    </tr>\n",
       "    <tr>\n",
       "      <th>2</th>\n",
       "      <td>3</td>\n",
       "      <td>United States</td>\n",
       "      <td>332991517</td>\n",
       "      <td>4.18%</td>\n",
       "      <td>15 Aug 2022</td>\n",
       "      <td>National population clock[95]</td>\n",
       "    </tr>\n",
       "    <tr>\n",
       "      <th>3</th>\n",
       "      <td>4</td>\n",
       "      <td>Indonesia</td>\n",
       "      <td>272248500</td>\n",
       "      <td>3.42%</td>\n",
       "      <td>1 Jul 2021</td>\n",
       "      <td>National annual estimate[96]</td>\n",
       "    </tr>\n",
       "    <tr>\n",
       "      <th>4</th>\n",
       "      <td>5</td>\n",
       "      <td>Pakistan</td>\n",
       "      <td>229488994</td>\n",
       "      <td>2.88%</td>\n",
       "      <td>1 Jul 2022</td>\n",
       "      <td>UN projection[97]</td>\n",
       "    </tr>\n",
       "    <tr>\n",
       "      <th>5</th>\n",
       "      <td>6</td>\n",
       "      <td>Nigeria</td>\n",
       "      <td>216746934</td>\n",
       "      <td>2.72%</td>\n",
       "      <td>1 Jul 2022</td>\n",
       "      <td>UN projection[97]</td>\n",
       "    </tr>\n",
       "    <tr>\n",
       "      <th>6</th>\n",
       "      <td>7</td>\n",
       "      <td>Brazil</td>\n",
       "      <td>215014629</td>\n",
       "      <td>2.70%</td>\n",
       "      <td>15 Aug 2022</td>\n",
       "      <td>National population clock[98]</td>\n",
       "    </tr>\n",
       "    <tr>\n",
       "      <th>7</th>\n",
       "      <td>8</td>\n",
       "      <td>Bangladesh</td>\n",
       "      <td>168220000</td>\n",
       "      <td>2.11%</td>\n",
       "      <td>1 Jul 2020</td>\n",
       "      <td>Annual Population Estimate[99]</td>\n",
       "    </tr>\n",
       "    <tr>\n",
       "      <th>8</th>\n",
       "      <td>9</td>\n",
       "      <td>Russia</td>\n",
       "      <td>147190000</td>\n",
       "      <td>1.85%</td>\n",
       "      <td>1 Oct 2021</td>\n",
       "      <td>2021 preliminary census results[100]</td>\n",
       "    </tr>\n",
       "    <tr>\n",
       "      <th>9</th>\n",
       "      <td>10</td>\n",
       "      <td>Mexico</td>\n",
       "      <td>128271248</td>\n",
       "      <td>1.61%</td>\n",
       "      <td>31 Mar 2022</td>\n",
       "      <td>National quarterly estimate[101]</td>\n",
       "    </tr>\n",
       "  </tbody>\n",
       "</table>\n",
       "</div>"
      ],
      "text/plain": [
       "   Rank Country / Dependency  Population Percentage of the world         Date  \\\n",
       "0     1                China  1412600000                   17.7%  31 Dec 2021   \n",
       "1     2                India  1373761000                   17.2%   1 Mar 2022   \n",
       "2     3        United States   332991517                   4.18%  15 Aug 2022   \n",
       "3     4            Indonesia   272248500                   3.42%   1 Jul 2021   \n",
       "4     5             Pakistan   229488994                   2.88%   1 Jul 2022   \n",
       "5     6              Nigeria   216746934                   2.72%   1 Jul 2022   \n",
       "6     7               Brazil   215014629                   2.70%  15 Aug 2022   \n",
       "7     8           Bangladesh   168220000                   2.11%   1 Jul 2020   \n",
       "8     9               Russia   147190000                   1.85%   1 Oct 2021   \n",
       "9    10               Mexico   128271248                   1.61%  31 Mar 2022   \n",
       "\n",
       "  Source (official or from the United Nations)  \n",
       "0                 National annual estimate[93]  \n",
       "1                 Annual national estimate[94]  \n",
       "2                National population clock[95]  \n",
       "3                 National annual estimate[96]  \n",
       "4                            UN projection[97]  \n",
       "5                            UN projection[97]  \n",
       "6                National population clock[98]  \n",
       "7               Annual Population Estimate[99]  \n",
       "8         2021 preliminary census results[100]  \n",
       "9             National quarterly estimate[101]  "
      ]
     },
     "execution_count": 102,
     "metadata": {},
     "output_type": "execute_result"
    }
   ],
   "source": [
    "dataframe[4]"
   ]
  }
 ],
 "metadata": {
  "kernelspec": {
   "display_name": "Python 3 (ipykernel)",
   "language": "python",
   "name": "python3"
  },
  "language_info": {
   "codemirror_mode": {
    "name": "ipython",
    "version": 3
   },
   "file_extension": ".py",
   "mimetype": "text/x-python",
   "name": "python",
   "nbconvert_exporter": "python",
   "pygments_lexer": "ipython3",
   "version": "3.9.7"
  }
 },
 "nbformat": 4,
 "nbformat_minor": 5
}
